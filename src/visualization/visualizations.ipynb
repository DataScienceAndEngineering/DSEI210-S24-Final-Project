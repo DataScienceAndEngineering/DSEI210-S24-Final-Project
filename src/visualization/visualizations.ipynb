{
 "cells": [
  {
   "cell_type": "markdown",
   "id": "653e558e",
   "metadata": {
    "papermill": {
     "duration": 0.011344,
     "end_time": "2024-03-22T17:22:26.582875",
     "exception": false,
     "start_time": "2024-03-22T17:22:26.571531",
     "status": "completed"
    },
    "tags": []
   },
   "source": [
    "This will contain some simple visuals to get insights of the initial data. "
   ]
  },
  {
   "cell_type": "code",
   "execution_count": 2,
   "id": "0abe14cd",
   "metadata": {
    "_cell_guid": "b1076dfc-b9ad-4769-8c92-a6c4dae69d19",
    "_uuid": "8f2839f25d086af736a60e9eeb907d3b93b6e0e5",
    "execution": {
     "iopub.execute_input": "2024-03-22T17:22:26.608087Z",
     "iopub.status.busy": "2024-03-22T17:22:26.607320Z",
     "iopub.status.idle": "2024-03-22T17:22:29.541022Z",
     "shell.execute_reply": "2024-03-22T17:22:29.539790Z"
    },
    "papermill": {
     "duration": 2.949858,
     "end_time": "2024-03-22T17:22:29.544068",
     "exception": false,
     "start_time": "2024-03-22T17:22:26.594210",
     "status": "completed"
    },
    "tags": []
   },
   "outputs": [],
   "source": [
    "#Importing the necessary libraries\n",
    "import sys\n",
    "from pathlib import Path\n",
    "import subprocess\n",
    "from glob import glob\n",
    "\n",
    "import numpy as np\n",
    "import pandas as pd\n",
    "import polars as pl\n",
    "from datetime import datetime\n",
    "import seaborn as sns\n",
    "import matplotlib.pyplot as plt\n",
    "from scipy.stats import gaussian_kde\n",
    "\n",
    "import math\n",
    "\n",
    "import gc\n",
    "\n",
    "import warnings\n",
    "warnings.filterwarnings('ignore')\n",
    "\n",
    "dataPath = '/Users/artjolameli/Desktop/credit_risk_project/machine-learning-dse-i210-final-project-credit-risk/data/raw/parquet_files'"
   ]
  },
  {
   "cell_type": "markdown",
   "id": "74ee6d04",
   "metadata": {
    "papermill": {
     "duration": 0.010512,
     "end_time": "2024-03-22T17:22:29.566232",
     "exception": false,
     "start_time": "2024-03-22T17:22:29.555720",
     "status": "completed"
    },
    "tags": []
   },
   "source": [
    "### Checking the size of the dataset\n",
    "The following cell is used to check the size of each dataframe for both training set and test set. \n",
    "- The largest one in training set is *credit_bureau_a_2_5* which takes 2.9G \n",
    "- *applprev_1_2, credit_bureau_a_1_4, credit_bureau_a_2_11, static_0_2* are absent in the training set, so these df should not be included while training the model."
   ]
  },
  {
   "cell_type": "code",
   "execution_count": 3,
   "id": "b150d5a5",
   "metadata": {
    "execution": {
     "iopub.execute_input": "2024-03-22T17:22:29.589562Z",
     "iopub.status.busy": "2024-03-22T17:22:29.589021Z",
     "iopub.status.idle": "2024-03-22T17:22:29.672495Z",
     "shell.execute_reply": "2024-03-22T17:22:29.671221Z"
    },
    "papermill": {
     "duration": 0.098301,
     "end_time": "2024-03-22T17:22:29.675202",
     "exception": false,
     "start_time": "2024-03-22T17:22:29.576901",
     "status": "completed"
    },
    "tags": []
   },
   "outputs": [
    {
     "data": {
      "text/html": [
       "<div>\n",
       "<style scoped>\n",
       "    .dataframe tbody tr th:only-of-type {\n",
       "        vertical-align: middle;\n",
       "    }\n",
       "\n",
       "    .dataframe tbody tr th {\n",
       "        vertical-align: top;\n",
       "    }\n",
       "\n",
       "    .dataframe thead th {\n",
       "        text-align: right;\n",
       "    }\n",
       "</style>\n",
       "<table border=\"1\" class=\"dataframe\">\n",
       "  <thead>\n",
       "    <tr style=\"text-align: right;\">\n",
       "      <th></th>\n",
       "      <th>size_train</th>\n",
       "      <th>file_name</th>\n",
       "      <th>size_test</th>\n",
       "    </tr>\n",
       "  </thead>\n",
       "  <tbody>\n",
       "    <tr>\n",
       "      <th>0</th>\n",
       "      <td>358000</td>\n",
       "      <td>credit_bureau_a_1_1</td>\n",
       "      <td>120</td>\n",
       "    </tr>\n",
       "    <tr>\n",
       "      <th>1</th>\n",
       "      <td>241224</td>\n",
       "      <td>credit_bureau_a_1_2</td>\n",
       "      <td>120</td>\n",
       "    </tr>\n",
       "    <tr>\n",
       "      <th>2</th>\n",
       "      <td>222384</td>\n",
       "      <td>static_0_0</td>\n",
       "      <td>264</td>\n",
       "    </tr>\n",
       "    <tr>\n",
       "      <th>3</th>\n",
       "      <td>208896</td>\n",
       "      <td>applprev_1_0</td>\n",
       "      <td>64</td>\n",
       "    </tr>\n",
       "    <tr>\n",
       "      <th>4</th>\n",
       "      <td>145888</td>\n",
       "      <td>static_0_1</td>\n",
       "      <td>264</td>\n",
       "    </tr>\n",
       "    <tr>\n",
       "      <th>5</th>\n",
       "      <td>142312</td>\n",
       "      <td>applprev_1_1</td>\n",
       "      <td>64</td>\n",
       "    </tr>\n",
       "  </tbody>\n",
       "</table>\n",
       "</div>"
      ],
      "text/plain": [
       "  size_train            file_name size_test\n",
       "0     358000  credit_bureau_a_1_1       120\n",
       "1     241224  credit_bureau_a_1_2       120\n",
       "2     222384           static_0_0       264\n",
       "3     208896         applprev_1_0        64\n",
       "4     145888           static_0_1       264\n",
       "5     142312         applprev_1_1        64"
      ]
     },
     "metadata": {},
     "output_type": "display_data"
    },
    {
     "data": {
      "text/html": [
       "<div>\n",
       "<style scoped>\n",
       "    .dataframe tbody tr th:only-of-type {\n",
       "        vertical-align: middle;\n",
       "    }\n",
       "\n",
       "    .dataframe tbody tr th {\n",
       "        vertical-align: top;\n",
       "    }\n",
       "\n",
       "    .dataframe thead th {\n",
       "        text-align: right;\n",
       "    }\n",
       "</style>\n",
       "<table border=\"1\" class=\"dataframe\">\n",
       "  <thead>\n",
       "    <tr style=\"text-align: right;\">\n",
       "      <th></th>\n",
       "      <th>size_train</th>\n",
       "      <th>file_name</th>\n",
       "      <th>size_test</th>\n",
       "    </tr>\n",
       "  </thead>\n",
       "  <tbody>\n",
       "    <tr>\n",
       "      <th>31</th>\n",
       "      <td>1576</td>\n",
       "      <td>other_1</td>\n",
       "      <td>16</td>\n",
       "    </tr>\n",
       "    <tr>\n",
       "      <th>32</th>\n",
       "      <td>NaN</td>\n",
       "      <td>static_0_2</td>\n",
       "      <td>256</td>\n",
       "    </tr>\n",
       "    <tr>\n",
       "      <th>33</th>\n",
       "      <td>NaN</td>\n",
       "      <td>credit_bureau_a_1_4</td>\n",
       "      <td>120</td>\n",
       "    </tr>\n",
       "    <tr>\n",
       "      <th>34</th>\n",
       "      <td>NaN</td>\n",
       "      <td>applprev_1_2</td>\n",
       "      <td>64</td>\n",
       "    </tr>\n",
       "    <tr>\n",
       "      <th>35</th>\n",
       "      <td>NaN</td>\n",
       "      <td>credit_bureau_a_2_11</td>\n",
       "      <td>32</td>\n",
       "    </tr>\n",
       "  </tbody>\n",
       "</table>\n",
       "</div>"
      ],
      "text/plain": [
       "   size_train             file_name size_test\n",
       "31       1576               other_1        16\n",
       "32        NaN            static_0_2       256\n",
       "33        NaN   credit_bureau_a_1_4       120\n",
       "34        NaN          applprev_1_2        64\n",
       "35        NaN  credit_bureau_a_2_11        32"
      ]
     },
     "metadata": {},
     "output_type": "display_data"
    }
   ],
   "source": [
    "def get_disk_usage(directory):\n",
    "    cmd = f'du {directory}/* -h | sort -rh'\n",
    "    result = subprocess.run(cmd, shell=True, stdout=subprocess.PIPE, text=True)\n",
    "    output_lines = result.stdout.split('\\n')\n",
    "    data = [line.split('\\t') for line in output_lines if line]\n",
    "    \n",
    "    df = pd.DataFrame(data, columns=['size', 'path'])\n",
    "    df['file_name'] = df.path.str.replace('train_|test_', '', regex=True).apply(lambda x: Path(x).stem)\n",
    "    return df\n",
    "\n",
    "train_disk_usage = get_disk_usage(f'{dataPath}/train').reset_index()\n",
    "test_disk_usage = get_disk_usage(f'{dataPath}/test')\n",
    "\n",
    "a = train_disk_usage.reset_index().merge(test_disk_usage, on=['file_name'],\n",
    "                                    how='outer', suffixes=['_train','_test']).sort_values(by='index').drop(columns=['index','path_train','path_test','level_0'])\n",
    "display(a[:6])\n",
    "display(a[-5:])"
   ]
  },
  {
   "cell_type": "code",
   "execution_count": 4,
   "id": "3c824f5c",
   "metadata": {
    "execution": {
     "iopub.execute_input": "2024-03-22T17:22:29.699517Z",
     "iopub.status.busy": "2024-03-22T17:22:29.699121Z",
     "iopub.status.idle": "2024-03-22T17:22:31.478864Z",
     "shell.execute_reply": "2024-03-22T17:22:31.477689Z"
    },
    "papermill": {
     "duration": 1.795269,
     "end_time": "2024-03-22T17:22:31.481740",
     "exception": false,
     "start_time": "2024-03-22T17:22:29.686471",
     "status": "completed"
    },
    "tags": []
   },
   "outputs": [
    {
     "name": "stdout",
     "output_type": "stream",
     "text": [
      "(1526659, 5)\n",
      "(10, 4)\n"
     ]
    }
   ],
   "source": [
    "path_train_base = f'{dataPath}/train/train_base.parquet'\n",
    "path_test_base = f'{dataPath}/test/test_base.parquet'\n",
    "\n",
    "train_base = pd.read_parquet(path_train_base)\n",
    "test_base = pd.read_parquet(path_test_base)\n",
    "\n",
    "print(train_base.shape)\n",
    "print(test_base.shape)"
   ]
  },
  {
   "cell_type": "markdown",
   "id": "1e2f79e0",
   "metadata": {
    "papermill": {
     "duration": 0.011074,
     "end_time": "2024-03-22T17:22:31.504294",
     "exception": false,
     "start_time": "2024-03-22T17:22:31.493220",
     "status": "completed"
    },
    "tags": []
   },
   "source": [
    "#### Transform the 'MONTH' features into 'year' and 'month' feature"
   ]
  },
  {
   "cell_type": "code",
   "execution_count": 5,
   "id": "9f513500",
   "metadata": {
    "execution": {
     "iopub.execute_input": "2024-03-22T17:22:31.529397Z",
     "iopub.status.busy": "2024-03-22T17:22:31.528978Z",
     "iopub.status.idle": "2024-03-22T17:22:31.640390Z",
     "shell.execute_reply": "2024-03-22T17:22:31.639145Z"
    },
    "papermill": {
     "duration": 0.127489,
     "end_time": "2024-03-22T17:22:31.643069",
     "exception": false,
     "start_time": "2024-03-22T17:22:31.515580",
     "status": "completed"
    },
    "tags": []
   },
   "outputs": [
    {
     "data": {
      "text/html": [
       "<div>\n",
       "<style scoped>\n",
       "    .dataframe tbody tr th:only-of-type {\n",
       "        vertical-align: middle;\n",
       "    }\n",
       "\n",
       "    .dataframe tbody tr th {\n",
       "        vertical-align: top;\n",
       "    }\n",
       "\n",
       "    .dataframe thead th {\n",
       "        text-align: right;\n",
       "    }\n",
       "</style>\n",
       "<table border=\"1\" class=\"dataframe\">\n",
       "  <thead>\n",
       "    <tr style=\"text-align: right;\">\n",
       "      <th></th>\n",
       "      <th>case_id</th>\n",
       "      <th>date_decision</th>\n",
       "      <th>WEEK_NUM</th>\n",
       "      <th>target</th>\n",
       "      <th>year</th>\n",
       "      <th>month</th>\n",
       "    </tr>\n",
       "  </thead>\n",
       "  <tbody>\n",
       "    <tr>\n",
       "      <th>0</th>\n",
       "      <td>0</td>\n",
       "      <td>2019-01-03</td>\n",
       "      <td>0</td>\n",
       "      <td>0</td>\n",
       "      <td>2019</td>\n",
       "      <td>1</td>\n",
       "    </tr>\n",
       "    <tr>\n",
       "      <th>1</th>\n",
       "      <td>1</td>\n",
       "      <td>2019-01-03</td>\n",
       "      <td>0</td>\n",
       "      <td>0</td>\n",
       "      <td>2019</td>\n",
       "      <td>1</td>\n",
       "    </tr>\n",
       "    <tr>\n",
       "      <th>2</th>\n",
       "      <td>2</td>\n",
       "      <td>2019-01-04</td>\n",
       "      <td>0</td>\n",
       "      <td>0</td>\n",
       "      <td>2019</td>\n",
       "      <td>1</td>\n",
       "    </tr>\n",
       "    <tr>\n",
       "      <th>3</th>\n",
       "      <td>3</td>\n",
       "      <td>2019-01-03</td>\n",
       "      <td>0</td>\n",
       "      <td>0</td>\n",
       "      <td>2019</td>\n",
       "      <td>1</td>\n",
       "    </tr>\n",
       "    <tr>\n",
       "      <th>4</th>\n",
       "      <td>4</td>\n",
       "      <td>2019-01-04</td>\n",
       "      <td>0</td>\n",
       "      <td>1</td>\n",
       "      <td>2019</td>\n",
       "      <td>1</td>\n",
       "    </tr>\n",
       "  </tbody>\n",
       "</table>\n",
       "</div>"
      ],
      "text/plain": [
       "   case_id date_decision  WEEK_NUM  target  year  month\n",
       "0        0    2019-01-03         0       0  2019      1\n",
       "1        1    2019-01-03         0       0  2019      1\n",
       "2        2    2019-01-04         0       0  2019      1\n",
       "3        3    2019-01-03         0       0  2019      1\n",
       "4        4    2019-01-04         0       1  2019      1"
      ]
     },
     "metadata": {},
     "output_type": "display_data"
    }
   ],
   "source": [
    "train_base['year'] = train_base['MONTH'] // 100\n",
    "train_base['month'] = train_base['MONTH'] % 100\n",
    "train_base = train_base.drop(columns=['MONTH'])\n",
    "display(train_base.head(5))"
   ]
  },
  {
   "cell_type": "code",
   "execution_count": 6,
   "id": "e7e3fecc",
   "metadata": {
    "execution": {
     "iopub.execute_input": "2024-03-22T17:22:31.670772Z",
     "iopub.status.busy": "2024-03-22T17:22:31.670360Z",
     "iopub.status.idle": "2024-03-22T17:22:33.817431Z",
     "shell.execute_reply": "2024-03-22T17:22:33.816058Z"
    },
    "papermill": {
     "duration": 2.165178,
     "end_time": "2024-03-22T17:22:33.820230",
     "exception": false,
     "start_time": "2024-03-22T17:22:31.655052",
     "status": "completed"
    },
    "tags": []
   },
   "outputs": [
    {
     "name": "stdout",
     "output_type": "stream",
     "text": [
      "\n",
      " Actual date range:  644 day(s). \n",
      " Total unique dates: 644 day(s).\n",
      "\n",
      " Min date: 2019-01-01 \n",
      " Max date: 2020-10-05\n"
     ]
    }
   ],
   "source": [
    "def get_date_interval_info(df):\n",
    "    df['date_decision'] = pd.to_datetime(df['date_decision'])\n",
    "    date_delta = df['date_decision'].drop_duplicates().sort_values().diff()\n",
    "    len_uniq_dates = len(df.date_decision.unique())\n",
    "    print(\n",
    "        f'\\n Actual date range:  {date_delta.sum().days + 1} day(s).',\n",
    "        f'\\n Total unique dates: {len_uniq_dates} day(s).'\n",
    "    )\n",
    "\n",
    "    print(f'\\n Min date: {df.date_decision.dt.date.min()}',\n",
    "          f'\\n Max date: {df.date_decision.dt.date.max()}')\n",
    "    \n",
    "get_date_interval_info(train_base)"
   ]
  },
  {
   "cell_type": "markdown",
   "id": "0c441f36",
   "metadata": {
    "papermill": {
     "duration": 0.011851,
     "end_time": "2024-03-22T17:22:33.844092",
     "exception": false,
     "start_time": "2024-03-22T17:22:33.832241",
     "status": "completed"
    },
    "tags": []
   },
   "source": [
    "#### Target\n",
    "Target is defined as whether or not the client defaulted on the specific credit case.\n",
    "As we can see are are dealing with a highly imbalanced dataset"
   ]
  },
  {
   "cell_type": "code",
   "execution_count": 11,
   "id": "1e19286e",
   "metadata": {
    "execution": {
     "iopub.execute_input": "2024-03-22T17:22:33.870030Z",
     "iopub.status.busy": "2024-03-22T17:22:33.869572Z",
     "iopub.status.idle": "2024-03-22T17:22:34.441452Z",
     "shell.execute_reply": "2024-03-22T17:22:34.440531Z"
    },
    "papermill": {
     "duration": 0.58771,
     "end_time": "2024-03-22T17:22:34.443752",
     "exception": false,
     "start_time": "2024-03-22T17:22:33.856042",
     "status": "completed"
    },
    "tags": []
   },
   "outputs": [
    {
     "data": {
      "text/plain": [
       "([<matplotlib.patches.Wedge at 0x7f84e5241820>,\n",
       "  <matplotlib.patches.Wedge at 0x7f84e524e130>],\n",
       " [Text(-1.0946395745925022, 0.1084629048843239, '0'),\n",
       "  Text(1.0946395733231236, -0.10846291769526761, '1')],\n",
       " [Text(-0.5970761315959102, 0.05916158448235849, '96.9%'),\n",
       "  Text(0.5970761309035219, -0.05916159147014596, '3.1%')])"
      ]
     },
     "execution_count": 11,
     "metadata": {},
     "output_type": "execute_result"
    },
    {
     "data": {
      "image/png": "[encoded data removed]",
      "text/plain": [
       "<Figure size 720x360 with 2 Axes>"
      ]
     },
     "metadata": {},
     "output_type": "display_data"
    }
   ],
   "source": [
    "sns.set_style(\"whitegrid\")\n",
    "plt.figure(figsize=(10,5))\n",
    "plt.subplot(1,2,1)\n",
    "ax = sns.countplot(data=train_base, x='target', palette=\"Set2\")\n",
    "for p in ax.patches:\n",
    "    ax.annotate(f'{int(p.get_height())}', (p.get_x() + p.get_width() / 2., p.get_height()), ha='center', va='center', xytext=(0, 10), textcoords='offset points')\n",
    "\n",
    "plt.subplot(1,2,2)\n",
    "plt.pie(train_base['target'].value_counts(), labels=['0','1'], autopct='%1.1f%%', colors=sns.color_palette(\"Set1\"))"
   ]
  },
  {
   "cell_type": "code",
   "execution_count": 8,
   "id": "6f68ef76",
   "metadata": {
    "execution": {
     "iopub.execute_input": "2024-03-22T17:22:34.471428Z",
     "iopub.status.busy": "2024-03-22T17:22:34.470773Z",
     "iopub.status.idle": "2024-03-22T17:22:37.503791Z",
     "shell.execute_reply": "2024-03-22T17:22:37.502325Z"
    },
    "papermill": {
     "duration": 3.049789,
     "end_time": "2024-03-22T17:22:37.506403",
     "exception": false,
     "start_time": "2024-03-22T17:22:34.456614",
     "status": "completed"
    },
    "tags": []
   },
   "outputs": [
    {
     "data": {
      "text/plain": [
       "(0.0, 10000.0)"
      ]
     },
     "execution_count": 8,
     "metadata": {},
     "output_type": "execute_result"
    },
    {
     "data": {
      "image/png": "[encoded data removed]",
      "text/plain": [
       "<Figure size 720x576 with 2 Axes>"
      ]
     },
     "metadata": {},
     "output_type": "display_data"
    }
   ],
   "source": [
    "plt.figure(figsize=(10,8))\n",
    "plt.subplot(2,1,1)\n",
    "sns.histplot(data=train_base, x='month', hue=\"target\", binwidth=1, multiple=\"stack\", palette=\"Set1\")\n",
    "plt.title(\"Monthly Distribution\")\n",
    "\n",
    "plt.subplot(2,1,2)\n",
    "sns.histplot(data=train_base, x='month', hue=\"target\", binwidth=1, multiple=\"stack\", palette=\"Set1\")\n",
    "plt.ylim(0,10000)"
   ]
  },
  {
   "cell_type": "code",
   "execution_count": 16,
   "id": "1b32b051",
   "metadata": {
    "execution": {
     "iopub.execute_input": "2024-03-22T17:22:37.535456Z",
     "iopub.status.busy": "2024-03-22T17:22:37.535028Z",
     "iopub.status.idle": "2024-03-22T17:22:52.912531Z",
     "shell.execute_reply": "2024-03-22T17:22:52.911487Z"
    },
    "papermill": {
     "duration": 15.395088,
     "end_time": "2024-03-22T17:22:52.915086",
     "exception": false,
     "start_time": "2024-03-22T17:22:37.519998",
     "status": "completed"
    },
    "tags": []
   },
   "outputs": [
    {
     "data": {
      "text/plain": [
       "(0.0, 2000.0)"
      ]
     },
     "execution_count": 16,
     "metadata": {},
     "output_type": "execute_result"
    },
    {
     "data": {
      "image/png": "[encoded data removed]",
      "text/plain": [
       "<Figure size 720x576 with 2 Axes>"
      ]
     },
     "metadata": {},
     "output_type": "display_data"
    }
   ],
   "source": [
    "plt.figure(figsize=(10,8))\n",
    "plt.subplot(2,1,1)\n",
    "sns.histplot(data=train_base, x='WEEK_NUM', hue=\"target\", binwidth=1, multiple=\"stack\", palette=\"Set1\")\n",
    "plt.title(\"Weekly Distribution\")\n",
    "\n",
    "plt.subplot(2,1,2)\n",
    "sns.histplot(data=train_base, x='WEEK_NUM', hue=\"target\", binwidth=1, multiple=\"stack\", palette=\"Set1\")\n",
    "plt.ylim(0,2000)"
   ]
  },
  {
   "cell_type": "code",
   "execution_count": 18,
   "id": "f3ba0698",
   "metadata": {
    "execution": {
     "iopub.execute_input": "2024-03-22T17:22:52.948379Z",
     "iopub.status.busy": "2024-03-22T17:22:52.947244Z",
     "iopub.status.idle": "2024-03-22T17:23:08.476633Z",
     "shell.execute_reply": "2024-03-22T17:23:08.475420Z"
    },
    "papermill": {
     "duration": 15.549034,
     "end_time": "2024-03-22T17:23:08.480043",
     "exception": false,
     "start_time": "2024-03-22T17:22:52.931009",
     "status": "completed"
    },
    "tags": []
   },
   "outputs": [
    {
     "data": {
      "image/png": "[encoded data removed]",
      "text/plain": [
       "<Figure size 720x576 with 2 Axes>"
      ]
     },
     "metadata": {},
     "output_type": "display_data"
    }
   ],
   "source": [
    "# Convert 'date_decision' to 'date_numeric' if 'date_decision' is your original date column\n",
    "if 'date_decision' in train_base.columns:\n",
    "    train_base['date_numeric'] = (train_base['date_decision'] - train_base['date_decision'].min()).dt.days\n",
    "else:\n",
    "    print(\"date_decision column is missing\")\n",
    "    \n",
    "kde = gaussian_kde(train_base['date_numeric'].dropna())  # Ensure no NaN values\n",
    "x_range = np.linspace(train_base['date_numeric'].min(), train_base['date_numeric'].max(), 1000)\n",
    "kde_values = kde(x_range)\n",
    "\n",
    "# Plot histograms and the manually calculated KDE on the same plots\n",
    "plt.figure(figsize=(10,8))\n",
    "plt.subplot(2,1,1)\n",
    "sns.histplot(data=train_base, x='date_numeric', hue=\"target\", bins=50, multiple=\"stack\", palette=\"Set1\")\n",
    "plt.plot(x_range, kde_values * train_base.shape[0] / 50, color='red')  # Adjust scaling as necessary\n",
    "plt.title(\"Date Distribution\")\n",
    "\n",
    "plt.subplot(2,1,2)\n",
    "sns.histplot(data=train_base, x='date_numeric', hue=\"target\", bins=50, multiple=\"stack\", palette=\"Set1\")\n",
    "plt.plot(x_range, kde_values * train_base.shape[0] / 50, color='red')  # Maintain consistency in scaling\n",
    "plt.ylim(0, 2000)\n",
    "\n",
    "plt.show()"
   ]
  }
 ],
 "metadata": {
  "kaggle": {
   "accelerator": "none",
   "dataSources": [
    {
     "databundleVersionId": 7921029,
     "sourceId": 50160,
     "sourceType": "competition"
    },
    {
     "datasetId": 4405300,
     "sourceId": 7575239,
     "sourceType": "datasetVersion"
    }
   ],
   "dockerImageVersionId": 30664,
   "isGpuEnabled": false,
   "isInternetEnabled": true,
   "language": "python",
   "sourceType": "notebook"
  },
  "kernelspec": {
   "display_name": "Python 3",
   "language": "python",
   "name": "python3"
  },
  "language_info": {
   "codemirror_mode": {
    "name": "ipython",
    "version": 3
   },
   "file_extension": ".py",
   "mimetype": "text/x-python",
   "name": "python",
   "nbconvert_exporter": "python",
   "pygments_lexer": "ipython3",
   "version": "3.8.8"
  },
  "papermill": {
   "default_parameters": {},
   "duration": 154.711377,
   "end_time": "2024-03-22T17:24:58.039980",
   "environment_variables": {},
   "exception": null,
   "input_path": "__notebook__.ipynb",
   "output_path": "__notebook__.ipynb",
   "parameters": {},
   "start_time": "2024-03-22T17:22:23.328603",
   "version": "2.5.0"
  }
 },
 "nbformat": 4,
 "nbformat_minor": 5
}
