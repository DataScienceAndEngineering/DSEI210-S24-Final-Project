{
 "cells": [
  {
   "cell_type": "markdown",
   "id": "c6ffbd85",
   "metadata": {
    "_cell_guid": "b1076dfc-b9ad-4769-8c92-a6c4dae69d19",
    "_uuid": "8f2839f25d086af736a60e9eeb907d3b93b6e0e5",
    "papermill": {
     "duration": 0.007009,
     "end_time": "2024-02-07T21:27:57.505355",
     "exception": false,
     "start_time": "2024-02-07T21:27:57.498346",
     "status": "completed"
    },
    "tags": []
   },
   "source": [
    "# Categorical Features Preprocessing\n",
    "\n",
    "Given a dataset containing categorical features, some of which exhibit high cardinality and significant missing values, the challenge arises in effectively encoding these features without succumbing to the curse of dimensionality inherent in traditional one-hot encoding.\n",
    "\n",
    "\n",
    "To mitigate the high dimensionality resulting from one-hot encoding, various dimensionality reduction methods can be applied:\n",
    "\n",
    "- Label Encoding with Target Encoding/Smoothing: Transform categories into numerical values based on target variable statistics (e.g., mean target value per category). It introduces ordinality that is meaningful with respect to the target variable, potentially improving model performance. However, it is prone to overfitting if not properly regularized (smoothing helps mitigate this) and we do not understand the relationship between each category and the target\n",
    "- Frequency or Count Encoding: Replace categories with their frequency or count within the dataset.\n",
    "- Grouping/Rare Encoding: Group infrequent categories into a single 'Other' category to reduce dimensionality. It helps in handling overfitting by diminishing the impact of rare categories. However, it potentially loses valuable information by aggregating distinct categories into a single 'Other' group. Moreover, the choice of threshold for grouping can be arbitrary and may require domain knowledge or experimentation.\n",
    "- Binary Encoding or Hashing: Binary encoding and hashing can be utilized to condense categorical features into a more compact representation. Binary Encoding: Convert categories into binary code, allocating one column for each binary digit.\n",
    "\n",
    "\n",
    "We are trying the following strategy: \n",
    "\n",
    "## Frequency Encoding and Binary Encoding\n",
    "\n",
    "- Frequency or Count Encoding: This method represents categories based on their frequency or count in the dataset, implicitly capturing the importance of each category in the data distribution.\n",
    "\n",
    "- Binary Encoding: By converting categories into binary code, Binary Encoding dramatically reduces the dimensionality of high-cardinality features while preserving more information than traditional one-hot encoding.\n",
    "\n",
    "Why this combination?: This pairing offers a pragmatic approach to handling high-cardinality categorical features. Frequency or Count Encoding provides a simple yet informative representation of categories, while Binary Encoding efficiently reduces dimensionality, making it suitable for large-scale datasets with limited computational resources.\n",
    "\n",
    "We we will the following file to test it:\n",
    "- train_person_1\n",
    "- train_person_2"
   ]
  },
  {
   "cell_type": "code",
   "execution_count": 1,
   "id": "00187238",
   "metadata": {
    "execution": {
     "iopub.execute_input": "2024-02-07T21:27:57.520412Z",
     "iopub.status.busy": "2024-02-07T21:27:57.520013Z",
     "iopub.status.idle": "2024-02-07T21:28:01.736666Z",
     "shell.execute_reply": "2024-02-07T21:28:01.735326Z"
    },
    "papermill": {
     "duration": 4.227484,
     "end_time": "2024-02-07T21:28:01.739621",
     "exception": false,
     "start_time": "2024-02-07T21:27:57.512137",
     "status": "completed"
    },
    "tags": []
   },
   "outputs": [],
   "source": [
    "import polars as pl\n",
    "import numpy as np\n",
    "import pandas as pd\n",
    "from sklearn.preprocessing import LabelEncoder"
   ]
  },
  {
   "cell_type": "markdown",
   "id": "4caa9fd6",
   "metadata": {},
   "source": [
    "## Load the data"
   ]
  },
  {
   "cell_type": "code",
   "execution_count": 3,
   "id": "36464a8e",
   "metadata": {},
   "outputs": [],
   "source": [
    "dataPath = 'C:/Users/laura/OneDrive/Documentos/Personal Documents/Universidad/DSE CCNY/Courses Semester 2/Applied ML/Project_final/home-credit-credit-risk-model-stability/'"
   ]
  },
  {
   "cell_type": "code",
   "execution_count": 4,
   "id": "14b1f90b",
   "metadata": {
    "execution": {
     "iopub.execute_input": "2024-02-07T21:28:01.755445Z",
     "iopub.status.busy": "2024-02-07T21:28:01.755022Z",
     "iopub.status.idle": "2024-02-07T21:28:01.764738Z",
     "shell.execute_reply": "2024-02-07T21:28:01.763428Z"
    },
    "papermill": {
     "duration": 0.020544,
     "end_time": "2024-02-07T21:28:01.767089",
     "exception": false,
     "start_time": "2024-02-07T21:28:01.746545",
     "status": "completed"
    },
    "tags": []
   },
   "outputs": [],
   "source": [
    "def set_table_dtypes(df: pl.DataFrame) -> pl.DataFrame:\n",
    "    # implement here all desired dtypes for tables\n",
    "    # the following is just an example\n",
    "    for col in df.columns:\n",
    "        # last letter of column name will help you determine the type\n",
    "        if col[-1] in (\"P\", \"A\"):\n",
    "            df = df.with_columns(pl.col(col).cast(pl.Float64).alias(col))\n",
    "\n",
    "    return df"
   ]
  },
  {
   "cell_type": "code",
   "execution_count": 7,
   "id": "09eb25d8",
   "metadata": {},
   "outputs": [],
   "source": [
    "train_basetable = pl.read_csv(dataPath + \"csv_files/train/train_base.csv\")"
   ]
  },
  {
   "cell_type": "code",
   "execution_count": 5,
   "id": "74e9df5d",
   "metadata": {},
   "outputs": [],
   "source": [
    "#  depth=1\n",
    "train_person_1 = pl.read_csv(dataPath + \"csv_files/train/train_person_1.csv\").pipe(set_table_dtypes)\n",
    "#  depth=2\n",
    "train_person_2 = pl.read_csv(dataPath + \"csv_files/train/train_person_2.csv\").pipe(set_table_dtypes)"
   ]
  },
  {
   "cell_type": "code",
   "execution_count": 8,
   "id": "c7d0e894",
   "metadata": {},
   "outputs": [
    {
     "data": {
      "text/html": [
       "<div><style>\n",
       ".dataframe > thead > tr,\n",
       ".dataframe > tbody > tr {\n",
       "  text-align: right;\n",
       "  white-space: pre-wrap;\n",
       "}\n",
       "</style>\n",
       "<small>shape: (5, 37)</small><table border=\"1\" class=\"dataframe\"><thead><tr><th>case_id</th><th>birth_259D</th><th>birthdate_87D</th><th>childnum_185L</th><th>contaddr_district_15M</th><th>contaddr_matchlist_1032L</th><th>contaddr_smempladdr_334L</th><th>contaddr_zipcode_807M</th><th>education_927M</th><th>empl_employedfrom_271D</th><th>empl_employedtotal_800L</th><th>empl_industry_691L</th><th>empladdr_district_926M</th><th>empladdr_zipcode_114M</th><th>familystate_447L</th><th>gender_992L</th><th>housetype_905L</th><th>housingtype_772L</th><th>incometype_1044T</th><th>isreference_387L</th><th>language1_981M</th><th>mainoccupationinc_384A</th><th>maritalst_703L</th><th>num_group1</th><th>personindex_1023L</th><th>persontype_1072L</th><th>persontype_792L</th><th>registaddr_district_1083M</th><th>registaddr_zipcode_184M</th><th>relationshiptoclient_415T</th><th>relationshiptoclient_642T</th><th>remitter_829L</th><th>role_1084L</th><th>role_993L</th><th>safeguarantyflag_411L</th><th>sex_738L</th><th>type_25L</th></tr><tr><td>i64</td><td>str</td><td>str</td><td>f64</td><td>str</td><td>bool</td><td>bool</td><td>str</td><td>str</td><td>str</td><td>str</td><td>str</td><td>str</td><td>str</td><td>str</td><td>str</td><td>str</td><td>str</td><td>str</td><td>bool</td><td>str</td><td>f64</td><td>str</td><td>i64</td><td>f64</td><td>f64</td><td>f64</td><td>str</td><td>str</td><td>str</td><td>str</td><td>bool</td><td>str</td><td>str</td><td>bool</td><td>str</td><td>str</td></tr></thead><tbody><tr><td>0</td><td>&quot;1986-07-01&quot;</td><td>null</td><td>null</td><td>&quot;P88_18_84&quot;</td><td>false</td><td>false</td><td>&quot;P167_100_165&quot;</td><td>&quot;P97_36_170&quot;</td><td>&quot;2017-09-15&quot;</td><td>&quot;MORE_FIVE&quot;</td><td>&quot;OTHER&quot;</td><td>&quot;P142_57_166&quot;</td><td>&quot;P167_100_165&quot;</td><td>&quot;MARRIED&quot;</td><td>null</td><td>null</td><td>null</td><td>&quot;SALARIED_GOVT&quot;</td><td>null</td><td>&quot;P10_39_147&quot;</td><td>10800.0</td><td>null</td><td>0</td><td>0.0</td><td>1.0</td><td>1.0</td><td>&quot;P88_18_84&quot;</td><td>&quot;P167_100_165&quot;</td><td>null</td><td>null</td><td>null</td><td>&quot;CL&quot;</td><td>null</td><td>true</td><td>&quot;F&quot;</td><td>&quot;PRIMARY_MOBILE…</td></tr><tr><td>0</td><td>null</td><td>null</td><td>null</td><td>&quot;a55475b1&quot;</td><td>null</td><td>null</td><td>&quot;a55475b1&quot;</td><td>&quot;a55475b1&quot;</td><td>null</td><td>null</td><td>null</td><td>&quot;a55475b1&quot;</td><td>&quot;a55475b1&quot;</td><td>null</td><td>null</td><td>null</td><td>null</td><td>null</td><td>null</td><td>&quot;a55475b1&quot;</td><td>null</td><td>null</td><td>1</td><td>1.0</td><td>1.0</td><td>4.0</td><td>&quot;a55475b1&quot;</td><td>&quot;a55475b1&quot;</td><td>&quot;SPOUSE&quot;</td><td>null</td><td>false</td><td>&quot;EM&quot;</td><td>null</td><td>null</td><td>null</td><td>&quot;PHONE&quot;</td></tr><tr><td>0</td><td>null</td><td>null</td><td>null</td><td>&quot;a55475b1&quot;</td><td>null</td><td>null</td><td>&quot;a55475b1&quot;</td><td>&quot;a55475b1&quot;</td><td>null</td><td>null</td><td>null</td><td>&quot;a55475b1&quot;</td><td>&quot;a55475b1&quot;</td><td>null</td><td>null</td><td>null</td><td>null</td><td>null</td><td>null</td><td>&quot;a55475b1&quot;</td><td>null</td><td>null</td><td>2</td><td>2.0</td><td>4.0</td><td>5.0</td><td>&quot;a55475b1&quot;</td><td>&quot;a55475b1&quot;</td><td>&quot;COLLEAGUE&quot;</td><td>&quot;SPOUSE&quot;</td><td>false</td><td>&quot;PE&quot;</td><td>null</td><td>null</td><td>null</td><td>&quot;PHONE&quot;</td></tr><tr><td>0</td><td>null</td><td>null</td><td>null</td><td>&quot;a55475b1&quot;</td><td>null</td><td>null</td><td>&quot;a55475b1&quot;</td><td>&quot;a55475b1&quot;</td><td>null</td><td>null</td><td>null</td><td>&quot;a55475b1&quot;</td><td>&quot;a55475b1&quot;</td><td>null</td><td>null</td><td>null</td><td>null</td><td>null</td><td>null</td><td>&quot;a55475b1&quot;</td><td>null</td><td>null</td><td>3</td><td>null</td><td>5.0</td><td>null</td><td>&quot;a55475b1&quot;</td><td>&quot;a55475b1&quot;</td><td>null</td><td>&quot;COLLEAGUE&quot;</td><td>null</td><td>&quot;PE&quot;</td><td>null</td><td>null</td><td>null</td><td>&quot;PHONE&quot;</td></tr><tr><td>1</td><td>&quot;1957-08-01&quot;</td><td>null</td><td>null</td><td>&quot;P103_93_94&quot;</td><td>false</td><td>false</td><td>&quot;P176_37_166&quot;</td><td>&quot;P97_36_170&quot;</td><td>&quot;2008-10-29&quot;</td><td>&quot;MORE_FIVE&quot;</td><td>&quot;OTHER&quot;</td><td>&quot;P49_46_174&quot;</td><td>&quot;P160_59_140&quot;</td><td>&quot;DIVORCED&quot;</td><td>null</td><td>null</td><td>null</td><td>&quot;SALARIED_GOVT&quot;</td><td>null</td><td>&quot;P10_39_147&quot;</td><td>10000.0</td><td>null</td><td>0</td><td>0.0</td><td>1.0</td><td>1.0</td><td>&quot;P103_93_94&quot;</td><td>&quot;P176_37_166&quot;</td><td>null</td><td>null</td><td>null</td><td>&quot;CL&quot;</td><td>null</td><td>true</td><td>&quot;M&quot;</td><td>&quot;PRIMARY_MOBILE…</td></tr></tbody></table></div>"
      ],
      "text/plain": [
       "shape: (5, 37)\n",
       "┌─────────┬────────────┬────────────┬───────────┬───┬───────────┬───────────┬──────────┬───────────┐\n",
       "│ case_id ┆ birth_259D ┆ birthdate_ ┆ childnum_ ┆ … ┆ role_993L ┆ safeguara ┆ sex_738L ┆ type_25L  │\n",
       "│ ---     ┆ ---        ┆ 87D        ┆ 185L      ┆   ┆ ---       ┆ ntyflag_4 ┆ ---      ┆ ---       │\n",
       "│ i64     ┆ str        ┆ ---        ┆ ---       ┆   ┆ str       ┆ 11L       ┆ str      ┆ str       │\n",
       "│         ┆            ┆ str        ┆ f64       ┆   ┆           ┆ ---       ┆          ┆           │\n",
       "│         ┆            ┆            ┆           ┆   ┆           ┆ bool      ┆          ┆           │\n",
       "╞═════════╪════════════╪════════════╪═══════════╪═══╪═══════════╪═══════════╪══════════╪═══════════╡\n",
       "│ 0       ┆ 1986-07-01 ┆ null       ┆ null      ┆ … ┆ null      ┆ true      ┆ F        ┆ PRIMARY_M │\n",
       "│         ┆            ┆            ┆           ┆   ┆           ┆           ┆          ┆ OBILE     │\n",
       "│ 0       ┆ null       ┆ null       ┆ null      ┆ … ┆ null      ┆ null      ┆ null     ┆ PHONE     │\n",
       "│ 0       ┆ null       ┆ null       ┆ null      ┆ … ┆ null      ┆ null      ┆ null     ┆ PHONE     │\n",
       "│ 0       ┆ null       ┆ null       ┆ null      ┆ … ┆ null      ┆ null      ┆ null     ┆ PHONE     │\n",
       "│ 1       ┆ 1957-08-01 ┆ null       ┆ null      ┆ … ┆ null      ┆ true      ┆ M        ┆ PRIMARY_M │\n",
       "│         ┆            ┆            ┆           ┆   ┆           ┆           ┆          ┆ OBILE     │\n",
       "└─────────┴────────────┴────────────┴───────────┴───┴───────────┴───────────┴──────────┴───────────┘"
      ]
     },
     "execution_count": 8,
     "metadata": {},
     "output_type": "execute_result"
    }
   ],
   "source": [
    "train_person_1.head()"
   ]
  },
  {
   "cell_type": "code",
   "execution_count": 9,
   "id": "917d83d9",
   "metadata": {},
   "outputs": [
    {
     "data": {
      "text/html": [
       "<div><style>\n",
       ".dataframe > thead > tr,\n",
       ".dataframe > tbody > tr {\n",
       "  text-align: right;\n",
       "  white-space: pre-wrap;\n",
       "}\n",
       "</style>\n",
       "<small>shape: (5, 11)</small><table border=\"1\" class=\"dataframe\"><thead><tr><th>case_id</th><th>addres_district_368M</th><th>addres_role_871L</th><th>addres_zip_823M</th><th>conts_role_79M</th><th>empls_economicalst_849M</th><th>empls_employedfrom_796D</th><th>empls_employer_name_740M</th><th>num_group1</th><th>num_group2</th><th>relatedpersons_role_762T</th></tr><tr><td>i64</td><td>str</td><td>str</td><td>str</td><td>str</td><td>str</td><td>str</td><td>str</td><td>i64</td><td>i64</td><td>str</td></tr></thead><tbody><tr><td>5</td><td>&quot;a55475b1&quot;</td><td>null</td><td>&quot;a55475b1&quot;</td><td>&quot;a55475b1&quot;</td><td>&quot;a55475b1&quot;</td><td>null</td><td>&quot;a55475b1&quot;</td><td>0</td><td>0</td><td>null</td></tr><tr><td>6</td><td>&quot;P55_110_32&quot;</td><td>&quot;CONTACT&quot;</td><td>&quot;P10_68_40&quot;</td><td>&quot;P38_92_157&quot;</td><td>&quot;P164_110_33&quot;</td><td>null</td><td>&quot;a55475b1&quot;</td><td>0</td><td>0</td><td>null</td></tr><tr><td>6</td><td>&quot;P55_110_32&quot;</td><td>&quot;PERMANENT&quot;</td><td>&quot;P10_68_40&quot;</td><td>&quot;a55475b1&quot;</td><td>&quot;a55475b1&quot;</td><td>null</td><td>&quot;a55475b1&quot;</td><td>0</td><td>1</td><td>null</td></tr><tr><td>6</td><td>&quot;P204_92_178&quot;</td><td>&quot;CONTACT&quot;</td><td>&quot;P65_136_169&quot;</td><td>&quot;P38_92_157&quot;</td><td>&quot;P164_110_33&quot;</td><td>null</td><td>&quot;a55475b1&quot;</td><td>1</td><td>0</td><td>&quot;OTHER_RELATIVE…</td></tr><tr><td>6</td><td>&quot;P191_109_75&quot;</td><td>&quot;CONTACT&quot;</td><td>&quot;P10_68_40&quot;</td><td>&quot;P7_147_157&quot;</td><td>&quot;a55475b1&quot;</td><td>null</td><td>&quot;a55475b1&quot;</td><td>1</td><td>1</td><td>&quot;OTHER_RELATIVE…</td></tr></tbody></table></div>"
      ],
      "text/plain": [
       "shape: (5, 11)\n",
       "┌─────────┬────────────┬───────────┬───────────┬───┬───────────┬───────────┬───────────┬───────────┐\n",
       "│ case_id ┆ addres_dis ┆ addres_ro ┆ addres_zi ┆ … ┆ empls_emp ┆ num_group ┆ num_group ┆ relatedpe │\n",
       "│ ---     ┆ trict_368M ┆ le_871L   ┆ p_823M    ┆   ┆ loyer_nam ┆ 1         ┆ 2         ┆ rsons_rol │\n",
       "│ i64     ┆ ---        ┆ ---       ┆ ---       ┆   ┆ e_740M    ┆ ---       ┆ ---       ┆ e_762T    │\n",
       "│         ┆ str        ┆ str       ┆ str       ┆   ┆ ---       ┆ i64       ┆ i64       ┆ ---       │\n",
       "│         ┆            ┆           ┆           ┆   ┆ str       ┆           ┆           ┆ str       │\n",
       "╞═════════╪════════════╪═══════════╪═══════════╪═══╪═══════════╪═══════════╪═══════════╪═══════════╡\n",
       "│ 5       ┆ a55475b1   ┆ null      ┆ a55475b1  ┆ … ┆ a55475b1  ┆ 0         ┆ 0         ┆ null      │\n",
       "│ 6       ┆ P55_110_32 ┆ CONTACT   ┆ P10_68_40 ┆ … ┆ a55475b1  ┆ 0         ┆ 0         ┆ null      │\n",
       "│ 6       ┆ P55_110_32 ┆ PERMANENT ┆ P10_68_40 ┆ … ┆ a55475b1  ┆ 0         ┆ 1         ┆ null      │\n",
       "│ 6       ┆ P204_92_17 ┆ CONTACT   ┆ P65_136_1 ┆ … ┆ a55475b1  ┆ 1         ┆ 0         ┆ OTHER_REL │\n",
       "│         ┆ 8          ┆           ┆ 69        ┆   ┆           ┆           ┆           ┆ ATIVE     │\n",
       "│ 6       ┆ P191_109_7 ┆ CONTACT   ┆ P10_68_40 ┆ … ┆ a55475b1  ┆ 1         ┆ 1         ┆ OTHER_REL │\n",
       "│         ┆ 5          ┆           ┆           ┆   ┆           ┆           ┆           ┆ ATIVE     │\n",
       "└─────────┴────────────┴───────────┴───────────┴───┴───────────┴───────────┴───────────┴───────────┘"
      ]
     },
     "execution_count": 9,
     "metadata": {},
     "output_type": "execute_result"
    }
   ],
   "source": [
    "train_person_2.head()"
   ]
  },
  {
   "cell_type": "markdown",
   "id": "05700a4d",
   "metadata": {},
   "source": [
    "### Person 1 "
   ]
  },
  {
   "cell_type": "code",
   "execution_count": 10,
   "id": "2890316c",
   "metadata": {},
   "outputs": [
    {
     "name": "stdout",
     "output_type": "stream",
     "text": [
      "['birth_259D', 'contaddr_district_15M', 'contaddr_zipcode_807M', 'education_927M', 'empl_employedfrom_271D', 'empl_employedtotal_800L', 'empl_industry_691L', 'empladdr_district_926M', 'empladdr_zipcode_114M', 'familystate_447L', 'gender_992L', 'housetype_905L', 'housingtype_772L', 'incometype_1044T', 'language1_981M', 'maritalst_703L', 'registaddr_district_1083M', 'registaddr_zipcode_184M', 'relationshiptoclient_415T', 'relationshiptoclient_642T', 'role_1084L', 'role_993L', 'sex_738L', 'type_25L']\n"
     ]
    }
   ],
   "source": [
    "df = train_person_1\n",
    "# Date columns\n",
    "date_cols = [ df.columns[i] for i in range(len(df.columns)) if (df.columns[i].__contains__('dat')) and (df.dtypes[i] == pl.String) ]\n",
    "\n",
    "# Categorical columns\n",
    "cat_cols = [ df.columns[i] for i in range(len(df.columns)) if (df.columns[i] not in date_cols) and (df.dtypes[i] == pl.String) ]\n",
    "\n",
    "print(cat_cols)"
   ]
  },
  {
   "cell_type": "code",
   "execution_count": 11,
   "id": "72467a9b",
   "metadata": {},
   "outputs": [
    {
     "data": {
      "text/plain": [
       "(2973991, 24)"
      ]
     },
     "execution_count": 11,
     "metadata": {},
     "output_type": "execute_result"
    }
   ],
   "source": [
    "# Filtering on the categorical columns only \n",
    "train_person_1_cat = train_person_1.select(cat_cols)\n",
    "\n",
    "# shape\n",
    "train_person_1_cat.shape"
   ]
  },
  {
   "cell_type": "code",
   "execution_count": 14,
   "id": "ff87737f",
   "metadata": {},
   "outputs": [
    {
     "name": "stderr",
     "output_type": "stream",
     "text": [
      "C:\\Users\\laura\\AppData\\Local\\Temp\\ipykernel_16444\\1255951899.py:4: DeprecationWarning: `groupby` is deprecated. It has been renamed to `group_by`.\n",
      "  value_counts = train_person_1_cat.groupby(col).agg(pl.len().alias('count'))\n"
     ]
    }
   ],
   "source": [
    "# Frequency encoding for each categorical column\n",
    "for col in cat_cols:\n",
    "    # Calculate frequency for each category in the column\n",
    "    value_counts = train_person_1_cat.groupby(col).agg(pl.len().alias('count'))\n",
    "    total_count = train_person_1_cat.height  # Use height for row count in Polars\n",
    "    frequency = (value_counts.with_columns(\n",
    "                 (value_counts['count'] / total_count).alias(f'{col}_freq')\n",
    "                )\n",
    "                .select([col, f'{col}_freq']))\n",
    "    \n",
    "    # Joining the frequency DataFrame back to the original DataFrame\n",
    "    train_person_1_cat = train_person_1_cat.join(frequency, on=col, how='left')\n"
   ]
  },
  {
   "cell_type": "code",
   "execution_count": 15,
   "id": "eb747459",
   "metadata": {},
   "outputs": [],
   "source": [
    "# Initialize LabelEncoder\n",
    "le = LabelEncoder()\n",
    "\n",
    "# Binary encoding for each categorical column\n",
    "for col in cat_cols:\n",
    "    # Convert categories to integers using LabelEncoder from sklearn\n",
    "    encoded_int = le.fit_transform(train_person_1_cat[col].to_numpy())\n",
    "\n",
    "    # Convert the numpy array back to a Polars Series and rename it\n",
    "    encoded_series = pl.Series(encoded_int).alias(f\"{col}_int\")\n",
    "\n",
    "    # Add the integer encoded column to the DataFrame\n",
    "    train_person_1_cat = train_person_1_cat.with_columns(encoded_series)\n",
    "\n",
    "    # Calculate the maximum binary length\n",
    "    max_binary_length = encoded_series.max().bit_length()\n",
    "\n",
    "    # Create binary encoding directly\n",
    "    for bit_position in range(max_binary_length):\n",
    "        # Use bitwise operations directly within Polars\n",
    "        bit_value = (encoded_series / (2 ** bit_position)).cast(pl.Int64) & 1\n",
    "        train_person_1_cat = train_person_1_cat.with_columns(\n",
    "            bit_value.alias(f\"{col}_binary_{bit_position}\")\n",
    "        )"
   ]
  },
  {
   "cell_type": "code",
   "execution_count": 47,
   "id": "dc2c1a76",
   "metadata": {},
   "outputs": [
    {
     "data": {
      "text/html": [
       "<div><style>\n",
       ".dataframe > thead > tr,\n",
       ".dataframe > tbody > tr {\n",
       "  text-align: right;\n",
       "  white-space: pre-wrap;\n",
       "}\n",
       "</style>\n",
       "<small>shape: (5, 219)</small><table border=\"1\" class=\"dataframe\"><thead><tr><th>case_id</th><th>birth_259D</th><th>birthdate_87D</th><th>childnum_185L</th><th>contaddr_district_15M</th><th>contaddr_matchlist_1032L</th><th>contaddr_smempladdr_334L</th><th>contaddr_zipcode_807M</th><th>education_927M</th><th>empl_employedfrom_271D</th><th>empl_employedtotal_800L</th><th>empl_industry_691L</th><th>empladdr_district_926M</th><th>empladdr_zipcode_114M</th><th>familystate_447L</th><th>gender_992L</th><th>housetype_905L</th><th>housingtype_772L</th><th>incometype_1044T</th><th>isreference_387L</th><th>language1_981M</th><th>mainoccupationinc_384A</th><th>maritalst_703L</th><th>num_group1</th><th>personindex_1023L</th><th>persontype_1072L</th><th>persontype_792L</th><th>registaddr_district_1083M</th><th>registaddr_zipcode_184M</th><th>relationshiptoclient_415T</th><th>relationshiptoclient_642T</th><th>remitter_829L</th><th>role_1084L</th><th>role_993L</th><th>safeguarantyflag_411L</th><th>sex_738L</th><th>type_25L</th><th>&hellip;</th><th>registaddr_district_1083M_binary_2</th><th>registaddr_district_1083M_binary_3</th><th>registaddr_district_1083M_binary_4</th><th>registaddr_district_1083M_binary_5</th><th>registaddr_district_1083M_binary_6</th><th>registaddr_district_1083M_binary_7</th><th>registaddr_district_1083M_binary_8</th><th>registaddr_district_1083M_binary_9</th><th>registaddr_zipcode_184M_binary_0</th><th>registaddr_zipcode_184M_binary_1</th><th>registaddr_zipcode_184M_binary_2</th><th>registaddr_zipcode_184M_binary_3</th><th>registaddr_zipcode_184M_binary_4</th><th>registaddr_zipcode_184M_binary_5</th><th>registaddr_zipcode_184M_binary_6</th><th>registaddr_zipcode_184M_binary_7</th><th>registaddr_zipcode_184M_binary_8</th><th>registaddr_zipcode_184M_binary_9</th><th>registaddr_zipcode_184M_binary_10</th><th>registaddr_zipcode_184M_binary_11</th><th>relationshiptoclient_415T_binary_0</th><th>relationshiptoclient_415T_binary_1</th><th>relationshiptoclient_415T_binary_2</th><th>relationshiptoclient_415T_binary_3</th><th>relationshiptoclient_642T_binary_0</th><th>relationshiptoclient_642T_binary_1</th><th>relationshiptoclient_642T_binary_2</th><th>relationshiptoclient_642T_binary_3</th><th>role_1084L_binary_0</th><th>role_1084L_binary_1</th><th>role_993L_binary_0</th><th>sex_738L_binary_0</th><th>sex_738L_binary_1</th><th>type_25L_binary_0</th><th>type_25L_binary_1</th><th>type_25L_binary_2</th><th>type_25L_binary_3</th></tr><tr><td>i64</td><td>str</td><td>str</td><td>f64</td><td>str</td><td>bool</td><td>bool</td><td>str</td><td>str</td><td>str</td><td>str</td><td>str</td><td>str</td><td>str</td><td>str</td><td>str</td><td>str</td><td>str</td><td>str</td><td>bool</td><td>str</td><td>f64</td><td>str</td><td>i64</td><td>f64</td><td>f64</td><td>f64</td><td>str</td><td>str</td><td>str</td><td>str</td><td>bool</td><td>str</td><td>str</td><td>bool</td><td>str</td><td>str</td><td>&hellip;</td><td>i64</td><td>i64</td><td>i64</td><td>i64</td><td>i64</td><td>i64</td><td>i64</td><td>i64</td><td>i64</td><td>i64</td><td>i64</td><td>i64</td><td>i64</td><td>i64</td><td>i64</td><td>i64</td><td>i64</td><td>i64</td><td>i64</td><td>i64</td><td>i64</td><td>i64</td><td>i64</td><td>i64</td><td>i64</td><td>i64</td><td>i64</td><td>i64</td><td>i64</td><td>i64</td><td>i64</td><td>i64</td><td>i64</td><td>i64</td><td>i64</td><td>i64</td><td>i64</td></tr></thead><tbody><tr><td>0</td><td>&quot;1986-07-01&quot;</td><td>null</td><td>null</td><td>&quot;P88_18_84&quot;</td><td>false</td><td>false</td><td>&quot;P167_100_165&quot;</td><td>&quot;P97_36_170&quot;</td><td>&quot;2017-09-15&quot;</td><td>&quot;MORE_FIVE&quot;</td><td>&quot;OTHER&quot;</td><td>&quot;P142_57_166&quot;</td><td>&quot;P167_100_165&quot;</td><td>&quot;MARRIED&quot;</td><td>null</td><td>null</td><td>null</td><td>&quot;SALARIED_GOVT&quot;</td><td>null</td><td>&quot;P10_39_147&quot;</td><td>10800.0</td><td>null</td><td>0</td><td>0.0</td><td>1.0</td><td>1.0</td><td>&quot;P88_18_84&quot;</td><td>&quot;P167_100_165&quot;</td><td>null</td><td>null</td><td>null</td><td>&quot;CL&quot;</td><td>null</td><td>true</td><td>&quot;F&quot;</td><td>&quot;PRIMARY_MOBILE…</td><td>&hellip;</td><td>1</td><td>1</td><td>1</td><td>0</td><td>0</td><td>1</td><td>1</td><td>1</td><td>0</td><td>1</td><td>0</td><td>0</td><td>1</td><td>0</td><td>0</td><td>1</td><td>0</td><td>0</td><td>1</td><td>0</td><td>0</td><td>1</td><td>0</td><td>1</td><td>0</td><td>1</td><td>0</td><td>1</td><td>0</td><td>0</td><td>1</td><td>0</td><td>0</td><td>0</td><td>0</td><td>1</td><td>0</td></tr><tr><td>0</td><td>null</td><td>null</td><td>null</td><td>&quot;a55475b1&quot;</td><td>null</td><td>null</td><td>&quot;a55475b1&quot;</td><td>&quot;a55475b1&quot;</td><td>null</td><td>null</td><td>null</td><td>&quot;a55475b1&quot;</td><td>&quot;a55475b1&quot;</td><td>null</td><td>null</td><td>null</td><td>null</td><td>null</td><td>null</td><td>&quot;a55475b1&quot;</td><td>null</td><td>null</td><td>1</td><td>1.0</td><td>1.0</td><td>4.0</td><td>&quot;a55475b1&quot;</td><td>&quot;a55475b1&quot;</td><td>&quot;SPOUSE&quot;</td><td>null</td><td>false</td><td>&quot;EM&quot;</td><td>null</td><td>null</td><td>null</td><td>&quot;PHONE&quot;</td><td>&hellip;</td><td>1</td><td>1</td><td>1</td><td>0</td><td>1</td><td>1</td><td>1</td><td>1</td><td>0</td><td>1</td><td>0</td><td>1</td><td>0</td><td>0</td><td>1</td><td>1</td><td>1</td><td>0</td><td>1</td><td>1</td><td>1</td><td>0</td><td>0</td><td>1</td><td>0</td><td>1</td><td>0</td><td>1</td><td>1</td><td>0</td><td>1</td><td>0</td><td>1</td><td>0</td><td>1</td><td>0</td><td>0</td></tr><tr><td>0</td><td>null</td><td>null</td><td>null</td><td>&quot;a55475b1&quot;</td><td>null</td><td>null</td><td>&quot;a55475b1&quot;</td><td>&quot;a55475b1&quot;</td><td>null</td><td>null</td><td>null</td><td>&quot;a55475b1&quot;</td><td>&quot;a55475b1&quot;</td><td>null</td><td>null</td><td>null</td><td>null</td><td>null</td><td>null</td><td>&quot;a55475b1&quot;</td><td>null</td><td>null</td><td>2</td><td>2.0</td><td>4.0</td><td>5.0</td><td>&quot;a55475b1&quot;</td><td>&quot;a55475b1&quot;</td><td>&quot;COLLEAGUE&quot;</td><td>&quot;SPOUSE&quot;</td><td>false</td><td>&quot;PE&quot;</td><td>null</td><td>null</td><td>null</td><td>&quot;PHONE&quot;</td><td>&hellip;</td><td>1</td><td>1</td><td>1</td><td>0</td><td>1</td><td>1</td><td>1</td><td>1</td><td>0</td><td>1</td><td>0</td><td>1</td><td>0</td><td>0</td><td>1</td><td>1</td><td>1</td><td>0</td><td>1</td><td>1</td><td>1</td><td>0</td><td>0</td><td>0</td><td>1</td><td>0</td><td>0</td><td>1</td><td>0</td><td>1</td><td>1</td><td>0</td><td>1</td><td>0</td><td>1</td><td>0</td><td>0</td></tr><tr><td>0</td><td>null</td><td>null</td><td>null</td><td>&quot;a55475b1&quot;</td><td>null</td><td>null</td><td>&quot;a55475b1&quot;</td><td>&quot;a55475b1&quot;</td><td>null</td><td>null</td><td>null</td><td>&quot;a55475b1&quot;</td><td>&quot;a55475b1&quot;</td><td>null</td><td>null</td><td>null</td><td>null</td><td>null</td><td>null</td><td>&quot;a55475b1&quot;</td><td>null</td><td>null</td><td>3</td><td>null</td><td>5.0</td><td>null</td><td>&quot;a55475b1&quot;</td><td>&quot;a55475b1&quot;</td><td>null</td><td>&quot;COLLEAGUE&quot;</td><td>null</td><td>&quot;PE&quot;</td><td>null</td><td>null</td><td>null</td><td>&quot;PHONE&quot;</td><td>&hellip;</td><td>1</td><td>1</td><td>1</td><td>0</td><td>1</td><td>1</td><td>1</td><td>1</td><td>0</td><td>1</td><td>0</td><td>1</td><td>0</td><td>0</td><td>1</td><td>1</td><td>1</td><td>0</td><td>1</td><td>1</td><td>0</td><td>1</td><td>0</td><td>1</td><td>1</td><td>0</td><td>0</td><td>0</td><td>0</td><td>1</td><td>1</td><td>0</td><td>1</td><td>0</td><td>1</td><td>0</td><td>0</td></tr><tr><td>1</td><td>&quot;1957-08-01&quot;</td><td>null</td><td>null</td><td>&quot;P103_93_94&quot;</td><td>false</td><td>false</td><td>&quot;P176_37_166&quot;</td><td>&quot;P97_36_170&quot;</td><td>&quot;2008-10-29&quot;</td><td>&quot;MORE_FIVE&quot;</td><td>&quot;OTHER&quot;</td><td>&quot;P49_46_174&quot;</td><td>&quot;P160_59_140&quot;</td><td>&quot;DIVORCED&quot;</td><td>null</td><td>null</td><td>null</td><td>&quot;SALARIED_GOVT&quot;</td><td>null</td><td>&quot;P10_39_147&quot;</td><td>10000.0</td><td>null</td><td>0</td><td>0.0</td><td>1.0</td><td>1.0</td><td>&quot;P103_93_94&quot;</td><td>&quot;P176_37_166&quot;</td><td>null</td><td>null</td><td>null</td><td>&quot;CL&quot;</td><td>null</td><td>true</td><td>&quot;M&quot;</td><td>&quot;PRIMARY_MOBILE…</td><td>&hellip;</td><td>0</td><td>0</td><td>1</td><td>0</td><td>0</td><td>0</td><td>0</td><td>0</td><td>0</td><td>0</td><td>1</td><td>0</td><td>0</td><td>1</td><td>0</td><td>0</td><td>1</td><td>0</td><td>1</td><td>0</td><td>0</td><td>1</td><td>0</td><td>1</td><td>0</td><td>1</td><td>0</td><td>1</td><td>0</td><td>0</td><td>1</td><td>1</td><td>0</td><td>0</td><td>0</td><td>1</td><td>0</td></tr></tbody></table></div>"
      ],
      "text/plain": [
       "shape: (5, 219)\n",
       "┌─────────┬────────────┬───────────┬───────────┬───┬───────────┬───────────┬───────────┬───────────┐\n",
       "│ case_id ┆ birth_259D ┆ birthdate ┆ childnum_ ┆ … ┆ type_25L_ ┆ type_25L_ ┆ type_25L_ ┆ type_25L_ │\n",
       "│ ---     ┆ ---        ┆ _87D      ┆ 185L      ┆   ┆ binary_0  ┆ binary_1  ┆ binary_2  ┆ binary_3  │\n",
       "│ i64     ┆ str        ┆ ---       ┆ ---       ┆   ┆ ---       ┆ ---       ┆ ---       ┆ ---       │\n",
       "│         ┆            ┆ str       ┆ f64       ┆   ┆ i64       ┆ i64       ┆ i64       ┆ i64       │\n",
       "╞═════════╪════════════╪═══════════╪═══════════╪═══╪═══════════╪═══════════╪═══════════╪═══════════╡\n",
       "│ 0       ┆ 1986-07-01 ┆ null      ┆ null      ┆ … ┆ 0         ┆ 0         ┆ 1         ┆ 0         │\n",
       "│ 0       ┆ null       ┆ null      ┆ null      ┆ … ┆ 0         ┆ 1         ┆ 0         ┆ 0         │\n",
       "│ 0       ┆ null       ┆ null      ┆ null      ┆ … ┆ 0         ┆ 1         ┆ 0         ┆ 0         │\n",
       "│ 0       ┆ null       ┆ null      ┆ null      ┆ … ┆ 0         ┆ 1         ┆ 0         ┆ 0         │\n",
       "│ 1       ┆ 1957-08-01 ┆ null      ┆ null      ┆ … ┆ 0         ┆ 0         ┆ 1         ┆ 0         │\n",
       "└─────────┴────────────┴───────────┴───────────┴───┴───────────┴───────────┴───────────┴───────────┘"
      ]
     },
     "execution_count": 47,
     "metadata": {},
     "output_type": "execute_result"
    }
   ],
   "source": [
    "train_person_1_cat.head()"
   ]
  },
  {
   "cell_type": "code",
   "execution_count": 16,
   "id": "a441f4bd",
   "metadata": {},
   "outputs": [],
   "source": [
    "# Drop the original categorical columns from the DataFrame\n",
    "train_person_1_cat = train_person_1_cat.drop(cat_cols)"
   ]
  },
  {
   "cell_type": "code",
   "execution_count": null,
   "id": "af511383",
   "metadata": {},
   "outputs": [],
   "source": [
    "df_person_1_cat.write_parquet('../data/train_person_1_cat.parquet')"
   ]
  },
  {
   "cell_type": "markdown",
   "id": "13c2f6d1",
   "metadata": {},
   "source": [
    "### Person 2 Procesing"
   ]
  },
  {
   "cell_type": "code",
   "execution_count": 17,
   "id": "1a58a455",
   "metadata": {},
   "outputs": [],
   "source": [
    "df = train_person_2\n",
    "# Date columns\n",
    "date_cols = [ df.columns[i] for i in range(len(df.columns)) if (df.columns[i].__contains__('dat')) and (df.dtypes[i] == pl.String) ]\n",
    "\n",
    "# Categorical columns\n",
    "cat_cols = [ df.columns[i] for i in range(len(df.columns)) if (df.columns[i] not in date_cols) and (df.dtypes[i] == pl.String) ]"
   ]
  },
  {
   "cell_type": "code",
   "execution_count": 18,
   "id": "659c1e81",
   "metadata": {},
   "outputs": [
    {
     "data": {
      "text/plain": [
       "(1643410, 8)"
      ]
     },
     "execution_count": 18,
     "metadata": {},
     "output_type": "execute_result"
    }
   ],
   "source": [
    "# Filtering on the categorical columns only \n",
    "train_person_2_cat = train_person_2.select(cat_cols)\n",
    "\n",
    "# shape\n",
    "train_person_2_cat.shape"
   ]
  },
  {
   "cell_type": "code",
   "execution_count": 19,
   "id": "819b46b0",
   "metadata": {},
   "outputs": [
    {
     "name": "stderr",
     "output_type": "stream",
     "text": [
      "C:\\Users\\laura\\AppData\\Local\\Temp\\ipykernel_16444\\1746360435.py:4: DeprecationWarning: `groupby` is deprecated. It has been renamed to `group_by`.\n",
      "  value_counts = train_person_2_cat.groupby(col).agg(pl.len().alias('count'))\n"
     ]
    }
   ],
   "source": [
    "# Frequency encoding for each categorical column\n",
    "for col in cat_cols:\n",
    "    # Calculate frequency for each category in the column\n",
    "    value_counts = train_person_2_cat.groupby(col).agg(pl.len().alias('count'))\n",
    "    total_count = train_person_2_cat.height  # Use height for row count in Polars\n",
    "    frequency = (value_counts.with_columns(\n",
    "                 (value_counts['count'] / total_count).alias(f'{col}_freq')\n",
    "                )\n",
    "                .select([col, f'{col}_freq']))\n",
    "    \n",
    "    # Joining the frequency DataFrame back to the original DataFrame\n",
    "    train_person_2_cat = train_person_2_cat.join(frequency, on=col, how='left')\n"
   ]
  },
  {
   "cell_type": "code",
   "execution_count": 20,
   "id": "450b28a8",
   "metadata": {},
   "outputs": [],
   "source": [
    "# Initialize LabelEncoder\n",
    "le = LabelEncoder()\n",
    "\n",
    "# Binary encoding for each categorical column\n",
    "for col in cat_cols:\n",
    "    # Convert categories to integers using LabelEncoder from sklearn\n",
    "    encoded_int = le.fit_transform(train_person_2_cat[col].to_numpy())\n",
    "\n",
    "    # Convert the numpy array back to a Polars Series and rename it\n",
    "    encoded_series = pl.Series(encoded_int).alias(f\"{col}_int\")\n",
    "\n",
    "    # Add the integer encoded column to the DataFrame\n",
    "    train_person_2_cat = train_person_2_cat.with_columns(encoded_series)\n",
    "\n",
    "    # Calculate the maximum binary length\n",
    "    max_binary_length = encoded_series.max().bit_length()\n",
    "\n",
    "    # Create binary encoding directly\n",
    "    for bit_position in range(max_binary_length):\n",
    "        # Use bitwise operations directly within Polars\n",
    "        bit_value = (encoded_series / (2 ** bit_position)).cast(pl.Int64) & 1\n",
    "        train_person_2_cat = train_person_2_cat.with_columns(\n",
    "            bit_value.alias(f\"{col}_binary_{bit_position}\")\n",
    "        )"
   ]
  },
  {
   "cell_type": "code",
   "execution_count": 21,
   "id": "7fa45e39",
   "metadata": {},
   "outputs": [],
   "source": [
    "# Drop the original categorical columns from the DataFrame\n",
    "train_person_2_cat = train_person_2_cat.drop(cat_cols)"
   ]
  },
  {
   "cell_type": "code",
   "execution_count": 9,
   "id": "81a222fd",
   "metadata": {},
   "outputs": [],
   "source": [
    "df_person_2_cat.head()\n",
    "\n",
    "df_person_2_cat.write_parquet('../data/train_person_2_cat.parquet')"
   ]
  }
 ],
 "metadata": {
  "kaggle": {
   "accelerator": "none",
   "dataSources": [
    {
     "databundleVersionId": 7493015,
     "sourceId": 50160,
     "sourceType": "competition"
    }
   ],
   "dockerImageVersionId": 30635,
   "isGpuEnabled": false,
   "isInternetEnabled": false,
   "language": "python",
   "sourceType": "notebook"
  },
  "kernelspec": {
   "display_name": "Python 3",
   "language": "python",
   "name": "python3"
  },
  "language_info": {
   "codemirror_mode": {
    "name": "ipython",
    "version": 3
   },
   "file_extension": ".py",
   "mimetype": "text/x-python",
   "name": "python",
   "nbconvert_exporter": "python",
   "pygments_lexer": "ipython3",
   "version": "3.11.7"
  },
  "papermill": {
   "default_parameters": {},
   "duration": 145.018038,
   "end_time": "2024-02-07T21:30:18.166484",
   "environment_variables": {},
   "exception": null,
   "input_path": "__notebook__.ipynb",
   "output_path": "__notebook__.ipynb",
   "parameters": {},
   "start_time": "2024-02-07T21:27:53.148446",
   "version": "2.4.0"
  }
 },
 "nbformat": 4,
 "nbformat_minor": 5
}
