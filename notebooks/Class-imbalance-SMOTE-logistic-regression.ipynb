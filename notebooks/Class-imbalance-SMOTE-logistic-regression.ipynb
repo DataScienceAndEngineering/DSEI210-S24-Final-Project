{
 "cells": [
  {
   "cell_type": "code",
   "execution_count": 1,
   "id": "ec16a6a7-ff40-40a2-9fd7-4ff02fa004dc",
   "metadata": {},
   "outputs": [
    {
     "name": "stdout",
     "output_type": "stream",
     "text": [
      "Requirement already satisfied: requests in ./anaconda3/lib/python3.11/site-packages (2.31.0)\n",
      "Requirement already satisfied: charset-normalizer<4,>=2 in ./anaconda3/lib/python3.11/site-packages (from requests) (2.0.4)\n",
      "Requirement already satisfied: idna<4,>=2.5 in ./anaconda3/lib/python3.11/site-packages (from requests) (3.4)\n",
      "Requirement already satisfied: urllib3<3,>=1.21.1 in ./anaconda3/lib/python3.11/site-packages (from requests) (2.0.7)\n",
      "Requirement already satisfied: certifi>=2017.4.17 in ./anaconda3/lib/python3.11/site-packages (from requests) (2024.2.2)\n",
      "Note: you may need to restart the kernel to use updated packages.\n"
     ]
    }
   ],
   "source": [
    "pip install requests"
   ]
  },
  {
   "cell_type": "code",
   "execution_count": 2,
   "id": "2eeaa8fb-b68d-4b86-a9b5-e1b5164d664d",
   "metadata": {},
   "outputs": [
    {
     "name": "stdout",
     "output_type": "stream",
     "text": [
      "Notebook downloaded successfully.\n"
     ]
    }
   ],
   "source": [
    "import requests\n",
    "\n",
    "# URL of the notebook raw file\n",
    "url = \"https://raw.githubusercontent.com/adnanarnaout/machine-learning-dse-i210-final-project-nyc-car-accident-severity/main/notebooks/Establish-baseline-logistic-regression-model-AA.ipynb\"\n",
    "\n",
    "# Make a GET request to fetch the raw content of the notebook\n",
    "r = requests.get(url)\n",
    "if r.status_code == 200:\n",
    "    # Saving the notebook\n",
    "    with open('local_notebook.ipynb', 'wb') as f:\n",
    "        f.write(r.content)\n",
    "    print(\"Notebook downloaded successfully.\")\n",
    "else:\n",
    "    print(\"Failed to download the notebook. Status code:\", r.status_code)\n"
   ]
  },
  {
   "cell_type": "code",
   "execution_count": 3,
   "id": "86cce6f3-90ea-4fa2-8807-69e9be98ff33",
   "metadata": {},
   "outputs": [
    {
     "name": "stdout",
     "output_type": "stream",
     "text": [
      "<class 'pandas.core.frame.DataFrame'>\n",
      "RangeIndex: 1057417 entries, 0 to 1057416\n",
      "Data columns (total 15 columns):\n",
      " #   Column                         Non-Null Count    Dtype  \n",
      "---  ------                         --------------    -----  \n",
      " 0   CRASH DATE                     1057417 non-null  object \n",
      " 1   CRASH TIME                     1057417 non-null  object \n",
      " 2   LATITUDE                       1057417 non-null  float64\n",
      " 3   LONGITUDE                      1057417 non-null  float64\n",
      " 4   CONTRIBUTING FACTOR VEHICLE 1  1057417 non-null  object \n",
      " 5   CONTRIBUTING FACTOR VEHICLE 2  1057417 non-null  object \n",
      " 6   CONTRIBUTING FACTOR VEHICLE 3  1057417 non-null  object \n",
      " 7   CONTRIBUTING FACTOR VEHICLE 4  1057417 non-null  object \n",
      " 8   CONTRIBUTING FACTOR VEHICLE 5  1057417 non-null  object \n",
      " 9   VEHICLE TYPE CODE 1            1057417 non-null  object \n",
      " 10  VEHICLE TYPE CODE 2            1057417 non-null  object \n",
      " 11  VEHICLE TYPE CODE 3            1057417 non-null  object \n",
      " 12  VEHICLE TYPE CODE 4            1057417 non-null  object \n",
      " 13  VEHICLE TYPE CODE 5            1057417 non-null  object \n",
      " 14  CLASS TYPE                     1057417 non-null  object \n",
      "dtypes: float64(2), object(13)\n",
      "memory usage: 121.0+ MB\n"
     ]
    },
    {
     "name": "stderr",
     "output_type": "stream",
     "text": [
      "/var/folders/wt/m5y59zzs6md5sgv_pfb_w9tm0000gn/T/ipykernel_18174/4059920979.py:9: UserWarning: Could not infer format, so each element will be parsed individually, falling back to `dateutil`. To ensure parsing is consistent and as-expected, please specify a format.\n",
      "  mvc_processed['temp_datetime'] = pd.to_datetime(mvc_processed['CRASH TIME'].astype(str))\n",
      "/Users/adnanarnaout/anaconda3/lib/python3.11/site-packages/sklearn/linear_model/_logistic.py:458: ConvergenceWarning: lbfgs failed to converge (status=1):\n",
      "STOP: TOTAL NO. of ITERATIONS REACHED LIMIT.\n",
      "\n",
      "Increase the number of iterations (max_iter) or scale the data as shown in:\n",
      "    https://scikit-learn.org/stable/modules/preprocessing.html\n",
      "Please also refer to the documentation for alternative solver options:\n",
      "    https://scikit-learn.org/stable/modules/linear_model.html#logistic-regression\n",
      "  n_iter_i = _check_optimize_result(\n"
     ]
    },
    {
     "name": "stdout",
     "output_type": "stream",
     "text": [
      "Accuracy: 0.8146762875678538\n",
      "Confusion Matrix:\n",
      " [[159760   5079      0      0]\n",
      " [ 33727  12531      0      0]\n",
      " [   179     27      0      0]\n",
      " [   101     80      0      0]]\n",
      "Classification Report:\n",
      "               precision    recall  f1-score   support\n",
      "\n",
      "           0       0.82      0.97      0.89    164839\n",
      "           1       0.71      0.27      0.39     46258\n",
      "           2       0.00      0.00      0.00       206\n",
      "           3       0.00      0.00      0.00       181\n",
      "\n",
      "    accuracy                           0.81    211484\n",
      "   macro avg       0.38      0.31      0.32    211484\n",
      "weighted avg       0.80      0.81      0.78    211484\n",
      "\n"
     ]
    },
    {
     "name": "stderr",
     "output_type": "stream",
     "text": [
      "/Users/adnanarnaout/anaconda3/lib/python3.11/site-packages/sklearn/metrics/_classification.py:1344: UndefinedMetricWarning: Precision and F-score are ill-defined and being set to 0.0 in labels with no predicted samples. Use `zero_division` parameter to control this behavior.\n",
      "  _warn_prf(average, modifier, msg_start, len(result))\n",
      "/Users/adnanarnaout/anaconda3/lib/python3.11/site-packages/sklearn/metrics/_classification.py:1344: UndefinedMetricWarning: Precision and F-score are ill-defined and being set to 0.0 in labels with no predicted samples. Use `zero_division` parameter to control this behavior.\n",
      "  _warn_prf(average, modifier, msg_start, len(result))\n",
      "/Users/adnanarnaout/anaconda3/lib/python3.11/site-packages/sklearn/metrics/_classification.py:1344: UndefinedMetricWarning: Precision and F-score are ill-defined and being set to 0.0 in labels with no predicted samples. Use `zero_division` parameter to control this behavior.\n",
      "  _warn_prf(average, modifier, msg_start, len(result))\n"
     ]
    }
   ],
   "source": [
    "%run './local_notebook.ipynb'"
   ]
  },
  {
   "cell_type": "code",
   "execution_count": 5,
   "id": "500898ca-6c4b-4ddb-936c-7a41f3bfcb1e",
   "metadata": {},
   "outputs": [
    {
     "name": "stdout",
     "output_type": "stream",
     "text": [
      "CLASS TYPE\n",
      "Class 0    824193\n",
      "Class 1    231289\n",
      "Class 2      1030\n",
      "Class 3       905\n",
      "Name: count, dtype: int64\n",
      "CLASS TYPE\n",
      "Class 0    77.943990\n",
      "Class 1    21.873017\n",
      "Class 2     0.097407\n",
      "Class 3     0.085586\n",
      "Name: proportion, dtype: float64\n"
     ]
    }
   ],
   "source": [
    "import pandas as pd\n",
    "\n",
    "# Checking for class imbalance\n",
    "class_counts = mvc_processed['CLASS TYPE'].value_counts()\n",
    "print(class_counts)\n",
    "\n",
    "# Calculate the percentage of each class\n",
    "class_percentage = mvc_processed['CLASS TYPE'].value_counts(normalize=True) * 100\n",
    "print(class_percentage)"
   ]
  },
  {
   "cell_type": "code",
   "execution_count": 6,
   "id": "90859231-bf4e-4565-b329-9c52000c3467",
   "metadata": {},
   "outputs": [
    {
     "data": {
      "image/png": "[encoded data removed]",
      "text/plain": [
       "<Figure size 640x480 with 1 Axes>"
      ]
     },
     "metadata": {},
     "output_type": "display_data"
    }
   ],
   "source": [
    "import matplotlib.pyplot as plt\n",
    "\n",
    "# Plotting the distribution of the class\n",
    "mvc_processed['CLASS TYPE'].value_counts().plot(kind='bar')\n",
    "plt.xlabel('Class')\n",
    "plt.ylabel('Frequency')\n",
    "plt.title('Class Distribution')\n",
    "plt.show()\n"
   ]
  },
  {
   "cell_type": "code",
   "execution_count": 8,
   "id": "81b24d29-7928-4923-9015-c8d61f103310",
   "metadata": {},
   "outputs": [],
   "source": [
    "# Apply SMOTE to training data to oversample minority classes\n",
    "from imblearn.over_sampling import SMOTE\n",
    "\n",
    "smote = SMOTE(random_state=42)\n",
    "X_train_resampled, y_train_resampled = smote.fit_resample(X_train_scaled, y_train)"
   ]
  },
  {
   "cell_type": "code",
   "execution_count": 9,
   "id": "c6128af6-3329-4b37-93ea-63c8dedfcb1f",
   "metadata": {},
   "outputs": [
    {
     "name": "stderr",
     "output_type": "stream",
     "text": [
      "/Users/adnanarnaout/anaconda3/lib/python3.11/site-packages/sklearn/linear_model/_logistic.py:458: ConvergenceWarning: lbfgs failed to converge (status=1):\n",
      "STOP: TOTAL NO. of ITERATIONS REACHED LIMIT.\n",
      "\n",
      "Increase the number of iterations (max_iter) or scale the data as shown in:\n",
      "    https://scikit-learn.org/stable/modules/preprocessing.html\n",
      "Please also refer to the documentation for alternative solver options:\n",
      "    https://scikit-learn.org/stable/modules/linear_model.html#logistic-regression\n",
      "  n_iter_i = _check_optimize_result(\n"
     ]
    },
    {
     "name": "stdout",
     "output_type": "stream",
     "text": [
      "0.4693404702010554\n",
      "              precision    recall  f1-score   support\n",
      "\n",
      "           0       0.89      0.54      0.67    164839\n",
      "           1       0.38      0.20      0.26     46258\n",
      "           2       0.00      0.54      0.00       206\n",
      "           3       0.00      0.80      0.01       181\n",
      "\n",
      "    accuracy                           0.47    211484\n",
      "   macro avg       0.32      0.52      0.24    211484\n",
      "weighted avg       0.77      0.47      0.58    211484\n",
      "\n"
     ]
    }
   ],
   "source": [
    "# Logistic Regression model training\n",
    "\n",
    "from sklearn.linear_model import LogisticRegression\n",
    "from sklearn.metrics import classification_report, accuracy_score\n",
    "\n",
    "# Train model\n",
    "model = LogisticRegression()\n",
    "model.fit(X_train_resampled, y_train_resampled)\n",
    "\n",
    "# Predict on the original test set (not resampled)\n",
    "y_pred = model.predict(X_test_scaled)\n",
    "\n",
    "# Evaluate model\n",
    "print(accuracy_score(y_test, y_pred))\n",
    "print(classification_report(y_test, y_pred))\n"
   ]
  },
  {
   "cell_type": "code",
   "execution_count": null,
   "id": "350eb14e-d0b3-4681-8103-8923b187e12e",
   "metadata": {},
   "outputs": [],
   "source": []
  }
 ],
 "metadata": {
  "kernelspec": {
   "display_name": "Python 3 (ipykernel)",
   "language": "python",
   "name": "python3"
  },
  "language_info": {
   "codemirror_mode": {
    "name": "ipython",
    "version": 3
   },
   "file_extension": ".py",
   "mimetype": "text/x-python",
   "name": "python",
   "nbconvert_exporter": "python",
   "pygments_lexer": "ipython3",
   "version": "3.11.8"
  }
 },
 "nbformat": 4,
 "nbformat_minor": 5
}
