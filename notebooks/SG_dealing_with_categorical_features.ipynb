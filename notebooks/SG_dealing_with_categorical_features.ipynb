{
 "cells": [
  {
   "cell_type": "markdown",
   "metadata": {},
   "source": [
    "### Data Preprocessing"
   ]
  },
  {
   "cell_type": "markdown",
   "metadata": {},
   "source": [
    "Dealing with the categorical features and tried out some transformations on a previous application 1 file which is grouped by num_group1=0.\n",
    "\n",
    "\n",
    "**One-hot encoding:** It is used when the categorical feature is not ordinal (i.e., the categories do not have any order) and when the number of categorical values is low enough to handle the increase in feature space.\n",
    "\n",
    "**Frequency encoding:** Frequency encoding replaces each category with the frequency or count of that category in the dataset. This method groups the categories by their frequencies.\n",
    "\n",
    "**Label encoding:** It is effective when the frequency of categories is important for the prediction or when dealing with a high number of categories where one-hot encoding might lead to memory issues."
   ]
  },
  {
   "cell_type": "code",
   "execution_count": 9,
   "metadata": {},
   "outputs": [],
   "source": [
    "import warnings\n",
    "warnings.filterwarnings(\"ignore\")\n",
    "\n",
    "import pandas as pd\n",
    "import numpy as np\n",
    "from sklearn.preprocessing import OneHotEncoder\n",
    "from category_encoders import TargetEncoder\n",
    "from sklearn.decomposition import TruncatedSVD\n",
    "from sklearn.preprocessing import LabelEncoder\n",
    "from sklearn.decomposition import PCA\n",
    "import polars as pl"
   ]
  },
  {
   "cell_type": "code",
   "execution_count": 10,
   "metadata": {},
   "outputs": [],
   "source": [
    "df1 = pd.read_parquet(\"new_aggs/new_aggs/train_applprev_1_grouped_0.parquet\")"
   ]
  },
  {
   "cell_type": "code",
   "execution_count": 14,
   "metadata": {},
   "outputs": [],
   "source": [
    "# Load a Parquet file into a Polars DataFrame\n",
    "df2 = pl.read_parquet(\"new_aggs/new_aggs/train_applprev_1_grouped_0.parquet\")"
   ]
  },
  {
   "cell_type": "code",
   "execution_count": 15,
   "metadata": {},
   "outputs": [
    {
     "data": {
      "text/html": [
       "<div><style>\n",
       ".dataframe > thead > tr,\n",
       ".dataframe > tbody > tr {\n",
       "  text-align: right;\n",
       "  white-space: pre-wrap;\n",
       "}\n",
       "</style>\n",
       "<small>shape: (5, 41)</small><table border=\"1\" class=\"dataframe\"><thead><tr><th>case_id</th><th>actualdpd_943P</th><th>annuity_853A</th><th>approvaldate_319D</th><th>byoccupationinc_3656910L</th><th>cancelreason_3545846M</th><th>childnum_21L</th><th>creationdate_885D</th><th>credacc_actualbalance_314A</th><th>credacc_credlmt_575A</th><th>credacc_maxhisbal_375A</th><th>credacc_minhisbal_90A</th><th>credacc_status_367L</th><th>credacc_transactions_402L</th><th>credamount_590A</th><th>credtype_587L</th><th>currdebt_94A</th><th>dateactivated_425D</th><th>district_544M</th><th>downpmt_134A</th><th>dtlastpmt_581D</th><th>dtlastpmtallstes_3545839D</th><th>education_1138M</th><th>employedfrom_700D</th><th>familystate_726L</th><th>firstnonzeroinstldate_307D</th><th>inittransactioncode_279L</th><th>isbidproduct_390L</th><th>isdebitcard_527L</th><th>mainoccupationinc_437A</th><th>maxdpdtolerance_577P</th><th>num_group1</th><th>outstandingdebt_522A</th><th>pmtnum_8L</th><th>postype_4733339M</th><th>profession_152M</th><th>rejectreason_755M</th><th>rejectreasonclient_4145042M</th><th>revolvingaccount_394A</th><th>status_219L</th><th>tenor_203L</th></tr><tr><td>i64</td><td>f64</td><td>f64</td><td>str</td><td>f64</td><td>str</td><td>f64</td><td>str</td><td>f64</td><td>f64</td><td>f64</td><td>f64</td><td>str</td><td>f64</td><td>f64</td><td>str</td><td>f64</td><td>str</td><td>str</td><td>f64</td><td>str</td><td>str</td><td>str</td><td>str</td><td>str</td><td>str</td><td>str</td><td>bool</td><td>bool</td><td>f64</td><td>f64</td><td>i64</td><td>f64</td><td>f64</td><td>str</td><td>str</td><td>str</td><td>str</td><td>f64</td><td>str</td><td>f64</td></tr></thead><tbody><tr><td>2</td><td>0.0</td><td>640.2</td><td>null</td><td>null</td><td>&quot;a55475b1&quot;</td><td>0.0</td><td>&quot;2013-04-03&quot;</td><td>null</td><td>0.0</td><td>null</td><td>null</td><td>null</td><td>null</td><td>10000.0</td><td>&quot;CAL&quot;</td><td>null</td><td>null</td><td>&quot;P136_108_173&quot;</td><td>0.0</td><td>null</td><td>null</td><td>&quot;P97_36_170&quot;</td><td>&quot;2010-02-15&quot;</td><td>&quot;SINGLE&quot;</td><td>&quot;2013-05-04&quot;</td><td>&quot;CASH&quot;</td><td>false</td><td>null</td><td>8200.0</td><td>null</td><td>0</td><td>null</td><td>24.0</td><td>&quot;a55475b1&quot;</td><td>&quot;a55475b1&quot;</td><td>&quot;a55475b1&quot;</td><td>&quot;a55475b1&quot;</td><td>null</td><td>&quot;D&quot;</td><td>24.0</td></tr><tr><td>2</td><td>0.0</td><td>1682.4</td><td>null</td><td>null</td><td>&quot;a55475b1&quot;</td><td>0.0</td><td>&quot;2013-04-03&quot;</td><td>null</td><td>0.0</td><td>null</td><td>null</td><td>null</td><td>null</td><td>16000.0</td><td>&quot;CAL&quot;</td><td>null</td><td>null</td><td>&quot;P136_108_173&quot;</td><td>0.0</td><td>null</td><td>null</td><td>&quot;P97_36_170&quot;</td><td>&quot;2010-02-15&quot;</td><td>&quot;SINGLE&quot;</td><td>&quot;2013-05-04&quot;</td><td>&quot;CASH&quot;</td><td>false</td><td>null</td><td>8200.0</td><td>null</td><td>1</td><td>null</td><td>12.0</td><td>&quot;a55475b1&quot;</td><td>&quot;a55475b1&quot;</td><td>&quot;a55475b1&quot;</td><td>&quot;a55475b1&quot;</td><td>null</td><td>&quot;D&quot;</td><td>12.0</td></tr><tr><td>3</td><td>0.0</td><td>6140.0</td><td>null</td><td>null</td><td>&quot;P94_109_143&quot;</td><td>null</td><td>&quot;2019-01-07&quot;</td><td>null</td><td>0.0</td><td>null</td><td>null</td><td>null</td><td>null</td><td>59999.8</td><td>&quot;CAL&quot;</td><td>null</td><td>null</td><td>&quot;P131_33_167&quot;</td><td>0.0</td><td>null</td><td>null</td><td>&quot;P97_36_170&quot;</td><td>&quot;2018-05-15&quot;</td><td>&quot;MARRIED&quot;</td><td>&quot;2019-02-07&quot;</td><td>&quot;CASH&quot;</td><td>false</td><td>null</td><td>11000.0</td><td>null</td><td>0</td><td>null</td><td>12.0</td><td>&quot;a55475b1&quot;</td><td>&quot;a55475b1&quot;</td><td>&quot;P94_109_143&quot;</td><td>&quot;a55475b1&quot;</td><td>null</td><td>&quot;D&quot;</td><td>12.0</td></tr><tr><td>4</td><td>0.0</td><td>2556.6</td><td>null</td><td>null</td><td>&quot;P24_27_36&quot;</td><td>null</td><td>&quot;2019-01-08&quot;</td><td>null</td><td>0.0</td><td>null</td><td>null</td><td>null</td><td>null</td><td>40000.0</td><td>&quot;CAL&quot;</td><td>null</td><td>null</td><td>&quot;P194_82_174&quot;</td><td>0.0</td><td>null</td><td>null</td><td>&quot;a55475b1&quot;</td><td>null</td><td>null</td><td>&quot;2019-02-08&quot;</td><td>&quot;CASH&quot;</td><td>false</td><td>null</td><td>16000.0</td><td>null</td><td>0</td><td>null</td><td>24.0</td><td>&quot;a55475b1&quot;</td><td>&quot;a55475b1&quot;</td><td>&quot;a55475b1&quot;</td><td>&quot;a55475b1&quot;</td><td>null</td><td>&quot;T&quot;</td><td>24.0</td></tr><tr><td>5</td><td>0.0</td><td>null</td><td>null</td><td>null</td><td>&quot;P85_114_140&quot;</td><td>null</td><td>&quot;2019-01-16&quot;</td><td>null</td><td>null</td><td>null</td><td>null</td><td>null</td><td>null</td><td>null</td><td>null</td><td>null</td><td>null</td><td>&quot;P54_133_26&quot;</td><td>null</td><td>null</td><td>null</td><td>&quot;a55475b1&quot;</td><td>null</td><td>null</td><td>null</td><td>null</td><td>false</td><td>null</td><td>62000.0</td><td>null</td><td>0</td><td>null</td><td>null</td><td>&quot;a55475b1&quot;</td><td>&quot;a55475b1&quot;</td><td>&quot;a55475b1&quot;</td><td>&quot;a55475b1&quot;</td><td>null</td><td>&quot;T&quot;</td><td>null</td></tr></tbody></table></div>"
      ],
      "text/plain": [
       "shape: (5, 41)\n",
       "┌─────────┬────────────┬───────────┬───────────┬───┬───────────┬───────────┬───────────┬───────────┐\n",
       "│ case_id ┆ actualdpd_ ┆ annuity_8 ┆ approvald ┆ … ┆ rejectrea ┆ revolving ┆ status_21 ┆ tenor_203 │\n",
       "│ ---     ┆ 943P       ┆ 53A       ┆ ate_319D  ┆   ┆ sonclient ┆ account_3 ┆ 9L        ┆ L         │\n",
       "│ i64     ┆ ---        ┆ ---       ┆ ---       ┆   ┆ _4145042M ┆ 94A       ┆ ---       ┆ ---       │\n",
       "│         ┆ f64        ┆ f64       ┆ str       ┆   ┆ ---       ┆ ---       ┆ str       ┆ f64       │\n",
       "│         ┆            ┆           ┆           ┆   ┆ str       ┆ f64       ┆           ┆           │\n",
       "╞═════════╪════════════╪═══════════╪═══════════╪═══╪═══════════╪═══════════╪═══════════╪═══════════╡\n",
       "│ 2       ┆ 0.0        ┆ 640.2     ┆ null      ┆ … ┆ a55475b1  ┆ null      ┆ D         ┆ 24.0      │\n",
       "│ 2       ┆ 0.0        ┆ 1682.4    ┆ null      ┆ … ┆ a55475b1  ┆ null      ┆ D         ┆ 12.0      │\n",
       "│ 3       ┆ 0.0        ┆ 6140.0    ┆ null      ┆ … ┆ a55475b1  ┆ null      ┆ D         ┆ 12.0      │\n",
       "│ 4       ┆ 0.0        ┆ 2556.6    ┆ null      ┆ … ┆ a55475b1  ┆ null      ┆ T         ┆ 24.0      │\n",
       "│ 5       ┆ 0.0        ┆ null      ┆ null      ┆ … ┆ a55475b1  ┆ null      ┆ T         ┆ null      │\n",
       "└─────────┴────────────┴───────────┴───────────┴───┴───────────┴───────────┴───────────┴───────────┘"
      ]
     },
     "execution_count": 15,
     "metadata": {},
     "output_type": "execute_result"
    }
   ],
   "source": [
    "df2.head()"
   ]
  },
  {
   "cell_type": "code",
   "execution_count": 4,
   "metadata": {},
   "outputs": [
    {
     "data": {
      "text/plain": [
       "(6525979, 41)"
      ]
     },
     "execution_count": 4,
     "metadata": {},
     "output_type": "execute_result"
    }
   ],
   "source": [
    "df1.shape"
   ]
  },
  {
   "cell_type": "markdown",
   "metadata": {},
   "source": [
    "### Convert the date columns to date datatype and then separate the days, month and year columns"
   ]
  },
  {
   "cell_type": "code",
   "execution_count": 5,
   "metadata": {},
   "outputs": [
    {
     "name": "stdout",
     "output_type": "stream",
     "text": [
      "approvaldate_319D             datetime64[ns]\n",
      "creationdate_885D             datetime64[ns]\n",
      "dateactivated_425D            datetime64[ns]\n",
      "dtlastpmt_581D                datetime64[ns]\n",
      "dtlastpmtallstes_3545839D     datetime64[ns]\n",
      "employedfrom_700D             datetime64[ns]\n",
      "firstnonzeroinstldate_307D    datetime64[ns]\n",
      "dtype: object\n"
     ]
    }
   ],
   "source": [
    "# List of columns to convert to date format\n",
    "date_columns = ['approvaldate_319D', 'creationdate_885D', 'dateactivated_425D', \n",
    "                'dtlastpmt_581D', 'dtlastpmtallstes_3545839D', 'employedfrom_700D', \n",
    "                'firstnonzeroinstldate_307D']\n",
    "\n",
    "# Convert columns to date format\n",
    "for column in date_columns:\n",
    "    df1[column] = pd.to_datetime(df1[column])\n",
    "\n",
    "# Check the data types after conversion\n",
    "print(df1[date_columns].dtypes)"
   ]
  },
  {
   "cell_type": "code",
   "execution_count": 6,
   "metadata": {},
   "outputs": [],
   "source": [
    "date_features = ['approvaldate_319D', 'creationdate_885D', 'dateactivated_425D', \n",
    "                'dtlastpmt_581D', 'dtlastpmtallstes_3545839D', 'employedfrom_700D', \n",
    "                'firstnonzeroinstldate_307D']\n",
    "for feature in date_features:\n",
    "    df1[feature] = pd.to_datetime(df1[feature])\n",
    "    df1[feature + '_year'] = df1[feature].dt.year\n",
    "    df1[feature + '_month'] = df1[feature].dt.month\n",
    "    df1[feature + '_day'] = df1[feature].dt.day\n",
    "\n",
    "datetime_cols = df1.select_dtypes(include=['datetime']).columns\n",
    "df1.drop(columns=datetime_cols, inplace=True)\n"
   ]
  },
  {
   "cell_type": "markdown",
   "metadata": {},
   "source": [
    "### Identify Categorical Columns"
   ]
  },
  {
   "cell_type": "code",
   "execution_count": 7,
   "metadata": {},
   "outputs": [
    {
     "data": {
      "text/plain": [
       "['cancelreason_3545846M',\n",
       " 'credacc_status_367L',\n",
       " 'credtype_587L',\n",
       " 'district_544M',\n",
       " 'education_1138M',\n",
       " 'familystate_726L',\n",
       " 'inittransactioncode_279L',\n",
       " 'isbidproduct_390L',\n",
       " 'isdebitcard_527L',\n",
       " 'postype_4733339M',\n",
       " 'profession_152M',\n",
       " 'rejectreason_755M',\n",
       " 'rejectreasonclient_4145042M',\n",
       " 'status_219L']"
      ]
     },
     "execution_count": 7,
     "metadata": {},
     "output_type": "execute_result"
    }
   ],
   "source": [
    "categorical_cols = df1.select_dtypes(include=['object']).columns.tolist()\n",
    "categorical_cols"
   ]
  },
  {
   "cell_type": "markdown",
   "metadata": {},
   "source": [
    "### One-Hot Encoding for Low Cardinality Features"
   ]
  },
  {
   "cell_type": "code",
   "execution_count": 8,
   "metadata": {},
   "outputs": [],
   "source": [
    "# Ensure you're working on df1 throughout\n",
    "onehot_encoder = OneHotEncoder(sparse_output=False)\n",
    "low_card_features = [\n",
    "    'credacc_status_367L', 'credtype_587L', 'isbidproduct_390L',\n",
    "    'isdebitcard_527L', 'status_219L', 'education_1138M',\n",
    "    'familystate_726L', 'inittransactioncode_279L', 'postype_4733339M'\n",
    "]\n",
    "\n",
    "# Fit and transform\n",
    "onehot_encoded_data = onehot_encoder.fit_transform(df1[low_card_features])\n",
    "\n",
    "# Create a DataFrame with the encoded data\n",
    "onehot_encoded_df = pd.DataFrame(onehot_encoded_data, columns=onehot_encoder.get_feature_names_out(low_card_features))\n",
    "\n",
    "# Update df1 by dropping the original columns and concatenating the new one-hot encoded columns\n",
    "df1 = pd.concat([df1.drop(columns=low_card_features), onehot_encoded_df], axis=1)\n"
   ]
  },
  {
   "cell_type": "markdown",
   "metadata": {},
   "source": [
    "### Frequency Encoding for Medium Cardinality Features"
   ]
  },
  {
   "cell_type": "code",
   "execution_count": null,
   "metadata": {},
   "outputs": [],
   "source": [
    "# Applying frequency encoding\n",
    "for feature in ['district_544M', 'profession_152M']:\n",
    "    frequency = df1[feature].value_counts()\n",
    "    df1[feature] = df1[feature].map(frequency)"
   ]
  },
  {
   "cell_type": "markdown",
   "metadata": {},
   "source": [
    "### Label Encoding for High Cardinality Features"
   ]
  },
  {
   "cell_type": "code",
   "execution_count": null,
   "metadata": {},
   "outputs": [],
   "source": [
    "label_encoder = LabelEncoder()\n",
    "high_card_features = ['cancelreason_3545846M', 'rejectreason_755M', 'rejectreasonclient_4145042M']\n",
    "for column in high_card_features:\n",
    "    df1[column] = label_encoder.fit_transform(df1[column])\n"
   ]
  },
  {
   "cell_type": "code",
   "execution_count": null,
   "metadata": {},
   "outputs": [
    {
     "name": "stdout",
     "output_type": "stream",
     "text": [
      "<class 'pandas.core.frame.DataFrame'>\n",
      "RangeIndex: 6525979 entries, 0 to 6525978\n",
      "Data columns (total 100 columns):\n",
      " #   Column                                Dtype  \n",
      "---  ------                                -----  \n",
      " 0   case_id                               int64  \n",
      " 1   actualdpd_943P                        float64\n",
      " 2   annuity_853A                          float64\n",
      " 3   byoccupationinc_3656910L              float64\n",
      " 4   cancelreason_3545846M                 int32  \n",
      " 5   childnum_21L                          float64\n",
      " 6   credacc_actualbalance_314A            float64\n",
      " 7   credacc_credlmt_575A                  float64\n",
      " 8   credacc_maxhisbal_375A                float64\n",
      " 9   credacc_minhisbal_90A                 float64\n",
      " 10  credacc_transactions_402L             float64\n",
      " 11  credamount_590A                       float64\n",
      " 12  currdebt_94A                          float64\n",
      " 13  district_544M                         int64  \n",
      " 14  downpmt_134A                          float64\n",
      " 15  mainoccupationinc_437A                float64\n",
      " 16  maxdpdtolerance_577P                  float64\n",
      " 17  num_group1                            int64  \n",
      " 18  outstandingdebt_522A                  float64\n",
      " 19  pmtnum_8L                             float64\n",
      " 20  profession_152M                       int64  \n",
      " 21  rejectreason_755M                     int32  \n",
      " 22  rejectreasonclient_4145042M           int32  \n",
      " 23  revolvingaccount_394A                 float64\n",
      " 24  tenor_203L                            float64\n",
      " 25  approvaldate_319D_year                float64\n",
      " 26  approvaldate_319D_month               float64\n",
      " 27  approvaldate_319D_day                 float64\n",
      " 28  creationdate_885D_year                float64\n",
      " 29  creationdate_885D_month               float64\n",
      " 30  creationdate_885D_day                 float64\n",
      " 31  dateactivated_425D_year               float64\n",
      " 32  dateactivated_425D_month              float64\n",
      " 33  dateactivated_425D_day                float64\n",
      " 34  dtlastpmt_581D_year                   float64\n",
      " 35  dtlastpmt_581D_month                  float64\n",
      " 36  dtlastpmt_581D_day                    float64\n",
      " 37  dtlastpmtallstes_3545839D_year        float64\n",
      " 38  dtlastpmtallstes_3545839D_month       float64\n",
      " 39  dtlastpmtallstes_3545839D_day         float64\n",
      " 40  employedfrom_700D_year                float64\n",
      " 41  employedfrom_700D_month               float64\n",
      " 42  employedfrom_700D_day                 float64\n",
      " 43  firstnonzeroinstldate_307D_year       float64\n",
      " 44  firstnonzeroinstldate_307D_month      float64\n",
      " 45  firstnonzeroinstldate_307D_day        float64\n",
      " 46  credacc_status_367L_AC                float64\n",
      " 47  credacc_status_367L_CA                float64\n",
      " 48  credacc_status_367L_CL                float64\n",
      " 49  credacc_status_367L_CR                float64\n",
      " 50  credacc_status_367L_PCL               float64\n",
      " 51  credacc_status_367L_PO                float64\n",
      " 52  credacc_status_367L_None              float64\n",
      " 53  credtype_587L_CAL                     float64\n",
      " 54  credtype_587L_COL                     float64\n",
      " 55  credtype_587L_REL                     float64\n",
      " 56  credtype_587L_None                    float64\n",
      " 57  isbidproduct_390L_False               float64\n",
      " 58  isbidproduct_390L_True                float64\n",
      " 59  isbidproduct_390L_None                float64\n",
      " 60  isdebitcard_527L_False                float64\n",
      " 61  isdebitcard_527L_True                 float64\n",
      " 62  isdebitcard_527L_None                 float64\n",
      " 63  status_219L_A                         float64\n",
      " 64  status_219L_D                         float64\n",
      " 65  status_219L_H                         float64\n",
      " 66  status_219L_K                         float64\n",
      " 67  status_219L_L                         float64\n",
      " 68  status_219L_N                         float64\n",
      " 69  status_219L_P                         float64\n",
      " 70  status_219L_Q                         float64\n",
      " 71  status_219L_R                         float64\n",
      " 72  status_219L_S                         float64\n",
      " 73  status_219L_T                         float64\n",
      " 74  status_219L_None                      float64\n",
      " 75  education_1138M_P106_81_188           float64\n",
      " 76  education_1138M_P157_18_172           float64\n",
      " 77  education_1138M_P17_36_170            float64\n",
      " 78  education_1138M_P33_146_175           float64\n",
      " 79  education_1138M_P97_36_170            float64\n",
      " 80  education_1138M_a55475b1              float64\n",
      " 81  familystate_726L_DIVORCED             float64\n",
      " 82  familystate_726L_LIVING_WITH_PARTNER  float64\n",
      " 83  familystate_726L_MARRIED              float64\n",
      " 84  familystate_726L_SINGLE               float64\n",
      " 85  familystate_726L_WIDOWED              float64\n",
      " 86  familystate_726L_None                 float64\n",
      " 87  inittransactioncode_279L_CASH         float64\n",
      " 88  inittransactioncode_279L_NDF          float64\n",
      " 89  inittransactioncode_279L_POS          float64\n",
      " 90  inittransactioncode_279L_None         float64\n",
      " 91  postype_4733339M_P140_48_169          float64\n",
      " 92  postype_4733339M_P149_40_170          float64\n",
      " 93  postype_4733339M_P169_115_83          float64\n",
      " 94  postype_4733339M_P177_117_192         float64\n",
      " 95  postype_4733339M_P217_110_186         float64\n",
      " 96  postype_4733339M_P46_145_78           float64\n",
      " 97  postype_4733339M_P60_146_156          float64\n",
      " 98  postype_4733339M_P67_102_161          float64\n",
      " 99  postype_4733339M_a55475b1             float64\n",
      "dtypes: float64(93), int32(3), int64(4)\n",
      "memory usage: 4.8 GB\n"
     ]
    }
   ],
   "source": [
    "# Check data types to ensure no column is left as object due to categorical data\n",
    "df1.info()"
   ]
  },
  {
   "cell_type": "code",
   "execution_count": null,
   "metadata": {},
   "outputs": [
    {
     "data": {
      "text/plain": [
       "(6525979, 100)"
      ]
     },
     "execution_count": 13,
     "metadata": {},
     "output_type": "execute_result"
    }
   ],
   "source": [
    "df1.shape"
   ]
  },
  {
   "cell_type": "code",
   "execution_count": null,
   "metadata": {},
   "outputs": [
    {
     "data": {
      "text/html": [
       "<div>\n",
       "<style scoped>\n",
       "    .dataframe tbody tr th:only-of-type {\n",
       "        vertical-align: middle;\n",
       "    }\n",
       "\n",
       "    .dataframe tbody tr th {\n",
       "        vertical-align: top;\n",
       "    }\n",
       "\n",
       "    .dataframe thead th {\n",
       "        text-align: right;\n",
       "    }\n",
       "</style>\n",
       "<table border=\"1\" class=\"dataframe\">\n",
       "  <thead>\n",
       "    <tr style=\"text-align: right;\">\n",
       "      <th></th>\n",
       "      <th>case_id</th>\n",
       "      <th>actualdpd_943P</th>\n",
       "      <th>annuity_853A</th>\n",
       "      <th>byoccupationinc_3656910L</th>\n",
       "      <th>cancelreason_3545846M</th>\n",
       "      <th>childnum_21L</th>\n",
       "      <th>credacc_actualbalance_314A</th>\n",
       "      <th>credacc_credlmt_575A</th>\n",
       "      <th>credacc_maxhisbal_375A</th>\n",
       "      <th>credacc_minhisbal_90A</th>\n",
       "      <th>...</th>\n",
       "      <th>inittransactioncode_279L_None</th>\n",
       "      <th>postype_4733339M_P140_48_169</th>\n",
       "      <th>postype_4733339M_P149_40_170</th>\n",
       "      <th>postype_4733339M_P169_115_83</th>\n",
       "      <th>postype_4733339M_P177_117_192</th>\n",
       "      <th>postype_4733339M_P217_110_186</th>\n",
       "      <th>postype_4733339M_P46_145_78</th>\n",
       "      <th>postype_4733339M_P60_146_156</th>\n",
       "      <th>postype_4733339M_P67_102_161</th>\n",
       "      <th>postype_4733339M_a55475b1</th>\n",
       "    </tr>\n",
       "  </thead>\n",
       "  <tbody>\n",
       "    <tr>\n",
       "      <th>0</th>\n",
       "      <td>2</td>\n",
       "      <td>0.0</td>\n",
       "      <td>640.2</td>\n",
       "      <td>NaN</td>\n",
       "      <td>75</td>\n",
       "      <td>0.0</td>\n",
       "      <td>NaN</td>\n",
       "      <td>0.0</td>\n",
       "      <td>NaN</td>\n",
       "      <td>NaN</td>\n",
       "      <td>...</td>\n",
       "      <td>0.0</td>\n",
       "      <td>0.0</td>\n",
       "      <td>0.0</td>\n",
       "      <td>0.0</td>\n",
       "      <td>0.0</td>\n",
       "      <td>0.0</td>\n",
       "      <td>0.0</td>\n",
       "      <td>0.0</td>\n",
       "      <td>0.0</td>\n",
       "      <td>1.0</td>\n",
       "    </tr>\n",
       "    <tr>\n",
       "      <th>1</th>\n",
       "      <td>2</td>\n",
       "      <td>0.0</td>\n",
       "      <td>1682.4</td>\n",
       "      <td>NaN</td>\n",
       "      <td>75</td>\n",
       "      <td>0.0</td>\n",
       "      <td>NaN</td>\n",
       "      <td>0.0</td>\n",
       "      <td>NaN</td>\n",
       "      <td>NaN</td>\n",
       "      <td>...</td>\n",
       "      <td>0.0</td>\n",
       "      <td>0.0</td>\n",
       "      <td>0.0</td>\n",
       "      <td>0.0</td>\n",
       "      <td>0.0</td>\n",
       "      <td>0.0</td>\n",
       "      <td>0.0</td>\n",
       "      <td>0.0</td>\n",
       "      <td>0.0</td>\n",
       "      <td>1.0</td>\n",
       "    </tr>\n",
       "    <tr>\n",
       "      <th>2</th>\n",
       "      <td>3</td>\n",
       "      <td>0.0</td>\n",
       "      <td>6140.0</td>\n",
       "      <td>NaN</td>\n",
       "      <td>69</td>\n",
       "      <td>NaN</td>\n",
       "      <td>NaN</td>\n",
       "      <td>0.0</td>\n",
       "      <td>NaN</td>\n",
       "      <td>NaN</td>\n",
       "      <td>...</td>\n",
       "      <td>0.0</td>\n",
       "      <td>0.0</td>\n",
       "      <td>0.0</td>\n",
       "      <td>0.0</td>\n",
       "      <td>0.0</td>\n",
       "      <td>0.0</td>\n",
       "      <td>0.0</td>\n",
       "      <td>0.0</td>\n",
       "      <td>0.0</td>\n",
       "      <td>1.0</td>\n",
       "    </tr>\n",
       "    <tr>\n",
       "      <th>3</th>\n",
       "      <td>4</td>\n",
       "      <td>0.0</td>\n",
       "      <td>2556.6</td>\n",
       "      <td>NaN</td>\n",
       "      <td>42</td>\n",
       "      <td>NaN</td>\n",
       "      <td>NaN</td>\n",
       "      <td>0.0</td>\n",
       "      <td>NaN</td>\n",
       "      <td>NaN</td>\n",
       "      <td>...</td>\n",
       "      <td>0.0</td>\n",
       "      <td>0.0</td>\n",
       "      <td>0.0</td>\n",
       "      <td>0.0</td>\n",
       "      <td>0.0</td>\n",
       "      <td>0.0</td>\n",
       "      <td>0.0</td>\n",
       "      <td>0.0</td>\n",
       "      <td>0.0</td>\n",
       "      <td>1.0</td>\n",
       "    </tr>\n",
       "    <tr>\n",
       "      <th>4</th>\n",
       "      <td>5</td>\n",
       "      <td>0.0</td>\n",
       "      <td>NaN</td>\n",
       "      <td>NaN</td>\n",
       "      <td>65</td>\n",
       "      <td>NaN</td>\n",
       "      <td>NaN</td>\n",
       "      <td>NaN</td>\n",
       "      <td>NaN</td>\n",
       "      <td>NaN</td>\n",
       "      <td>...</td>\n",
       "      <td>1.0</td>\n",
       "      <td>0.0</td>\n",
       "      <td>0.0</td>\n",
       "      <td>0.0</td>\n",
       "      <td>0.0</td>\n",
       "      <td>0.0</td>\n",
       "      <td>0.0</td>\n",
       "      <td>0.0</td>\n",
       "      <td>0.0</td>\n",
       "      <td>1.0</td>\n",
       "    </tr>\n",
       "  </tbody>\n",
       "</table>\n",
       "<p>5 rows × 100 columns</p>\n",
       "</div>"
      ],
      "text/plain": [
       "   case_id  actualdpd_943P  annuity_853A  byoccupationinc_3656910L  \\\n",
       "0        2             0.0         640.2                       NaN   \n",
       "1        2             0.0        1682.4                       NaN   \n",
       "2        3             0.0        6140.0                       NaN   \n",
       "3        4             0.0        2556.6                       NaN   \n",
       "4        5             0.0           NaN                       NaN   \n",
       "\n",
       "   cancelreason_3545846M  childnum_21L  credacc_actualbalance_314A  \\\n",
       "0                     75           0.0                         NaN   \n",
       "1                     75           0.0                         NaN   \n",
       "2                     69           NaN                         NaN   \n",
       "3                     42           NaN                         NaN   \n",
       "4                     65           NaN                         NaN   \n",
       "\n",
       "   credacc_credlmt_575A  credacc_maxhisbal_375A  credacc_minhisbal_90A  ...  \\\n",
       "0                   0.0                     NaN                    NaN  ...   \n",
       "1                   0.0                     NaN                    NaN  ...   \n",
       "2                   0.0                     NaN                    NaN  ...   \n",
       "3                   0.0                     NaN                    NaN  ...   \n",
       "4                   NaN                     NaN                    NaN  ...   \n",
       "\n",
       "   inittransactioncode_279L_None  postype_4733339M_P140_48_169  \\\n",
       "0                            0.0                           0.0   \n",
       "1                            0.0                           0.0   \n",
       "2                            0.0                           0.0   \n",
       "3                            0.0                           0.0   \n",
       "4                            1.0                           0.0   \n",
       "\n",
       "   postype_4733339M_P149_40_170  postype_4733339M_P169_115_83  \\\n",
       "0                           0.0                           0.0   \n",
       "1                           0.0                           0.0   \n",
       "2                           0.0                           0.0   \n",
       "3                           0.0                           0.0   \n",
       "4                           0.0                           0.0   \n",
       "\n",
       "   postype_4733339M_P177_117_192  postype_4733339M_P217_110_186  \\\n",
       "0                            0.0                            0.0   \n",
       "1                            0.0                            0.0   \n",
       "2                            0.0                            0.0   \n",
       "3                            0.0                            0.0   \n",
       "4                            0.0                            0.0   \n",
       "\n",
       "   postype_4733339M_P46_145_78  postype_4733339M_P60_146_156  \\\n",
       "0                          0.0                           0.0   \n",
       "1                          0.0                           0.0   \n",
       "2                          0.0                           0.0   \n",
       "3                          0.0                           0.0   \n",
       "4                          0.0                           0.0   \n",
       "\n",
       "   postype_4733339M_P67_102_161  postype_4733339M_a55475b1  \n",
       "0                           0.0                        1.0  \n",
       "1                           0.0                        1.0  \n",
       "2                           0.0                        1.0  \n",
       "3                           0.0                        1.0  \n",
       "4                           0.0                        1.0  \n",
       "\n",
       "[5 rows x 100 columns]"
      ]
     },
     "execution_count": 14,
     "metadata": {},
     "output_type": "execute_result"
    }
   ],
   "source": [
    "df1.head()"
   ]
  }
 ],
 "metadata": {
  "kernelspec": {
   "display_name": "Python 3",
   "language": "python",
   "name": "python3"
  },
  "language_info": {
   "codemirror_mode": {
    "name": "ipython",
    "version": 3
   },
   "file_extension": ".py",
   "mimetype": "text/x-python",
   "name": "python",
   "nbconvert_exporter": "python",
   "pygments_lexer": "ipython3",
   "version": "3.11.7"
  }
 },
 "nbformat": 4,
 "nbformat_minor": 2
}
