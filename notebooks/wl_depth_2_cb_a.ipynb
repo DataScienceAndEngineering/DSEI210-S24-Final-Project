{
 "cells": [
  {
   "cell_type": "code",
   "execution_count": 22,
   "metadata": {},
   "outputs": [],
   "source": [
    "import pandas as pd\n",
    "import numpy as np\n",
    "import polars as pl\n",
    "import matplotlib.pyplot as plt\n",
    "import seaborn as sns\n",
    "import os\n",
    "\n",
    "from glob import glob\n",
    "from collections import Counter\n",
    "from pathlib import Path\n",
    "from sklearn.cluster import MiniBatchKMeans\n",
    "from sklearn.feature_selection import mutual_info_classif\n",
    "from sklearn.impute import SimpleImputer\n",
    "from sklearn.preprocessing import StandardScaler\n",
    "from sklearn.metrics import silhouette_score\n",
    "from sklearn.decomposition import PCA\n",
    "from sklearn.discriminant_analysis import LinearDiscriminantAnalysis\n",
    "\n",
    "import utils.merge_tools as M\n",
    "\n",
    "pd.set_option('future.no_silent_downcasting', True)"
   ]
  },
  {
   "cell_type": "code",
   "execution_count": 2,
   "metadata": {},
   "outputs": [],
   "source": [
    "base_file = '../data/raw/parquet_files/train/train_base.parquet'\n",
    "raw_data_dir = '../data/raw/parquet_files/train/'"
   ]
  },
  {
   "cell_type": "markdown",
   "metadata": {},
   "source": [
    "## Investigation into Credit Bureau A Depth 2\n",
    "\n",
    "**NOTE:** A single DataFrame will be used as the accumulated size of DataFrames will crash kernel."
   ]
  },
  {
   "cell_type": "markdown",
   "metadata": {},
   "source": [
    "### Loading, Joining, and Trimming Data\n",
    "\n",
    "Initial cleaning and flagging of null data also performed."
   ]
  },
  {
   "cell_type": "code",
   "execution_count": 3,
   "metadata": {},
   "outputs": [],
   "source": [
    "# File group\n",
    "cb_a_2 = 'train_credit_bureau_a_2'\n",
    "cb_a_paths = glob(os.path.join(raw_data_dir, cb_a_2) + '*')\n",
    "\n",
    "# Merge files in polars DataFrame\n",
    "pl_df = M.load_data_group(\n",
    "    group_name=cb_a_2, base_file_path=base_file, data_dir=raw_data_dir\n",
    ")\n",
    "\n",
    "# Drop base variables\n",
    "pl_df = pl_df.drop(['date_decision', 'MONTH', 'WEEK_NUM'])\n",
    "\n",
    "# Get base file\n",
    "base_df = pl.read_parquet(base_file).pipe(M.set_table_dtypes).to_pandas()\n",
    "\n",
    "# Convert string cols to categorical\n",
    "cat_cols = [ col for col in pl_df.columns if pl_df[col].dtype == pl.String ]\n",
    "pl_df = pl_df.with_columns(pl.col(cat_cols).cast(pl.Categorical))\n",
    "\n",
    "# Create is_null columns\n",
    "pl_df = M.create_is_null_cols(pl_df)\n",
    "\n",
    "# Convert to pandas DataFrame and free memory\n",
    "df = pl_df.to_pandas()\n",
    "del pl_df\n",
    "\n",
    "# Create total nulls column\n",
    "df = pd.concat([df, pd.Series(df.isnull().sum(axis=1), name='total_nulls')], axis=1)"
   ]
  },
  {
   "cell_type": "markdown",
   "metadata": {},
   "source": [
    "Most `case_ids` have entries at depth 2 credit bureau A."
   ]
  },
  {
   "cell_type": "code",
   "execution_count": 4,
   "metadata": {},
   "outputs": [
    {
     "name": "stdout",
     "output_type": "stream",
     "text": [
      "Percent of case_ids in CB Depth 2: 90.74%\n"
     ]
    }
   ],
   "source": [
    "pct_case_ids = round(100 * len(df['case_id'].unique()) / len(base_df['case_id'].unique()), 2)\n",
    "print(f'Percent of case_ids in CB Depth 2: {pct_case_ids}%')"
   ]
  },
  {
   "cell_type": "markdown",
   "metadata": {},
   "source": [
    "We will be using a subsample of the data while weighting heavily towards the positive case."
   ]
  },
  {
   "cell_type": "code",
   "execution_count": 5,
   "metadata": {},
   "outputs": [],
   "source": [
    "prop = 0.1\n",
    "n = int(prop * len(df))\n",
    "target_weight = 10\n",
    "\n",
    "# Create weights for data points\n",
    "weights = pd.Series(1, index=df.index)\n",
    "weights[df.index[df['target'] == 1]] = target_weight\n",
    "df = df.sample(n=n, replace=False, weights=weights, random_state=28)"
   ]
  },
  {
   "cell_type": "code",
   "execution_count": 23,
   "metadata": {},
   "outputs": [
    {
     "name": "stdout",
     "output_type": "stream",
     "text": [
      "target\n",
      "0    0.839601\n",
      "1    0.160399\n",
      "Name: proportion, dtype: float64\n"
     ]
    }
   ],
   "source": [
    "print(df['target'].value_counts(normalize=True))"
   ]
  },
  {
   "cell_type": "code",
   "execution_count": 6,
   "metadata": {},
   "outputs": [
    {
     "data": {
      "text/html": [
       "<div>\n",
       "<style scoped>\n",
       "    .dataframe tbody tr th:only-of-type {\n",
       "        vertical-align: middle;\n",
       "    }\n",
       "\n",
       "    .dataframe tbody tr th {\n",
       "        vertical-align: top;\n",
       "    }\n",
       "\n",
       "    .dataframe thead th {\n",
       "        text-align: right;\n",
       "    }\n",
       "</style>\n",
       "<table border=\"1\" class=\"dataframe\">\n",
       "  <thead>\n",
       "    <tr style=\"text-align: right;\">\n",
       "      <th></th>\n",
       "      <th>case_id</th>\n",
       "      <th>collater_typofvalofguarant_298M</th>\n",
       "      <th>collater_typofvalofguarant_407M</th>\n",
       "      <th>collater_valueofguarantee_1124L</th>\n",
       "      <th>collater_valueofguarantee_876L</th>\n",
       "      <th>collaterals_typeofguarante_359M</th>\n",
       "      <th>collaterals_typeofguarante_669M</th>\n",
       "      <th>num_group1</th>\n",
       "      <th>num_group2</th>\n",
       "      <th>pmts_dpd_1073P</th>\n",
       "      <th>...</th>\n",
       "      <th>collater_valueofguarantee_876L_is_null</th>\n",
       "      <th>pmts_dpd_1073P_is_null</th>\n",
       "      <th>pmts_dpd_303P_is_null</th>\n",
       "      <th>pmts_month_158T_is_null</th>\n",
       "      <th>pmts_month_706T_is_null</th>\n",
       "      <th>pmts_overdue_1140A_is_null</th>\n",
       "      <th>pmts_overdue_1152A_is_null</th>\n",
       "      <th>pmts_year_1139T_is_null</th>\n",
       "      <th>pmts_year_507T_is_null</th>\n",
       "      <th>total_nulls</th>\n",
       "    </tr>\n",
       "  </thead>\n",
       "  <tbody>\n",
       "    <tr>\n",
       "      <th>134483396</th>\n",
       "      <td>1405274</td>\n",
       "      <td>a55475b1</td>\n",
       "      <td>a55475b1</td>\n",
       "      <td>NaN</td>\n",
       "      <td>NaN</td>\n",
       "      <td>a55475b1</td>\n",
       "      <td>a55475b1</td>\n",
       "      <td>4</td>\n",
       "      <td>1</td>\n",
       "      <td>NaN</td>\n",
       "      <td>...</td>\n",
       "      <td>True</td>\n",
       "      <td>True</td>\n",
       "      <td>False</td>\n",
       "      <td>True</td>\n",
       "      <td>False</td>\n",
       "      <td>True</td>\n",
       "      <td>False</td>\n",
       "      <td>True</td>\n",
       "      <td>False</td>\n",
       "      <td>6</td>\n",
       "    </tr>\n",
       "    <tr>\n",
       "      <th>101776646</th>\n",
       "      <td>743246</td>\n",
       "      <td>a55475b1</td>\n",
       "      <td>a55475b1</td>\n",
       "      <td>NaN</td>\n",
       "      <td>NaN</td>\n",
       "      <td>a55475b1</td>\n",
       "      <td>a55475b1</td>\n",
       "      <td>1</td>\n",
       "      <td>16</td>\n",
       "      <td>0.0</td>\n",
       "      <td>...</td>\n",
       "      <td>True</td>\n",
       "      <td>False</td>\n",
       "      <td>False</td>\n",
       "      <td>False</td>\n",
       "      <td>False</td>\n",
       "      <td>False</td>\n",
       "      <td>False</td>\n",
       "      <td>False</td>\n",
       "      <td>False</td>\n",
       "      <td>2</td>\n",
       "    </tr>\n",
       "    <tr>\n",
       "      <th>22979556</th>\n",
       "      <td>1622497</td>\n",
       "      <td>a55475b1</td>\n",
       "      <td>a55475b1</td>\n",
       "      <td>NaN</td>\n",
       "      <td>NaN</td>\n",
       "      <td>a55475b1</td>\n",
       "      <td>a55475b1</td>\n",
       "      <td>3</td>\n",
       "      <td>11</td>\n",
       "      <td>NaN</td>\n",
       "      <td>...</td>\n",
       "      <td>True</td>\n",
       "      <td>True</td>\n",
       "      <td>False</td>\n",
       "      <td>True</td>\n",
       "      <td>False</td>\n",
       "      <td>True</td>\n",
       "      <td>False</td>\n",
       "      <td>True</td>\n",
       "      <td>False</td>\n",
       "      <td>6</td>\n",
       "    </tr>\n",
       "  </tbody>\n",
       "</table>\n",
       "<p>3 rows × 31 columns</p>\n",
       "</div>"
      ],
      "text/plain": [
       "           case_id collater_typofvalofguarant_298M  \\\n",
       "134483396  1405274                        a55475b1   \n",
       "101776646   743246                        a55475b1   \n",
       "22979556   1622497                        a55475b1   \n",
       "\n",
       "          collater_typofvalofguarant_407M  collater_valueofguarantee_1124L  \\\n",
       "134483396                        a55475b1                              NaN   \n",
       "101776646                        a55475b1                              NaN   \n",
       "22979556                         a55475b1                              NaN   \n",
       "\n",
       "           collater_valueofguarantee_876L collaterals_typeofguarante_359M  \\\n",
       "134483396                             NaN                        a55475b1   \n",
       "101776646                             NaN                        a55475b1   \n",
       "22979556                              NaN                        a55475b1   \n",
       "\n",
       "          collaterals_typeofguarante_669M  num_group1  num_group2  \\\n",
       "134483396                        a55475b1           4           1   \n",
       "101776646                        a55475b1           1          16   \n",
       "22979556                         a55475b1           3          11   \n",
       "\n",
       "           pmts_dpd_1073P  ...  collater_valueofguarantee_876L_is_null  \\\n",
       "134483396             NaN  ...                                    True   \n",
       "101776646             0.0  ...                                    True   \n",
       "22979556              NaN  ...                                    True   \n",
       "\n",
       "           pmts_dpd_1073P_is_null  pmts_dpd_303P_is_null  \\\n",
       "134483396                    True                  False   \n",
       "101776646                   False                  False   \n",
       "22979556                     True                  False   \n",
       "\n",
       "           pmts_month_158T_is_null  pmts_month_706T_is_null  \\\n",
       "134483396                     True                    False   \n",
       "101776646                    False                    False   \n",
       "22979556                      True                    False   \n",
       "\n",
       "           pmts_overdue_1140A_is_null  pmts_overdue_1152A_is_null  \\\n",
       "134483396                        True                       False   \n",
       "101776646                       False                       False   \n",
       "22979556                         True                       False   \n",
       "\n",
       "          pmts_year_1139T_is_null pmts_year_507T_is_null  total_nulls  \n",
       "134483396                    True                  False            6  \n",
       "101776646                   False                  False            2  \n",
       "22979556                     True                  False            6  \n",
       "\n",
       "[3 rows x 31 columns]"
      ]
     },
     "execution_count": 6,
     "metadata": {},
     "output_type": "execute_result"
    }
   ],
   "source": [
    "df.head(3)"
   ]
  },
  {
   "cell_type": "code",
   "execution_count": 7,
   "metadata": {},
   "outputs": [
    {
     "data": {
      "text/plain": [
       "(18829845, 31)"
      ]
     },
     "execution_count": 7,
     "metadata": {},
     "output_type": "execute_result"
    }
   ],
   "source": [
    "df.shape"
   ]
  },
  {
   "cell_type": "markdown",
   "metadata": {},
   "source": [
    "### Data Cleaning"
   ]
  },
  {
   "cell_type": "code",
   "execution_count": 8,
   "metadata": {},
   "outputs": [],
   "source": [
    "# Get columns by type\n",
    "target_col = 'target'\n",
    "id_cols = ['case_id', 'num_group1', 'num_group2']\n",
    "ignore_cols = [target_col] + id_cols\n",
    "cat_cols = [ col for col in df.columns if (col not in ignore_cols) and (df[col].dtype == 'category') ]\n",
    "num_cols = [ col for col in df.columns if (col not in ignore_cols) and (pd.api.types.is_any_real_numeric_dtype(df[col].dtype)) ]\n",
    "data_cols = cat_cols + num_cols"
   ]
  },
  {
   "cell_type": "code",
   "execution_count": 9,
   "metadata": {},
   "outputs": [],
   "source": [
    "# Drop columns below missing value threshold\n",
    "missing_thresh = 0.95\n",
    "df = df[df.columns[df.isnull().mean() < missing_thresh]]"
   ]
  },
  {
   "cell_type": "code",
   "execution_count": 10,
   "metadata": {},
   "outputs": [],
   "source": [
    "# Get new columns by type\n",
    "num_cols = [\n",
    "    col for col in df.columns\n",
    "    if (pd.api.types.is_any_real_numeric_dtype(df[col].dtype))\n",
    "    and (col not in ignore_cols)\n",
    "]\n",
    "cat_cols = [\n",
    "    col for col in df.columns\n",
    "    if df[col].dtype == 'category'\n",
    "]\n",
    "bool_cols = [\n",
    "    col for col in df.columns\n",
    "    if df[col].dtype == 'bool'\n",
    "]\n",
    "data_cols = num_cols + cat_cols + bool_cols"
   ]
  },
  {
   "cell_type": "markdown",
   "metadata": {},
   "source": [
    "We will be using all categories since there are not an excessive number of dimension per column."
   ]
  },
  {
   "cell_type": "code",
   "execution_count": 11,
   "metadata": {},
   "outputs": [
    {
     "name": "stdout",
     "output_type": "stream",
     "text": [
      "collater_typofvalofguarant_298M uniques: 4\n",
      "collater_typofvalofguarant_407M uniques: 6\n",
      "collaterals_typeofguarante_359M uniques: 15\n",
      "collaterals_typeofguarante_669M uniques: 15\n",
      "subjectroles_name_541M uniques: 11\n",
      "subjectroles_name_838M uniques: 9\n"
     ]
    }
   ],
   "source": [
    "# Uniques by categories\n",
    "for col in cat_cols:\n",
    "    print(f'{col} uniques: {len(df[col].unique())}')"
   ]
  },
  {
   "cell_type": "code",
   "execution_count": 12,
   "metadata": {},
   "outputs": [],
   "source": [
    "# Fill categorical nulls\n",
    "for col in cat_cols:\n",
    "    df[col] = df[col].cat.add_categories(['null'])\n",
    "    df[col] = df[col].fillna('null')"
   ]
  },
  {
   "cell_type": "markdown",
   "metadata": {},
   "source": [
    "We will fill the remaining missing values."
   ]
  },
  {
   "cell_type": "code",
   "execution_count": 13,
   "metadata": {},
   "outputs": [],
   "source": [
    "# Remaining missing columns\n",
    "missing_cols = [ \n",
    "    col for col in df.columns if df[col].isnull().sum() > 0 \n",
    "]\n",
    "imputer = SimpleImputer()\n",
    "df[missing_cols] = imputer.fit_transform(df[missing_cols])"
   ]
  },
  {
   "cell_type": "markdown",
   "metadata": {},
   "source": [
    "Scaling the numerical columns."
   ]
  },
  {
   "cell_type": "code",
   "execution_count": 14,
   "metadata": {},
   "outputs": [],
   "source": [
    "# Scale\n",
    "scaler = StandardScaler()\n",
    "df[num_cols] = scaler.fit_transform(df[num_cols])"
   ]
  },
  {
   "cell_type": "markdown",
   "metadata": {},
   "source": [
    "One-hot encode categorical columns."
   ]
  },
  {
   "cell_type": "code",
   "execution_count": 15,
   "metadata": {},
   "outputs": [],
   "source": [
    "# One hot encode\n",
    "one_hot = pd.get_dummies(df[cat_cols], drop_first=True)\n",
    "df = pd.concat([df, one_hot], axis=1)\n",
    "df = df.drop(columns=cat_cols)\n",
    "\n",
    "# Get cat_cols from one hot DataFrame and free memory\n",
    "cat_cols = one_hot.columns\n",
    "del one_hot"
   ]
  },
  {
   "cell_type": "markdown",
   "metadata": {},
   "source": [
    "### Clustering\n",
    "\n",
    "Due to the size of the data, we will be creating cluster \"profiles\" of individuals associated with accounts instead of utilizing all the data."
   ]
  },
  {
   "cell_type": "code",
   "execution_count": 16,
   "metadata": {},
   "outputs": [],
   "source": [
    "cl_list = []\n",
    "for i in range(2, 5):\n",
    "    clusterer = MiniBatchKMeans(n_clusters=i)\n",
    "    cluster_labels = clusterer.fit_predict(df.drop(columns=ignore_cols), df['target'])\n",
    "    cl_df = pd.DataFrame({'cluster': cluster_labels, 'target': df['target']})\n",
    "    cl_df = cl_df.groupby('cluster')['target'].value_counts(normalize=True)\n",
    "    cl_list.append(cl_df)"
   ]
  },
  {
   "cell_type": "code",
   "execution_count": 17,
   "metadata": {},
   "outputs": [],
   "source": [
    "cluster_dict = {'num_clusters': [], 'label': [], 'prop_positive': []}\n",
    "for i in range(len(cl_list)):\n",
    "    num_clusters = i + 2\n",
    "    for j in range(num_clusters):\n",
    "        prop_pos = cl_list[i][j][1]\n",
    "        cluster_dict['num_clusters'].append(num_clusters)\n",
    "        cluster_dict['label'].append(j)\n",
    "        cluster_dict['prop_positive'].append(prop_pos)"
   ]
  },
  {
   "cell_type": "code",
   "execution_count": 18,
   "metadata": {},
   "outputs": [],
   "source": [
    "cluster_df = pd.DataFrame(cluster_dict)\n",
    "prop_pos_max = cluster_df['prop_positive'].max()\n",
    "max_loc = cluster_df.loc[cluster_df['prop_positive'] == prop_pos_max][['num_clusters', 'label']]\n",
    "prop_df = pd.DataFrame({'prop_positive': [df['target'].value_counts(normalize=True)[1]]})"
   ]
  },
  {
   "cell_type": "markdown",
   "metadata": {},
   "source": [
    "Does not even touch being useful at this point."
   ]
  },
  {
   "cell_type": "code",
   "execution_count": 20,
   "metadata": {},
   "outputs": [
    {
     "data": {
      "text/html": [
       "<div>\n",
       "<style scoped>\n",
       "    .dataframe tbody tr th:only-of-type {\n",
       "        vertical-align: middle;\n",
       "    }\n",
       "\n",
       "    .dataframe tbody tr th {\n",
       "        vertical-align: top;\n",
       "    }\n",
       "\n",
       "    .dataframe thead th {\n",
       "        text-align: right;\n",
       "    }\n",
       "</style>\n",
       "<table border=\"1\" class=\"dataframe\">\n",
       "  <thead>\n",
       "    <tr style=\"text-align: right;\">\n",
       "      <th></th>\n",
       "      <th>num_clusters</th>\n",
       "      <th>label</th>\n",
       "      <th>prop_positive</th>\n",
       "    </tr>\n",
       "  </thead>\n",
       "  <tbody>\n",
       "    <tr>\n",
       "      <th>0</th>\n",
       "      <td>2</td>\n",
       "      <td>0</td>\n",
       "      <td>0.166782</td>\n",
       "    </tr>\n",
       "    <tr>\n",
       "      <th>1</th>\n",
       "      <td>2</td>\n",
       "      <td>1</td>\n",
       "      <td>0.149713</td>\n",
       "    </tr>\n",
       "    <tr>\n",
       "      <th>2</th>\n",
       "      <td>3</td>\n",
       "      <td>0</td>\n",
       "      <td>0.172543</td>\n",
       "    </tr>\n",
       "    <tr>\n",
       "      <th>3</th>\n",
       "      <td>3</td>\n",
       "      <td>1</td>\n",
       "      <td>0.144077</td>\n",
       "    </tr>\n",
       "    <tr>\n",
       "      <th>4</th>\n",
       "      <td>3</td>\n",
       "      <td>2</td>\n",
       "      <td>0.166120</td>\n",
       "    </tr>\n",
       "    <tr>\n",
       "      <th>5</th>\n",
       "      <td>4</td>\n",
       "      <td>0</td>\n",
       "      <td>0.170499</td>\n",
       "    </tr>\n",
       "    <tr>\n",
       "      <th>6</th>\n",
       "      <td>4</td>\n",
       "      <td>1</td>\n",
       "      <td>0.164411</td>\n",
       "    </tr>\n",
       "    <tr>\n",
       "      <th>7</th>\n",
       "      <td>4</td>\n",
       "      <td>2</td>\n",
       "      <td>0.150182</td>\n",
       "    </tr>\n",
       "    <tr>\n",
       "      <th>8</th>\n",
       "      <td>4</td>\n",
       "      <td>3</td>\n",
       "      <td>0.164079</td>\n",
       "    </tr>\n",
       "  </tbody>\n",
       "</table>\n",
       "</div>"
      ],
      "text/plain": [
       "   num_clusters  label  prop_positive\n",
       "0             2      0       0.166782\n",
       "1             2      1       0.149713\n",
       "2             3      0       0.172543\n",
       "3             3      1       0.144077\n",
       "4             3      2       0.166120\n",
       "5             4      0       0.170499\n",
       "6             4      1       0.164411\n",
       "7             4      2       0.150182\n",
       "8             4      3       0.164079"
      ]
     },
     "execution_count": 20,
     "metadata": {},
     "output_type": "execute_result"
    }
   ],
   "source": [
    "cluster_df"
   ]
  },
  {
   "cell_type": "markdown",
   "metadata": {},
   "source": [
    "### PCA"
   ]
  },
  {
   "cell_type": "code",
   "execution_count": 24,
   "metadata": {},
   "outputs": [],
   "source": [
    "X = df.drop(columns=ignore_cols)\n",
    "y = df['target']"
   ]
  },
  {
   "cell_type": "code",
   "execution_count": 26,
   "metadata": {},
   "outputs": [],
   "source": [
    "pca = PCA(n_components=X.shape[1])\n",
    "pca.fit(X)\n",
    "cumsum = np.cumsum(pca.explained_variance_ratio_)"
   ]
  },
  {
   "cell_type": "code",
   "execution_count": 27,
   "metadata": {},
   "outputs": [
    {
     "data": {
      "image/png": "[encoded data removed]",
      "text/plain": [
       "<Figure size 640x480 with 1 Axes>"
      ]
     },
     "metadata": {},
     "output_type": "display_data"
    }
   ],
   "source": [
    "plt.plot(cumsum)\n",
    "plt.title('PCA - Explained Variance')\n",
    "plt.xlabel('Number of Components')\n",
    "plt.ylabel('Cumulative Explained Variance')\n",
    "\n",
    "plt.show()"
   ]
  },
  {
   "cell_type": "code",
   "execution_count": 28,
   "metadata": {},
   "outputs": [
    {
     "name": "stdout",
     "output_type": "stream",
     "text": [
      "99% Explained Variance: 13 components\n",
      "95% Explained Variance: 10 components\n"
     ]
    }
   ],
   "source": [
    "# Get number of components\n",
    "d_99 = np.argmax(cumsum >= 0.99) + 1\n",
    "d_95 = np.argmax(cumsum >= 0.95) + 1\n",
    "\n",
    "print(f'99% Explained Variance: {d_99} components')\n",
    "print(f'95% Explained Variance: {d_95} components')"
   ]
  },
  {
   "cell_type": "code",
   "execution_count": 29,
   "metadata": {},
   "outputs": [],
   "source": [
    "# Fit\n",
    "pca_95 = PCA(n_components=d_95)\n",
    "pca_95.fit(X)\n",
    "\n",
    "# Transform\n",
    "X_train_pca_95 = pca_95.transform(X)"
   ]
  },
  {
   "cell_type": "code",
   "execution_count": 39,
   "metadata": {},
   "outputs": [],
   "source": [
    "pca_df = pd.concat([\n",
    "    pd.DataFrame(X_train_pca_95, index=df.index, columns=[ f'pca_{i+1}' for i in range(X_train_pca_95.shape[1])]), \n",
    "    df['target']\n",
    "], axis=1)"
   ]
  },
  {
   "cell_type": "markdown",
   "metadata": {},
   "source": [
    "No real separation."
   ]
  },
  {
   "cell_type": "code",
   "execution_count": 44,
   "metadata": {},
   "outputs": [
    {
     "data": {
      "image/png": "[encoded data removed]",
      "text/plain": [
       "<Figure size 640x480 with 1 Axes>"
      ]
     },
     "metadata": {},
     "output_type": "display_data"
    }
   ],
   "source": [
    "sns.scatterplot(data=pca_df, x='pca_1', y='pca_2', hue='target', alpha=0.2)\n",
    "\n",
    "plt.show()"
   ]
  },
  {
   "cell_type": "code",
   "execution_count": 45,
   "metadata": {},
   "outputs": [
    {
     "data": {
      "text/plain": [
       "0"
      ]
     },
     "execution_count": 45,
     "metadata": {},
     "output_type": "execute_result"
    }
   ],
   "source": [
    "os.system('say \"beep beep.\"')"
   ]
  }
 ],
 "metadata": {
  "kernelspec": {
   "display_name": "amp-env",
   "language": "python",
   "name": "python3"
  },
  "language_info": {
   "codemirror_mode": {
    "name": "ipython",
    "version": 3
   },
   "file_extension": ".py",
   "mimetype": "text/x-python",
   "name": "python",
   "nbconvert_exporter": "python",
   "pygments_lexer": "ipython3",
   "version": "3.10.3"
  }
 },
 "nbformat": 4,
 "nbformat_minor": 2
}
