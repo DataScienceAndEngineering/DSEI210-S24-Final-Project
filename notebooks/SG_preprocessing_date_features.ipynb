{
 "cells": [
  {
   "cell_type": "markdown",
   "metadata": {},
   "source": [
    "### Preprocessing for Date columns"
   ]
  },
  {
   "cell_type": "code",
   "execution_count": 1,
   "metadata": {},
   "outputs": [],
   "source": [
    "import warnings\n",
    "warnings.filterwarnings(\"ignore\")\n",
    "\n",
    "from sklearn.preprocessing import OneHotEncoder\n",
    "from category_encoders import TargetEncoder\n",
    "from sklearn.decomposition import TruncatedSVD\n",
    "from sklearn.preprocessing import LabelEncoder\n",
    "from sklearn.decomposition import PCA\n",
    "import polars as pl"
   ]
  },
  {
   "cell_type": "code",
   "execution_count": 30,
   "metadata": {},
   "outputs": [],
   "source": [
    "# Load a Parquet file into a Polars DataFrame\n",
    "df2 = pl.read_parquet(\"new_aggs/new_aggs/train_applprev_1_grouped_0.parquet\")"
   ]
  },
  {
   "cell_type": "code",
   "execution_count": 31,
   "metadata": {},
   "outputs": [
    {
     "data": {
      "text/html": [
       "<div><style>\n",
       ".dataframe > thead > tr,\n",
       ".dataframe > tbody > tr {\n",
       "  text-align: right;\n",
       "  white-space: pre-wrap;\n",
       "}\n",
       "</style>\n",
       "<small>shape: (5, 41)</small><table border=\"1\" class=\"dataframe\"><thead><tr><th>case_id</th><th>actualdpd_943P</th><th>annuity_853A</th><th>approvaldate_319D</th><th>byoccupationinc_3656910L</th><th>cancelreason_3545846M</th><th>childnum_21L</th><th>creationdate_885D</th><th>credacc_actualbalance_314A</th><th>credacc_credlmt_575A</th><th>credacc_maxhisbal_375A</th><th>credacc_minhisbal_90A</th><th>credacc_status_367L</th><th>credacc_transactions_402L</th><th>credamount_590A</th><th>credtype_587L</th><th>currdebt_94A</th><th>dateactivated_425D</th><th>district_544M</th><th>downpmt_134A</th><th>dtlastpmt_581D</th><th>dtlastpmtallstes_3545839D</th><th>education_1138M</th><th>employedfrom_700D</th><th>familystate_726L</th><th>firstnonzeroinstldate_307D</th><th>inittransactioncode_279L</th><th>isbidproduct_390L</th><th>isdebitcard_527L</th><th>mainoccupationinc_437A</th><th>maxdpdtolerance_577P</th><th>num_group1</th><th>outstandingdebt_522A</th><th>pmtnum_8L</th><th>postype_4733339M</th><th>profession_152M</th><th>rejectreason_755M</th><th>rejectreasonclient_4145042M</th><th>revolvingaccount_394A</th><th>status_219L</th><th>tenor_203L</th></tr><tr><td>i64</td><td>f64</td><td>f64</td><td>str</td><td>f64</td><td>str</td><td>f64</td><td>str</td><td>f64</td><td>f64</td><td>f64</td><td>f64</td><td>str</td><td>f64</td><td>f64</td><td>str</td><td>f64</td><td>str</td><td>str</td><td>f64</td><td>str</td><td>str</td><td>str</td><td>str</td><td>str</td><td>str</td><td>str</td><td>bool</td><td>bool</td><td>f64</td><td>f64</td><td>i64</td><td>f64</td><td>f64</td><td>str</td><td>str</td><td>str</td><td>str</td><td>f64</td><td>str</td><td>f64</td></tr></thead><tbody><tr><td>2</td><td>0.0</td><td>640.2</td><td>null</td><td>null</td><td>&quot;a55475b1&quot;</td><td>0.0</td><td>&quot;2013-04-03&quot;</td><td>null</td><td>0.0</td><td>null</td><td>null</td><td>null</td><td>null</td><td>10000.0</td><td>&quot;CAL&quot;</td><td>null</td><td>null</td><td>&quot;P136_108_173&quot;</td><td>0.0</td><td>null</td><td>null</td><td>&quot;P97_36_170&quot;</td><td>&quot;2010-02-15&quot;</td><td>&quot;SINGLE&quot;</td><td>&quot;2013-05-04&quot;</td><td>&quot;CASH&quot;</td><td>false</td><td>null</td><td>8200.0</td><td>null</td><td>0</td><td>null</td><td>24.0</td><td>&quot;a55475b1&quot;</td><td>&quot;a55475b1&quot;</td><td>&quot;a55475b1&quot;</td><td>&quot;a55475b1&quot;</td><td>null</td><td>&quot;D&quot;</td><td>24.0</td></tr><tr><td>2</td><td>0.0</td><td>1682.4</td><td>null</td><td>null</td><td>&quot;a55475b1&quot;</td><td>0.0</td><td>&quot;2013-04-03&quot;</td><td>null</td><td>0.0</td><td>null</td><td>null</td><td>null</td><td>null</td><td>16000.0</td><td>&quot;CAL&quot;</td><td>null</td><td>null</td><td>&quot;P136_108_173&quot;</td><td>0.0</td><td>null</td><td>null</td><td>&quot;P97_36_170&quot;</td><td>&quot;2010-02-15&quot;</td><td>&quot;SINGLE&quot;</td><td>&quot;2013-05-04&quot;</td><td>&quot;CASH&quot;</td><td>false</td><td>null</td><td>8200.0</td><td>null</td><td>1</td><td>null</td><td>12.0</td><td>&quot;a55475b1&quot;</td><td>&quot;a55475b1&quot;</td><td>&quot;a55475b1&quot;</td><td>&quot;a55475b1&quot;</td><td>null</td><td>&quot;D&quot;</td><td>12.0</td></tr><tr><td>3</td><td>0.0</td><td>6140.0</td><td>null</td><td>null</td><td>&quot;P94_109_143&quot;</td><td>null</td><td>&quot;2019-01-07&quot;</td><td>null</td><td>0.0</td><td>null</td><td>null</td><td>null</td><td>null</td><td>59999.8</td><td>&quot;CAL&quot;</td><td>null</td><td>null</td><td>&quot;P131_33_167&quot;</td><td>0.0</td><td>null</td><td>null</td><td>&quot;P97_36_170&quot;</td><td>&quot;2018-05-15&quot;</td><td>&quot;MARRIED&quot;</td><td>&quot;2019-02-07&quot;</td><td>&quot;CASH&quot;</td><td>false</td><td>null</td><td>11000.0</td><td>null</td><td>0</td><td>null</td><td>12.0</td><td>&quot;a55475b1&quot;</td><td>&quot;a55475b1&quot;</td><td>&quot;P94_109_143&quot;</td><td>&quot;a55475b1&quot;</td><td>null</td><td>&quot;D&quot;</td><td>12.0</td></tr><tr><td>4</td><td>0.0</td><td>2556.6</td><td>null</td><td>null</td><td>&quot;P24_27_36&quot;</td><td>null</td><td>&quot;2019-01-08&quot;</td><td>null</td><td>0.0</td><td>null</td><td>null</td><td>null</td><td>null</td><td>40000.0</td><td>&quot;CAL&quot;</td><td>null</td><td>null</td><td>&quot;P194_82_174&quot;</td><td>0.0</td><td>null</td><td>null</td><td>&quot;a55475b1&quot;</td><td>null</td><td>null</td><td>&quot;2019-02-08&quot;</td><td>&quot;CASH&quot;</td><td>false</td><td>null</td><td>16000.0</td><td>null</td><td>0</td><td>null</td><td>24.0</td><td>&quot;a55475b1&quot;</td><td>&quot;a55475b1&quot;</td><td>&quot;a55475b1&quot;</td><td>&quot;a55475b1&quot;</td><td>null</td><td>&quot;T&quot;</td><td>24.0</td></tr><tr><td>5</td><td>0.0</td><td>null</td><td>null</td><td>null</td><td>&quot;P85_114_140&quot;</td><td>null</td><td>&quot;2019-01-16&quot;</td><td>null</td><td>null</td><td>null</td><td>null</td><td>null</td><td>null</td><td>null</td><td>null</td><td>null</td><td>null</td><td>&quot;P54_133_26&quot;</td><td>null</td><td>null</td><td>null</td><td>&quot;a55475b1&quot;</td><td>null</td><td>null</td><td>null</td><td>null</td><td>false</td><td>null</td><td>62000.0</td><td>null</td><td>0</td><td>null</td><td>null</td><td>&quot;a55475b1&quot;</td><td>&quot;a55475b1&quot;</td><td>&quot;a55475b1&quot;</td><td>&quot;a55475b1&quot;</td><td>null</td><td>&quot;T&quot;</td><td>null</td></tr></tbody></table></div>"
      ],
      "text/plain": [
       "shape: (5, 41)\n",
       "┌─────────┬────────────┬───────────┬───────────┬───┬───────────┬───────────┬───────────┬───────────┐\n",
       "│ case_id ┆ actualdpd_ ┆ annuity_8 ┆ approvald ┆ … ┆ rejectrea ┆ revolving ┆ status_21 ┆ tenor_203 │\n",
       "│ ---     ┆ 943P       ┆ 53A       ┆ ate_319D  ┆   ┆ sonclient ┆ account_3 ┆ 9L        ┆ L         │\n",
       "│ i64     ┆ ---        ┆ ---       ┆ ---       ┆   ┆ _4145042M ┆ 94A       ┆ ---       ┆ ---       │\n",
       "│         ┆ f64        ┆ f64       ┆ str       ┆   ┆ ---       ┆ ---       ┆ str       ┆ f64       │\n",
       "│         ┆            ┆           ┆           ┆   ┆ str       ┆ f64       ┆           ┆           │\n",
       "╞═════════╪════════════╪═══════════╪═══════════╪═══╪═══════════╪═══════════╪═══════════╪═══════════╡\n",
       "│ 2       ┆ 0.0        ┆ 640.2     ┆ null      ┆ … ┆ a55475b1  ┆ null      ┆ D         ┆ 24.0      │\n",
       "│ 2       ┆ 0.0        ┆ 1682.4    ┆ null      ┆ … ┆ a55475b1  ┆ null      ┆ D         ┆ 12.0      │\n",
       "│ 3       ┆ 0.0        ┆ 6140.0    ┆ null      ┆ … ┆ a55475b1  ┆ null      ┆ D         ┆ 12.0      │\n",
       "│ 4       ┆ 0.0        ┆ 2556.6    ┆ null      ┆ … ┆ a55475b1  ┆ null      ┆ T         ┆ 24.0      │\n",
       "│ 5       ┆ 0.0        ┆ null      ┆ null      ┆ … ┆ a55475b1  ┆ null      ┆ T         ┆ null      │\n",
       "└─────────┴────────────┴───────────┴───────────┴───┴───────────┴───────────┴───────────┴───────────┘"
      ]
     },
     "execution_count": 31,
     "metadata": {},
     "output_type": "execute_result"
    }
   ],
   "source": [
    "df2.head()"
   ]
  },
  {
   "cell_type": "code",
   "execution_count": 32,
   "metadata": {},
   "outputs": [
    {
     "name": "stdout",
     "output_type": "stream",
     "text": [
      "OrderedDict([('case_id', Int64), ('actualdpd_943P', Float64), ('annuity_853A', Float64), ('approvaldate_319D', Date), ('byoccupationinc_3656910L', Float64), ('cancelreason_3545846M', String), ('childnum_21L', Float64), ('creationdate_885D', Date), ('credacc_actualbalance_314A', Float64), ('credacc_credlmt_575A', Float64), ('credacc_maxhisbal_375A', Float64), ('credacc_minhisbal_90A', Float64), ('credacc_status_367L', String), ('credacc_transactions_402L', Float64), ('credamount_590A', Float64), ('credtype_587L', String), ('currdebt_94A', Float64), ('dateactivated_425D', Date), ('district_544M', String), ('downpmt_134A', Float64), ('dtlastpmt_581D', Date), ('dtlastpmtallstes_3545839D', Date), ('education_1138M', String), ('employedfrom_700D', Date), ('familystate_726L', String), ('firstnonzeroinstldate_307D', Date), ('inittransactioncode_279L', String), ('isbidproduct_390L', Boolean), ('isdebitcard_527L', Boolean), ('mainoccupationinc_437A', Float64), ('maxdpdtolerance_577P', Float64), ('num_group1', Int64), ('outstandingdebt_522A', Float64), ('pmtnum_8L', Float64), ('postype_4733339M', String), ('profession_152M', String), ('rejectreason_755M', String), ('rejectreasonclient_4145042M', String), ('revolvingaccount_394A', Float64), ('status_219L', String), ('tenor_203L', Float64)])\n"
     ]
    }
   ],
   "source": [
    "date_columns = ['approvaldate_319D', 'creationdate_885D', 'dateactivated_425D', \n",
    "                'dtlastpmt_581D', 'dtlastpmtallstes_3545839D', 'employedfrom_700D', \n",
    "                'firstnonzeroinstldate_307D']\n",
    "\n",
    "# Convert columns to date format using with_columns()\n",
    "df2 = df2.with_columns(\n",
    "    [pl.col(column).str.strptime(pl.Date, \"%Y-%m-%d\").alias(column) for column in date_columns]\n",
    ")\n",
    "\n",
    "# Check the data types after conversion using the schema property\n",
    "print(df2.schema)"
   ]
  },
  {
   "cell_type": "markdown",
   "metadata": {},
   "source": [
    "### For each date column, separate the days, month and year in different columns"
   ]
  },
  {
   "cell_type": "code",
   "execution_count": 33,
   "metadata": {},
   "outputs": [],
   "source": [
    "df2 = df2.with_columns(\n",
    "    [\n",
    "        item\n",
    "        for column in date_columns\n",
    "        for item in [\n",
    "            pl.col(column).dt.year().alias(column + '_year'),\n",
    "            pl.col(column).dt.month().alias(column + '_month'),\n",
    "            pl.col(column).dt.day().alias(column + '_day'),\n",
    "        ]\n",
    "    ]\n",
    ")"
   ]
  },
  {
   "cell_type": "code",
   "execution_count": 34,
   "metadata": {},
   "outputs": [],
   "source": [
    "# Drop existing date columns\n",
    "df2 = df2.drop(date_columns)"
   ]
  },
  {
   "cell_type": "code",
   "execution_count": 35,
   "metadata": {},
   "outputs": [
    {
     "name": "stdout",
     "output_type": "stream",
     "text": [
      "OrderedDict([('case_id', Int64), ('actualdpd_943P', Float64), ('annuity_853A', Float64), ('byoccupationinc_3656910L', Float64), ('cancelreason_3545846M', String), ('childnum_21L', Float64), ('credacc_actualbalance_314A', Float64), ('credacc_credlmt_575A', Float64), ('credacc_maxhisbal_375A', Float64), ('credacc_minhisbal_90A', Float64), ('credacc_status_367L', String), ('credacc_transactions_402L', Float64), ('credamount_590A', Float64), ('credtype_587L', String), ('currdebt_94A', Float64), ('district_544M', String), ('downpmt_134A', Float64), ('education_1138M', String), ('familystate_726L', String), ('inittransactioncode_279L', String), ('isbidproduct_390L', Boolean), ('isdebitcard_527L', Boolean), ('mainoccupationinc_437A', Float64), ('maxdpdtolerance_577P', Float64), ('num_group1', Int64), ('outstandingdebt_522A', Float64), ('pmtnum_8L', Float64), ('postype_4733339M', String), ('profession_152M', String), ('rejectreason_755M', String), ('rejectreasonclient_4145042M', String), ('revolvingaccount_394A', Float64), ('status_219L', String), ('tenor_203L', Float64), ('approvaldate_319D_year', Int32), ('approvaldate_319D_month', Int8), ('approvaldate_319D_day', Int8), ('creationdate_885D_year', Int32), ('creationdate_885D_month', Int8), ('creationdate_885D_day', Int8), ('dateactivated_425D_year', Int32), ('dateactivated_425D_month', Int8), ('dateactivated_425D_day', Int8), ('dtlastpmt_581D_year', Int32), ('dtlastpmt_581D_month', Int8), ('dtlastpmt_581D_day', Int8), ('dtlastpmtallstes_3545839D_year', Int32), ('dtlastpmtallstes_3545839D_month', Int8), ('dtlastpmtallstes_3545839D_day', Int8), ('employedfrom_700D_year', Int32), ('employedfrom_700D_month', Int8), ('employedfrom_700D_day', Int8), ('firstnonzeroinstldate_307D_year', Int32), ('firstnonzeroinstldate_307D_month', Int8), ('firstnonzeroinstldate_307D_day', Int8)])\n"
     ]
    }
   ],
   "source": [
    "# Print the schema to verify types\n",
    "print(df2.schema)"
   ]
  },
  {
   "cell_type": "code",
   "execution_count": null,
   "metadata": {},
   "outputs": [],
   "source": []
  }
 ],
 "metadata": {
  "kernelspec": {
   "display_name": "Python 3",
   "language": "python",
   "name": "python3"
  },
  "language_info": {
   "codemirror_mode": {
    "name": "ipython",
    "version": 3
   },
   "file_extension": ".py",
   "mimetype": "text/x-python",
   "name": "python",
   "nbconvert_exporter": "python",
   "pygments_lexer": "ipython3",
   "version": "3.11.7"
  }
 },
 "nbformat": 4,
 "nbformat_minor": 2
}
