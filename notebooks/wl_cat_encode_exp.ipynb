{
 "cells": [
  {
   "cell_type": "code",
   "execution_count": 44,
   "metadata": {},
   "outputs": [],
   "source": [
    "import polars as pl\n",
    "import pandas as pd\n",
    "import glob\n",
    "import os\n",
    "\n",
    "from sklearn.preprocessing import LabelEncoder"
   ]
  },
  {
   "cell_type": "code",
   "execution_count": 15,
   "metadata": {},
   "outputs": [],
   "source": [
    "def set_table_dtypes(df: pl.DataFrame) -> pl.DataFrame:\n",
    "    # implement here all desired dtypes for tables\n",
    "    # the following is just an example\n",
    "    for col in df.columns:\n",
    "        # last letter of column name will help you determine the type\n",
    "        if col[-1] in (\"P\", \"A\"):\n",
    "            df = df.with_columns(pl.col(col).cast(pl.Float64).alias(col))\n",
    "        \n",
    "        if col[-1] == 'D':\n",
    "            df = df.with_columns(pl.col(col).str.to_date())\n",
    "\n",
    "    return df"
   ]
  },
  {
   "cell_type": "code",
   "execution_count": 16,
   "metadata": {},
   "outputs": [],
   "source": [
    "df = pl.read_parquet('../data/raw/parquet_files/train/train_credit_bureau_a_1_0.parquet').pipe((set_table_dtypes))"
   ]
  },
  {
   "cell_type": "code",
   "execution_count": 17,
   "metadata": {},
   "outputs": [
    {
     "data": {
      "text/html": [
       "<div><style>\n",
       ".dataframe > thead > tr,\n",
       ".dataframe > tbody > tr {\n",
       "  text-align: right;\n",
       "  white-space: pre-wrap;\n",
       "}\n",
       "</style>\n",
       "<small>shape: (4_108_212, 79)</small><table border=\"1\" class=\"dataframe\"><thead><tr><th>case_id</th><th>annualeffectiverate_199L</th><th>annualeffectiverate_63L</th><th>classificationofcontr_13M</th><th>classificationofcontr_400M</th><th>contractst_545M</th><th>contractst_964M</th><th>contractsum_5085717L</th><th>credlmt_230A</th><th>credlmt_935A</th><th>dateofcredend_289D</th><th>dateofcredend_353D</th><th>dateofcredstart_181D</th><th>dateofcredstart_739D</th><th>dateofrealrepmt_138D</th><th>debtoutstand_525A</th><th>debtoverdue_47A</th><th>description_351M</th><th>dpdmax_139P</th><th>dpdmax_757P</th><th>dpdmaxdatemonth_442T</th><th>dpdmaxdatemonth_89T</th><th>dpdmaxdateyear_596T</th><th>dpdmaxdateyear_896T</th><th>financialinstitution_382M</th><th>financialinstitution_591M</th><th>instlamount_768A</th><th>instlamount_852A</th><th>interestrate_508L</th><th>lastupdate_1112D</th><th>lastupdate_388D</th><th>monthlyinstlamount_332A</th><th>monthlyinstlamount_674A</th><th>nominalrate_281L</th><th>nominalrate_498L</th><th>num_group1</th><th>numberofcontrsvalue_258L</th><th>&hellip;</th><th>numberofoverdueinstlmax_1039L</th><th>numberofoverdueinstlmax_1151L</th><th>numberofoverdueinstlmaxdat_148D</th><th>numberofoverdueinstlmaxdat_641D</th><th>numberofoverdueinstls_725L</th><th>numberofoverdueinstls_834L</th><th>outstandingamount_354A</th><th>outstandingamount_362A</th><th>overdueamount_31A</th><th>overdueamount_659A</th><th>overdueamountmax2_14A</th><th>overdueamountmax2_398A</th><th>overdueamountmax2date_1002D</th><th>overdueamountmax2date_1142D</th><th>overdueamountmax_155A</th><th>overdueamountmax_35A</th><th>overdueamountmaxdatemonth_284T</th><th>overdueamountmaxdatemonth_365T</th><th>overdueamountmaxdateyear_2T</th><th>overdueamountmaxdateyear_994T</th><th>periodicityofpmts_1102L</th><th>periodicityofpmts_837L</th><th>prolongationcount_1120L</th><th>prolongationcount_599L</th><th>purposeofcred_426M</th><th>purposeofcred_874M</th><th>refreshdate_3813885D</th><th>residualamount_488A</th><th>residualamount_856A</th><th>subjectrole_182M</th><th>subjectrole_93M</th><th>totalamount_6A</th><th>totalamount_996A</th><th>totaldebtoverduevalue_178A</th><th>totaldebtoverduevalue_718A</th><th>totaloutstanddebtvalue_39A</th><th>totaloutstanddebtvalue_668A</th></tr><tr><td>i64</td><td>f64</td><td>f64</td><td>str</td><td>str</td><td>str</td><td>str</td><td>f64</td><td>f64</td><td>f64</td><td>date</td><td>date</td><td>date</td><td>date</td><td>date</td><td>f64</td><td>f64</td><td>str</td><td>f64</td><td>f64</td><td>f64</td><td>f64</td><td>f64</td><td>f64</td><td>str</td><td>str</td><td>f64</td><td>f64</td><td>f64</td><td>date</td><td>date</td><td>f64</td><td>f64</td><td>f64</td><td>f64</td><td>i64</td><td>f64</td><td>&hellip;</td><td>f64</td><td>f64</td><td>date</td><td>date</td><td>f64</td><td>f64</td><td>f64</td><td>f64</td><td>f64</td><td>f64</td><td>f64</td><td>f64</td><td>date</td><td>date</td><td>f64</td><td>f64</td><td>f64</td><td>f64</td><td>f64</td><td>f64</td><td>f64</td><td>f64</td><td>f64</td><td>f64</td><td>str</td><td>str</td><td>date</td><td>f64</td><td>f64</td><td>str</td><td>str</td><td>f64</td><td>f64</td><td>f64</td><td>f64</td><td>f64</td><td>f64</td></tr></thead><tbody><tr><td>388</td><td>null</td><td>null</td><td>&quot;4408ff0f&quot;</td><td>&quot;a55475b1&quot;</td><td>&quot;7241344e&quot;</td><td>&quot;a55475b1&quot;</td><td>null</td><td>null</td><td>null</td><td>2023-06-20</td><td>null</td><td>null</td><td>2018-06-20</td><td>null</td><td>374419.5</td><td>0.0</td><td>&quot;a55475b1&quot;</td><td>0.0</td><td>null</td><td>null</td><td>7.0</td><td>2018.0</td><td>null</td><td>&quot;a55475b1&quot;</td><td>&quot;55b002a9&quot;</td><td>null</td><td>null</td><td>null</td><td>2019-01-24</td><td>null</td><td>7811.4463</td><td>null</td><td>null</td><td>null</td><td>0</td><td>2.0</td><td>&hellip;</td><td>0.0</td><td>null</td><td>null</td><td>null</td><td>0.0</td><td>null</td><td>null</td><td>260093.7</td><td>null</td><td>0.0</td><td>0.0</td><td>null</td><td>null</td><td>null</td><td>0.0</td><td>null</td><td>null</td><td>7.0</td><td>2018.0</td><td>null</td><td>null</td><td>30.0</td><td>null</td><td>null</td><td>&quot;96a8fdfe&quot;</td><td>&quot;a55475b1&quot;</td><td>null</td><td>null</td><td>null</td><td>&quot;ab3c25cf&quot;</td><td>&quot;ab3c25cf&quot;</td><td>null</td><td>268897.62</td><td>0.0</td><td>0.0</td><td>374419.5</td><td>0.0</td></tr><tr><td>388</td><td>null</td><td>null</td><td>&quot;ea6782cc&quot;</td><td>&quot;a55475b1&quot;</td><td>&quot;7241344e&quot;</td><td>&quot;a55475b1&quot;</td><td>null</td><td>null</td><td>135806.0</td><td>2020-08-06</td><td>null</td><td>null</td><td>2018-08-06</td><td>null</td><td>null</td><td>null</td><td>&quot;a55475b1&quot;</td><td>0.0</td><td>null</td><td>null</td><td>8.0</td><td>2018.0</td><td>null</td><td>&quot;a55475b1&quot;</td><td>&quot;P204_66_73&quot;</td><td>8742.8</td><td>null</td><td>null</td><td>2019-01-11</td><td>null</td><td>8742.8</td><td>null</td><td>null</td><td>null</td><td>1</td><td>null</td><td>&hellip;</td><td>0.0</td><td>null</td><td>null</td><td>null</td><td>0.0</td><td>null</td><td>null</td><td>null</td><td>null</td><td>0.0</td><td>0.0</td><td>null</td><td>null</td><td>null</td><td>0.0</td><td>null</td><td>null</td><td>8.0</td><td>2018.0</td><td>null</td><td>null</td><td>null</td><td>null</td><td>null</td><td>&quot;60c73645&quot;</td><td>&quot;a55475b1&quot;</td><td>null</td><td>null</td><td>114325.805</td><td>&quot;a55475b1&quot;</td><td>&quot;a55475b1&quot;</td><td>null</td><td>null</td><td>null</td><td>null</td><td>null</td><td>null</td></tr><tr><td>388</td><td>null</td><td>null</td><td>&quot;a55475b1&quot;</td><td>&quot;a55475b1&quot;</td><td>&quot;a55475b1&quot;</td><td>&quot;a55475b1&quot;</td><td>null</td><td>null</td><td>null</td><td>null</td><td>null</td><td>null</td><td>null</td><td>null</td><td>null</td><td>null</td><td>&quot;a55475b1&quot;</td><td>null</td><td>null</td><td>null</td><td>null</td><td>null</td><td>null</td><td>&quot;a55475b1&quot;</td><td>&quot;a55475b1&quot;</td><td>null</td><td>null</td><td>null</td><td>null</td><td>null</td><td>null</td><td>null</td><td>null</td><td>null</td><td>2</td><td>null</td><td>&hellip;</td><td>null</td><td>null</td><td>null</td><td>null</td><td>null</td><td>null</td><td>null</td><td>null</td><td>null</td><td>null</td><td>null</td><td>null</td><td>null</td><td>null</td><td>null</td><td>null</td><td>null</td><td>null</td><td>null</td><td>null</td><td>null</td><td>null</td><td>null</td><td>null</td><td>&quot;a55475b1&quot;</td><td>&quot;a55475b1&quot;</td><td>2019-01-28</td><td>null</td><td>null</td><td>&quot;a55475b1&quot;</td><td>&quot;a55475b1&quot;</td><td>null</td><td>null</td><td>null</td><td>null</td><td>null</td><td>null</td></tr><tr><td>388</td><td>null</td><td>null</td><td>&quot;a55475b1&quot;</td><td>&quot;a55475b1&quot;</td><td>&quot;a55475b1&quot;</td><td>&quot;a55475b1&quot;</td><td>null</td><td>null</td><td>null</td><td>null</td><td>null</td><td>null</td><td>null</td><td>null</td><td>null</td><td>null</td><td>&quot;a55475b1&quot;</td><td>null</td><td>null</td><td>null</td><td>null</td><td>null</td><td>null</td><td>&quot;a55475b1&quot;</td><td>&quot;a55475b1&quot;</td><td>null</td><td>null</td><td>null</td><td>null</td><td>null</td><td>null</td><td>null</td><td>null</td><td>null</td><td>3</td><td>null</td><td>&hellip;</td><td>null</td><td>null</td><td>null</td><td>null</td><td>null</td><td>null</td><td>null</td><td>null</td><td>null</td><td>null</td><td>null</td><td>null</td><td>null</td><td>null</td><td>null</td><td>null</td><td>null</td><td>null</td><td>null</td><td>null</td><td>null</td><td>null</td><td>null</td><td>null</td><td>&quot;a55475b1&quot;</td><td>&quot;a55475b1&quot;</td><td>2019-01-28</td><td>null</td><td>null</td><td>&quot;a55475b1&quot;</td><td>&quot;a55475b1&quot;</td><td>null</td><td>null</td><td>null</td><td>null</td><td>null</td><td>null</td></tr><tr><td>388</td><td>null</td><td>null</td><td>&quot;a55475b1&quot;</td><td>&quot;a55475b1&quot;</td><td>&quot;a55475b1&quot;</td><td>&quot;a55475b1&quot;</td><td>null</td><td>null</td><td>null</td><td>null</td><td>null</td><td>null</td><td>null</td><td>null</td><td>null</td><td>null</td><td>&quot;a55475b1&quot;</td><td>null</td><td>null</td><td>null</td><td>null</td><td>null</td><td>null</td><td>&quot;a55475b1&quot;</td><td>&quot;a55475b1&quot;</td><td>null</td><td>null</td><td>null</td><td>null</td><td>null</td><td>null</td><td>null</td><td>null</td><td>null</td><td>4</td><td>null</td><td>&hellip;</td><td>null</td><td>null</td><td>null</td><td>null</td><td>null</td><td>null</td><td>null</td><td>null</td><td>null</td><td>null</td><td>null</td><td>null</td><td>null</td><td>null</td><td>null</td><td>null</td><td>null</td><td>null</td><td>null</td><td>null</td><td>null</td><td>null</td><td>null</td><td>null</td><td>&quot;a55475b1&quot;</td><td>&quot;a55475b1&quot;</td><td>2019-01-28</td><td>null</td><td>null</td><td>&quot;a55475b1&quot;</td><td>&quot;a55475b1&quot;</td><td>null</td><td>null</td><td>null</td><td>null</td><td>null</td><td>null</td></tr><tr><td>&hellip;</td><td>&hellip;</td><td>&hellip;</td><td>&hellip;</td><td>&hellip;</td><td>&hellip;</td><td>&hellip;</td><td>&hellip;</td><td>&hellip;</td><td>&hellip;</td><td>&hellip;</td><td>&hellip;</td><td>&hellip;</td><td>&hellip;</td><td>&hellip;</td><td>&hellip;</td><td>&hellip;</td><td>&hellip;</td><td>&hellip;</td><td>&hellip;</td><td>&hellip;</td><td>&hellip;</td><td>&hellip;</td><td>&hellip;</td><td>&hellip;</td><td>&hellip;</td><td>&hellip;</td><td>&hellip;</td><td>&hellip;</td><td>&hellip;</td><td>&hellip;</td><td>&hellip;</td><td>&hellip;</td><td>&hellip;</td><td>&hellip;</td><td>&hellip;</td><td>&hellip;</td><td>&hellip;</td><td>&hellip;</td><td>&hellip;</td><td>&hellip;</td><td>&hellip;</td><td>&hellip;</td><td>&hellip;</td><td>&hellip;</td><td>&hellip;</td><td>&hellip;</td><td>&hellip;</td><td>&hellip;</td><td>&hellip;</td><td>&hellip;</td><td>&hellip;</td><td>&hellip;</td><td>&hellip;</td><td>&hellip;</td><td>&hellip;</td><td>&hellip;</td><td>&hellip;</td><td>&hellip;</td><td>&hellip;</td><td>&hellip;</td><td>&hellip;</td><td>&hellip;</td><td>&hellip;</td><td>&hellip;</td><td>&hellip;</td><td>&hellip;</td><td>&hellip;</td><td>&hellip;</td><td>&hellip;</td><td>&hellip;</td><td>&hellip;</td><td>&hellip;</td><td>&hellip;</td><td>&hellip;</td></tr><tr><td>2588481</td><td>null</td><td>null</td><td>&quot;a55475b1&quot;</td><td>&quot;a55475b1&quot;</td><td>&quot;a55475b1&quot;</td><td>&quot;a55475b1&quot;</td><td>null</td><td>null</td><td>null</td><td>null</td><td>null</td><td>null</td><td>null</td><td>null</td><td>null</td><td>null</td><td>&quot;a55475b1&quot;</td><td>null</td><td>null</td><td>null</td><td>null</td><td>null</td><td>null</td><td>&quot;a55475b1&quot;</td><td>&quot;a55475b1&quot;</td><td>null</td><td>null</td><td>null</td><td>null</td><td>null</td><td>null</td><td>null</td><td>null</td><td>null</td><td>6</td><td>null</td><td>&hellip;</td><td>null</td><td>null</td><td>null</td><td>null</td><td>null</td><td>null</td><td>null</td><td>null</td><td>null</td><td>null</td><td>null</td><td>null</td><td>null</td><td>null</td><td>null</td><td>null</td><td>null</td><td>null</td><td>null</td><td>null</td><td>null</td><td>null</td><td>null</td><td>null</td><td>&quot;a55475b1&quot;</td><td>&quot;a55475b1&quot;</td><td>2019-01-03</td><td>null</td><td>null</td><td>&quot;a55475b1&quot;</td><td>&quot;a55475b1&quot;</td><td>null</td><td>null</td><td>null</td><td>null</td><td>null</td><td>null</td></tr><tr><td>2588481</td><td>null</td><td>null</td><td>&quot;a55475b1&quot;</td><td>&quot;a55475b1&quot;</td><td>&quot;a55475b1&quot;</td><td>&quot;a55475b1&quot;</td><td>null</td><td>null</td><td>null</td><td>null</td><td>null</td><td>null</td><td>null</td><td>null</td><td>null</td><td>null</td><td>&quot;a55475b1&quot;</td><td>null</td><td>null</td><td>null</td><td>null</td><td>null</td><td>null</td><td>&quot;a55475b1&quot;</td><td>&quot;a55475b1&quot;</td><td>null</td><td>null</td><td>null</td><td>null</td><td>null</td><td>null</td><td>null</td><td>null</td><td>null</td><td>7</td><td>null</td><td>&hellip;</td><td>null</td><td>null</td><td>null</td><td>null</td><td>null</td><td>null</td><td>null</td><td>null</td><td>null</td><td>null</td><td>null</td><td>null</td><td>null</td><td>null</td><td>null</td><td>null</td><td>null</td><td>null</td><td>null</td><td>null</td><td>null</td><td>null</td><td>null</td><td>null</td><td>&quot;a55475b1&quot;</td><td>&quot;a55475b1&quot;</td><td>2019-07-01</td><td>null</td><td>null</td><td>&quot;a55475b1&quot;</td><td>&quot;a55475b1&quot;</td><td>null</td><td>null</td><td>null</td><td>null</td><td>null</td><td>null</td></tr><tr><td>2588481</td><td>null</td><td>null</td><td>&quot;a55475b1&quot;</td><td>&quot;a55475b1&quot;</td><td>&quot;a55475b1&quot;</td><td>&quot;a55475b1&quot;</td><td>null</td><td>null</td><td>null</td><td>null</td><td>null</td><td>null</td><td>null</td><td>null</td><td>null</td><td>null</td><td>&quot;a55475b1&quot;</td><td>null</td><td>null</td><td>null</td><td>null</td><td>null</td><td>null</td><td>&quot;a55475b1&quot;</td><td>&quot;a55475b1&quot;</td><td>null</td><td>null</td><td>null</td><td>null</td><td>null</td><td>null</td><td>null</td><td>null</td><td>null</td><td>8</td><td>null</td><td>&hellip;</td><td>null</td><td>null</td><td>null</td><td>null</td><td>null</td><td>null</td><td>null</td><td>null</td><td>null</td><td>null</td><td>null</td><td>null</td><td>null</td><td>null</td><td>null</td><td>null</td><td>null</td><td>null</td><td>null</td><td>null</td><td>null</td><td>null</td><td>null</td><td>null</td><td>&quot;a55475b1&quot;</td><td>&quot;a55475b1&quot;</td><td>2019-05-04</td><td>null</td><td>null</td><td>&quot;a55475b1&quot;</td><td>&quot;a55475b1&quot;</td><td>null</td><td>null</td><td>null</td><td>null</td><td>null</td><td>null</td></tr><tr><td>2588481</td><td>null</td><td>null</td><td>&quot;a55475b1&quot;</td><td>&quot;a55475b1&quot;</td><td>&quot;a55475b1&quot;</td><td>&quot;a55475b1&quot;</td><td>null</td><td>null</td><td>null</td><td>null</td><td>null</td><td>null</td><td>null</td><td>null</td><td>null</td><td>null</td><td>&quot;a55475b1&quot;</td><td>null</td><td>null</td><td>null</td><td>null</td><td>null</td><td>null</td><td>&quot;a55475b1&quot;</td><td>&quot;a55475b1&quot;</td><td>null</td><td>null</td><td>null</td><td>null</td><td>null</td><td>null</td><td>null</td><td>null</td><td>null</td><td>9</td><td>null</td><td>&hellip;</td><td>null</td><td>null</td><td>null</td><td>null</td><td>null</td><td>null</td><td>null</td><td>null</td><td>null</td><td>null</td><td>null</td><td>null</td><td>null</td><td>null</td><td>null</td><td>null</td><td>null</td><td>null</td><td>null</td><td>null</td><td>null</td><td>null</td><td>null</td><td>null</td><td>&quot;a55475b1&quot;</td><td>&quot;a55475b1&quot;</td><td>2019-02-06</td><td>null</td><td>null</td><td>&quot;a55475b1&quot;</td><td>&quot;a55475b1&quot;</td><td>null</td><td>null</td><td>null</td><td>null</td><td>null</td><td>null</td></tr><tr><td>2588481</td><td>null</td><td>null</td><td>&quot;a55475b1&quot;</td><td>&quot;a55475b1&quot;</td><td>&quot;a55475b1&quot;</td><td>&quot;a55475b1&quot;</td><td>null</td><td>null</td><td>null</td><td>null</td><td>null</td><td>null</td><td>null</td><td>null</td><td>null</td><td>null</td><td>&quot;a55475b1&quot;</td><td>null</td><td>null</td><td>null</td><td>null</td><td>null</td><td>null</td><td>&quot;a55475b1&quot;</td><td>&quot;a55475b1&quot;</td><td>null</td><td>null</td><td>null</td><td>null</td><td>null</td><td>null</td><td>null</td><td>null</td><td>null</td><td>10</td><td>null</td><td>&hellip;</td><td>null</td><td>null</td><td>null</td><td>null</td><td>null</td><td>null</td><td>null</td><td>null</td><td>null</td><td>null</td><td>null</td><td>null</td><td>null</td><td>null</td><td>null</td><td>null</td><td>null</td><td>null</td><td>null</td><td>null</td><td>null</td><td>null</td><td>null</td><td>null</td><td>&quot;a55475b1&quot;</td><td>&quot;a55475b1&quot;</td><td>2019-05-03</td><td>null</td><td>null</td><td>&quot;a55475b1&quot;</td><td>&quot;a55475b1&quot;</td><td>null</td><td>null</td><td>null</td><td>null</td><td>null</td><td>null</td></tr></tbody></table></div>"
      ],
      "text/plain": [
       "shape: (4_108_212, 79)\n",
       "┌─────────┬────────────┬───────────┬───────────┬───┬───────────┬───────────┬───────────┬───────────┐\n",
       "│ case_id ┆ annualeffe ┆ annualeff ┆ classific ┆ … ┆ totaldebt ┆ totaldebt ┆ totalouts ┆ totalouts │\n",
       "│ ---     ┆ ctiverate_ ┆ ectiverat ┆ ationofco ┆   ┆ overdueva ┆ overdueva ┆ tanddebtv ┆ tanddebtv │\n",
       "│ i64     ┆ 199L       ┆ e_63L     ┆ ntr_13M   ┆   ┆ lue_178A  ┆ lue_718A  ┆ alue_39A  ┆ alue_668A │\n",
       "│         ┆ ---        ┆ ---       ┆ ---       ┆   ┆ ---       ┆ ---       ┆ ---       ┆ ---       │\n",
       "│         ┆ f64        ┆ f64       ┆ str       ┆   ┆ f64       ┆ f64       ┆ f64       ┆ f64       │\n",
       "╞═════════╪════════════╪═══════════╪═══════════╪═══╪═══════════╪═══════════╪═══════════╪═══════════╡\n",
       "│ 388     ┆ null       ┆ null      ┆ 4408ff0f  ┆ … ┆ 0.0       ┆ 0.0       ┆ 374419.5  ┆ 0.0       │\n",
       "│ 388     ┆ null       ┆ null      ┆ ea6782cc  ┆ … ┆ null      ┆ null      ┆ null      ┆ null      │\n",
       "│ 388     ┆ null       ┆ null      ┆ a55475b1  ┆ … ┆ null      ┆ null      ┆ null      ┆ null      │\n",
       "│ 388     ┆ null       ┆ null      ┆ a55475b1  ┆ … ┆ null      ┆ null      ┆ null      ┆ null      │\n",
       "│ 388     ┆ null       ┆ null      ┆ a55475b1  ┆ … ┆ null      ┆ null      ┆ null      ┆ null      │\n",
       "│ …       ┆ …          ┆ …         ┆ …         ┆ … ┆ …         ┆ …         ┆ …         ┆ …         │\n",
       "│ 2588481 ┆ null       ┆ null      ┆ a55475b1  ┆ … ┆ null      ┆ null      ┆ null      ┆ null      │\n",
       "│ 2588481 ┆ null       ┆ null      ┆ a55475b1  ┆ … ┆ null      ┆ null      ┆ null      ┆ null      │\n",
       "│ 2588481 ┆ null       ┆ null      ┆ a55475b1  ┆ … ┆ null      ┆ null      ┆ null      ┆ null      │\n",
       "│ 2588481 ┆ null       ┆ null      ┆ a55475b1  ┆ … ┆ null      ┆ null      ┆ null      ┆ null      │\n",
       "│ 2588481 ┆ null       ┆ null      ┆ a55475b1  ┆ … ┆ null      ┆ null      ┆ null      ┆ null      │\n",
       "└─────────┴────────────┴───────────┴───────────┴───┴───────────┴───────────┴───────────┴───────────┘"
      ]
     },
     "execution_count": 17,
     "metadata": {},
     "output_type": "execute_result"
    }
   ],
   "source": [
    "df"
   ]
  },
  {
   "cell_type": "code",
   "execution_count": 201,
   "metadata": {},
   "outputs": [],
   "source": [
    "date_cols = [ df.columns[i] for i in range(len(df.columns)) if df.dtypes[i] == pl.Date ]\n",
    "\n",
    "# Categorical columns\n",
    "cat_cols = [ df.columns[i] for i in range(len(df.columns)) if df.dtypes[i] == pl.String ]\n",
    "\n",
    "ignore_cols = ['case_id', 'num_group1', 'num_group2']\n",
    "num_cols = [ \n",
    "    df.columns[i] for i in range(len(df.columns)) \n",
    "    if (df.columns[i] not in date_cols) and (df.columns[i] not in cat_cols) and (df.columns[i] not in ignore_cols)\n",
    "]"
   ]
  },
  {
   "cell_type": "code",
   "execution_count": 103,
   "metadata": {},
   "outputs": [],
   "source": [
    "def separate_dates(df: pl.DataFrame, date_cols: list[str] = []) -> pl.DataFrame:\n",
    "\n",
    "    date_df = df.select(date_cols)\n",
    "\n",
    "    for col in date_cols:\n",
    "        date_df = date_df.with_columns(pl.col(col).dt.year().alias(col + '_year'))\n",
    "        date_df = date_df.with_columns(pl.col(col).dt.month().alias(col + '_month'))\n",
    "        date_df = date_df.with_columns(pl.col(col).dt.day().alias(col + '_day'))\n",
    "        date_df.drop_in_place(col)\n",
    "\n",
    "    return date_df"
   ]
  },
  {
   "cell_type": "code",
   "execution_count": 109,
   "metadata": {},
   "outputs": [],
   "source": [
    "date_df = separate_dates(df, date_cols=date_cols)"
   ]
  },
  {
   "cell_type": "code",
   "execution_count": 110,
   "metadata": {},
   "outputs": [
    {
     "data": {
      "text/html": [
       "<div><style>\n",
       ".dataframe > thead > tr,\n",
       ".dataframe > tbody > tr {\n",
       "  text-align: right;\n",
       "  white-space: pre-wrap;\n",
       "}\n",
       "</style>\n",
       "<small>shape: (5, 36)</small><table border=\"1\" class=\"dataframe\"><thead><tr><th>dateofcredend_289D_year</th><th>dateofcredend_289D_month</th><th>dateofcredend_289D_day</th><th>dateofcredend_353D_year</th><th>dateofcredend_353D_month</th><th>dateofcredend_353D_day</th><th>dateofcredstart_181D_year</th><th>dateofcredstart_181D_month</th><th>dateofcredstart_181D_day</th><th>dateofcredstart_739D_year</th><th>dateofcredstart_739D_month</th><th>dateofcredstart_739D_day</th><th>dateofrealrepmt_138D_year</th><th>dateofrealrepmt_138D_month</th><th>dateofrealrepmt_138D_day</th><th>lastupdate_1112D_year</th><th>lastupdate_1112D_month</th><th>lastupdate_1112D_day</th><th>lastupdate_388D_year</th><th>lastupdate_388D_month</th><th>lastupdate_388D_day</th><th>numberofoverdueinstlmaxdat_148D_year</th><th>numberofoverdueinstlmaxdat_148D_month</th><th>numberofoverdueinstlmaxdat_148D_day</th><th>numberofoverdueinstlmaxdat_641D_year</th><th>numberofoverdueinstlmaxdat_641D_month</th><th>numberofoverdueinstlmaxdat_641D_day</th><th>overdueamountmax2date_1002D_year</th><th>overdueamountmax2date_1002D_month</th><th>overdueamountmax2date_1002D_day</th><th>overdueamountmax2date_1142D_year</th><th>overdueamountmax2date_1142D_month</th><th>overdueamountmax2date_1142D_day</th><th>refreshdate_3813885D_year</th><th>refreshdate_3813885D_month</th><th>refreshdate_3813885D_day</th></tr><tr><td>i32</td><td>i8</td><td>i8</td><td>i32</td><td>i8</td><td>i8</td><td>i32</td><td>i8</td><td>i8</td><td>i32</td><td>i8</td><td>i8</td><td>i32</td><td>i8</td><td>i8</td><td>i32</td><td>i8</td><td>i8</td><td>i32</td><td>i8</td><td>i8</td><td>i32</td><td>i8</td><td>i8</td><td>i32</td><td>i8</td><td>i8</td><td>i32</td><td>i8</td><td>i8</td><td>i32</td><td>i8</td><td>i8</td><td>i32</td><td>i8</td><td>i8</td></tr></thead><tbody><tr><td>2023</td><td>6</td><td>20</td><td>null</td><td>null</td><td>null</td><td>null</td><td>null</td><td>null</td><td>2018</td><td>6</td><td>20</td><td>null</td><td>null</td><td>null</td><td>2019</td><td>1</td><td>24</td><td>null</td><td>null</td><td>null</td><td>null</td><td>null</td><td>null</td><td>null</td><td>null</td><td>null</td><td>null</td><td>null</td><td>null</td><td>null</td><td>null</td><td>null</td><td>null</td><td>null</td><td>null</td></tr><tr><td>2020</td><td>8</td><td>6</td><td>null</td><td>null</td><td>null</td><td>null</td><td>null</td><td>null</td><td>2018</td><td>8</td><td>6</td><td>null</td><td>null</td><td>null</td><td>2019</td><td>1</td><td>11</td><td>null</td><td>null</td><td>null</td><td>null</td><td>null</td><td>null</td><td>null</td><td>null</td><td>null</td><td>null</td><td>null</td><td>null</td><td>null</td><td>null</td><td>null</td><td>null</td><td>null</td><td>null</td></tr><tr><td>null</td><td>null</td><td>null</td><td>null</td><td>null</td><td>null</td><td>null</td><td>null</td><td>null</td><td>null</td><td>null</td><td>null</td><td>null</td><td>null</td><td>null</td><td>null</td><td>null</td><td>null</td><td>null</td><td>null</td><td>null</td><td>null</td><td>null</td><td>null</td><td>null</td><td>null</td><td>null</td><td>null</td><td>null</td><td>null</td><td>null</td><td>null</td><td>null</td><td>2019</td><td>1</td><td>28</td></tr><tr><td>null</td><td>null</td><td>null</td><td>null</td><td>null</td><td>null</td><td>null</td><td>null</td><td>null</td><td>null</td><td>null</td><td>null</td><td>null</td><td>null</td><td>null</td><td>null</td><td>null</td><td>null</td><td>null</td><td>null</td><td>null</td><td>null</td><td>null</td><td>null</td><td>null</td><td>null</td><td>null</td><td>null</td><td>null</td><td>null</td><td>null</td><td>null</td><td>null</td><td>2019</td><td>1</td><td>28</td></tr><tr><td>null</td><td>null</td><td>null</td><td>null</td><td>null</td><td>null</td><td>null</td><td>null</td><td>null</td><td>null</td><td>null</td><td>null</td><td>null</td><td>null</td><td>null</td><td>null</td><td>null</td><td>null</td><td>null</td><td>null</td><td>null</td><td>null</td><td>null</td><td>null</td><td>null</td><td>null</td><td>null</td><td>null</td><td>null</td><td>null</td><td>null</td><td>null</td><td>null</td><td>2019</td><td>1</td><td>28</td></tr></tbody></table></div>"
      ],
      "text/plain": [
       "shape: (5, 36)\n",
       "┌───────────┬───────────┬───────────┬───────────┬───┬───────────┬───────────┬───────────┬──────────┐\n",
       "│ dateofcre ┆ dateofcre ┆ dateofcre ┆ dateofcre ┆ … ┆ overdueam ┆ refreshda ┆ refreshda ┆ refreshd │\n",
       "│ dend_289D ┆ dend_289D ┆ dend_289D ┆ dend_353D ┆   ┆ ountmax2d ┆ te_381388 ┆ te_381388 ┆ ate_3813 │\n",
       "│ _year     ┆ _month    ┆ _day      ┆ _year     ┆   ┆ ate_1142D ┆ 5D_year   ┆ 5D_month  ┆ 885D_day │\n",
       "│ ---       ┆ ---       ┆ ---       ┆ ---       ┆   ┆ _day      ┆ ---       ┆ ---       ┆ ---      │\n",
       "│ i32       ┆ i8        ┆ i8        ┆ i32       ┆   ┆ ---       ┆ i32       ┆ i8        ┆ i8       │\n",
       "│           ┆           ┆           ┆           ┆   ┆ i8        ┆           ┆           ┆          │\n",
       "╞═══════════╪═══════════╪═══════════╪═══════════╪═══╪═══════════╪═══════════╪═══════════╪══════════╡\n",
       "│ 2023      ┆ 6         ┆ 20        ┆ null      ┆ … ┆ null      ┆ null      ┆ null      ┆ null     │\n",
       "│ 2020      ┆ 8         ┆ 6         ┆ null      ┆ … ┆ null      ┆ null      ┆ null      ┆ null     │\n",
       "│ null      ┆ null      ┆ null      ┆ null      ┆ … ┆ null      ┆ 2019      ┆ 1         ┆ 28       │\n",
       "│ null      ┆ null      ┆ null      ┆ null      ┆ … ┆ null      ┆ 2019      ┆ 1         ┆ 28       │\n",
       "│ null      ┆ null      ┆ null      ┆ null      ┆ … ┆ null      ┆ 2019      ┆ 1         ┆ 28       │\n",
       "└───────────┴───────────┴───────────┴───────────┴───┴───────────┴───────────┴───────────┴──────────┘"
      ]
     },
     "execution_count": 110,
     "metadata": {},
     "output_type": "execute_result"
    }
   ],
   "source": [
    "date_df.head()"
   ]
  },
  {
   "cell_type": "code",
   "execution_count": 119,
   "metadata": {},
   "outputs": [],
   "source": [
    "new_df = pl.concat([df, date_df], how='horizontal')"
   ]
  },
  {
   "cell_type": "code",
   "execution_count": 120,
   "metadata": {},
   "outputs": [],
   "source": [
    "def freq_encoder(df: pl.DataFrame, cat_cols: list[str] = []) -> pl.DataFrame:\n",
    "\n",
    "    cat_df = df.select(cat_cols)\n",
    "\n",
    "    for col in cat_cols:\n",
    "        # Calculate frequency for each category in the column\n",
    "        value_counts = cat_df.groupby(col).agg(pl.len().alias('count'))\n",
    "        total_count = cat_df.height  # Use height for row count in Polars\n",
    "        frequency = (value_counts.with_columns(\n",
    "                        (value_counts['count'] / total_count).alias(f'{col}_freq')\n",
    "                    ).select([col, f'{col}_freq']))\n",
    "        \n",
    "        # Joining the frequency DataFrame back to the original DataFrame\n",
    "        cat_df = cat_df.join(frequency, on=col, how='left')\n",
    "        cat_df.drop_in_place(col)\n",
    "\n",
    "    return cat_df"
   ]
  },
  {
   "cell_type": "code",
   "execution_count": 125,
   "metadata": {},
   "outputs": [
    {
     "name": "stderr",
     "output_type": "stream",
     "text": [
      "/var/folders/sp/dv4f3qgx20vb8f6ghm2mh5880000gn/T/ipykernel_64627/3365233391.py:7: DeprecationWarning: `groupby` is deprecated. It has been renamed to `group_by`.\n",
      "  value_counts = cat_df.groupby(col).agg(pl.len().alias('count'))\n"
     ]
    }
   ],
   "source": [
    "freq_df = freq_encoder(df, cat_cols=cat_cols)"
   ]
  },
  {
   "cell_type": "code",
   "execution_count": 126,
   "metadata": {},
   "outputs": [
    {
     "data": {
      "text/html": [
       "<div><style>\n",
       ".dataframe > thead > tr,\n",
       ".dataframe > tbody > tr {\n",
       "  text-align: right;\n",
       "  white-space: pre-wrap;\n",
       "}\n",
       "</style>\n",
       "<small>shape: (5, 11)</small><table border=\"1\" class=\"dataframe\"><thead><tr><th>classificationofcontr_13M_freq</th><th>classificationofcontr_400M_freq</th><th>contractst_545M_freq</th><th>contractst_964M_freq</th><th>description_351M_freq</th><th>financialinstitution_382M_freq</th><th>financialinstitution_591M_freq</th><th>purposeofcred_426M_freq</th><th>purposeofcred_874M_freq</th><th>subjectrole_182M_freq</th><th>subjectrole_93M_freq</th></tr><tr><td>f64</td><td>f64</td><td>f64</td><td>f64</td><td>f64</td><td>f64</td><td>f64</td><td>f64</td><td>f64</td><td>f64</td><td>f64</td></tr></thead><tbody><tr><td>0.002313</td><td>0.889024</td><td>0.154702</td><td>0.888859</td><td>0.995765</td><td>0.888827</td><td>0.001622</td><td>0.035934</td><td>0.888839</td><td>0.078808</td><td>0.070128</td></tr><tr><td>0.139587</td><td>0.889024</td><td>0.154702</td><td>0.888859</td><td>0.995765</td><td>0.888827</td><td>0.061924</td><td>0.122771</td><td>0.888839</td><td>0.917829</td><td>0.927316</td></tr><tr><td>0.839874</td><td>0.889024</td><td>0.840134</td><td>0.888859</td><td>0.995765</td><td>0.888827</td><td>0.839736</td><td>0.839736</td><td>0.888839</td><td>0.917829</td><td>0.927316</td></tr><tr><td>0.839874</td><td>0.889024</td><td>0.840134</td><td>0.888859</td><td>0.995765</td><td>0.888827</td><td>0.839736</td><td>0.839736</td><td>0.888839</td><td>0.917829</td><td>0.927316</td></tr><tr><td>0.839874</td><td>0.889024</td><td>0.840134</td><td>0.888859</td><td>0.995765</td><td>0.888827</td><td>0.839736</td><td>0.839736</td><td>0.888839</td><td>0.917829</td><td>0.927316</td></tr></tbody></table></div>"
      ],
      "text/plain": [
       "shape: (5, 11)\n",
       "┌───────────┬───────────┬───────────┬───────────┬───┬───────────┬───────────┬───────────┬──────────┐\n",
       "│ classific ┆ classific ┆ contracts ┆ contracts ┆ … ┆ purposeof ┆ purposeof ┆ subjectro ┆ subjectr │\n",
       "│ ationofco ┆ ationofco ┆ t_545M_fr ┆ t_964M_fr ┆   ┆ cred_426M ┆ cred_874M ┆ le_182M_f ┆ ole_93M_ │\n",
       "│ ntr_13M_f ┆ ntr_400M_ ┆ eq        ┆ eq        ┆   ┆ _freq     ┆ _freq     ┆ req       ┆ freq     │\n",
       "│ req       ┆ freq      ┆ ---       ┆ ---       ┆   ┆ ---       ┆ ---       ┆ ---       ┆ ---      │\n",
       "│ ---       ┆ ---       ┆ f64       ┆ f64       ┆   ┆ f64       ┆ f64       ┆ f64       ┆ f64      │\n",
       "│ f64       ┆ f64       ┆           ┆           ┆   ┆           ┆           ┆           ┆          │\n",
       "╞═══════════╪═══════════╪═══════════╪═══════════╪═══╪═══════════╪═══════════╪═══════════╪══════════╡\n",
       "│ 0.002313  ┆ 0.889024  ┆ 0.154702  ┆ 0.888859  ┆ … ┆ 0.035934  ┆ 0.888839  ┆ 0.078808  ┆ 0.070128 │\n",
       "│ 0.139587  ┆ 0.889024  ┆ 0.154702  ┆ 0.888859  ┆ … ┆ 0.122771  ┆ 0.888839  ┆ 0.917829  ┆ 0.927316 │\n",
       "│ 0.839874  ┆ 0.889024  ┆ 0.840134  ┆ 0.888859  ┆ … ┆ 0.839736  ┆ 0.888839  ┆ 0.917829  ┆ 0.927316 │\n",
       "│ 0.839874  ┆ 0.889024  ┆ 0.840134  ┆ 0.888859  ┆ … ┆ 0.839736  ┆ 0.888839  ┆ 0.917829  ┆ 0.927316 │\n",
       "│ 0.839874  ┆ 0.889024  ┆ 0.840134  ┆ 0.888859  ┆ … ┆ 0.839736  ┆ 0.888839  ┆ 0.917829  ┆ 0.927316 │\n",
       "└───────────┴───────────┴───────────┴───────────┴───┴───────────┴───────────┴───────────┴──────────┘"
      ]
     },
     "execution_count": 126,
     "metadata": {},
     "output_type": "execute_result"
    }
   ],
   "source": [
    "freq_df.head()"
   ]
  },
  {
   "cell_type": "code",
   "execution_count": 127,
   "metadata": {},
   "outputs": [],
   "source": [
    "def binary_encoder(df: pl.DataFrame, cat_cols: list[str] = []) -> pl.DataFrame:\n",
    "    # Initialize LabelEncoder\n",
    "    le = LabelEncoder()\n",
    "\n",
    "    cat_df = df.select(cat_cols)\n",
    "\n",
    "    # Binary encoding for each categorical column\n",
    "    for col in cat_cols:\n",
    "        # Convert categories to integers using LabelEncoder from sklearn\n",
    "        encoded_int = le.fit_transform(cat_df[col].to_numpy())\n",
    "\n",
    "        # Convert the numpy array back to a Polars Series and rename it\n",
    "        int_col_name = f\"{col}_int\"\n",
    "        encoded_series = pl.Series(encoded_int).alias(int_col_name)\n",
    "\n",
    "        # Add the integer encoded column to the DataFrame\n",
    "        cat_df = cat_df.with_columns(encoded_series)\n",
    "\n",
    "        # Calculate the maximum binary length\n",
    "        max_binary_length = encoded_series.max().bit_length()\n",
    "\n",
    "        # Create binary encoding directly\n",
    "        for bit_position in range(max_binary_length):\n",
    "            # Use bitwise operations directly within Polars\n",
    "            bit_value = (encoded_series / (2 ** bit_position)).cast(pl.Int64) & 1\n",
    "            new_col_name = f\"{col}_binary_{bit_position}\"\n",
    "            cat_df = cat_df.with_columns(\n",
    "                bit_value.alias(new_col_name)\n",
    "            )\n",
    "            cat_df = cat_df.with_columns(\n",
    "                pl.col(new_col_name).cast(pl.Int8)\n",
    "            )\n",
    "\n",
    "        cat_df.drop_in_place(int_col_name)\n",
    "        cat_df.drop_in_place(col)\n",
    "    \n",
    "    return cat_df"
   ]
  },
  {
   "cell_type": "code",
   "execution_count": 129,
   "metadata": {},
   "outputs": [],
   "source": [
    "bin_df = binary_encoder(df, cat_cols)"
   ]
  },
  {
   "cell_type": "code",
   "execution_count": 131,
   "metadata": {},
   "outputs": [],
   "source": [
    "final_df = pl.concat([df, date_df, freq_df, bin_df], how='horizontal')"
   ]
  },
  {
   "cell_type": "code",
   "execution_count": 133,
   "metadata": {},
   "outputs": [],
   "source": [
    "final_df = final_df.drop(date_cols + cat_cols)"
   ]
  },
  {
   "cell_type": "code",
   "execution_count": 134,
   "metadata": {},
   "outputs": [
    {
     "data": {
      "text/html": [
       "<div><style>\n",
       ".dataframe > thead > tr,\n",
       ".dataframe > tbody > tr {\n",
       "  text-align: right;\n",
       "  white-space: pre-wrap;\n",
       "}\n",
       "</style>\n",
       "<small>shape: (4_108_212, 165)</small><table border=\"1\" class=\"dataframe\"><thead><tr><th>case_id</th><th>annualeffectiverate_199L</th><th>annualeffectiverate_63L</th><th>contractsum_5085717L</th><th>credlmt_230A</th><th>credlmt_935A</th><th>debtoutstand_525A</th><th>debtoverdue_47A</th><th>dpdmax_139P</th><th>dpdmax_757P</th><th>dpdmaxdatemonth_442T</th><th>dpdmaxdatemonth_89T</th><th>dpdmaxdateyear_596T</th><th>dpdmaxdateyear_896T</th><th>instlamount_768A</th><th>instlamount_852A</th><th>interestrate_508L</th><th>monthlyinstlamount_332A</th><th>monthlyinstlamount_674A</th><th>nominalrate_281L</th><th>nominalrate_498L</th><th>num_group1</th><th>numberofcontrsvalue_258L</th><th>numberofcontrsvalue_358L</th><th>numberofinstls_229L</th><th>numberofinstls_320L</th><th>numberofoutstandinstls_520L</th><th>numberofoutstandinstls_59L</th><th>numberofoverdueinstlmax_1039L</th><th>numberofoverdueinstlmax_1151L</th><th>numberofoverdueinstls_725L</th><th>numberofoverdueinstls_834L</th><th>outstandingamount_354A</th><th>outstandingamount_362A</th><th>overdueamount_31A</th><th>overdueamount_659A</th><th>overdueamountmax2_14A</th><th>&hellip;</th><th>contractst_964M_binary_6</th><th>contractst_964M_binary_7</th><th>description_351M_binary_0</th><th>description_351M_binary_1</th><th>description_351M_binary_2</th><th>description_351M_binary_3</th><th>financialinstitution_382M_binary_0</th><th>financialinstitution_382M_binary_1</th><th>financialinstitution_382M_binary_2</th><th>financialinstitution_382M_binary_3</th><th>financialinstitution_382M_binary_4</th><th>financialinstitution_382M_binary_5</th><th>financialinstitution_382M_binary_6</th><th>financialinstitution_382M_binary_7</th><th>financialinstitution_591M_binary_0</th><th>financialinstitution_591M_binary_1</th><th>financialinstitution_591M_binary_2</th><th>financialinstitution_591M_binary_3</th><th>financialinstitution_591M_binary_4</th><th>financialinstitution_591M_binary_5</th><th>financialinstitution_591M_binary_6</th><th>financialinstitution_591M_binary_7</th><th>purposeofcred_426M_binary_0</th><th>purposeofcred_426M_binary_1</th><th>purposeofcred_426M_binary_2</th><th>purposeofcred_426M_binary_3</th><th>purposeofcred_874M_binary_0</th><th>purposeofcred_874M_binary_1</th><th>purposeofcred_874M_binary_2</th><th>purposeofcred_874M_binary_3</th><th>purposeofcred_874M_binary_4</th><th>subjectrole_182M_binary_0</th><th>subjectrole_182M_binary_1</th><th>subjectrole_182M_binary_2</th><th>subjectrole_93M_binary_0</th><th>subjectrole_93M_binary_1</th><th>subjectrole_93M_binary_2</th></tr><tr><td>i64</td><td>f64</td><td>f64</td><td>f64</td><td>f64</td><td>f64</td><td>f64</td><td>f64</td><td>f64</td><td>f64</td><td>f64</td><td>f64</td><td>f64</td><td>f64</td><td>f64</td><td>f64</td><td>f64</td><td>f64</td><td>f64</td><td>f64</td><td>f64</td><td>i64</td><td>f64</td><td>f64</td><td>f64</td><td>f64</td><td>f64</td><td>f64</td><td>f64</td><td>f64</td><td>f64</td><td>f64</td><td>f64</td><td>f64</td><td>f64</td><td>f64</td><td>f64</td><td>&hellip;</td><td>i8</td><td>i8</td><td>i8</td><td>i8</td><td>i8</td><td>i8</td><td>i8</td><td>i8</td><td>i8</td><td>i8</td><td>i8</td><td>i8</td><td>i8</td><td>i8</td><td>i8</td><td>i8</td><td>i8</td><td>i8</td><td>i8</td><td>i8</td><td>i8</td><td>i8</td><td>i8</td><td>i8</td><td>i8</td><td>i8</td><td>i8</td><td>i8</td><td>i8</td><td>i8</td><td>i8</td><td>i8</td><td>i8</td><td>i8</td><td>i8</td><td>i8</td><td>i8</td></tr></thead><tbody><tr><td>388</td><td>null</td><td>null</td><td>null</td><td>null</td><td>null</td><td>374419.5</td><td>0.0</td><td>0.0</td><td>null</td><td>null</td><td>7.0</td><td>2018.0</td><td>null</td><td>null</td><td>null</td><td>null</td><td>7811.4463</td><td>null</td><td>null</td><td>null</td><td>0</td><td>2.0</td><td>1.0</td><td>null</td><td>60.0</td><td>null</td><td>54.0</td><td>0.0</td><td>null</td><td>0.0</td><td>null</td><td>null</td><td>260093.7</td><td>null</td><td>0.0</td><td>0.0</td><td>&hellip;</td><td>1</td><td>0</td><td>0</td><td>1</td><td>0</td><td>1</td><td>0</td><td>0</td><td>0</td><td>1</td><td>0</td><td>0</td><td>0</td><td>1</td><td>0</td><td>0</td><td>1</td><td>1</td><td>0</td><td>1</td><td>0</td><td>0</td><td>0</td><td>1</td><td>1</td><td>0</td><td>0</td><td>0</td><td>1</td><td>1</td><td>0</td><td>0</td><td>0</td><td>1</td><td>0</td><td>0</td><td>1</td></tr><tr><td>388</td><td>null</td><td>null</td><td>null</td><td>null</td><td>135806.0</td><td>null</td><td>null</td><td>0.0</td><td>null</td><td>null</td><td>8.0</td><td>2018.0</td><td>null</td><td>8742.8</td><td>null</td><td>null</td><td>8742.8</td><td>null</td><td>null</td><td>null</td><td>1</td><td>null</td><td>null</td><td>null</td><td>null</td><td>null</td><td>null</td><td>0.0</td><td>null</td><td>0.0</td><td>null</td><td>null</td><td>null</td><td>null</td><td>0.0</td><td>0.0</td><td>&hellip;</td><td>1</td><td>0</td><td>0</td><td>1</td><td>0</td><td>1</td><td>0</td><td>0</td><td>0</td><td>1</td><td>0</td><td>0</td><td>0</td><td>1</td><td>0</td><td>1</td><td>1</td><td>0</td><td>1</td><td>0</td><td>1</td><td>0</td><td>1</td><td>1</td><td>0</td><td>0</td><td>0</td><td>0</td><td>1</td><td>1</td><td>0</td><td>1</td><td>1</td><td>0</td><td>1</td><td>1</td><td>0</td></tr><tr><td>388</td><td>null</td><td>null</td><td>null</td><td>null</td><td>null</td><td>null</td><td>null</td><td>null</td><td>null</td><td>null</td><td>null</td><td>null</td><td>null</td><td>null</td><td>null</td><td>null</td><td>null</td><td>null</td><td>null</td><td>null</td><td>2</td><td>null</td><td>null</td><td>null</td><td>null</td><td>null</td><td>null</td><td>null</td><td>null</td><td>null</td><td>null</td><td>null</td><td>null</td><td>null</td><td>null</td><td>null</td><td>&hellip;</td><td>1</td><td>0</td><td>0</td><td>1</td><td>0</td><td>1</td><td>0</td><td>0</td><td>0</td><td>1</td><td>0</td><td>0</td><td>0</td><td>1</td><td>0</td><td>1</td><td>1</td><td>1</td><td>1</td><td>0</td><td>1</td><td>0</td><td>1</td><td>0</td><td>0</td><td>1</td><td>0</td><td>0</td><td>1</td><td>1</td><td>0</td><td>1</td><td>1</td><td>0</td><td>1</td><td>1</td><td>0</td></tr><tr><td>388</td><td>null</td><td>null</td><td>null</td><td>null</td><td>null</td><td>null</td><td>null</td><td>null</td><td>null</td><td>null</td><td>null</td><td>null</td><td>null</td><td>null</td><td>null</td><td>null</td><td>null</td><td>null</td><td>null</td><td>null</td><td>3</td><td>null</td><td>null</td><td>null</td><td>null</td><td>null</td><td>null</td><td>null</td><td>null</td><td>null</td><td>null</td><td>null</td><td>null</td><td>null</td><td>null</td><td>null</td><td>&hellip;</td><td>1</td><td>0</td><td>0</td><td>1</td><td>0</td><td>1</td><td>0</td><td>0</td><td>0</td><td>1</td><td>0</td><td>0</td><td>0</td><td>1</td><td>0</td><td>1</td><td>1</td><td>1</td><td>1</td><td>0</td><td>1</td><td>0</td><td>1</td><td>0</td><td>0</td><td>1</td><td>0</td><td>0</td><td>1</td><td>1</td><td>0</td><td>1</td><td>1</td><td>0</td><td>1</td><td>1</td><td>0</td></tr><tr><td>388</td><td>null</td><td>null</td><td>null</td><td>null</td><td>null</td><td>null</td><td>null</td><td>null</td><td>null</td><td>null</td><td>null</td><td>null</td><td>null</td><td>null</td><td>null</td><td>null</td><td>null</td><td>null</td><td>null</td><td>null</td><td>4</td><td>null</td><td>null</td><td>null</td><td>null</td><td>null</td><td>null</td><td>null</td><td>null</td><td>null</td><td>null</td><td>null</td><td>null</td><td>null</td><td>null</td><td>null</td><td>&hellip;</td><td>1</td><td>0</td><td>0</td><td>1</td><td>0</td><td>1</td><td>0</td><td>0</td><td>0</td><td>1</td><td>0</td><td>0</td><td>0</td><td>1</td><td>0</td><td>1</td><td>1</td><td>1</td><td>1</td><td>0</td><td>1</td><td>0</td><td>1</td><td>0</td><td>0</td><td>1</td><td>0</td><td>0</td><td>1</td><td>1</td><td>0</td><td>1</td><td>1</td><td>0</td><td>1</td><td>1</td><td>0</td></tr><tr><td>&hellip;</td><td>&hellip;</td><td>&hellip;</td><td>&hellip;</td><td>&hellip;</td><td>&hellip;</td><td>&hellip;</td><td>&hellip;</td><td>&hellip;</td><td>&hellip;</td><td>&hellip;</td><td>&hellip;</td><td>&hellip;</td><td>&hellip;</td><td>&hellip;</td><td>&hellip;</td><td>&hellip;</td><td>&hellip;</td><td>&hellip;</td><td>&hellip;</td><td>&hellip;</td><td>&hellip;</td><td>&hellip;</td><td>&hellip;</td><td>&hellip;</td><td>&hellip;</td><td>&hellip;</td><td>&hellip;</td><td>&hellip;</td><td>&hellip;</td><td>&hellip;</td><td>&hellip;</td><td>&hellip;</td><td>&hellip;</td><td>&hellip;</td><td>&hellip;</td><td>&hellip;</td><td>&hellip;</td><td>&hellip;</td><td>&hellip;</td><td>&hellip;</td><td>&hellip;</td><td>&hellip;</td><td>&hellip;</td><td>&hellip;</td><td>&hellip;</td><td>&hellip;</td><td>&hellip;</td><td>&hellip;</td><td>&hellip;</td><td>&hellip;</td><td>&hellip;</td><td>&hellip;</td><td>&hellip;</td><td>&hellip;</td><td>&hellip;</td><td>&hellip;</td><td>&hellip;</td><td>&hellip;</td><td>&hellip;</td><td>&hellip;</td><td>&hellip;</td><td>&hellip;</td><td>&hellip;</td><td>&hellip;</td><td>&hellip;</td><td>&hellip;</td><td>&hellip;</td><td>&hellip;</td><td>&hellip;</td><td>&hellip;</td><td>&hellip;</td><td>&hellip;</td><td>&hellip;</td><td>&hellip;</td></tr><tr><td>2588481</td><td>null</td><td>null</td><td>null</td><td>null</td><td>null</td><td>null</td><td>null</td><td>null</td><td>null</td><td>null</td><td>null</td><td>null</td><td>null</td><td>null</td><td>null</td><td>null</td><td>null</td><td>null</td><td>null</td><td>null</td><td>6</td><td>null</td><td>null</td><td>null</td><td>null</td><td>null</td><td>null</td><td>null</td><td>null</td><td>null</td><td>null</td><td>null</td><td>null</td><td>null</td><td>null</td><td>null</td><td>&hellip;</td><td>1</td><td>0</td><td>0</td><td>1</td><td>0</td><td>1</td><td>0</td><td>0</td><td>0</td><td>1</td><td>0</td><td>0</td><td>0</td><td>1</td><td>0</td><td>1</td><td>1</td><td>1</td><td>1</td><td>0</td><td>1</td><td>0</td><td>1</td><td>0</td><td>0</td><td>1</td><td>0</td><td>0</td><td>1</td><td>1</td><td>0</td><td>1</td><td>1</td><td>0</td><td>1</td><td>1</td><td>0</td></tr><tr><td>2588481</td><td>null</td><td>null</td><td>null</td><td>null</td><td>null</td><td>null</td><td>null</td><td>null</td><td>null</td><td>null</td><td>null</td><td>null</td><td>null</td><td>null</td><td>null</td><td>null</td><td>null</td><td>null</td><td>null</td><td>null</td><td>7</td><td>null</td><td>null</td><td>null</td><td>null</td><td>null</td><td>null</td><td>null</td><td>null</td><td>null</td><td>null</td><td>null</td><td>null</td><td>null</td><td>null</td><td>null</td><td>&hellip;</td><td>1</td><td>0</td><td>0</td><td>1</td><td>0</td><td>1</td><td>0</td><td>0</td><td>0</td><td>1</td><td>0</td><td>0</td><td>0</td><td>1</td><td>0</td><td>1</td><td>1</td><td>1</td><td>1</td><td>0</td><td>1</td><td>0</td><td>1</td><td>0</td><td>0</td><td>1</td><td>0</td><td>0</td><td>1</td><td>1</td><td>0</td><td>1</td><td>1</td><td>0</td><td>1</td><td>1</td><td>0</td></tr><tr><td>2588481</td><td>null</td><td>null</td><td>null</td><td>null</td><td>null</td><td>null</td><td>null</td><td>null</td><td>null</td><td>null</td><td>null</td><td>null</td><td>null</td><td>null</td><td>null</td><td>null</td><td>null</td><td>null</td><td>null</td><td>null</td><td>8</td><td>null</td><td>null</td><td>null</td><td>null</td><td>null</td><td>null</td><td>null</td><td>null</td><td>null</td><td>null</td><td>null</td><td>null</td><td>null</td><td>null</td><td>null</td><td>&hellip;</td><td>1</td><td>0</td><td>0</td><td>1</td><td>0</td><td>1</td><td>0</td><td>0</td><td>0</td><td>1</td><td>0</td><td>0</td><td>0</td><td>1</td><td>0</td><td>1</td><td>1</td><td>1</td><td>1</td><td>0</td><td>1</td><td>0</td><td>1</td><td>0</td><td>0</td><td>1</td><td>0</td><td>0</td><td>1</td><td>1</td><td>0</td><td>1</td><td>1</td><td>0</td><td>1</td><td>1</td><td>0</td></tr><tr><td>2588481</td><td>null</td><td>null</td><td>null</td><td>null</td><td>null</td><td>null</td><td>null</td><td>null</td><td>null</td><td>null</td><td>null</td><td>null</td><td>null</td><td>null</td><td>null</td><td>null</td><td>null</td><td>null</td><td>null</td><td>null</td><td>9</td><td>null</td><td>null</td><td>null</td><td>null</td><td>null</td><td>null</td><td>null</td><td>null</td><td>null</td><td>null</td><td>null</td><td>null</td><td>null</td><td>null</td><td>null</td><td>&hellip;</td><td>1</td><td>0</td><td>0</td><td>1</td><td>0</td><td>1</td><td>0</td><td>0</td><td>0</td><td>1</td><td>0</td><td>0</td><td>0</td><td>1</td><td>0</td><td>1</td><td>1</td><td>1</td><td>1</td><td>0</td><td>1</td><td>0</td><td>1</td><td>0</td><td>0</td><td>1</td><td>0</td><td>0</td><td>1</td><td>1</td><td>0</td><td>1</td><td>1</td><td>0</td><td>1</td><td>1</td><td>0</td></tr><tr><td>2588481</td><td>null</td><td>null</td><td>null</td><td>null</td><td>null</td><td>null</td><td>null</td><td>null</td><td>null</td><td>null</td><td>null</td><td>null</td><td>null</td><td>null</td><td>null</td><td>null</td><td>null</td><td>null</td><td>null</td><td>null</td><td>10</td><td>null</td><td>null</td><td>null</td><td>null</td><td>null</td><td>null</td><td>null</td><td>null</td><td>null</td><td>null</td><td>null</td><td>null</td><td>null</td><td>null</td><td>null</td><td>&hellip;</td><td>1</td><td>0</td><td>0</td><td>1</td><td>0</td><td>1</td><td>0</td><td>0</td><td>0</td><td>1</td><td>0</td><td>0</td><td>0</td><td>1</td><td>0</td><td>1</td><td>1</td><td>1</td><td>1</td><td>0</td><td>1</td><td>0</td><td>1</td><td>0</td><td>0</td><td>1</td><td>0</td><td>0</td><td>1</td><td>1</td><td>0</td><td>1</td><td>1</td><td>0</td><td>1</td><td>1</td><td>0</td></tr></tbody></table></div>"
      ],
      "text/plain": [
       "shape: (4_108_212, 165)\n",
       "┌─────────┬────────────┬───────────┬───────────┬───┬───────────┬───────────┬───────────┬───────────┐\n",
       "│ case_id ┆ annualeffe ┆ annualeff ┆ contracts ┆ … ┆ subjectro ┆ subjectro ┆ subjectro ┆ subjectro │\n",
       "│ ---     ┆ ctiverate_ ┆ ectiverat ┆ um_508571 ┆   ┆ le_182M_b ┆ le_93M_bi ┆ le_93M_bi ┆ le_93M_bi │\n",
       "│ i64     ┆ 199L       ┆ e_63L     ┆ 7L        ┆   ┆ inary_2   ┆ nary_0    ┆ nary_1    ┆ nary_2    │\n",
       "│         ┆ ---        ┆ ---       ┆ ---       ┆   ┆ ---       ┆ ---       ┆ ---       ┆ ---       │\n",
       "│         ┆ f64        ┆ f64       ┆ f64       ┆   ┆ i8        ┆ i8        ┆ i8        ┆ i8        │\n",
       "╞═════════╪════════════╪═══════════╪═══════════╪═══╪═══════════╪═══════════╪═══════════╪═══════════╡\n",
       "│ 388     ┆ null       ┆ null      ┆ null      ┆ … ┆ 1         ┆ 0         ┆ 0         ┆ 1         │\n",
       "│ 388     ┆ null       ┆ null      ┆ null      ┆ … ┆ 0         ┆ 1         ┆ 1         ┆ 0         │\n",
       "│ 388     ┆ null       ┆ null      ┆ null      ┆ … ┆ 0         ┆ 1         ┆ 1         ┆ 0         │\n",
       "│ 388     ┆ null       ┆ null      ┆ null      ┆ … ┆ 0         ┆ 1         ┆ 1         ┆ 0         │\n",
       "│ 388     ┆ null       ┆ null      ┆ null      ┆ … ┆ 0         ┆ 1         ┆ 1         ┆ 0         │\n",
       "│ …       ┆ …          ┆ …         ┆ …         ┆ … ┆ …         ┆ …         ┆ …         ┆ …         │\n",
       "│ 2588481 ┆ null       ┆ null      ┆ null      ┆ … ┆ 0         ┆ 1         ┆ 1         ┆ 0         │\n",
       "│ 2588481 ┆ null       ┆ null      ┆ null      ┆ … ┆ 0         ┆ 1         ┆ 1         ┆ 0         │\n",
       "│ 2588481 ┆ null       ┆ null      ┆ null      ┆ … ┆ 0         ┆ 1         ┆ 1         ┆ 0         │\n",
       "│ 2588481 ┆ null       ┆ null      ┆ null      ┆ … ┆ 0         ┆ 1         ┆ 1         ┆ 0         │\n",
       "│ 2588481 ┆ null       ┆ null      ┆ null      ┆ … ┆ 0         ┆ 1         ┆ 1         ┆ 0         │\n",
       "└─────────┴────────────┴───────────┴───────────┴───┴───────────┴───────────┴───────────┴───────────┘"
      ]
     },
     "execution_count": 134,
     "metadata": {},
     "output_type": "execute_result"
    }
   ],
   "source": [
    "final_df"
   ]
  },
  {
   "cell_type": "code",
   "execution_count": 135,
   "metadata": {},
   "outputs": [
    {
     "data": {
      "text/html": [
       "<div><style>\n",
       ".dataframe > thead > tr,\n",
       ".dataframe > tbody > tr {\n",
       "  text-align: right;\n",
       "  white-space: pre-wrap;\n",
       "}\n",
       "</style>\n",
       "<small>shape: (4_108_212, 79)</small><table border=\"1\" class=\"dataframe\"><thead><tr><th>case_id</th><th>annualeffectiverate_199L</th><th>annualeffectiverate_63L</th><th>classificationofcontr_13M</th><th>classificationofcontr_400M</th><th>contractst_545M</th><th>contractst_964M</th><th>contractsum_5085717L</th><th>credlmt_230A</th><th>credlmt_935A</th><th>dateofcredend_289D</th><th>dateofcredend_353D</th><th>dateofcredstart_181D</th><th>dateofcredstart_739D</th><th>dateofrealrepmt_138D</th><th>debtoutstand_525A</th><th>debtoverdue_47A</th><th>description_351M</th><th>dpdmax_139P</th><th>dpdmax_757P</th><th>dpdmaxdatemonth_442T</th><th>dpdmaxdatemonth_89T</th><th>dpdmaxdateyear_596T</th><th>dpdmaxdateyear_896T</th><th>financialinstitution_382M</th><th>financialinstitution_591M</th><th>instlamount_768A</th><th>instlamount_852A</th><th>interestrate_508L</th><th>lastupdate_1112D</th><th>lastupdate_388D</th><th>monthlyinstlamount_332A</th><th>monthlyinstlamount_674A</th><th>nominalrate_281L</th><th>nominalrate_498L</th><th>num_group1</th><th>numberofcontrsvalue_258L</th><th>&hellip;</th><th>numberofoverdueinstlmax_1039L</th><th>numberofoverdueinstlmax_1151L</th><th>numberofoverdueinstlmaxdat_148D</th><th>numberofoverdueinstlmaxdat_641D</th><th>numberofoverdueinstls_725L</th><th>numberofoverdueinstls_834L</th><th>outstandingamount_354A</th><th>outstandingamount_362A</th><th>overdueamount_31A</th><th>overdueamount_659A</th><th>overdueamountmax2_14A</th><th>overdueamountmax2_398A</th><th>overdueamountmax2date_1002D</th><th>overdueamountmax2date_1142D</th><th>overdueamountmax_155A</th><th>overdueamountmax_35A</th><th>overdueamountmaxdatemonth_284T</th><th>overdueamountmaxdatemonth_365T</th><th>overdueamountmaxdateyear_2T</th><th>overdueamountmaxdateyear_994T</th><th>periodicityofpmts_1102L</th><th>periodicityofpmts_837L</th><th>prolongationcount_1120L</th><th>prolongationcount_599L</th><th>purposeofcred_426M</th><th>purposeofcred_874M</th><th>refreshdate_3813885D</th><th>residualamount_488A</th><th>residualamount_856A</th><th>subjectrole_182M</th><th>subjectrole_93M</th><th>totalamount_6A</th><th>totalamount_996A</th><th>totaldebtoverduevalue_178A</th><th>totaldebtoverduevalue_718A</th><th>totaloutstanddebtvalue_39A</th><th>totaloutstanddebtvalue_668A</th></tr><tr><td>i64</td><td>f64</td><td>f64</td><td>str</td><td>str</td><td>str</td><td>str</td><td>f64</td><td>f64</td><td>f64</td><td>date</td><td>date</td><td>date</td><td>date</td><td>date</td><td>f64</td><td>f64</td><td>str</td><td>f64</td><td>f64</td><td>f64</td><td>f64</td><td>f64</td><td>f64</td><td>str</td><td>str</td><td>f64</td><td>f64</td><td>f64</td><td>date</td><td>date</td><td>f64</td><td>f64</td><td>f64</td><td>f64</td><td>i64</td><td>f64</td><td>&hellip;</td><td>f64</td><td>f64</td><td>date</td><td>date</td><td>f64</td><td>f64</td><td>f64</td><td>f64</td><td>f64</td><td>f64</td><td>f64</td><td>f64</td><td>date</td><td>date</td><td>f64</td><td>f64</td><td>f64</td><td>f64</td><td>f64</td><td>f64</td><td>f64</td><td>f64</td><td>f64</td><td>f64</td><td>str</td><td>str</td><td>date</td><td>f64</td><td>f64</td><td>str</td><td>str</td><td>f64</td><td>f64</td><td>f64</td><td>f64</td><td>f64</td><td>f64</td></tr></thead><tbody><tr><td>388</td><td>null</td><td>null</td><td>&quot;4408ff0f&quot;</td><td>&quot;a55475b1&quot;</td><td>&quot;7241344e&quot;</td><td>&quot;a55475b1&quot;</td><td>null</td><td>null</td><td>null</td><td>2023-06-20</td><td>null</td><td>null</td><td>2018-06-20</td><td>null</td><td>374419.5</td><td>0.0</td><td>&quot;a55475b1&quot;</td><td>0.0</td><td>null</td><td>null</td><td>7.0</td><td>2018.0</td><td>null</td><td>&quot;a55475b1&quot;</td><td>&quot;55b002a9&quot;</td><td>null</td><td>null</td><td>null</td><td>2019-01-24</td><td>null</td><td>7811.4463</td><td>null</td><td>null</td><td>null</td><td>0</td><td>2.0</td><td>&hellip;</td><td>0.0</td><td>null</td><td>null</td><td>null</td><td>0.0</td><td>null</td><td>null</td><td>260093.7</td><td>null</td><td>0.0</td><td>0.0</td><td>null</td><td>null</td><td>null</td><td>0.0</td><td>null</td><td>null</td><td>7.0</td><td>2018.0</td><td>null</td><td>null</td><td>30.0</td><td>null</td><td>null</td><td>&quot;96a8fdfe&quot;</td><td>&quot;a55475b1&quot;</td><td>null</td><td>null</td><td>null</td><td>&quot;ab3c25cf&quot;</td><td>&quot;ab3c25cf&quot;</td><td>null</td><td>268897.62</td><td>0.0</td><td>0.0</td><td>374419.5</td><td>0.0</td></tr><tr><td>388</td><td>null</td><td>null</td><td>&quot;ea6782cc&quot;</td><td>&quot;a55475b1&quot;</td><td>&quot;7241344e&quot;</td><td>&quot;a55475b1&quot;</td><td>null</td><td>null</td><td>135806.0</td><td>2020-08-06</td><td>null</td><td>null</td><td>2018-08-06</td><td>null</td><td>null</td><td>null</td><td>&quot;a55475b1&quot;</td><td>0.0</td><td>null</td><td>null</td><td>8.0</td><td>2018.0</td><td>null</td><td>&quot;a55475b1&quot;</td><td>&quot;P204_66_73&quot;</td><td>8742.8</td><td>null</td><td>null</td><td>2019-01-11</td><td>null</td><td>8742.8</td><td>null</td><td>null</td><td>null</td><td>1</td><td>null</td><td>&hellip;</td><td>0.0</td><td>null</td><td>null</td><td>null</td><td>0.0</td><td>null</td><td>null</td><td>null</td><td>null</td><td>0.0</td><td>0.0</td><td>null</td><td>null</td><td>null</td><td>0.0</td><td>null</td><td>null</td><td>8.0</td><td>2018.0</td><td>null</td><td>null</td><td>null</td><td>null</td><td>null</td><td>&quot;60c73645&quot;</td><td>&quot;a55475b1&quot;</td><td>null</td><td>null</td><td>114325.805</td><td>&quot;a55475b1&quot;</td><td>&quot;a55475b1&quot;</td><td>null</td><td>null</td><td>null</td><td>null</td><td>null</td><td>null</td></tr><tr><td>388</td><td>null</td><td>null</td><td>&quot;a55475b1&quot;</td><td>&quot;a55475b1&quot;</td><td>&quot;a55475b1&quot;</td><td>&quot;a55475b1&quot;</td><td>null</td><td>null</td><td>null</td><td>null</td><td>null</td><td>null</td><td>null</td><td>null</td><td>null</td><td>null</td><td>&quot;a55475b1&quot;</td><td>null</td><td>null</td><td>null</td><td>null</td><td>null</td><td>null</td><td>&quot;a55475b1&quot;</td><td>&quot;a55475b1&quot;</td><td>null</td><td>null</td><td>null</td><td>null</td><td>null</td><td>null</td><td>null</td><td>null</td><td>null</td><td>2</td><td>null</td><td>&hellip;</td><td>null</td><td>null</td><td>null</td><td>null</td><td>null</td><td>null</td><td>null</td><td>null</td><td>null</td><td>null</td><td>null</td><td>null</td><td>null</td><td>null</td><td>null</td><td>null</td><td>null</td><td>null</td><td>null</td><td>null</td><td>null</td><td>null</td><td>null</td><td>null</td><td>&quot;a55475b1&quot;</td><td>&quot;a55475b1&quot;</td><td>2019-01-28</td><td>null</td><td>null</td><td>&quot;a55475b1&quot;</td><td>&quot;a55475b1&quot;</td><td>null</td><td>null</td><td>null</td><td>null</td><td>null</td><td>null</td></tr><tr><td>388</td><td>null</td><td>null</td><td>&quot;a55475b1&quot;</td><td>&quot;a55475b1&quot;</td><td>&quot;a55475b1&quot;</td><td>&quot;a55475b1&quot;</td><td>null</td><td>null</td><td>null</td><td>null</td><td>null</td><td>null</td><td>null</td><td>null</td><td>null</td><td>null</td><td>&quot;a55475b1&quot;</td><td>null</td><td>null</td><td>null</td><td>null</td><td>null</td><td>null</td><td>&quot;a55475b1&quot;</td><td>&quot;a55475b1&quot;</td><td>null</td><td>null</td><td>null</td><td>null</td><td>null</td><td>null</td><td>null</td><td>null</td><td>null</td><td>3</td><td>null</td><td>&hellip;</td><td>null</td><td>null</td><td>null</td><td>null</td><td>null</td><td>null</td><td>null</td><td>null</td><td>null</td><td>null</td><td>null</td><td>null</td><td>null</td><td>null</td><td>null</td><td>null</td><td>null</td><td>null</td><td>null</td><td>null</td><td>null</td><td>null</td><td>null</td><td>null</td><td>&quot;a55475b1&quot;</td><td>&quot;a55475b1&quot;</td><td>2019-01-28</td><td>null</td><td>null</td><td>&quot;a55475b1&quot;</td><td>&quot;a55475b1&quot;</td><td>null</td><td>null</td><td>null</td><td>null</td><td>null</td><td>null</td></tr><tr><td>388</td><td>null</td><td>null</td><td>&quot;a55475b1&quot;</td><td>&quot;a55475b1&quot;</td><td>&quot;a55475b1&quot;</td><td>&quot;a55475b1&quot;</td><td>null</td><td>null</td><td>null</td><td>null</td><td>null</td><td>null</td><td>null</td><td>null</td><td>null</td><td>null</td><td>&quot;a55475b1&quot;</td><td>null</td><td>null</td><td>null</td><td>null</td><td>null</td><td>null</td><td>&quot;a55475b1&quot;</td><td>&quot;a55475b1&quot;</td><td>null</td><td>null</td><td>null</td><td>null</td><td>null</td><td>null</td><td>null</td><td>null</td><td>null</td><td>4</td><td>null</td><td>&hellip;</td><td>null</td><td>null</td><td>null</td><td>null</td><td>null</td><td>null</td><td>null</td><td>null</td><td>null</td><td>null</td><td>null</td><td>null</td><td>null</td><td>null</td><td>null</td><td>null</td><td>null</td><td>null</td><td>null</td><td>null</td><td>null</td><td>null</td><td>null</td><td>null</td><td>&quot;a55475b1&quot;</td><td>&quot;a55475b1&quot;</td><td>2019-01-28</td><td>null</td><td>null</td><td>&quot;a55475b1&quot;</td><td>&quot;a55475b1&quot;</td><td>null</td><td>null</td><td>null</td><td>null</td><td>null</td><td>null</td></tr><tr><td>&hellip;</td><td>&hellip;</td><td>&hellip;</td><td>&hellip;</td><td>&hellip;</td><td>&hellip;</td><td>&hellip;</td><td>&hellip;</td><td>&hellip;</td><td>&hellip;</td><td>&hellip;</td><td>&hellip;</td><td>&hellip;</td><td>&hellip;</td><td>&hellip;</td><td>&hellip;</td><td>&hellip;</td><td>&hellip;</td><td>&hellip;</td><td>&hellip;</td><td>&hellip;</td><td>&hellip;</td><td>&hellip;</td><td>&hellip;</td><td>&hellip;</td><td>&hellip;</td><td>&hellip;</td><td>&hellip;</td><td>&hellip;</td><td>&hellip;</td><td>&hellip;</td><td>&hellip;</td><td>&hellip;</td><td>&hellip;</td><td>&hellip;</td><td>&hellip;</td><td>&hellip;</td><td>&hellip;</td><td>&hellip;</td><td>&hellip;</td><td>&hellip;</td><td>&hellip;</td><td>&hellip;</td><td>&hellip;</td><td>&hellip;</td><td>&hellip;</td><td>&hellip;</td><td>&hellip;</td><td>&hellip;</td><td>&hellip;</td><td>&hellip;</td><td>&hellip;</td><td>&hellip;</td><td>&hellip;</td><td>&hellip;</td><td>&hellip;</td><td>&hellip;</td><td>&hellip;</td><td>&hellip;</td><td>&hellip;</td><td>&hellip;</td><td>&hellip;</td><td>&hellip;</td><td>&hellip;</td><td>&hellip;</td><td>&hellip;</td><td>&hellip;</td><td>&hellip;</td><td>&hellip;</td><td>&hellip;</td><td>&hellip;</td><td>&hellip;</td><td>&hellip;</td><td>&hellip;</td><td>&hellip;</td></tr><tr><td>2588481</td><td>null</td><td>null</td><td>&quot;a55475b1&quot;</td><td>&quot;a55475b1&quot;</td><td>&quot;a55475b1&quot;</td><td>&quot;a55475b1&quot;</td><td>null</td><td>null</td><td>null</td><td>null</td><td>null</td><td>null</td><td>null</td><td>null</td><td>null</td><td>null</td><td>&quot;a55475b1&quot;</td><td>null</td><td>null</td><td>null</td><td>null</td><td>null</td><td>null</td><td>&quot;a55475b1&quot;</td><td>&quot;a55475b1&quot;</td><td>null</td><td>null</td><td>null</td><td>null</td><td>null</td><td>null</td><td>null</td><td>null</td><td>null</td><td>6</td><td>null</td><td>&hellip;</td><td>null</td><td>null</td><td>null</td><td>null</td><td>null</td><td>null</td><td>null</td><td>null</td><td>null</td><td>null</td><td>null</td><td>null</td><td>null</td><td>null</td><td>null</td><td>null</td><td>null</td><td>null</td><td>null</td><td>null</td><td>null</td><td>null</td><td>null</td><td>null</td><td>&quot;a55475b1&quot;</td><td>&quot;a55475b1&quot;</td><td>2019-01-03</td><td>null</td><td>null</td><td>&quot;a55475b1&quot;</td><td>&quot;a55475b1&quot;</td><td>null</td><td>null</td><td>null</td><td>null</td><td>null</td><td>null</td></tr><tr><td>2588481</td><td>null</td><td>null</td><td>&quot;a55475b1&quot;</td><td>&quot;a55475b1&quot;</td><td>&quot;a55475b1&quot;</td><td>&quot;a55475b1&quot;</td><td>null</td><td>null</td><td>null</td><td>null</td><td>null</td><td>null</td><td>null</td><td>null</td><td>null</td><td>null</td><td>&quot;a55475b1&quot;</td><td>null</td><td>null</td><td>null</td><td>null</td><td>null</td><td>null</td><td>&quot;a55475b1&quot;</td><td>&quot;a55475b1&quot;</td><td>null</td><td>null</td><td>null</td><td>null</td><td>null</td><td>null</td><td>null</td><td>null</td><td>null</td><td>7</td><td>null</td><td>&hellip;</td><td>null</td><td>null</td><td>null</td><td>null</td><td>null</td><td>null</td><td>null</td><td>null</td><td>null</td><td>null</td><td>null</td><td>null</td><td>null</td><td>null</td><td>null</td><td>null</td><td>null</td><td>null</td><td>null</td><td>null</td><td>null</td><td>null</td><td>null</td><td>null</td><td>&quot;a55475b1&quot;</td><td>&quot;a55475b1&quot;</td><td>2019-07-01</td><td>null</td><td>null</td><td>&quot;a55475b1&quot;</td><td>&quot;a55475b1&quot;</td><td>null</td><td>null</td><td>null</td><td>null</td><td>null</td><td>null</td></tr><tr><td>2588481</td><td>null</td><td>null</td><td>&quot;a55475b1&quot;</td><td>&quot;a55475b1&quot;</td><td>&quot;a55475b1&quot;</td><td>&quot;a55475b1&quot;</td><td>null</td><td>null</td><td>null</td><td>null</td><td>null</td><td>null</td><td>null</td><td>null</td><td>null</td><td>null</td><td>&quot;a55475b1&quot;</td><td>null</td><td>null</td><td>null</td><td>null</td><td>null</td><td>null</td><td>&quot;a55475b1&quot;</td><td>&quot;a55475b1&quot;</td><td>null</td><td>null</td><td>null</td><td>null</td><td>null</td><td>null</td><td>null</td><td>null</td><td>null</td><td>8</td><td>null</td><td>&hellip;</td><td>null</td><td>null</td><td>null</td><td>null</td><td>null</td><td>null</td><td>null</td><td>null</td><td>null</td><td>null</td><td>null</td><td>null</td><td>null</td><td>null</td><td>null</td><td>null</td><td>null</td><td>null</td><td>null</td><td>null</td><td>null</td><td>null</td><td>null</td><td>null</td><td>&quot;a55475b1&quot;</td><td>&quot;a55475b1&quot;</td><td>2019-05-04</td><td>null</td><td>null</td><td>&quot;a55475b1&quot;</td><td>&quot;a55475b1&quot;</td><td>null</td><td>null</td><td>null</td><td>null</td><td>null</td><td>null</td></tr><tr><td>2588481</td><td>null</td><td>null</td><td>&quot;a55475b1&quot;</td><td>&quot;a55475b1&quot;</td><td>&quot;a55475b1&quot;</td><td>&quot;a55475b1&quot;</td><td>null</td><td>null</td><td>null</td><td>null</td><td>null</td><td>null</td><td>null</td><td>null</td><td>null</td><td>null</td><td>&quot;a55475b1&quot;</td><td>null</td><td>null</td><td>null</td><td>null</td><td>null</td><td>null</td><td>&quot;a55475b1&quot;</td><td>&quot;a55475b1&quot;</td><td>null</td><td>null</td><td>null</td><td>null</td><td>null</td><td>null</td><td>null</td><td>null</td><td>null</td><td>9</td><td>null</td><td>&hellip;</td><td>null</td><td>null</td><td>null</td><td>null</td><td>null</td><td>null</td><td>null</td><td>null</td><td>null</td><td>null</td><td>null</td><td>null</td><td>null</td><td>null</td><td>null</td><td>null</td><td>null</td><td>null</td><td>null</td><td>null</td><td>null</td><td>null</td><td>null</td><td>null</td><td>&quot;a55475b1&quot;</td><td>&quot;a55475b1&quot;</td><td>2019-02-06</td><td>null</td><td>null</td><td>&quot;a55475b1&quot;</td><td>&quot;a55475b1&quot;</td><td>null</td><td>null</td><td>null</td><td>null</td><td>null</td><td>null</td></tr><tr><td>2588481</td><td>null</td><td>null</td><td>&quot;a55475b1&quot;</td><td>&quot;a55475b1&quot;</td><td>&quot;a55475b1&quot;</td><td>&quot;a55475b1&quot;</td><td>null</td><td>null</td><td>null</td><td>null</td><td>null</td><td>null</td><td>null</td><td>null</td><td>null</td><td>null</td><td>&quot;a55475b1&quot;</td><td>null</td><td>null</td><td>null</td><td>null</td><td>null</td><td>null</td><td>&quot;a55475b1&quot;</td><td>&quot;a55475b1&quot;</td><td>null</td><td>null</td><td>null</td><td>null</td><td>null</td><td>null</td><td>null</td><td>null</td><td>null</td><td>10</td><td>null</td><td>&hellip;</td><td>null</td><td>null</td><td>null</td><td>null</td><td>null</td><td>null</td><td>null</td><td>null</td><td>null</td><td>null</td><td>null</td><td>null</td><td>null</td><td>null</td><td>null</td><td>null</td><td>null</td><td>null</td><td>null</td><td>null</td><td>null</td><td>null</td><td>null</td><td>null</td><td>&quot;a55475b1&quot;</td><td>&quot;a55475b1&quot;</td><td>2019-05-03</td><td>null</td><td>null</td><td>&quot;a55475b1&quot;</td><td>&quot;a55475b1&quot;</td><td>null</td><td>null</td><td>null</td><td>null</td><td>null</td><td>null</td></tr></tbody></table></div>"
      ],
      "text/plain": [
       "shape: (4_108_212, 79)\n",
       "┌─────────┬────────────┬───────────┬───────────┬───┬───────────┬───────────┬───────────┬───────────┐\n",
       "│ case_id ┆ annualeffe ┆ annualeff ┆ classific ┆ … ┆ totaldebt ┆ totaldebt ┆ totalouts ┆ totalouts │\n",
       "│ ---     ┆ ctiverate_ ┆ ectiverat ┆ ationofco ┆   ┆ overdueva ┆ overdueva ┆ tanddebtv ┆ tanddebtv │\n",
       "│ i64     ┆ 199L       ┆ e_63L     ┆ ntr_13M   ┆   ┆ lue_178A  ┆ lue_718A  ┆ alue_39A  ┆ alue_668A │\n",
       "│         ┆ ---        ┆ ---       ┆ ---       ┆   ┆ ---       ┆ ---       ┆ ---       ┆ ---       │\n",
       "│         ┆ f64        ┆ f64       ┆ str       ┆   ┆ f64       ┆ f64       ┆ f64       ┆ f64       │\n",
       "╞═════════╪════════════╪═══════════╪═══════════╪═══╪═══════════╪═══════════╪═══════════╪═══════════╡\n",
       "│ 388     ┆ null       ┆ null      ┆ 4408ff0f  ┆ … ┆ 0.0       ┆ 0.0       ┆ 374419.5  ┆ 0.0       │\n",
       "│ 388     ┆ null       ┆ null      ┆ ea6782cc  ┆ … ┆ null      ┆ null      ┆ null      ┆ null      │\n",
       "│ 388     ┆ null       ┆ null      ┆ a55475b1  ┆ … ┆ null      ┆ null      ┆ null      ┆ null      │\n",
       "│ 388     ┆ null       ┆ null      ┆ a55475b1  ┆ … ┆ null      ┆ null      ┆ null      ┆ null      │\n",
       "│ 388     ┆ null       ┆ null      ┆ a55475b1  ┆ … ┆ null      ┆ null      ┆ null      ┆ null      │\n",
       "│ …       ┆ …          ┆ …         ┆ …         ┆ … ┆ …         ┆ …         ┆ …         ┆ …         │\n",
       "│ 2588481 ┆ null       ┆ null      ┆ a55475b1  ┆ … ┆ null      ┆ null      ┆ null      ┆ null      │\n",
       "│ 2588481 ┆ null       ┆ null      ┆ a55475b1  ┆ … ┆ null      ┆ null      ┆ null      ┆ null      │\n",
       "│ 2588481 ┆ null       ┆ null      ┆ a55475b1  ┆ … ┆ null      ┆ null      ┆ null      ┆ null      │\n",
       "│ 2588481 ┆ null       ┆ null      ┆ a55475b1  ┆ … ┆ null      ┆ null      ┆ null      ┆ null      │\n",
       "│ 2588481 ┆ null       ┆ null      ┆ a55475b1  ┆ … ┆ null      ┆ null      ┆ null      ┆ null      │\n",
       "└─────────┴────────────┴───────────┴───────────┴───┴───────────┴───────────┴───────────┴───────────┘"
      ]
     },
     "execution_count": 135,
     "metadata": {},
     "output_type": "execute_result"
    }
   ],
   "source": [
    "df"
   ]
  },
  {
   "cell_type": "code",
   "execution_count": 179,
   "metadata": {},
   "outputs": [],
   "source": [
    "cat_aggs = [ pl.col(col).mode() for col in cat_cols ]\n",
    "df_cat_grouped = df.group_by('case_id').agg(cat_aggs)"
   ]
  },
  {
   "cell_type": "code",
   "execution_count": 180,
   "metadata": {},
   "outputs": [
    {
     "data": {
      "text/html": [
       "<div><style>\n",
       ".dataframe > thead > tr,\n",
       ".dataframe > tbody > tr {\n",
       "  text-align: right;\n",
       "  white-space: pre-wrap;\n",
       "}\n",
       "</style>\n",
       "<small>shape: (5, 12)</small><table border=\"1\" class=\"dataframe\"><thead><tr><th>case_id</th><th>classificationofcontr_13M</th><th>classificationofcontr_400M</th><th>contractst_545M</th><th>contractst_964M</th><th>description_351M</th><th>financialinstitution_382M</th><th>financialinstitution_591M</th><th>purposeofcred_426M</th><th>purposeofcred_874M</th><th>subjectrole_182M</th><th>subjectrole_93M</th></tr><tr><td>i64</td><td>list[str]</td><td>list[str]</td><td>list[str]</td><td>list[str]</td><td>list[str]</td><td>list[str]</td><td>list[str]</td><td>list[str]</td><td>list[str]</td><td>list[str]</td><td>list[str]</td></tr></thead><tbody><tr><td>1406101</td><td>[&quot;a55475b1&quot;]</td><td>[&quot;a55475b1&quot;]</td><td>[&quot;a55475b1&quot;]</td><td>[&quot;7241344e&quot;]</td><td>[&quot;a55475b1&quot;]</td><td>[&quot;P150_136_157&quot;, &quot;a55475b1&quot;]</td><td>[&quot;a55475b1&quot;]</td><td>[&quot;a55475b1&quot;]</td><td>[&quot;a55475b1&quot;]</td><td>[&quot;a55475b1&quot;]</td><td>[&quot;a55475b1&quot;]</td></tr><tr><td>719402</td><td>[&quot;a55475b1&quot;]</td><td>[&quot;a55475b1&quot;]</td><td>[&quot;a55475b1&quot;]</td><td>[&quot;a55475b1&quot;]</td><td>[&quot;a55475b1&quot;]</td><td>[&quot;a55475b1&quot;]</td><td>[&quot;a55475b1&quot;]</td><td>[&quot;a55475b1&quot;]</td><td>[&quot;a55475b1&quot;]</td><td>[&quot;a55475b1&quot;]</td><td>[&quot;a55475b1&quot;]</td></tr><tr><td>2581504</td><td>[&quot;a55475b1&quot;]</td><td>[&quot;ea6782cc&quot;]</td><td>[&quot;a55475b1&quot;]</td><td>[&quot;7241344e&quot;]</td><td>[&quot;a55475b1&quot;]</td><td>[&quot;Home Credit&quot;]</td><td>[&quot;a55475b1&quot;]</td><td>[&quot;a55475b1&quot;]</td><td>[&quot;a55475b1&quot;]</td><td>[&quot;a55475b1&quot;]</td><td>[&quot;a55475b1&quot;]</td></tr><tr><td>2560922</td><td>[&quot;a55475b1&quot;]</td><td>[&quot;a55475b1&quot;]</td><td>[&quot;a55475b1&quot;]</td><td>[&quot;a55475b1&quot;]</td><td>[&quot;a55475b1&quot;]</td><td>[&quot;a55475b1&quot;]</td><td>[&quot;a55475b1&quot;]</td><td>[&quot;a55475b1&quot;]</td><td>[&quot;a55475b1&quot;]</td><td>[&quot;a55475b1&quot;]</td><td>[&quot;a55475b1&quot;]</td></tr><tr><td>663536</td><td>[&quot;a55475b1&quot;]</td><td>[&quot;a55475b1&quot;]</td><td>[&quot;a55475b1&quot;]</td><td>[&quot;a55475b1&quot;]</td><td>[&quot;a55475b1&quot;]</td><td>[&quot;a55475b1&quot;]</td><td>[&quot;a55475b1&quot;]</td><td>[&quot;a55475b1&quot;]</td><td>[&quot;a55475b1&quot;]</td><td>[&quot;a55475b1&quot;]</td><td>[&quot;a55475b1&quot;]</td></tr></tbody></table></div>"
      ],
      "text/plain": [
       "shape: (5, 12)\n",
       "┌─────────┬────────────┬───────────┬───────────┬───┬───────────┬───────────┬───────────┬───────────┐\n",
       "│ case_id ┆ classifica ┆ classific ┆ contracts ┆ … ┆ purposeof ┆ purposeof ┆ subjectro ┆ subjectro │\n",
       "│ ---     ┆ tionofcont ┆ ationofco ┆ t_545M    ┆   ┆ cred_426M ┆ cred_874M ┆ le_182M   ┆ le_93M    │\n",
       "│ i64     ┆ r_13M      ┆ ntr_400M  ┆ ---       ┆   ┆ ---       ┆ ---       ┆ ---       ┆ ---       │\n",
       "│         ┆ ---        ┆ ---       ┆ list[str] ┆   ┆ list[str] ┆ list[str] ┆ list[str] ┆ list[str] │\n",
       "│         ┆ list[str]  ┆ list[str] ┆           ┆   ┆           ┆           ┆           ┆           │\n",
       "╞═════════╪════════════╪═══════════╪═══════════╪═══╪═══════════╪═══════════╪═══════════╪═══════════╡\n",
       "│ 1406101 ┆ [\"a55475b1 ┆ [\"a55475b ┆ [\"a55475b ┆ … ┆ [\"a55475b ┆ [\"a55475b ┆ [\"a55475b ┆ [\"a55475b │\n",
       "│         ┆ \"]         ┆ 1\"]       ┆ 1\"]       ┆   ┆ 1\"]       ┆ 1\"]       ┆ 1\"]       ┆ 1\"]       │\n",
       "│ 719402  ┆ [\"a55475b1 ┆ [\"a55475b ┆ [\"a55475b ┆ … ┆ [\"a55475b ┆ [\"a55475b ┆ [\"a55475b ┆ [\"a55475b │\n",
       "│         ┆ \"]         ┆ 1\"]       ┆ 1\"]       ┆   ┆ 1\"]       ┆ 1\"]       ┆ 1\"]       ┆ 1\"]       │\n",
       "│ 2581504 ┆ [\"a55475b1 ┆ [\"ea6782c ┆ [\"a55475b ┆ … ┆ [\"a55475b ┆ [\"a55475b ┆ [\"a55475b ┆ [\"a55475b │\n",
       "│         ┆ \"]         ┆ c\"]       ┆ 1\"]       ┆   ┆ 1\"]       ┆ 1\"]       ┆ 1\"]       ┆ 1\"]       │\n",
       "│ 2560922 ┆ [\"a55475b1 ┆ [\"a55475b ┆ [\"a55475b ┆ … ┆ [\"a55475b ┆ [\"a55475b ┆ [\"a55475b ┆ [\"a55475b │\n",
       "│         ┆ \"]         ┆ 1\"]       ┆ 1\"]       ┆   ┆ 1\"]       ┆ 1\"]       ┆ 1\"]       ┆ 1\"]       │\n",
       "│ 663536  ┆ [\"a55475b1 ┆ [\"a55475b ┆ [\"a55475b ┆ … ┆ [\"a55475b ┆ [\"a55475b ┆ [\"a55475b ┆ [\"a55475b │\n",
       "│         ┆ \"]         ┆ 1\"]       ┆ 1\"]       ┆   ┆ 1\"]       ┆ 1\"]       ┆ 1\"]       ┆ 1\"]       │\n",
       "└─────────┴────────────┴───────────┴───────────┴───┴───────────┴───────────┴───────────┴───────────┘"
      ]
     },
     "execution_count": 180,
     "metadata": {},
     "output_type": "execute_result"
    }
   ],
   "source": [
    "df_cat_grouped.head()"
   ]
  },
  {
   "cell_type": "code",
   "execution_count": 181,
   "metadata": {},
   "outputs": [],
   "source": [
    "for col in df_cat_grouped.columns:\n",
    "    if df_cat_grouped[col].dtype != pl.Int64:\n",
    "        df_cat_grouped = df_cat_grouped.with_columns(pl.col(col).map_elements(lambda x: x[0], return_dtype=pl.String))\n"
   ]
  },
  {
   "cell_type": "code",
   "execution_count": 182,
   "metadata": {},
   "outputs": [
    {
     "data": {
      "text/html": [
       "<div><style>\n",
       ".dataframe > thead > tr,\n",
       ".dataframe > tbody > tr {\n",
       "  text-align: right;\n",
       "  white-space: pre-wrap;\n",
       "}\n",
       "</style>\n",
       "<small>shape: (335_275, 12)</small><table border=\"1\" class=\"dataframe\"><thead><tr><th>case_id</th><th>classificationofcontr_13M</th><th>classificationofcontr_400M</th><th>contractst_545M</th><th>contractst_964M</th><th>description_351M</th><th>financialinstitution_382M</th><th>financialinstitution_591M</th><th>purposeofcred_426M</th><th>purposeofcred_874M</th><th>subjectrole_182M</th><th>subjectrole_93M</th></tr><tr><td>i64</td><td>str</td><td>str</td><td>str</td><td>str</td><td>str</td><td>str</td><td>str</td><td>str</td><td>str</td><td>str</td><td>str</td></tr></thead><tbody><tr><td>1406101</td><td>&quot;a55475b1&quot;</td><td>&quot;a55475b1&quot;</td><td>&quot;a55475b1&quot;</td><td>&quot;7241344e&quot;</td><td>&quot;a55475b1&quot;</td><td>&quot;P150_136_157&quot;</td><td>&quot;a55475b1&quot;</td><td>&quot;a55475b1&quot;</td><td>&quot;a55475b1&quot;</td><td>&quot;a55475b1&quot;</td><td>&quot;a55475b1&quot;</td></tr><tr><td>719402</td><td>&quot;a55475b1&quot;</td><td>&quot;a55475b1&quot;</td><td>&quot;a55475b1&quot;</td><td>&quot;a55475b1&quot;</td><td>&quot;a55475b1&quot;</td><td>&quot;a55475b1&quot;</td><td>&quot;a55475b1&quot;</td><td>&quot;a55475b1&quot;</td><td>&quot;a55475b1&quot;</td><td>&quot;a55475b1&quot;</td><td>&quot;a55475b1&quot;</td></tr><tr><td>2581504</td><td>&quot;a55475b1&quot;</td><td>&quot;ea6782cc&quot;</td><td>&quot;a55475b1&quot;</td><td>&quot;7241344e&quot;</td><td>&quot;a55475b1&quot;</td><td>&quot;Home Credit&quot;</td><td>&quot;a55475b1&quot;</td><td>&quot;a55475b1&quot;</td><td>&quot;a55475b1&quot;</td><td>&quot;a55475b1&quot;</td><td>&quot;a55475b1&quot;</td></tr><tr><td>2560922</td><td>&quot;a55475b1&quot;</td><td>&quot;a55475b1&quot;</td><td>&quot;a55475b1&quot;</td><td>&quot;a55475b1&quot;</td><td>&quot;a55475b1&quot;</td><td>&quot;a55475b1&quot;</td><td>&quot;a55475b1&quot;</td><td>&quot;a55475b1&quot;</td><td>&quot;a55475b1&quot;</td><td>&quot;a55475b1&quot;</td><td>&quot;a55475b1&quot;</td></tr><tr><td>663536</td><td>&quot;a55475b1&quot;</td><td>&quot;a55475b1&quot;</td><td>&quot;a55475b1&quot;</td><td>&quot;a55475b1&quot;</td><td>&quot;a55475b1&quot;</td><td>&quot;a55475b1&quot;</td><td>&quot;a55475b1&quot;</td><td>&quot;a55475b1&quot;</td><td>&quot;a55475b1&quot;</td><td>&quot;a55475b1&quot;</td><td>&quot;a55475b1&quot;</td></tr><tr><td>&hellip;</td><td>&hellip;</td><td>&hellip;</td><td>&hellip;</td><td>&hellip;</td><td>&hellip;</td><td>&hellip;</td><td>&hellip;</td><td>&hellip;</td><td>&hellip;</td><td>&hellip;</td><td>&hellip;</td></tr><tr><td>1417465</td><td>&quot;a55475b1&quot;</td><td>&quot;a55475b1&quot;</td><td>&quot;a55475b1&quot;</td><td>&quot;a55475b1&quot;</td><td>&quot;a55475b1&quot;</td><td>&quot;a55475b1&quot;</td><td>&quot;a55475b1&quot;</td><td>&quot;a55475b1&quot;</td><td>&quot;a55475b1&quot;</td><td>&quot;a55475b1&quot;</td><td>&quot;a55475b1&quot;</td></tr><tr><td>104574</td><td>&quot;a55475b1&quot;</td><td>&quot;a55475b1&quot;</td><td>&quot;a55475b1&quot;</td><td>&quot;a55475b1&quot;</td><td>&quot;a55475b1&quot;</td><td>&quot;a55475b1&quot;</td><td>&quot;a55475b1&quot;</td><td>&quot;a55475b1&quot;</td><td>&quot;a55475b1&quot;</td><td>&quot;a55475b1&quot;</td><td>&quot;a55475b1&quot;</td></tr><tr><td>136309</td><td>&quot;a55475b1&quot;</td><td>&quot;a55475b1&quot;</td><td>&quot;a55475b1&quot;</td><td>&quot;a55475b1&quot;</td><td>&quot;a55475b1&quot;</td><td>&quot;a55475b1&quot;</td><td>&quot;a55475b1&quot;</td><td>&quot;a55475b1&quot;</td><td>&quot;a55475b1&quot;</td><td>&quot;a55475b1&quot;</td><td>&quot;a55475b1&quot;</td></tr><tr><td>2559195</td><td>&quot;a55475b1&quot;</td><td>&quot;a55475b1&quot;</td><td>&quot;a55475b1&quot;</td><td>&quot;a55475b1&quot;</td><td>&quot;a55475b1&quot;</td><td>&quot;a55475b1&quot;</td><td>&quot;a55475b1&quot;</td><td>&quot;a55475b1&quot;</td><td>&quot;a55475b1&quot;</td><td>&quot;a55475b1&quot;</td><td>&quot;a55475b1&quot;</td></tr><tr><td>129503</td><td>&quot;a55475b1&quot;</td><td>&quot;a55475b1&quot;</td><td>&quot;a55475b1&quot;</td><td>&quot;a55475b1&quot;</td><td>&quot;a55475b1&quot;</td><td>&quot;a55475b1&quot;</td><td>&quot;a55475b1&quot;</td><td>&quot;a55475b1&quot;</td><td>&quot;a55475b1&quot;</td><td>&quot;a55475b1&quot;</td><td>&quot;a55475b1&quot;</td></tr></tbody></table></div>"
      ],
      "text/plain": [
       "shape: (335_275, 12)\n",
       "┌─────────┬────────────┬───────────┬───────────┬───┬───────────┬───────────┬───────────┬───────────┐\n",
       "│ case_id ┆ classifica ┆ classific ┆ contracts ┆ … ┆ purposeof ┆ purposeof ┆ subjectro ┆ subjectro │\n",
       "│ ---     ┆ tionofcont ┆ ationofco ┆ t_545M    ┆   ┆ cred_426M ┆ cred_874M ┆ le_182M   ┆ le_93M    │\n",
       "│ i64     ┆ r_13M      ┆ ntr_400M  ┆ ---       ┆   ┆ ---       ┆ ---       ┆ ---       ┆ ---       │\n",
       "│         ┆ ---        ┆ ---       ┆ str       ┆   ┆ str       ┆ str       ┆ str       ┆ str       │\n",
       "│         ┆ str        ┆ str       ┆           ┆   ┆           ┆           ┆           ┆           │\n",
       "╞═════════╪════════════╪═══════════╪═══════════╪═══╪═══════════╪═══════════╪═══════════╪═══════════╡\n",
       "│ 1406101 ┆ a55475b1   ┆ a55475b1  ┆ a55475b1  ┆ … ┆ a55475b1  ┆ a55475b1  ┆ a55475b1  ┆ a55475b1  │\n",
       "│ 719402  ┆ a55475b1   ┆ a55475b1  ┆ a55475b1  ┆ … ┆ a55475b1  ┆ a55475b1  ┆ a55475b1  ┆ a55475b1  │\n",
       "│ 2581504 ┆ a55475b1   ┆ ea6782cc  ┆ a55475b1  ┆ … ┆ a55475b1  ┆ a55475b1  ┆ a55475b1  ┆ a55475b1  │\n",
       "│ 2560922 ┆ a55475b1   ┆ a55475b1  ┆ a55475b1  ┆ … ┆ a55475b1  ┆ a55475b1  ┆ a55475b1  ┆ a55475b1  │\n",
       "│ 663536  ┆ a55475b1   ┆ a55475b1  ┆ a55475b1  ┆ … ┆ a55475b1  ┆ a55475b1  ┆ a55475b1  ┆ a55475b1  │\n",
       "│ …       ┆ …          ┆ …         ┆ …         ┆ … ┆ …         ┆ …         ┆ …         ┆ …         │\n",
       "│ 1417465 ┆ a55475b1   ┆ a55475b1  ┆ a55475b1  ┆ … ┆ a55475b1  ┆ a55475b1  ┆ a55475b1  ┆ a55475b1  │\n",
       "│ 104574  ┆ a55475b1   ┆ a55475b1  ┆ a55475b1  ┆ … ┆ a55475b1  ┆ a55475b1  ┆ a55475b1  ┆ a55475b1  │\n",
       "│ 136309  ┆ a55475b1   ┆ a55475b1  ┆ a55475b1  ┆ … ┆ a55475b1  ┆ a55475b1  ┆ a55475b1  ┆ a55475b1  │\n",
       "│ 2559195 ┆ a55475b1   ┆ a55475b1  ┆ a55475b1  ┆ … ┆ a55475b1  ┆ a55475b1  ┆ a55475b1  ┆ a55475b1  │\n",
       "│ 129503  ┆ a55475b1   ┆ a55475b1  ┆ a55475b1  ┆ … ┆ a55475b1  ┆ a55475b1  ┆ a55475b1  ┆ a55475b1  │\n",
       "└─────────┴────────────┴───────────┴───────────┴───┴───────────┴───────────┴───────────┴───────────┘"
      ]
     },
     "execution_count": 182,
     "metadata": {},
     "output_type": "execute_result"
    }
   ],
   "source": [
    "df_cat_grouped"
   ]
  },
  {
   "cell_type": "code",
   "execution_count": 217,
   "metadata": {},
   "outputs": [],
   "source": [
    "def group_file_data(\n",
    "    df: pl.DataFrame, \n",
    "    num_cols: list[str] = [], \n",
    "    date_cols: list[str] = [], \n",
    "    cat_cols: list[str] = []\n",
    ") -> pl.DataFrame:\n",
    "    '''\n",
    "    Function to group numerical, date, and categorical columns\n",
    "\n",
    "    Parameters:\n",
    "    -----------\n",
    "    df : Polars DataFrame\n",
    "    num_cols : List of numerical column names (remember to drop num_group columns)\n",
    "    date_cols : List of date column names\n",
    "    cat_cols : List of categorical column names\n",
    "    '''\n",
    "    \n",
    "    # Convert date columns\n",
    "    df_date = df[['case_id'] + date_cols]\n",
    "\n",
    "    # One-hot categories\n",
    "    # df_dummies = df[['case_id'] + cat_cols].to_dummies(cat_cols)\n",
    "    df_cat = df[['case_id'] + cat_cols]\n",
    "\n",
    "    # Num DataFrame\n",
    "    df_num = df[['case_id'] + num_cols]\n",
    "\n",
    "    # Date aggs\n",
    "    date_aggs = [ pl.min(col).name.suffix('_min') for col in date_cols ] +\\\n",
    "                [ pl.max(col).name.suffix('_max') for col in date_cols ] +\\\n",
    "                [ pl.n_unique(col).name.suffix('_distinct') for col in date_cols]\n",
    "    df_date_grouped = df_date.group_by('case_id').agg(date_aggs)\n",
    "\n",
    "    # One-hot aggs\n",
    "    # dummy_cols = [ col for col in df_dummies.columns if col != 'case_id']\n",
    "    # dummies_aggs = [ pl.sum(col).name.suffix('_sum') for col in dummy_cols ]\n",
    "    # df_dummies_grouped = df_dummies.group_by('case_id').agg(dummies_aggs)\n",
    "\n",
    "    # Cat aggs\n",
    "    # cat_aggs = [ pl.col(col).mode().name.suffix('_mode') for col in cat_cols ] +\\\n",
    "            #    [ pl.n_unique(col).name.suffix('_distinct') for col in cat_cols ]\n",
    "    cat_aggs = [ pl.col(col).mode() for col in cat_cols ]\n",
    "    df_cat_grouped = df_cat.group_by('case_id').agg(cat_aggs)\n",
    "    for col in df_cat_grouped.columns:\n",
    "        if df_cat_grouped[col].dtype != pl.Int64:\n",
    "            df_cat_grouped = df_cat_grouped.with_columns(pl.col(col).map_elements(lambda x: x[0], return_dtype=pl.String))\n",
    "\n",
    "    # Numerical aggs\n",
    "    num_aggs = [ pl.min(col).name.suffix('_min') for col in num_cols ] +\\\n",
    "            [ pl.max(col).name.suffix('_max') for col in num_cols ] +\\\n",
    "            [ pl.mean(col).name.suffix('_mean') for col in num_cols ] +\\\n",
    "            [ pl.median(col).name.suffix('_median') for col in num_cols ] +\\\n",
    "            [ pl.sum(col).name.suffix('_sum') for col in num_cols ]\n",
    "    df_num_grouped = df_num.group_by('case_id').agg(num_aggs)\n",
    "\n",
    "    # Join DataFrames\n",
    "    df_joined = df_num_grouped.join(df_date_grouped, on='case_id')\n",
    "    # df_joined = df_joined.join(df_dummies_grouped, on='case_id')\n",
    "    df_joined = df_joined.join(df_cat_grouped, on='case_id')\n",
    "\n",
    "    return df_joined"
   ]
  },
  {
   "cell_type": "code",
   "execution_count": 218,
   "metadata": {},
   "outputs": [],
   "source": [
    "grouped_df = group_file_data(df, num_cols=num_cols, date_cols=date_cols, cat_cols=cat_cols)"
   ]
  },
  {
   "cell_type": "code",
   "execution_count": 219,
   "metadata": {},
   "outputs": [
    {
     "data": {
      "text/html": [
       "<div><style>\n",
       ".dataframe > thead > tr,\n",
       ".dataframe > tbody > tr {\n",
       "  text-align: right;\n",
       "  white-space: pre-wrap;\n",
       "}\n",
       "</style>\n",
       "<small>shape: (1, 318)</small><table border=\"1\" class=\"dataframe\"><thead><tr><th>case_id</th><th>annualeffectiverate_199L_min</th><th>annualeffectiverate_63L_min</th><th>contractsum_5085717L_min</th><th>credlmt_230A_min</th><th>credlmt_935A_min</th><th>debtoutstand_525A_min</th><th>debtoverdue_47A_min</th><th>dpdmax_139P_min</th><th>dpdmax_757P_min</th><th>dpdmaxdatemonth_442T_min</th><th>dpdmaxdatemonth_89T_min</th><th>dpdmaxdateyear_596T_min</th><th>dpdmaxdateyear_896T_min</th><th>instlamount_768A_min</th><th>instlamount_852A_min</th><th>interestrate_508L_min</th><th>monthlyinstlamount_332A_min</th><th>monthlyinstlamount_674A_min</th><th>nominalrate_281L_min</th><th>nominalrate_498L_min</th><th>numberofcontrsvalue_258L_min</th><th>numberofcontrsvalue_358L_min</th><th>numberofinstls_229L_min</th><th>numberofinstls_320L_min</th><th>numberofoutstandinstls_520L_min</th><th>numberofoutstandinstls_59L_min</th><th>numberofoverdueinstlmax_1039L_min</th><th>numberofoverdueinstlmax_1151L_min</th><th>numberofoverdueinstls_725L_min</th><th>numberofoverdueinstls_834L_min</th><th>outstandingamount_354A_min</th><th>outstandingamount_362A_min</th><th>overdueamount_31A_min</th><th>overdueamount_659A_min</th><th>overdueamountmax2_14A_min</th><th>overdueamountmax2_398A_min</th><th>&hellip;</th><th>overdueamountmax2date_1142D_min</th><th>refreshdate_3813885D_min</th><th>dateofcredend_289D_max</th><th>dateofcredend_353D_max</th><th>dateofcredstart_181D_max</th><th>dateofcredstart_739D_max</th><th>dateofrealrepmt_138D_max</th><th>lastupdate_1112D_max</th><th>lastupdate_388D_max</th><th>numberofoverdueinstlmaxdat_148D_max</th><th>numberofoverdueinstlmaxdat_641D_max</th><th>overdueamountmax2date_1002D_max</th><th>overdueamountmax2date_1142D_max</th><th>refreshdate_3813885D_max</th><th>dateofcredend_289D_distinct</th><th>dateofcredend_353D_distinct</th><th>dateofcredstart_181D_distinct</th><th>dateofcredstart_739D_distinct</th><th>dateofrealrepmt_138D_distinct</th><th>lastupdate_1112D_distinct</th><th>lastupdate_388D_distinct</th><th>numberofoverdueinstlmaxdat_148D_distinct</th><th>numberofoverdueinstlmaxdat_641D_distinct</th><th>overdueamountmax2date_1002D_distinct</th><th>overdueamountmax2date_1142D_distinct</th><th>refreshdate_3813885D_distinct</th><th>classificationofcontr_13M</th><th>classificationofcontr_400M</th><th>contractst_545M</th><th>contractst_964M</th><th>description_351M</th><th>financialinstitution_382M</th><th>financialinstitution_591M</th><th>purposeofcred_426M</th><th>purposeofcred_874M</th><th>subjectrole_182M</th><th>subjectrole_93M</th></tr><tr><td>i64</td><td>f64</td><td>f64</td><td>f64</td><td>f64</td><td>f64</td><td>f64</td><td>f64</td><td>f64</td><td>f64</td><td>f64</td><td>f64</td><td>f64</td><td>f64</td><td>f64</td><td>f64</td><td>f64</td><td>f64</td><td>f64</td><td>f64</td><td>f64</td><td>f64</td><td>f64</td><td>f64</td><td>f64</td><td>f64</td><td>f64</td><td>f64</td><td>f64</td><td>f64</td><td>f64</td><td>f64</td><td>f64</td><td>f64</td><td>f64</td><td>f64</td><td>f64</td><td>&hellip;</td><td>date</td><td>date</td><td>date</td><td>date</td><td>date</td><td>date</td><td>date</td><td>date</td><td>date</td><td>date</td><td>date</td><td>date</td><td>date</td><td>date</td><td>u32</td><td>u32</td><td>u32</td><td>u32</td><td>u32</td><td>u32</td><td>u32</td><td>u32</td><td>u32</td><td>u32</td><td>u32</td><td>u32</td><td>str</td><td>str</td><td>str</td><td>str</td><td>str</td><td>str</td><td>str</td><td>str</td><td>str</td><td>str</td><td>str</td></tr></thead><tbody><tr><td>388</td><td>null</td><td>null</td><td>null</td><td>null</td><td>135806.0</td><td>374419.5</td><td>0.0</td><td>0.0</td><td>null</td><td>null</td><td>7.0</td><td>2018.0</td><td>null</td><td>8742.8</td><td>null</td><td>null</td><td>7811.4463</td><td>null</td><td>null</td><td>null</td><td>2.0</td><td>1.0</td><td>null</td><td>60.0</td><td>null</td><td>54.0</td><td>0.0</td><td>null</td><td>0.0</td><td>null</td><td>null</td><td>260093.7</td><td>null</td><td>0.0</td><td>0.0</td><td>null</td><td>&hellip;</td><td>null</td><td>2018-11-02</td><td>2023-06-20</td><td>null</td><td>null</td><td>2018-08-06</td><td>null</td><td>2019-01-24</td><td>null</td><td>null</td><td>null</td><td>null</td><td>null</td><td>2019-01-28</td><td>3</td><td>1</td><td>1</td><td>3</td><td>1</td><td>3</td><td>1</td><td>1</td><td>1</td><td>1</td><td>1</td><td>7</td><td>&quot;a55475b1&quot;</td><td>&quot;a55475b1&quot;</td><td>&quot;a55475b1&quot;</td><td>&quot;a55475b1&quot;</td><td>&quot;a55475b1&quot;</td><td>&quot;a55475b1&quot;</td><td>&quot;a55475b1&quot;</td><td>&quot;a55475b1&quot;</td><td>&quot;a55475b1&quot;</td><td>&quot;a55475b1&quot;</td><td>&quot;a55475b1&quot;</td></tr></tbody></table></div>"
      ],
      "text/plain": [
       "shape: (1, 318)\n",
       "┌─────────┬────────────┬───────────┬───────────┬───┬───────────┬───────────┬───────────┬───────────┐\n",
       "│ case_id ┆ annualeffe ┆ annualeff ┆ contracts ┆ … ┆ purposeof ┆ purposeof ┆ subjectro ┆ subjectro │\n",
       "│ ---     ┆ ctiverate_ ┆ ectiverat ┆ um_508571 ┆   ┆ cred_426M ┆ cred_874M ┆ le_182M   ┆ le_93M    │\n",
       "│ i64     ┆ 199L_min   ┆ e_63L_min ┆ 7L_min    ┆   ┆ ---       ┆ ---       ┆ ---       ┆ ---       │\n",
       "│         ┆ ---        ┆ ---       ┆ ---       ┆   ┆ str       ┆ str       ┆ str       ┆ str       │\n",
       "│         ┆ f64        ┆ f64       ┆ f64       ┆   ┆           ┆           ┆           ┆           │\n",
       "╞═════════╪════════════╪═══════════╪═══════════╪═══╪═══════════╪═══════════╪═══════════╪═══════════╡\n",
       "│ 388     ┆ null       ┆ null      ┆ null      ┆ … ┆ a55475b1  ┆ a55475b1  ┆ a55475b1  ┆ a55475b1  │\n",
       "└─────────┴────────────┴───────────┴───────────┴───┴───────────┴───────────┴───────────┴───────────┘"
      ]
     },
     "execution_count": 219,
     "metadata": {},
     "output_type": "execute_result"
    }
   ],
   "source": [
    "grouped_df.filter(pl.col('case_id') == 388)"
   ]
  },
  {
   "cell_type": "code",
   "execution_count": 196,
   "metadata": {},
   "outputs": [],
   "source": [
    "new_date_cols = [ col for col in grouped_df.columns if grouped_df[col].dtype == pl.Date ]"
   ]
  },
  {
   "cell_type": "code",
   "execution_count": 198,
   "metadata": {},
   "outputs": [],
   "source": [
    "date_df = separate_dates(grouped_df, new_date_cols)"
   ]
  },
  {
   "cell_type": "code",
   "execution_count": 199,
   "metadata": {},
   "outputs": [
    {
     "data": {
      "text/html": [
       "<div><style>\n",
       ".dataframe > thead > tr,\n",
       ".dataframe > tbody > tr {\n",
       "  text-align: right;\n",
       "  white-space: pre-wrap;\n",
       "}\n",
       "</style>\n",
       "<small>shape: (335_275, 72)</small><table border=\"1\" class=\"dataframe\"><thead><tr><th>dateofcredend_289D_min_year</th><th>dateofcredend_289D_min_month</th><th>dateofcredend_289D_min_day</th><th>dateofcredend_353D_min_year</th><th>dateofcredend_353D_min_month</th><th>dateofcredend_353D_min_day</th><th>dateofcredstart_181D_min_year</th><th>dateofcredstart_181D_min_month</th><th>dateofcredstart_181D_min_day</th><th>dateofcredstart_739D_min_year</th><th>dateofcredstart_739D_min_month</th><th>dateofcredstart_739D_min_day</th><th>dateofrealrepmt_138D_min_year</th><th>dateofrealrepmt_138D_min_month</th><th>dateofrealrepmt_138D_min_day</th><th>lastupdate_1112D_min_year</th><th>lastupdate_1112D_min_month</th><th>lastupdate_1112D_min_day</th><th>lastupdate_388D_min_year</th><th>lastupdate_388D_min_month</th><th>lastupdate_388D_min_day</th><th>numberofoverdueinstlmaxdat_148D_min_year</th><th>numberofoverdueinstlmaxdat_148D_min_month</th><th>numberofoverdueinstlmaxdat_148D_min_day</th><th>numberofoverdueinstlmaxdat_641D_min_year</th><th>numberofoverdueinstlmaxdat_641D_min_month</th><th>numberofoverdueinstlmaxdat_641D_min_day</th><th>overdueamountmax2date_1002D_min_year</th><th>overdueamountmax2date_1002D_min_month</th><th>overdueamountmax2date_1002D_min_day</th><th>overdueamountmax2date_1142D_min_year</th><th>overdueamountmax2date_1142D_min_month</th><th>overdueamountmax2date_1142D_min_day</th><th>refreshdate_3813885D_min_year</th><th>refreshdate_3813885D_min_month</th><th>refreshdate_3813885D_min_day</th><th>dateofcredend_289D_max_year</th><th>dateofcredend_289D_max_month</th><th>dateofcredend_289D_max_day</th><th>dateofcredend_353D_max_year</th><th>dateofcredend_353D_max_month</th><th>dateofcredend_353D_max_day</th><th>dateofcredstart_181D_max_year</th><th>dateofcredstart_181D_max_month</th><th>dateofcredstart_181D_max_day</th><th>dateofcredstart_739D_max_year</th><th>dateofcredstart_739D_max_month</th><th>dateofcredstart_739D_max_day</th><th>dateofrealrepmt_138D_max_year</th><th>dateofrealrepmt_138D_max_month</th><th>dateofrealrepmt_138D_max_day</th><th>lastupdate_1112D_max_year</th><th>lastupdate_1112D_max_month</th><th>lastupdate_1112D_max_day</th><th>lastupdate_388D_max_year</th><th>lastupdate_388D_max_month</th><th>lastupdate_388D_max_day</th><th>numberofoverdueinstlmaxdat_148D_max_year</th><th>numberofoverdueinstlmaxdat_148D_max_month</th><th>numberofoverdueinstlmaxdat_148D_max_day</th><th>numberofoverdueinstlmaxdat_641D_max_year</th><th>numberofoverdueinstlmaxdat_641D_max_month</th><th>numberofoverdueinstlmaxdat_641D_max_day</th><th>overdueamountmax2date_1002D_max_year</th><th>overdueamountmax2date_1002D_max_month</th><th>overdueamountmax2date_1002D_max_day</th><th>overdueamountmax2date_1142D_max_year</th><th>overdueamountmax2date_1142D_max_month</th><th>overdueamountmax2date_1142D_max_day</th><th>refreshdate_3813885D_max_year</th><th>refreshdate_3813885D_max_month</th><th>refreshdate_3813885D_max_day</th></tr><tr><td>i32</td><td>i8</td><td>i8</td><td>i32</td><td>i8</td><td>i8</td><td>i32</td><td>i8</td><td>i8</td><td>i32</td><td>i8</td><td>i8</td><td>i32</td><td>i8</td><td>i8</td><td>i32</td><td>i8</td><td>i8</td><td>i32</td><td>i8</td><td>i8</td><td>i32</td><td>i8</td><td>i8</td><td>i32</td><td>i8</td><td>i8</td><td>i32</td><td>i8</td><td>i8</td><td>i32</td><td>i8</td><td>i8</td><td>i32</td><td>i8</td><td>i8</td><td>i32</td><td>i8</td><td>i8</td><td>i32</td><td>i8</td><td>i8</td><td>i32</td><td>i8</td><td>i8</td><td>i32</td><td>i8</td><td>i8</td><td>i32</td><td>i8</td><td>i8</td><td>i32</td><td>i8</td><td>i8</td><td>i32</td><td>i8</td><td>i8</td><td>i32</td><td>i8</td><td>i8</td><td>i32</td><td>i8</td><td>i8</td><td>i32</td><td>i8</td><td>i8</td><td>i32</td><td>i8</td><td>i8</td><td>i32</td><td>i8</td><td>i8</td></tr></thead><tbody><tr><td>2019</td><td>7</td><td>19</td><td>2016</td><td>9</td><td>27</td><td>2016</td><td>6</td><td>27</td><td>2014</td><td>8</td><td>27</td><td>2016</td><td>9</td><td>28</td><td>2019</td><td>6</td><td>7</td><td>2016</td><td>9</td><td>28</td><td>null</td><td>null</td><td>null</td><td>null</td><td>null</td><td>null</td><td>null</td><td>null</td><td>null</td><td>null</td><td>null</td><td>null</td><td>2019</td><td>1</td><td>3</td><td>2020</td><td>8</td><td>27</td><td>2018</td><td>11</td><td>19</td><td>2018</td><td>8</td><td>19</td><td>2019</td><td>1</td><td>16</td><td>2018</td><td>11</td><td>20</td><td>2019</td><td>6</td><td>12</td><td>2018</td><td>11</td><td>20</td><td>null</td><td>null</td><td>null</td><td>null</td><td>null</td><td>null</td><td>null</td><td>null</td><td>null</td><td>null</td><td>null</td><td>null</td><td>2019</td><td>6</td><td>22</td></tr><tr><td>2020</td><td>9</td><td>17</td><td>null</td><td>null</td><td>null</td><td>null</td><td>null</td><td>null</td><td>2018</td><td>9</td><td>17</td><td>null</td><td>null</td><td>null</td><td>2019</td><td>2</td><td>12</td><td>null</td><td>null</td><td>null</td><td>null</td><td>null</td><td>null</td><td>null</td><td>null</td><td>null</td><td>null</td><td>null</td><td>null</td><td>null</td><td>null</td><td>null</td><td>2019</td><td>1</td><td>3</td><td>2020</td><td>9</td><td>17</td><td>null</td><td>null</td><td>null</td><td>null</td><td>null</td><td>null</td><td>2018</td><td>9</td><td>17</td><td>null</td><td>null</td><td>null</td><td>2019</td><td>2</td><td>12</td><td>null</td><td>null</td><td>null</td><td>null</td><td>null</td><td>null</td><td>null</td><td>null</td><td>null</td><td>null</td><td>null</td><td>null</td><td>null</td><td>null</td><td>null</td><td>2019</td><td>2</td><td>27</td></tr><tr><td>2020</td><td>5</td><td>1</td><td>null</td><td>null</td><td>null</td><td>null</td><td>null</td><td>null</td><td>2018</td><td>10</td><td>5</td><td>null</td><td>null</td><td>null</td><td>2019</td><td>4</td><td>23</td><td>null</td><td>null</td><td>null</td><td>null</td><td>null</td><td>null</td><td>null</td><td>null</td><td>null</td><td>null</td><td>null</td><td>null</td><td>null</td><td>null</td><td>null</td><td>2019</td><td>1</td><td>3</td><td>2020</td><td>10</td><td>5</td><td>null</td><td>null</td><td>null</td><td>null</td><td>null</td><td>null</td><td>2018</td><td>12</td><td>31</td><td>null</td><td>null</td><td>null</td><td>2019</td><td>4</td><td>28</td><td>null</td><td>null</td><td>null</td><td>null</td><td>null</td><td>null</td><td>null</td><td>null</td><td>null</td><td>null</td><td>null</td><td>null</td><td>null</td><td>null</td><td>null</td><td>2019</td><td>5</td><td>3</td></tr><tr><td>2019</td><td>10</td><td>29</td><td>null</td><td>null</td><td>null</td><td>null</td><td>null</td><td>null</td><td>2017</td><td>10</td><td>29</td><td>null</td><td>null</td><td>null</td><td>2019</td><td>6</td><td>18</td><td>null</td><td>null</td><td>null</td><td>null</td><td>null</td><td>null</td><td>null</td><td>null</td><td>null</td><td>null</td><td>null</td><td>null</td><td>null</td><td>null</td><td>null</td><td>2019</td><td>1</td><td>3</td><td>2020</td><td>5</td><td>29</td><td>null</td><td>null</td><td>null</td><td>null</td><td>null</td><td>null</td><td>2019</td><td>3</td><td>18</td><td>null</td><td>null</td><td>null</td><td>2019</td><td>6</td><td>28</td><td>null</td><td>null</td><td>null</td><td>null</td><td>null</td><td>null</td><td>null</td><td>null</td><td>null</td><td>null</td><td>null</td><td>null</td><td>null</td><td>null</td><td>null</td><td>2019</td><td>7</td><td>1</td></tr><tr><td>2021</td><td>7</td><td>4</td><td>2008</td><td>8</td><td>10</td><td>2007</td><td>5</td><td>3</td><td>2019</td><td>1</td><td>3</td><td>2008</td><td>9</td><td>8</td><td>2019</td><td>6</td><td>10</td><td>2008</td><td>9</td><td>15</td><td>2008</td><td>8</td><td>15</td><td>null</td><td>null</td><td>null</td><td>2008</td><td>8</td><td>15</td><td>null</td><td>null</td><td>null</td><td>2019</td><td>1</td><td>3</td><td>2021</td><td>7</td><td>4</td><td>2019</td><td>6</td><td>2</td><td>2017</td><td>12</td><td>3</td><td>2019</td><td>1</td><td>3</td><td>2019</td><td>6</td><td>3</td><td>2019</td><td>6</td><td>10</td><td>2019</td><td>6</td><td>3</td><td>2018</td><td>9</td><td>27</td><td>null</td><td>null</td><td>null</td><td>2018</td><td>9</td><td>27</td><td>null</td><td>null</td><td>null</td><td>2019</td><td>6</td><td>28</td></tr><tr><td>&hellip;</td><td>&hellip;</td><td>&hellip;</td><td>&hellip;</td><td>&hellip;</td><td>&hellip;</td><td>&hellip;</td><td>&hellip;</td><td>&hellip;</td><td>&hellip;</td><td>&hellip;</td><td>&hellip;</td><td>&hellip;</td><td>&hellip;</td><td>&hellip;</td><td>&hellip;</td><td>&hellip;</td><td>&hellip;</td><td>&hellip;</td><td>&hellip;</td><td>&hellip;</td><td>&hellip;</td><td>&hellip;</td><td>&hellip;</td><td>&hellip;</td><td>&hellip;</td><td>&hellip;</td><td>&hellip;</td><td>&hellip;</td><td>&hellip;</td><td>&hellip;</td><td>&hellip;</td><td>&hellip;</td><td>&hellip;</td><td>&hellip;</td><td>&hellip;</td><td>&hellip;</td><td>&hellip;</td><td>&hellip;</td><td>&hellip;</td><td>&hellip;</td><td>&hellip;</td><td>&hellip;</td><td>&hellip;</td><td>&hellip;</td><td>&hellip;</td><td>&hellip;</td><td>&hellip;</td><td>&hellip;</td><td>&hellip;</td><td>&hellip;</td><td>&hellip;</td><td>&hellip;</td><td>&hellip;</td><td>&hellip;</td><td>&hellip;</td><td>&hellip;</td><td>&hellip;</td><td>&hellip;</td><td>&hellip;</td><td>&hellip;</td><td>&hellip;</td><td>&hellip;</td><td>&hellip;</td><td>&hellip;</td><td>&hellip;</td><td>&hellip;</td><td>&hellip;</td><td>&hellip;</td><td>&hellip;</td><td>&hellip;</td><td>&hellip;</td></tr><tr><td>2019</td><td>6</td><td>5</td><td>null</td><td>null</td><td>null</td><td>null</td><td>null</td><td>null</td><td>2015</td><td>9</td><td>2</td><td>null</td><td>null</td><td>null</td><td>2019</td><td>4</td><td>24</td><td>null</td><td>null</td><td>null</td><td>null</td><td>null</td><td>null</td><td>2019</td><td>3</td><td>21</td><td>null</td><td>null</td><td>null</td><td>2019</td><td>3</td><td>21</td><td>2019</td><td>1</td><td>3</td><td>2023</td><td>7</td><td>6</td><td>null</td><td>null</td><td>null</td><td>null</td><td>null</td><td>null</td><td>2018</td><td>10</td><td>31</td><td>null</td><td>null</td><td>null</td><td>2019</td><td>5</td><td>10</td><td>null</td><td>null</td><td>null</td><td>null</td><td>null</td><td>null</td><td>2019</td><td>3</td><td>21</td><td>null</td><td>null</td><td>null</td><td>2019</td><td>3</td><td>21</td><td>2019</td><td>5</td><td>12</td></tr><tr><td>2019</td><td>3</td><td>10</td><td>null</td><td>null</td><td>null</td><td>null</td><td>null</td><td>null</td><td>2018</td><td>3</td><td>10</td><td>null</td><td>null</td><td>null</td><td>2019</td><td>1</td><td>7</td><td>null</td><td>null</td><td>null</td><td>null</td><td>null</td><td>null</td><td>2018</td><td>7</td><td>11</td><td>null</td><td>null</td><td>null</td><td>2018</td><td>7</td><td>11</td><td>2018</td><td>11</td><td>2</td><td>2019</td><td>7</td><td>20</td><td>null</td><td>null</td><td>null</td><td>null</td><td>null</td><td>null</td><td>2018</td><td>7</td><td>20</td><td>null</td><td>null</td><td>null</td><td>2019</td><td>1</td><td>7</td><td>null</td><td>null</td><td>null</td><td>null</td><td>null</td><td>null</td><td>2018</td><td>7</td><td>11</td><td>null</td><td>null</td><td>null</td><td>2018</td><td>7</td><td>11</td><td>2019</td><td>1</td><td>25</td></tr><tr><td>2020</td><td>11</td><td>8</td><td>null</td><td>null</td><td>null</td><td>null</td><td>null</td><td>null</td><td>2016</td><td>11</td><td>23</td><td>null</td><td>null</td><td>null</td><td>2019</td><td>1</td><td>25</td><td>null</td><td>null</td><td>null</td><td>null</td><td>null</td><td>null</td><td>null</td><td>null</td><td>null</td><td>null</td><td>null</td><td>null</td><td>null</td><td>null</td><td>null</td><td>2018</td><td>11</td><td>2</td><td>2020</td><td>11</td><td>23</td><td>null</td><td>null</td><td>null</td><td>null</td><td>null</td><td>null</td><td>2018</td><td>11</td><td>8</td><td>null</td><td>null</td><td>null</td><td>2019</td><td>1</td><td>29</td><td>null</td><td>null</td><td>null</td><td>null</td><td>null</td><td>null</td><td>null</td><td>null</td><td>null</td><td>null</td><td>null</td><td>null</td><td>null</td><td>null</td><td>null</td><td>2019</td><td>2</td><td>5</td></tr><tr><td>2019</td><td>8</td><td>11</td><td>null</td><td>null</td><td>null</td><td>null</td><td>null</td><td>null</td><td>2013</td><td>12</td><td>24</td><td>null</td><td>null</td><td>null</td><td>2019</td><td>3</td><td>12</td><td>null</td><td>null</td><td>null</td><td>null</td><td>null</td><td>null</td><td>null</td><td>null</td><td>null</td><td>null</td><td>null</td><td>null</td><td>null</td><td>null</td><td>null</td><td>2019</td><td>1</td><td>3</td><td>2019</td><td>12</td><td>24</td><td>null</td><td>null</td><td>null</td><td>null</td><td>null</td><td>null</td><td>2016</td><td>8</td><td>11</td><td>null</td><td>null</td><td>null</td><td>2019</td><td>3</td><td>13</td><td>null</td><td>null</td><td>null</td><td>null</td><td>null</td><td>null</td><td>null</td><td>null</td><td>null</td><td>null</td><td>null</td><td>null</td><td>null</td><td>null</td><td>null</td><td>2019</td><td>3</td><td>26</td></tr><tr><td>2019</td><td>7</td><td>27</td><td>null</td><td>null</td><td>null</td><td>null</td><td>null</td><td>null</td><td>2016</td><td>7</td><td>27</td><td>null</td><td>null</td><td>null</td><td>2019</td><td>2</td><td>7</td><td>null</td><td>null</td><td>null</td><td>null</td><td>null</td><td>null</td><td>2017</td><td>7</td><td>17</td><td>null</td><td>null</td><td>null</td><td>2018</td><td>8</td><td>28</td><td>2019</td><td>1</td><td>3</td><td>2019</td><td>7</td><td>27</td><td>null</td><td>null</td><td>null</td><td>null</td><td>null</td><td>null</td><td>2016</td><td>7</td><td>27</td><td>null</td><td>null</td><td>null</td><td>2019</td><td>2</td><td>7</td><td>null</td><td>null</td><td>null</td><td>null</td><td>null</td><td>null</td><td>2017</td><td>7</td><td>17</td><td>null</td><td>null</td><td>null</td><td>2018</td><td>8</td><td>28</td><td>2019</td><td>2</td><td>25</td></tr></tbody></table></div>"
      ],
      "text/plain": [
       "shape: (335_275, 72)\n",
       "┌───────────┬───────────┬───────────┬───────────┬───┬───────────┬───────────┬───────────┬──────────┐\n",
       "│ dateofcre ┆ dateofcre ┆ dateofcre ┆ dateofcre ┆ … ┆ overdueam ┆ refreshda ┆ refreshda ┆ refreshd │\n",
       "│ dend_289D ┆ dend_289D ┆ dend_289D ┆ dend_353D ┆   ┆ ountmax2d ┆ te_381388 ┆ te_381388 ┆ ate_3813 │\n",
       "│ _min_year ┆ _min_mont ┆ _min_day  ┆ _min_year ┆   ┆ ate_1142D ┆ 5D_max_ye ┆ 5D_max_mo ┆ 885D_max │\n",
       "│ ---       ┆ h         ┆ ---       ┆ ---       ┆   ┆ _max_…    ┆ ar        ┆ nth       ┆ _day     │\n",
       "│ i32       ┆ ---       ┆ i8        ┆ i32       ┆   ┆ ---       ┆ ---       ┆ ---       ┆ ---      │\n",
       "│           ┆ i8        ┆           ┆           ┆   ┆ i8        ┆ i32       ┆ i8        ┆ i8       │\n",
       "╞═══════════╪═══════════╪═══════════╪═══════════╪═══╪═══════════╪═══════════╪═══════════╪══════════╡\n",
       "│ 2019      ┆ 7         ┆ 19        ┆ 2016      ┆ … ┆ null      ┆ 2019      ┆ 6         ┆ 22       │\n",
       "│ 2020      ┆ 9         ┆ 17        ┆ null      ┆ … ┆ null      ┆ 2019      ┆ 2         ┆ 27       │\n",
       "│ 2020      ┆ 5         ┆ 1         ┆ null      ┆ … ┆ null      ┆ 2019      ┆ 5         ┆ 3        │\n",
       "│ 2019      ┆ 10        ┆ 29        ┆ null      ┆ … ┆ null      ┆ 2019      ┆ 7         ┆ 1        │\n",
       "│ 2021      ┆ 7         ┆ 4         ┆ 2008      ┆ … ┆ null      ┆ 2019      ┆ 6         ┆ 28       │\n",
       "│ …         ┆ …         ┆ …         ┆ …         ┆ … ┆ …         ┆ …         ┆ …         ┆ …        │\n",
       "│ 2019      ┆ 6         ┆ 5         ┆ null      ┆ … ┆ 21        ┆ 2019      ┆ 5         ┆ 12       │\n",
       "│ 2019      ┆ 3         ┆ 10        ┆ null      ┆ … ┆ 11        ┆ 2019      ┆ 1         ┆ 25       │\n",
       "│ 2020      ┆ 11        ┆ 8         ┆ null      ┆ … ┆ null      ┆ 2019      ┆ 2         ┆ 5        │\n",
       "│ 2019      ┆ 8         ┆ 11        ┆ null      ┆ … ┆ null      ┆ 2019      ┆ 3         ┆ 26       │\n",
       "│ 2019      ┆ 7         ┆ 27        ┆ null      ┆ … ┆ 28        ┆ 2019      ┆ 2         ┆ 25       │\n",
       "└───────────┴───────────┴───────────┴───────────┴───┴───────────┴───────────┴───────────┴──────────┘"
      ]
     },
     "execution_count": 199,
     "metadata": {},
     "output_type": "execute_result"
    }
   ],
   "source": [
    "date_df"
   ]
  },
  {
   "cell_type": "code",
   "execution_count": 224,
   "metadata": {},
   "outputs": [
    {
     "name": "stderr",
     "output_type": "stream",
     "text": [
      "/var/folders/sp/dv4f3qgx20vb8f6ghm2mh5880000gn/T/ipykernel_64627/3365233391.py:7: DeprecationWarning: `groupby` is deprecated. It has been renamed to `group_by`.\n",
      "  value_counts = cat_df.groupby(col).agg(pl.len().alias('count'))\n"
     ]
    }
   ],
   "source": [
    "df_num_group_0 = df.filter(pl.col('num_group1') == 0)\n",
    "df_num_group_rest = df.filter(pl.col('num_group1') != 0)\n",
    "\n",
    "df_num_group_0 = group_file_data(df_num_group_0, num_cols, date_cols, cat_cols)\n",
    "df_num_group_rest = group_file_data(df_num_group_rest, num_cols, date_cols, cat_cols)\n",
    "\n",
    "new_date_cols = [ \n",
    "    col for col in df_num_group_0.columns \n",
    "    if df_num_group_0[col].dtype == pl.Date \n",
    "]\n",
    "\n",
    "# Transform data\n",
    "date_df_0 = separate_dates(df_num_group_0, new_date_cols)\n",
    "date_df_rest = separate_dates(df_num_group_rest, new_date_cols)\n",
    "freq_df_0 = freq_encoder(df_num_group_0, cat_cols)\n",
    "freq_df_rest = freq_encoder(df_num_group_rest, cat_cols)\n",
    "bin_df_0 = binary_encoder(df_num_group_0, cat_cols)\n",
    "bin_df_rest = binary_encoder(df_num_group_rest, cat_cols)\n",
    "\n",
    "# Merge data\n",
    "df_0 = pl.concat([df_num_group_0, date_df_0, freq_df_0, bin_df_0], how='horizontal')\n",
    "df_rest = pl.concat([df_num_group_rest, date_df_rest, freq_df_rest, bin_df_rest], how='horizontal')\n",
    "\n",
    "# Drop unprocessed columns\n",
    "df_0 = df_0.drop(date_cols + cat_cols)\n",
    "df_rest = df_rest.drop(date_cols + cat_cols)"
   ]
  },
  {
   "cell_type": "code",
   "execution_count": 225,
   "metadata": {},
   "outputs": [
    {
     "data": {
      "text/html": [
       "<div><style>\n",
       ".dataframe > thead > tr,\n",
       ".dataframe > tbody > tr {\n",
       "  text-align: right;\n",
       "  white-space: pre-wrap;\n",
       "}\n",
       "</style>\n",
       "<small>shape: (335_275, 449)</small><table border=\"1\" class=\"dataframe\"><thead><tr><th>case_id</th><th>annualeffectiverate_199L_min</th><th>annualeffectiverate_63L_min</th><th>contractsum_5085717L_min</th><th>credlmt_230A_min</th><th>credlmt_935A_min</th><th>debtoutstand_525A_min</th><th>debtoverdue_47A_min</th><th>dpdmax_139P_min</th><th>dpdmax_757P_min</th><th>dpdmaxdatemonth_442T_min</th><th>dpdmaxdatemonth_89T_min</th><th>dpdmaxdateyear_596T_min</th><th>dpdmaxdateyear_896T_min</th><th>instlamount_768A_min</th><th>instlamount_852A_min</th><th>interestrate_508L_min</th><th>monthlyinstlamount_332A_min</th><th>monthlyinstlamount_674A_min</th><th>nominalrate_281L_min</th><th>nominalrate_498L_min</th><th>numberofcontrsvalue_258L_min</th><th>numberofcontrsvalue_358L_min</th><th>numberofinstls_229L_min</th><th>numberofinstls_320L_min</th><th>numberofoutstandinstls_520L_min</th><th>numberofoutstandinstls_59L_min</th><th>numberofoverdueinstlmax_1039L_min</th><th>numberofoverdueinstlmax_1151L_min</th><th>numberofoverdueinstls_725L_min</th><th>numberofoverdueinstls_834L_min</th><th>outstandingamount_354A_min</th><th>outstandingamount_362A_min</th><th>overdueamount_31A_min</th><th>overdueamount_659A_min</th><th>overdueamountmax2_14A_min</th><th>overdueamountmax2_398A_min</th><th>&hellip;</th><th>contractst_964M_binary_4</th><th>contractst_964M_binary_5</th><th>contractst_964M_binary_6</th><th>description_351M_binary_0</th><th>description_351M_binary_1</th><th>description_351M_binary_2</th><th>description_351M_binary_3</th><th>financialinstitution_382M_binary_0</th><th>financialinstitution_382M_binary_1</th><th>financialinstitution_382M_binary_2</th><th>financialinstitution_382M_binary_3</th><th>financialinstitution_382M_binary_4</th><th>financialinstitution_382M_binary_5</th><th>financialinstitution_382M_binary_6</th><th>financialinstitution_382M_binary_7</th><th>financialinstitution_591M_binary_0</th><th>financialinstitution_591M_binary_1</th><th>financialinstitution_591M_binary_2</th><th>financialinstitution_591M_binary_3</th><th>financialinstitution_591M_binary_4</th><th>financialinstitution_591M_binary_5</th><th>financialinstitution_591M_binary_6</th><th>purposeofcred_426M_binary_0</th><th>purposeofcred_426M_binary_1</th><th>purposeofcred_426M_binary_2</th><th>purposeofcred_426M_binary_3</th><th>purposeofcred_874M_binary_0</th><th>purposeofcred_874M_binary_1</th><th>purposeofcred_874M_binary_2</th><th>purposeofcred_874M_binary_3</th><th>purposeofcred_874M_binary_4</th><th>subjectrole_182M_binary_0</th><th>subjectrole_182M_binary_1</th><th>subjectrole_182M_binary_2</th><th>subjectrole_93M_binary_0</th><th>subjectrole_93M_binary_1</th><th>subjectrole_93M_binary_2</th></tr><tr><td>i64</td><td>f64</td><td>f64</td><td>f64</td><td>f64</td><td>f64</td><td>f64</td><td>f64</td><td>f64</td><td>f64</td><td>f64</td><td>f64</td><td>f64</td><td>f64</td><td>f64</td><td>f64</td><td>f64</td><td>f64</td><td>f64</td><td>f64</td><td>f64</td><td>f64</td><td>f64</td><td>f64</td><td>f64</td><td>f64</td><td>f64</td><td>f64</td><td>f64</td><td>f64</td><td>f64</td><td>f64</td><td>f64</td><td>f64</td><td>f64</td><td>f64</td><td>f64</td><td>&hellip;</td><td>i8</td><td>i8</td><td>i8</td><td>i8</td><td>i8</td><td>i8</td><td>i8</td><td>i8</td><td>i8</td><td>i8</td><td>i8</td><td>i8</td><td>i8</td><td>i8</td><td>i8</td><td>i8</td><td>i8</td><td>i8</td><td>i8</td><td>i8</td><td>i8</td><td>i8</td><td>i8</td><td>i8</td><td>i8</td><td>i8</td><td>i8</td><td>i8</td><td>i8</td><td>i8</td><td>i8</td><td>i8</td><td>i8</td><td>i8</td><td>i8</td><td>i8</td><td>i8</td></tr></thead><tbody><tr><td>1276735</td><td>null</td><td>null</td><td>null</td><td>null</td><td>0.0</td><td>371784.72</td><td>0.0</td><td>0.0</td><td>null</td><td>null</td><td>3.0</td><td>2017.0</td><td>null</td><td>0.0</td><td>null</td><td>null</td><td>0.0</td><td>null</td><td>null</td><td>null</td><td>4.0</td><td>2.0</td><td>null</td><td>null</td><td>null</td><td>null</td><td>0.0</td><td>null</td><td>0.0</td><td>null</td><td>null</td><td>null</td><td>null</td><td>0.0</td><td>0.0</td><td>null</td><td>&hellip;</td><td>1</td><td>1</td><td>0</td><td>1</td><td>0</td><td>0</td><td>1</td><td>0</td><td>0</td><td>0</td><td>0</td><td>0</td><td>1</td><td>1</td><td>0</td><td>0</td><td>0</td><td>0</td><td>0</td><td>0</td><td>0</td><td>1</td><td>1</td><td>1</td><td>0</td><td>0</td><td>0</td><td>0</td><td>1</td><td>1</td><td>0</td><td>1</td><td>1</td><td>0</td><td>1</td><td>1</td><td>0</td></tr><tr><td>2582689</td><td>null</td><td>null</td><td>null</td><td>null</td><td>214676.0</td><td>189291.17</td><td>0.0</td><td>0.0</td><td>0.0</td><td>10.0</td><td>7.0</td><td>2017.0</td><td>2008.0</td><td>22544.6</td><td>null</td><td>null</td><td>22544.6</td><td>0.0</td><td>null</td><td>null</td><td>2.0</td><td>11.0</td><td>6.0</td><td>null</td><td>0.0</td><td>null</td><td>19.0</td><td>0.0</td><td>0.0</td><td>0.0</td><td>0.0</td><td>null</td><td>0.0</td><td>0.0</td><td>27.858</td><td>0.0</td><td>&hellip;</td><td>0</td><td>1</td><td>0</td><td>1</td><td>0</td><td>0</td><td>1</td><td>1</td><td>0</td><td>1</td><td>1</td><td>0</td><td>0</td><td>1</td><td>0</td><td>0</td><td>0</td><td>0</td><td>0</td><td>0</td><td>0</td><td>1</td><td>1</td><td>1</td><td>0</td><td>0</td><td>1</td><td>1</td><td>0</td><td>0</td><td>0</td><td>1</td><td>1</td><td>0</td><td>1</td><td>1</td><td>0</td></tr><tr><td>106337</td><td>null</td><td>39.57</td><td>null</td><td>null</td><td>null</td><td>141517.9</td><td>0.0</td><td>0.0</td><td>null</td><td>null</td><td>12.0</td><td>2018.0</td><td>null</td><td>null</td><td>null</td><td>null</td><td>7729.0</td><td>null</td><td>43.0</td><td>null</td><td>1.0</td><td>3.0</td><td>null</td><td>36.0</td><td>null</td><td>35.0</td><td>0.0</td><td>null</td><td>0.0</td><td>null</td><td>null</td><td>141517.9</td><td>null</td><td>0.0</td><td>0.0</td><td>null</td><td>&hellip;</td><td>1</td><td>1</td><td>0</td><td>1</td><td>0</td><td>0</td><td>1</td><td>0</td><td>0</td><td>0</td><td>0</td><td>0</td><td>1</td><td>1</td><td>0</td><td>1</td><td>0</td><td>1</td><td>1</td><td>1</td><td>1</td><td>0</td><td>0</td><td>1</td><td>1</td><td>0</td><td>0</td><td>0</td><td>1</td><td>1</td><td>0</td><td>1</td><td>1</td><td>0</td><td>1</td><td>1</td><td>0</td></tr><tr><td>2647</td><td>null</td><td>null</td><td>null</td><td>null</td><td>null</td><td>108895.164</td><td>0.0</td><td>22.0</td><td>null</td><td>null</td><td>12.0</td><td>2018.0</td><td>null</td><td>null</td><td>null</td><td>null</td><td>4866.618</td><td>null</td><td>null</td><td>null</td><td>2.0</td><td>6.0</td><td>null</td><td>35.0</td><td>null</td><td>20.0</td><td>25.0</td><td>null</td><td>0.0</td><td>null</td><td>null</td><td>83395.72</td><td>null</td><td>0.0</td><td>54.608</td><td>null</td><td>&hellip;</td><td>1</td><td>1</td><td>0</td><td>1</td><td>0</td><td>0</td><td>1</td><td>0</td><td>0</td><td>0</td><td>0</td><td>0</td><td>1</td><td>1</td><td>0</td><td>0</td><td>1</td><td>1</td><td>1</td><td>1</td><td>1</td><td>0</td><td>0</td><td>1</td><td>1</td><td>0</td><td>0</td><td>0</td><td>1</td><td>1</td><td>0</td><td>1</td><td>1</td><td>0</td><td>1</td><td>1</td><td>0</td></tr><tr><td>1367697</td><td>null</td><td>null</td><td>null</td><td>null</td><td>0.0</td><td>0.0</td><td>0.0</td><td>0.0</td><td>null</td><td>null</td><td>7.0</td><td>2017.0</td><td>null</td><td>0.0</td><td>null</td><td>null</td><td>0.0</td><td>null</td><td>null</td><td>null</td><td>1.0</td><td>4.0</td><td>null</td><td>null</td><td>null</td><td>null</td><td>0.0</td><td>null</td><td>0.0</td><td>null</td><td>null</td><td>null</td><td>null</td><td>0.0</td><td>0.0</td><td>null</td><td>&hellip;</td><td>1</td><td>1</td><td>0</td><td>1</td><td>0</td><td>0</td><td>1</td><td>0</td><td>0</td><td>0</td><td>0</td><td>0</td><td>1</td><td>1</td><td>0</td><td>0</td><td>0</td><td>0</td><td>0</td><td>0</td><td>0</td><td>1</td><td>1</td><td>1</td><td>0</td><td>0</td><td>0</td><td>0</td><td>1</td><td>1</td><td>0</td><td>1</td><td>1</td><td>0</td><td>1</td><td>1</td><td>0</td></tr><tr><td>&hellip;</td><td>&hellip;</td><td>&hellip;</td><td>&hellip;</td><td>&hellip;</td><td>&hellip;</td><td>&hellip;</td><td>&hellip;</td><td>&hellip;</td><td>&hellip;</td><td>&hellip;</td><td>&hellip;</td><td>&hellip;</td><td>&hellip;</td><td>&hellip;</td><td>&hellip;</td><td>&hellip;</td><td>&hellip;</td><td>&hellip;</td><td>&hellip;</td><td>&hellip;</td><td>&hellip;</td><td>&hellip;</td><td>&hellip;</td><td>&hellip;</td><td>&hellip;</td><td>&hellip;</td><td>&hellip;</td><td>&hellip;</td><td>&hellip;</td><td>&hellip;</td><td>&hellip;</td><td>&hellip;</td><td>&hellip;</td><td>&hellip;</td><td>&hellip;</td><td>&hellip;</td><td>&hellip;</td><td>&hellip;</td><td>&hellip;</td><td>&hellip;</td><td>&hellip;</td><td>&hellip;</td><td>&hellip;</td><td>&hellip;</td><td>&hellip;</td><td>&hellip;</td><td>&hellip;</td><td>&hellip;</td><td>&hellip;</td><td>&hellip;</td><td>&hellip;</td><td>&hellip;</td><td>&hellip;</td><td>&hellip;</td><td>&hellip;</td><td>&hellip;</td><td>&hellip;</td><td>&hellip;</td><td>&hellip;</td><td>&hellip;</td><td>&hellip;</td><td>&hellip;</td><td>&hellip;</td><td>&hellip;</td><td>&hellip;</td><td>&hellip;</td><td>&hellip;</td><td>&hellip;</td><td>&hellip;</td><td>&hellip;</td><td>&hellip;</td><td>&hellip;</td><td>&hellip;</td><td>&hellip;</td></tr><tr><td>1268032</td><td>null</td><td>null</td><td>null</td><td>null</td><td>37598.0</td><td>21033.717</td><td>0.0</td><td>0.0</td><td>null</td><td>null</td><td>3.0</td><td>2017.0</td><td>null</td><td>1967.6</td><td>null</td><td>null</td><td>1967.6</td><td>null</td><td>null</td><td>null</td><td>1.0</td><td>6.0</td><td>null</td><td>null</td><td>null</td><td>null</td><td>1.0</td><td>null</td><td>0.0</td><td>null</td><td>null</td><td>null</td><td>null</td><td>0.0</td><td>3494.4001</td><td>null</td><td>&hellip;</td><td>1</td><td>1</td><td>0</td><td>1</td><td>0</td><td>0</td><td>1</td><td>0</td><td>0</td><td>0</td><td>0</td><td>0</td><td>1</td><td>1</td><td>0</td><td>0</td><td>0</td><td>0</td><td>0</td><td>0</td><td>0</td><td>1</td><td>1</td><td>1</td><td>0</td><td>0</td><td>0</td><td>0</td><td>1</td><td>1</td><td>0</td><td>1</td><td>1</td><td>0</td><td>1</td><td>1</td><td>0</td></tr><tr><td>627707</td><td>null</td><td>null</td><td>null</td><td>null</td><td>268000.0</td><td>229605.33</td><td>0.0</td><td>4.0</td><td>null</td><td>null</td><td>3.0</td><td>2017.0</td><td>null</td><td>16062.2</td><td>null</td><td>null</td><td>16062.2</td><td>null</td><td>null</td><td>null</td><td>1.0</td><td>4.0</td><td>null</td><td>null</td><td>null</td><td>null</td><td>29.0</td><td>null</td><td>0.0</td><td>null</td><td>null</td><td>null</td><td>null</td><td>0.0</td><td>15573.523</td><td>null</td><td>&hellip;</td><td>1</td><td>1</td><td>0</td><td>1</td><td>0</td><td>0</td><td>1</td><td>0</td><td>0</td><td>0</td><td>0</td><td>0</td><td>1</td><td>1</td><td>0</td><td>0</td><td>0</td><td>0</td><td>0</td><td>0</td><td>0</td><td>1</td><td>1</td><td>1</td><td>0</td><td>0</td><td>0</td><td>0</td><td>1</td><td>1</td><td>0</td><td>1</td><td>1</td><td>0</td><td>1</td><td>1</td><td>0</td></tr><tr><td>1252693</td><td>null</td><td>null</td><td>null</td><td>null</td><td>0.0</td><td>18323.053</td><td>0.0</td><td>0.0</td><td>null</td><td>null</td><td>2.0</td><td>2017.0</td><td>null</td><td>0.0</td><td>null</td><td>null</td><td>0.0</td><td>null</td><td>null</td><td>null</td><td>2.0</td><td>2.0</td><td>null</td><td>null</td><td>null</td><td>null</td><td>0.0</td><td>null</td><td>0.0</td><td>null</td><td>null</td><td>null</td><td>null</td><td>0.0</td><td>0.0</td><td>null</td><td>&hellip;</td><td>1</td><td>1</td><td>0</td><td>1</td><td>0</td><td>0</td><td>1</td><td>0</td><td>0</td><td>0</td><td>0</td><td>0</td><td>1</td><td>1</td><td>0</td><td>0</td><td>0</td><td>0</td><td>0</td><td>0</td><td>0</td><td>1</td><td>1</td><td>1</td><td>0</td><td>0</td><td>0</td><td>0</td><td>1</td><td>1</td><td>0</td><td>1</td><td>1</td><td>0</td><td>1</td><td>1</td><td>0</td></tr><tr><td>719336</td><td>null</td><td>null</td><td>null</td><td>null</td><td>0.0</td><td>12717.614</td><td>0.0</td><td>0.0</td><td>0.0</td><td>6.0</td><td>8.0</td><td>2017.0</td><td>2006.0</td><td>0.0</td><td>null</td><td>null</td><td>0.0</td><td>null</td><td>null</td><td>null</td><td>2.0</td><td>17.0</td><td>10.0</td><td>null</td><td>0.0</td><td>null</td><td>0.0</td><td>0.0</td><td>0.0</td><td>0.0</td><td>0.0</td><td>null</td><td>0.0</td><td>0.0</td><td>0.0</td><td>0.0</td><td>&hellip;</td><td>1</td><td>0</td><td>0</td><td>1</td><td>0</td><td>0</td><td>1</td><td>0</td><td>1</td><td>0</td><td>1</td><td>0</td><td>1</td><td>1</td><td>0</td><td>0</td><td>0</td><td>0</td><td>0</td><td>0</td><td>0</td><td>1</td><td>1</td><td>1</td><td>0</td><td>0</td><td>1</td><td>1</td><td>0</td><td>0</td><td>0</td><td>1</td><td>1</td><td>0</td><td>1</td><td>1</td><td>0</td></tr><tr><td>718681</td><td>null</td><td>null</td><td>null</td><td>null</td><td>0.0</td><td>0.0</td><td>0.0</td><td>0.0</td><td>null</td><td>null</td><td>12.0</td><td>2018.0</td><td>null</td><td>0.0</td><td>null</td><td>null</td><td>0.0</td><td>null</td><td>null</td><td>null</td><td>1.0</td><td>null</td><td>null</td><td>null</td><td>null</td><td>null</td><td>0.0</td><td>null</td><td>0.0</td><td>null</td><td>null</td><td>null</td><td>null</td><td>0.0</td><td>0.0</td><td>null</td><td>&hellip;</td><td>1</td><td>1</td><td>0</td><td>1</td><td>0</td><td>0</td><td>1</td><td>0</td><td>0</td><td>0</td><td>0</td><td>0</td><td>1</td><td>1</td><td>0</td><td>0</td><td>0</td><td>0</td><td>0</td><td>0</td><td>0</td><td>1</td><td>1</td><td>1</td><td>0</td><td>0</td><td>0</td><td>0</td><td>1</td><td>1</td><td>0</td><td>1</td><td>1</td><td>0</td><td>0</td><td>1</td><td>0</td></tr></tbody></table></div>"
      ],
      "text/plain": [
       "shape: (335_275, 449)\n",
       "┌─────────┬────────────┬───────────┬───────────┬───┬───────────┬───────────┬───────────┬───────────┐\n",
       "│ case_id ┆ annualeffe ┆ annualeff ┆ contracts ┆ … ┆ subjectro ┆ subjectro ┆ subjectro ┆ subjectro │\n",
       "│ ---     ┆ ctiverate_ ┆ ectiverat ┆ um_508571 ┆   ┆ le_182M_b ┆ le_93M_bi ┆ le_93M_bi ┆ le_93M_bi │\n",
       "│ i64     ┆ 199L_min   ┆ e_63L_min ┆ 7L_min    ┆   ┆ inary_2   ┆ nary_0    ┆ nary_1    ┆ nary_2    │\n",
       "│         ┆ ---        ┆ ---       ┆ ---       ┆   ┆ ---       ┆ ---       ┆ ---       ┆ ---       │\n",
       "│         ┆ f64        ┆ f64       ┆ f64       ┆   ┆ i8        ┆ i8        ┆ i8        ┆ i8        │\n",
       "╞═════════╪════════════╪═══════════╪═══════════╪═══╪═══════════╪═══════════╪═══════════╪═══════════╡\n",
       "│ 1276735 ┆ null       ┆ null      ┆ null      ┆ … ┆ 0         ┆ 1         ┆ 1         ┆ 0         │\n",
       "│ 2582689 ┆ null       ┆ null      ┆ null      ┆ … ┆ 0         ┆ 1         ┆ 1         ┆ 0         │\n",
       "│ 106337  ┆ null       ┆ 39.57     ┆ null      ┆ … ┆ 0         ┆ 1         ┆ 1         ┆ 0         │\n",
       "│ 2647    ┆ null       ┆ null      ┆ null      ┆ … ┆ 0         ┆ 1         ┆ 1         ┆ 0         │\n",
       "│ 1367697 ┆ null       ┆ null      ┆ null      ┆ … ┆ 0         ┆ 1         ┆ 1         ┆ 0         │\n",
       "│ …       ┆ …          ┆ …         ┆ …         ┆ … ┆ …         ┆ …         ┆ …         ┆ …         │\n",
       "│ 1268032 ┆ null       ┆ null      ┆ null      ┆ … ┆ 0         ┆ 1         ┆ 1         ┆ 0         │\n",
       "│ 627707  ┆ null       ┆ null      ┆ null      ┆ … ┆ 0         ┆ 1         ┆ 1         ┆ 0         │\n",
       "│ 1252693 ┆ null       ┆ null      ┆ null      ┆ … ┆ 0         ┆ 1         ┆ 1         ┆ 0         │\n",
       "│ 719336  ┆ null       ┆ null      ┆ null      ┆ … ┆ 0         ┆ 1         ┆ 1         ┆ 0         │\n",
       "│ 718681  ┆ null       ┆ null      ┆ null      ┆ … ┆ 0         ┆ 0         ┆ 1         ┆ 0         │\n",
       "└─────────┴────────────┴───────────┴───────────┴───┴───────────┴───────────┴───────────┴───────────┘"
      ]
     },
     "execution_count": 225,
     "metadata": {},
     "output_type": "execute_result"
    }
   ],
   "source": [
    "df_0"
   ]
  },
  {
   "cell_type": "code",
   "execution_count": null,
   "metadata": {},
   "outputs": [],
   "source": []
  }
 ],
 "metadata": {
  "kernelspec": {
   "display_name": "amp-env",
   "language": "python",
   "name": "python3"
  },
  "language_info": {
   "codemirror_mode": {
    "name": "ipython",
    "version": 3
   },
   "file_extension": ".py",
   "mimetype": "text/x-python",
   "name": "python",
   "nbconvert_exporter": "python",
   "pygments_lexer": "ipython3",
   "version": "3.10.3"
  }
 },
 "nbformat": 4,
 "nbformat_minor": 2
}
