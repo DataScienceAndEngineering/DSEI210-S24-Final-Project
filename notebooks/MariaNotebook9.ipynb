{
  "nbformat": 4,
  "nbformat_minor": 0,
  "metadata": {
    "colab": {
      "provenance": []
    },
    "kernelspec": {
      "name": "python3",
      "display_name": "Python 3"
    },
    "language_info": {
      "name": "python"
    }
  },
  "cells": [
    {
      "cell_type": "code",
      "execution_count": 5,
      "metadata": {
        "id": "KVIAyYvjg3QK"
      },
      "outputs": [],
      "source": [
        "import pandas as pd\n",
        "from matplotlib import pyplot as plt\n",
        "import seaborn as sns\n",
        "from sklearn.model_selection import train_test_split\n",
        "from sklearn.preprocessing import LabelEncoder\n",
        "from sklearn.pipeline import Pipeline\n",
        "from sklearn.preprocessing import StandardScaler\n",
        "from sklearn.linear_model import LogisticRegression\n",
        "from sklearn.tree import DecisionTreeClassifier\n",
        "from sklearn.inspection import DecisionBoundaryDisplay\n",
        "from sklearn.ensemble import RandomForestClassifier\n",
        "from sklearn.svm import SVC\n",
        "from sklearn.neighbors import KNeighborsClassifier\n",
        "from sklearn.datasets import make_classification\n",
        "from sklearn.pipeline import make_pipeline\n",
        "from sklearn.metrics import accuracy_score, confusion_matrix, classification_report\n",
        "from imblearn.over_sampling import SMOTE"
      ]
    },
    {
      "cell_type": "code",
      "source": [
        "df=pd.read_csv('/content/Processed_Data_v2.zip')"
      ],
      "metadata": {
        "id": "RGm4on9fg4Ct"
      },
      "execution_count": 2,
      "outputs": []
    },
    {
      "cell_type": "code",
      "source": [
        "df.head()"
      ],
      "metadata": {
        "colab": {
          "base_uri": "https://localhost:8080/",
          "height": 452
        },
        "id": "08wUwViNg4FW",
        "outputId": "537391ef-78c2-434f-e6dc-4671a0e5feef"
      },
      "execution_count": 3,
      "outputs": [
        {
          "output_type": "execute_result",
          "data": {
            "text/plain": [
              "   CRASH DATE CRASH TIME   LATITUDE  LONGITUDE CONTRIBUTING FACTOR VEHICLE 1  \\\n",
              "0  2021-09-11   09:35:00  40.667202 -73.866500                   Unspecified   \n",
              "1  2021-12-14   08:17:00  40.868160 -73.831480                   Unspecified   \n",
              "2  2021-12-14   14:58:00  40.751440 -73.973970           Passing Too Closely   \n",
              "3  2021-12-14   16:50:00  40.675884 -73.755770            Turning Improperly   \n",
              "4  2021-12-11   19:43:00  40.872620 -73.904686                   Unspecified   \n",
              "\n",
              "  CONTRIBUTING FACTOR VEHICLE 2 CONTRIBUTING FACTOR VEHICLE 3  \\\n",
              "0                     No factor                     No factor   \n",
              "1                   Unspecified                     No factor   \n",
              "2                   Unspecified                     No factor   \n",
              "3                   Unspecified                     No factor   \n",
              "4                   Unspecified                     No factor   \n",
              "\n",
              "  CONTRIBUTING FACTOR VEHICLE 4 CONTRIBUTING FACTOR VEHICLE 5  \\\n",
              "0                     No factor                     No factor   \n",
              "1                     No factor                     No factor   \n",
              "2                     No factor                     No factor   \n",
              "3                     No factor                     No factor   \n",
              "4                     No factor                     No factor   \n",
              "\n",
              "                   VEHICLE TYPE CODE 1                  VEHICLE TYPE CODE 2  \\\n",
              "0                                Sedan                           No vehicle   \n",
              "1                                Sedan                                Sedan   \n",
              "2                                Sedan  Station Wagon/Sport Utility Vehicle   \n",
              "3                                Sedan  Station Wagon/Sport Utility Vehicle   \n",
              "4  Station Wagon/Sport Utility Vehicle                                Sedan   \n",
              "\n",
              "  VEHICLE TYPE CODE 3 VEHICLE TYPE CODE 4 VEHICLE TYPE CODE 5 CLASS TYPE  \n",
              "0          No vehicle          No vehicle          No vehicle    Class 0  \n",
              "1          No vehicle          No vehicle          No vehicle    Class 1  \n",
              "2          No vehicle          No vehicle          No vehicle    Class 0  \n",
              "3          No vehicle          No vehicle          No vehicle    Class 0  \n",
              "4          No vehicle          No vehicle          No vehicle    Class 1  "
            ],
            "text/html": [
              "\n",
              "  <div id=\"df-db7d62e3-75ed-4222-ac3d-b3ec87cf20fb\" class=\"colab-df-container\">\n",
              "    <div>\n",
              "<style scoped>\n",
              "    .dataframe tbody tr th:only-of-type {\n",
              "        vertical-align: middle;\n",
              "    }\n",
              "\n",
              "    .dataframe tbody tr th {\n",
              "        vertical-align: top;\n",
              "    }\n",
              "\n",
              "    .dataframe thead th {\n",
              "        text-align: right;\n",
              "    }\n",
              "</style>\n",
              "<table border=\"1\" class=\"dataframe\">\n",
              "  <thead>\n",
              "    <tr style=\"text-align: right;\">\n",
              "      <th></th>\n",
              "      <th>CRASH DATE</th>\n",
              "      <th>CRASH TIME</th>\n",
              "      <th>LATITUDE</th>\n",
              "      <th>LONGITUDE</th>\n",
              "      <th>CONTRIBUTING FACTOR VEHICLE 1</th>\n",
              "      <th>CONTRIBUTING FACTOR VEHICLE 2</th>\n",
              "      <th>CONTRIBUTING FACTOR VEHICLE 3</th>\n",
              "      <th>CONTRIBUTING FACTOR VEHICLE 4</th>\n",
              "      <th>CONTRIBUTING FACTOR VEHICLE 5</th>\n",
              "      <th>VEHICLE TYPE CODE 1</th>\n",
              "      <th>VEHICLE TYPE CODE 2</th>\n",
              "      <th>VEHICLE TYPE CODE 3</th>\n",
              "      <th>VEHICLE TYPE CODE 4</th>\n",
              "      <th>VEHICLE TYPE CODE 5</th>\n",
              "      <th>CLASS TYPE</th>\n",
              "    </tr>\n",
              "  </thead>\n",
              "  <tbody>\n",
              "    <tr>\n",
              "      <th>0</th>\n",
              "      <td>2021-09-11</td>\n",
              "      <td>09:35:00</td>\n",
              "      <td>40.667202</td>\n",
              "      <td>-73.866500</td>\n",
              "      <td>Unspecified</td>\n",
              "      <td>No factor</td>\n",
              "      <td>No factor</td>\n",
              "      <td>No factor</td>\n",
              "      <td>No factor</td>\n",
              "      <td>Sedan</td>\n",
              "      <td>No vehicle</td>\n",
              "      <td>No vehicle</td>\n",
              "      <td>No vehicle</td>\n",
              "      <td>No vehicle</td>\n",
              "      <td>Class 0</td>\n",
              "    </tr>\n",
              "    <tr>\n",
              "      <th>1</th>\n",
              "      <td>2021-12-14</td>\n",
              "      <td>08:17:00</td>\n",
              "      <td>40.868160</td>\n",
              "      <td>-73.831480</td>\n",
              "      <td>Unspecified</td>\n",
              "      <td>Unspecified</td>\n",
              "      <td>No factor</td>\n",
              "      <td>No factor</td>\n",
              "      <td>No factor</td>\n",
              "      <td>Sedan</td>\n",
              "      <td>Sedan</td>\n",
              "      <td>No vehicle</td>\n",
              "      <td>No vehicle</td>\n",
              "      <td>No vehicle</td>\n",
              "      <td>Class 1</td>\n",
              "    </tr>\n",
              "    <tr>\n",
              "      <th>2</th>\n",
              "      <td>2021-12-14</td>\n",
              "      <td>14:58:00</td>\n",
              "      <td>40.751440</td>\n",
              "      <td>-73.973970</td>\n",
              "      <td>Passing Too Closely</td>\n",
              "      <td>Unspecified</td>\n",
              "      <td>No factor</td>\n",
              "      <td>No factor</td>\n",
              "      <td>No factor</td>\n",
              "      <td>Sedan</td>\n",
              "      <td>Station Wagon/Sport Utility Vehicle</td>\n",
              "      <td>No vehicle</td>\n",
              "      <td>No vehicle</td>\n",
              "      <td>No vehicle</td>\n",
              "      <td>Class 0</td>\n",
              "    </tr>\n",
              "    <tr>\n",
              "      <th>3</th>\n",
              "      <td>2021-12-14</td>\n",
              "      <td>16:50:00</td>\n",
              "      <td>40.675884</td>\n",
              "      <td>-73.755770</td>\n",
              "      <td>Turning Improperly</td>\n",
              "      <td>Unspecified</td>\n",
              "      <td>No factor</td>\n",
              "      <td>No factor</td>\n",
              "      <td>No factor</td>\n",
              "      <td>Sedan</td>\n",
              "      <td>Station Wagon/Sport Utility Vehicle</td>\n",
              "      <td>No vehicle</td>\n",
              "      <td>No vehicle</td>\n",
              "      <td>No vehicle</td>\n",
              "      <td>Class 0</td>\n",
              "    </tr>\n",
              "    <tr>\n",
              "      <th>4</th>\n",
              "      <td>2021-12-11</td>\n",
              "      <td>19:43:00</td>\n",
              "      <td>40.872620</td>\n",
              "      <td>-73.904686</td>\n",
              "      <td>Unspecified</td>\n",
              "      <td>Unspecified</td>\n",
              "      <td>No factor</td>\n",
              "      <td>No factor</td>\n",
              "      <td>No factor</td>\n",
              "      <td>Station Wagon/Sport Utility Vehicle</td>\n",
              "      <td>Sedan</td>\n",
              "      <td>No vehicle</td>\n",
              "      <td>No vehicle</td>\n",
              "      <td>No vehicle</td>\n",
              "      <td>Class 1</td>\n",
              "    </tr>\n",
              "  </tbody>\n",
              "</table>\n",
              "</div>\n",
              "    <div class=\"colab-df-buttons\">\n",
              "\n",
              "  <div class=\"colab-df-container\">\n",
              "    <button class=\"colab-df-convert\" onclick=\"convertToInteractive('df-db7d62e3-75ed-4222-ac3d-b3ec87cf20fb')\"\n",
              "            title=\"Convert this dataframe to an interactive table.\"\n",
              "            style=\"display:none;\">\n",
              "\n",
              "  <svg xmlns=\"http://www.w3.org/2000/svg\" height=\"24px\" viewBox=\"0 -960 960 960\">\n",
              "    <path d=\"M120-120v-720h720v720H120Zm60-500h600v-160H180v160Zm220 220h160v-160H400v160Zm0 220h160v-160H400v160ZM180-400h160v-160H180v160Zm440 0h160v-160H620v160ZM180-180h160v-160H180v160Zm440 0h160v-160H620v160Z\"/>\n",
              "  </svg>\n",
              "    </button>\n",
              "\n",
              "  <style>\n",
              "    .colab-df-container {\n",
              "      display:flex;\n",
              "      gap: 12px;\n",
              "    }\n",
              "\n",
              "    .colab-df-convert {\n",
              "      background-color: #E8F0FE;\n",
              "      border: none;\n",
              "      border-radius: 50%;\n",
              "      cursor: pointer;\n",
              "      display: none;\n",
              "      fill: #1967D2;\n",
              "      height: 32px;\n",
              "      padding: 0 0 0 0;\n",
              "      width: 32px;\n",
              "    }\n",
              "\n",
              "    .colab-df-convert:hover {\n",
              "      background-color: #E2EBFA;\n",
              "      box-shadow: 0px 1px 2px rgba(60, 64, 67, 0.3), 0px 1px 3px 1px rgba(60, 64, 67, 0.15);\n",
              "      fill: #174EA6;\n",
              "    }\n",
              "\n",
              "    .colab-df-buttons div {\n",
              "      margin-bottom: 4px;\n",
              "    }\n",
              "\n",
              "    [theme=dark] .colab-df-convert {\n",
              "      background-color: #3B4455;\n",
              "      fill: #D2E3FC;\n",
              "    }\n",
              "\n",
              "    [theme=dark] .colab-df-convert:hover {\n",
              "      background-color: #434B5C;\n",
              "      box-shadow: 0px 1px 3px 1px rgba(0, 0, 0, 0.15);\n",
              "      filter: drop-shadow(0px 1px 2px rgba(0, 0, 0, 0.3));\n",
              "      fill: #FFFFFF;\n",
              "    }\n",
              "  </style>\n",
              "\n",
              "    <script>\n",
              "      const buttonEl =\n",
              "        document.querySelector('#df-db7d62e3-75ed-4222-ac3d-b3ec87cf20fb button.colab-df-convert');\n",
              "      buttonEl.style.display =\n",
              "        google.colab.kernel.accessAllowed ? 'block' : 'none';\n",
              "\n",
              "      async function convertToInteractive(key) {\n",
              "        const element = document.querySelector('#df-db7d62e3-75ed-4222-ac3d-b3ec87cf20fb');\n",
              "        const dataTable =\n",
              "          await google.colab.kernel.invokeFunction('convertToInteractive',\n",
              "                                                    [key], {});\n",
              "        if (!dataTable) return;\n",
              "\n",
              "        const docLinkHtml = 'Like what you see? Visit the ' +\n",
              "          '<a target=\"_blank\" href=https://colab.research.google.com/notebooks/data_table.ipynb>data table notebook</a>'\n",
              "          + ' to learn more about interactive tables.';\n",
              "        element.innerHTML = '';\n",
              "        dataTable['output_type'] = 'display_data';\n",
              "        await google.colab.output.renderOutput(dataTable, element);\n",
              "        const docLink = document.createElement('div');\n",
              "        docLink.innerHTML = docLinkHtml;\n",
              "        element.appendChild(docLink);\n",
              "      }\n",
              "    </script>\n",
              "  </div>\n",
              "\n",
              "\n",
              "<div id=\"df-d3b41e1c-af6d-44b5-871c-b6d3f2a73618\">\n",
              "  <button class=\"colab-df-quickchart\" onclick=\"quickchart('df-d3b41e1c-af6d-44b5-871c-b6d3f2a73618')\"\n",
              "            title=\"Suggest charts\"\n",
              "            style=\"display:none;\">\n",
              "\n",
              "<svg xmlns=\"http://www.w3.org/2000/svg\" height=\"24px\"viewBox=\"0 0 24 24\"\n",
              "     width=\"24px\">\n",
              "    <g>\n",
              "        <path d=\"M19 3H5c-1.1 0-2 .9-2 2v14c0 1.1.9 2 2 2h14c1.1 0 2-.9 2-2V5c0-1.1-.9-2-2-2zM9 17H7v-7h2v7zm4 0h-2V7h2v10zm4 0h-2v-4h2v4z\"/>\n",
              "    </g>\n",
              "</svg>\n",
              "  </button>\n",
              "\n",
              "<style>\n",
              "  .colab-df-quickchart {\n",
              "      --bg-color: #E8F0FE;\n",
              "      --fill-color: #1967D2;\n",
              "      --hover-bg-color: #E2EBFA;\n",
              "      --hover-fill-color: #174EA6;\n",
              "      --disabled-fill-color: #AAA;\n",
              "      --disabled-bg-color: #DDD;\n",
              "  }\n",
              "\n",
              "  [theme=dark] .colab-df-quickchart {\n",
              "      --bg-color: #3B4455;\n",
              "      --fill-color: #D2E3FC;\n",
              "      --hover-bg-color: #434B5C;\n",
              "      --hover-fill-color: #FFFFFF;\n",
              "      --disabled-bg-color: #3B4455;\n",
              "      --disabled-fill-color: #666;\n",
              "  }\n",
              "\n",
              "  .colab-df-quickchart {\n",
              "    background-color: var(--bg-color);\n",
              "    border: none;\n",
              "    border-radius: 50%;\n",
              "    cursor: pointer;\n",
              "    display: none;\n",
              "    fill: var(--fill-color);\n",
              "    height: 32px;\n",
              "    padding: 0;\n",
              "    width: 32px;\n",
              "  }\n",
              "\n",
              "  .colab-df-quickchart:hover {\n",
              "    background-color: var(--hover-bg-color);\n",
              "    box-shadow: 0 1px 2px rgba(60, 64, 67, 0.3), 0 1px 3px 1px rgba(60, 64, 67, 0.15);\n",
              "    fill: var(--button-hover-fill-color);\n",
              "  }\n",
              "\n",
              "  .colab-df-quickchart-complete:disabled,\n",
              "  .colab-df-quickchart-complete:disabled:hover {\n",
              "    background-color: var(--disabled-bg-color);\n",
              "    fill: var(--disabled-fill-color);\n",
              "    box-shadow: none;\n",
              "  }\n",
              "\n",
              "  .colab-df-spinner {\n",
              "    border: 2px solid var(--fill-color);\n",
              "    border-color: transparent;\n",
              "    border-bottom-color: var(--fill-color);\n",
              "    animation:\n",
              "      spin 1s steps(1) infinite;\n",
              "  }\n",
              "\n",
              "  @keyframes spin {\n",
              "    0% {\n",
              "      border-color: transparent;\n",
              "      border-bottom-color: var(--fill-color);\n",
              "      border-left-color: var(--fill-color);\n",
              "    }\n",
              "    20% {\n",
              "      border-color: transparent;\n",
              "      border-left-color: var(--fill-color);\n",
              "      border-top-color: var(--fill-color);\n",
              "    }\n",
              "    30% {\n",
              "      border-color: transparent;\n",
              "      border-left-color: var(--fill-color);\n",
              "      border-top-color: var(--fill-color);\n",
              "      border-right-color: var(--fill-color);\n",
              "    }\n",
              "    40% {\n",
              "      border-color: transparent;\n",
              "      border-right-color: var(--fill-color);\n",
              "      border-top-color: var(--fill-color);\n",
              "    }\n",
              "    60% {\n",
              "      border-color: transparent;\n",
              "      border-right-color: var(--fill-color);\n",
              "    }\n",
              "    80% {\n",
              "      border-color: transparent;\n",
              "      border-right-color: var(--fill-color);\n",
              "      border-bottom-color: var(--fill-color);\n",
              "    }\n",
              "    90% {\n",
              "      border-color: transparent;\n",
              "      border-bottom-color: var(--fill-color);\n",
              "    }\n",
              "  }\n",
              "</style>\n",
              "\n",
              "  <script>\n",
              "    async function quickchart(key) {\n",
              "      const quickchartButtonEl =\n",
              "        document.querySelector('#' + key + ' button');\n",
              "      quickchartButtonEl.disabled = true;  // To prevent multiple clicks.\n",
              "      quickchartButtonEl.classList.add('colab-df-spinner');\n",
              "      try {\n",
              "        const charts = await google.colab.kernel.invokeFunction(\n",
              "            'suggestCharts', [key], {});\n",
              "      } catch (error) {\n",
              "        console.error('Error during call to suggestCharts:', error);\n",
              "      }\n",
              "      quickchartButtonEl.classList.remove('colab-df-spinner');\n",
              "      quickchartButtonEl.classList.add('colab-df-quickchart-complete');\n",
              "    }\n",
              "    (() => {\n",
              "      let quickchartButtonEl =\n",
              "        document.querySelector('#df-d3b41e1c-af6d-44b5-871c-b6d3f2a73618 button');\n",
              "      quickchartButtonEl.style.display =\n",
              "        google.colab.kernel.accessAllowed ? 'block' : 'none';\n",
              "    })();\n",
              "  </script>\n",
              "</div>\n",
              "    </div>\n",
              "  </div>\n"
            ],
            "application/vnd.google.colaboratory.intrinsic+json": {
              "type": "dataframe",
              "variable_name": "df"
            }
          },
          "metadata": {},
          "execution_count": 3
        }
      ]
    },
    {
      "cell_type": "code",
      "source": [
        "df.info()"
      ],
      "metadata": {
        "colab": {
          "base_uri": "https://localhost:8080/"
        },
        "id": "ovrf65-xg4IB",
        "outputId": "86702082-f426-4ccf-9901-889c2f8c6f59"
      },
      "execution_count": 4,
      "outputs": [
        {
          "output_type": "stream",
          "name": "stdout",
          "text": [
            "<class 'pandas.core.frame.DataFrame'>\n",
            "RangeIndex: 1057417 entries, 0 to 1057416\n",
            "Data columns (total 15 columns):\n",
            " #   Column                         Non-Null Count    Dtype  \n",
            "---  ------                         --------------    -----  \n",
            " 0   CRASH DATE                     1057417 non-null  object \n",
            " 1   CRASH TIME                     1057417 non-null  object \n",
            " 2   LATITUDE                       1057417 non-null  float64\n",
            " 3   LONGITUDE                      1057417 non-null  float64\n",
            " 4   CONTRIBUTING FACTOR VEHICLE 1  1057417 non-null  object \n",
            " 5   CONTRIBUTING FACTOR VEHICLE 2  1057417 non-null  object \n",
            " 6   CONTRIBUTING FACTOR VEHICLE 3  1057417 non-null  object \n",
            " 7   CONTRIBUTING FACTOR VEHICLE 4  1057417 non-null  object \n",
            " 8   CONTRIBUTING FACTOR VEHICLE 5  1057417 non-null  object \n",
            " 9   VEHICLE TYPE CODE 1            1057417 non-null  object \n",
            " 10  VEHICLE TYPE CODE 2            1057417 non-null  object \n",
            " 11  VEHICLE TYPE CODE 3            1057417 non-null  object \n",
            " 12  VEHICLE TYPE CODE 4            1057417 non-null  object \n",
            " 13  VEHICLE TYPE CODE 5            1057417 non-null  object \n",
            " 14  CLASS TYPE                     1057417 non-null  object \n",
            "dtypes: float64(2), object(13)\n",
            "memory usage: 121.0+ MB\n"
          ]
        }
      ]
    },
    {
      "cell_type": "code",
      "source": [
        "df.isna().sum()"
      ],
      "metadata": {
        "colab": {
          "base_uri": "https://localhost:8080/"
        },
        "id": "DuAqO18apFC2",
        "outputId": "e884dc52-832a-4d98-8dc3-cde83350c1e6"
      },
      "execution_count": 16,
      "outputs": [
        {
          "output_type": "execute_result",
          "data": {
            "text/plain": [
              "CRASH DATE                       0\n",
              "CRASH TIME                       0\n",
              "LATITUDE                         0\n",
              "LONGITUDE                        0\n",
              "CONTRIBUTING FACTOR VEHICLE 1    0\n",
              "CONTRIBUTING FACTOR VEHICLE 2    0\n",
              "CONTRIBUTING FACTOR VEHICLE 3    0\n",
              "CONTRIBUTING FACTOR VEHICLE 4    0\n",
              "CONTRIBUTING FACTOR VEHICLE 5    0\n",
              "VEHICLE TYPE CODE 1              0\n",
              "VEHICLE TYPE CODE 2              0\n",
              "VEHICLE TYPE CODE 3              0\n",
              "VEHICLE TYPE CODE 4              0\n",
              "VEHICLE TYPE CODE 5              0\n",
              "CLASS TYPE                       0\n",
              "dtype: int64"
            ]
          },
          "metadata": {},
          "execution_count": 16
        }
      ]
    },
    {
      "cell_type": "code",
      "source": [
        "df['CLASS TYPE'].value_counts()"
      ],
      "metadata": {
        "colab": {
          "base_uri": "https://localhost:8080/"
        },
        "id": "pqc_D7A4obmR",
        "outputId": "f36cb599-ea2a-48ff-bf43-2f22759254d6"
      },
      "execution_count": 17,
      "outputs": [
        {
          "output_type": "execute_result",
          "data": {
            "text/plain": [
              "CLASS TYPE\n",
              "Class 0    824193\n",
              "Class 1    231289\n",
              "Class 2      1030\n",
              "Class 3       905\n",
              "Name: count, dtype: int64"
            ]
          },
          "metadata": {},
          "execution_count": 17
        }
      ]
    },
    {
      "cell_type": "code",
      "source": [
        "print(df['CLASS TYPE'].unique())"
      ],
      "metadata": {
        "colab": {
          "base_uri": "https://localhost:8080/"
        },
        "id": "pGOCmuoDqFYw",
        "outputId": "3957af24-a915-450a-fa48-6c1f7693c513"
      },
      "execution_count": 19,
      "outputs": [
        {
          "output_type": "stream",
          "name": "stdout",
          "text": [
            "['Class 0' 'Class 1' 'Class 3' 'Class 2']\n"
          ]
        }
      ]
    },
    {
      "cell_type": "code",
      "source": [
        "df['CLASS TYPE'] = df['CLASS TYPE'].replace({'Class 0': 0, 'Class 1': 1, 'Class 2': 1, 'Class 3': 1})"
      ],
      "metadata": {
        "id": "ufievu9cojAy"
      },
      "execution_count": 21,
      "outputs": []
    },
    {
      "cell_type": "code",
      "source": [
        "df['CLASS TYPE'].value_counts()"
      ],
      "metadata": {
        "colab": {
          "base_uri": "https://localhost:8080/"
        },
        "id": "OPU8WQZRotOA",
        "outputId": "1384d68a-342d-4a09-e58d-9e86e2dfcf8b"
      },
      "execution_count": 22,
      "outputs": [
        {
          "output_type": "execute_result",
          "data": {
            "text/plain": [
              "CLASS TYPE\n",
              "0    824193\n",
              "1    233224\n",
              "Name: count, dtype: int64"
            ]
          },
          "metadata": {},
          "execution_count": 22
        }
      ]
    },
    {
      "cell_type": "code",
      "source": [
        "df['CRASH DATE'] = pd.to_datetime(df['CRASH DATE'])\n",
        "df['CRASH TIME'] = pd.to_datetime(df['CRASH TIME'])"
      ],
      "metadata": {
        "colab": {
          "base_uri": "https://localhost:8080/"
        },
        "id": "DEfEBSMgqmVR",
        "outputId": "63812860-bf74-44d3-bf2f-0cfcff951a36"
      },
      "execution_count": 23,
      "outputs": [
        {
          "output_type": "stream",
          "name": "stderr",
          "text": [
            "<ipython-input-23-b6c7147c979f>:2: UserWarning: Could not infer format, so each element will be parsed individually, falling back to `dateutil`. To ensure parsing is consistent and as-expected, please specify a format.\n",
            "  df['CRASH TIME'] = pd.to_datetime(df['CRASH TIME'])\n"
          ]
        }
      ]
    },
    {
      "cell_type": "code",
      "source": [
        "df['YEAR'] = df['CRASH DATE'].dt.year\n",
        "df['MONTH'] = df['CRASH DATE'].dt.month\n",
        "df['DAY'] = df['CRASH DATE'].dt.day\n",
        "df['HOUR'] = df['CRASH TIME'].dt.hour\n",
        "df['MINUTE'] = df['CRASH TIME'].dt.minute\n",
        "df.drop(['CRASH DATE', 'CRASH TIME'], axis=1, inplace=True)"
      ],
      "metadata": {
        "id": "RbAUuLbXrjx4"
      },
      "execution_count": 28,
      "outputs": []
    },
    {
      "cell_type": "code",
      "source": [
        "X = df.drop('CLASS TYPE', axis=1)\n",
        "y = df['CLASS TYPE']"
      ],
      "metadata": {
        "id": "jAtff4-1qqsp"
      },
      "execution_count": 29,
      "outputs": []
    },
    {
      "cell_type": "code",
      "source": [
        "for col in X.select_dtypes(include=['object']).columns:\n",
        "    X[col] = LabelEncoder().fit_transform(X[col])"
      ],
      "metadata": {
        "id": "rTDZSeoAq5cr"
      },
      "execution_count": 30,
      "outputs": []
    },
    {
      "cell_type": "code",
      "source": [
        "X_train, X_test, y_train, y_test = train_test_split(X, y, test_size=0.3, random_state=42)"
      ],
      "metadata": {
        "id": "cjlaKozxq_Np"
      },
      "execution_count": 31,
      "outputs": []
    },
    {
      "cell_type": "markdown",
      "source": [
        "# **Assessing feature importance with Random Forests**"
      ],
      "metadata": {
        "id": "L1_HT2a9tB4b"
      }
    },
    {
      "cell_type": "code",
      "source": [
        "model = RandomForestClassifier(random_state=42)\n",
        "model.fit(X_train, y_train)"
      ],
      "metadata": {
        "colab": {
          "base_uri": "https://localhost:8080/",
          "height": 75
        },
        "id": "mtBLwa-_rHcy",
        "outputId": "e0cc64f8-ddae-477f-9327-ad8e10f869fe"
      },
      "execution_count": 32,
      "outputs": [
        {
          "output_type": "execute_result",
          "data": {
            "text/plain": [
              "RandomForestClassifier(random_state=42)"
            ],
            "text/html": [
              "<style>#sk-container-id-1 {color: black;background-color: white;}#sk-container-id-1 pre{padding: 0;}#sk-container-id-1 div.sk-toggleable {background-color: white;}#sk-container-id-1 label.sk-toggleable__label {cursor: pointer;display: block;width: 100%;margin-bottom: 0;padding: 0.3em;box-sizing: border-box;text-align: center;}#sk-container-id-1 label.sk-toggleable__label-arrow:before {content: \"▸\";float: left;margin-right: 0.25em;color: #696969;}#sk-container-id-1 label.sk-toggleable__label-arrow:hover:before {color: black;}#sk-container-id-1 div.sk-estimator:hover label.sk-toggleable__label-arrow:before {color: black;}#sk-container-id-1 div.sk-toggleable__content {max-height: 0;max-width: 0;overflow: hidden;text-align: left;background-color: #f0f8ff;}#sk-container-id-1 div.sk-toggleable__content pre {margin: 0.2em;color: black;border-radius: 0.25em;background-color: #f0f8ff;}#sk-container-id-1 input.sk-toggleable__control:checked~div.sk-toggleable__content {max-height: 200px;max-width: 100%;overflow: auto;}#sk-container-id-1 input.sk-toggleable__control:checked~label.sk-toggleable__label-arrow:before {content: \"▾\";}#sk-container-id-1 div.sk-estimator input.sk-toggleable__control:checked~label.sk-toggleable__label {background-color: #d4ebff;}#sk-container-id-1 div.sk-label input.sk-toggleable__control:checked~label.sk-toggleable__label {background-color: #d4ebff;}#sk-container-id-1 input.sk-hidden--visually {border: 0;clip: rect(1px 1px 1px 1px);clip: rect(1px, 1px, 1px, 1px);height: 1px;margin: -1px;overflow: hidden;padding: 0;position: absolute;width: 1px;}#sk-container-id-1 div.sk-estimator {font-family: monospace;background-color: #f0f8ff;border: 1px dotted black;border-radius: 0.25em;box-sizing: border-box;margin-bottom: 0.5em;}#sk-container-id-1 div.sk-estimator:hover {background-color: #d4ebff;}#sk-container-id-1 div.sk-parallel-item::after {content: \"\";width: 100%;border-bottom: 1px solid gray;flex-grow: 1;}#sk-container-id-1 div.sk-label:hover label.sk-toggleable__label {background-color: #d4ebff;}#sk-container-id-1 div.sk-serial::before {content: \"\";position: absolute;border-left: 1px solid gray;box-sizing: border-box;top: 0;bottom: 0;left: 50%;z-index: 0;}#sk-container-id-1 div.sk-serial {display: flex;flex-direction: column;align-items: center;background-color: white;padding-right: 0.2em;padding-left: 0.2em;position: relative;}#sk-container-id-1 div.sk-item {position: relative;z-index: 1;}#sk-container-id-1 div.sk-parallel {display: flex;align-items: stretch;justify-content: center;background-color: white;position: relative;}#sk-container-id-1 div.sk-item::before, #sk-container-id-1 div.sk-parallel-item::before {content: \"\";position: absolute;border-left: 1px solid gray;box-sizing: border-box;top: 0;bottom: 0;left: 50%;z-index: -1;}#sk-container-id-1 div.sk-parallel-item {display: flex;flex-direction: column;z-index: 1;position: relative;background-color: white;}#sk-container-id-1 div.sk-parallel-item:first-child::after {align-self: flex-end;width: 50%;}#sk-container-id-1 div.sk-parallel-item:last-child::after {align-self: flex-start;width: 50%;}#sk-container-id-1 div.sk-parallel-item:only-child::after {width: 0;}#sk-container-id-1 div.sk-dashed-wrapped {border: 1px dashed gray;margin: 0 0.4em 0.5em 0.4em;box-sizing: border-box;padding-bottom: 0.4em;background-color: white;}#sk-container-id-1 div.sk-label label {font-family: monospace;font-weight: bold;display: inline-block;line-height: 1.2em;}#sk-container-id-1 div.sk-label-container {text-align: center;}#sk-container-id-1 div.sk-container {/* jupyter's `normalize.less` sets `[hidden] { display: none; }` but bootstrap.min.css set `[hidden] { display: none !important; }` so we also need the `!important` here to be able to override the default hidden behavior on the sphinx rendered scikit-learn.org. See: https://github.com/scikit-learn/scikit-learn/issues/21755 */display: inline-block !important;position: relative;}#sk-container-id-1 div.sk-text-repr-fallback {display: none;}</style><div id=\"sk-container-id-1\" class=\"sk-top-container\"><div class=\"sk-text-repr-fallback\"><pre>RandomForestClassifier(random_state=42)</pre><b>In a Jupyter environment, please rerun this cell to show the HTML representation or trust the notebook. <br />On GitHub, the HTML representation is unable to render, please try loading this page with nbviewer.org.</b></div><div class=\"sk-container\" hidden><div class=\"sk-item\"><div class=\"sk-estimator sk-toggleable\"><input class=\"sk-toggleable__control sk-hidden--visually\" id=\"sk-estimator-id-1\" type=\"checkbox\" checked><label for=\"sk-estimator-id-1\" class=\"sk-toggleable__label sk-toggleable__label-arrow\">RandomForestClassifier</label><div class=\"sk-toggleable__content\"><pre>RandomForestClassifier(random_state=42)</pre></div></div></div></div></div>"
            ]
          },
          "metadata": {},
          "execution_count": 32
        }
      ]
    },
    {
      "cell_type": "code",
      "source": [
        "\n",
        "importances = model.feature_importances_\n",
        "feature_names = X.columns\n",
        "feature_imports = pd.DataFrame({'Feature': feature_names, 'Importance': importances})\n",
        "print(feature_imports.sort_values(by='Importance', ascending=False))\n"
      ],
      "metadata": {
        "colab": {
          "base_uri": "https://localhost:8080/"
        },
        "id": "h-JcQUudg4Kg",
        "outputId": "57666600-0f63-43ad-9659-fb538f6574be"
      },
      "execution_count": 33,
      "outputs": [
        {
          "output_type": "stream",
          "name": "stdout",
          "text": [
            "                          Feature  Importance\n",
            "1                       LONGITUDE    0.153321\n",
            "0                        LATITUDE    0.152617\n",
            "8             VEHICLE TYPE CODE 2    0.108974\n",
            "14                            DAY    0.105942\n",
            "16                         MINUTE    0.093670\n",
            "15                           HOUR    0.089404\n",
            "13                          MONTH    0.073873\n",
            "12                           YEAR    0.071579\n",
            "2   CONTRIBUTING FACTOR VEHICLE 1    0.062530\n",
            "7             VEHICLE TYPE CODE 1    0.035058\n",
            "3   CONTRIBUTING FACTOR VEHICLE 2    0.033454\n",
            "9             VEHICLE TYPE CODE 3    0.009390\n",
            "4   CONTRIBUTING FACTOR VEHICLE 3    0.006390\n",
            "10            VEHICLE TYPE CODE 4    0.001819\n",
            "5   CONTRIBUTING FACTOR VEHICLE 4    0.001157\n",
            "11            VEHICLE TYPE CODE 5    0.000520\n",
            "6   CONTRIBUTING FACTOR VEHICLE 5    0.000302\n"
          ]
        }
      ]
    },
    {
      "cell_type": "code",
      "source": [
        "sorted_feature_imports = feature_imports.sort_values(by='Importance', ascending=False)\n",
        "plt.figure(figsize=(12, 8))\n",
        "sns.barplot(x='Importance', y='Feature', data=sorted_feature_imports, palette='viridis')\n",
        "plt.title('Feature Importance from RandomForest Classifier')\n",
        "plt.xlabel('Importance')\n",
        "plt.ylabel('Features')\n",
        "plt.tight_layout()\n",
        "plt.show()\n"
      ],
      "metadata": {
        "colab": {
          "base_uri": "https://localhost:8080/",
          "height": 914
        },
        "id": "AOA68d-jg4NK",
        "outputId": "71d2d501-d1bf-4700-8cba-3c789664a53e"
      },
      "execution_count": 34,
      "outputs": [
        {
          "output_type": "stream",
          "name": "stderr",
          "text": [
            "<ipython-input-34-652a3efefb82>:3: FutureWarning: \n",
            "\n",
            "Passing `palette` without assigning `hue` is deprecated and will be removed in v0.14.0. Assign the `y` variable to `hue` and set `legend=False` for the same effect.\n",
            "\n",
            "  sns.barplot(x='Importance', y='Feature', data=sorted_feature_imports, palette='viridis')\n"
          ]
        },
        {
          "output_type": "display_data",
          "data": {
            "text/plain": [
              "<Figure size 1200x800 with 1 Axes>"
            ],
            "image/png": "[encoded data removed]"
          },
          "metadata": {}
        }
      ]
    },
    {
      "cell_type": "code",
      "source": [
        "print(sorted_feature_imports)"
      ],
      "metadata": {
        "colab": {
          "base_uri": "https://localhost:8080/"
        },
        "id": "9FkfNtb8xxNZ",
        "outputId": "8cb44bb1-2235-4bf0-cb39-bae017eab258"
      },
      "execution_count": 36,
      "outputs": [
        {
          "output_type": "stream",
          "name": "stdout",
          "text": [
            "                          Feature  Importance\n",
            "1                       LONGITUDE    0.153321\n",
            "0                        LATITUDE    0.152617\n",
            "8             VEHICLE TYPE CODE 2    0.108974\n",
            "14                            DAY    0.105942\n",
            "16                         MINUTE    0.093670\n",
            "15                           HOUR    0.089404\n",
            "13                          MONTH    0.073873\n",
            "12                           YEAR    0.071579\n",
            "2   CONTRIBUTING FACTOR VEHICLE 1    0.062530\n",
            "7             VEHICLE TYPE CODE 1    0.035058\n",
            "3   CONTRIBUTING FACTOR VEHICLE 2    0.033454\n",
            "9             VEHICLE TYPE CODE 3    0.009390\n",
            "4   CONTRIBUTING FACTOR VEHICLE 3    0.006390\n",
            "10            VEHICLE TYPE CODE 4    0.001819\n",
            "5   CONTRIBUTING FACTOR VEHICLE 4    0.001157\n",
            "11            VEHICLE TYPE CODE 5    0.000520\n",
            "6   CONTRIBUTING FACTOR VEHICLE 5    0.000302\n"
          ]
        }
      ]
    },
    {
      "cell_type": "code",
      "source": [
        "df.columns"
      ],
      "metadata": {
        "colab": {
          "base_uri": "https://localhost:8080/"
        },
        "id": "S7rQQhlJx9oe",
        "outputId": "59bc5dab-f2bf-4661-cb43-3c4580f0cc64"
      },
      "execution_count": 37,
      "outputs": [
        {
          "output_type": "execute_result",
          "data": {
            "text/plain": [
              "Index(['LATITUDE', 'LONGITUDE', 'CONTRIBUTING FACTOR VEHICLE 1',\n",
              "       'CONTRIBUTING FACTOR VEHICLE 2', 'CONTRIBUTING FACTOR VEHICLE 3',\n",
              "       'CONTRIBUTING FACTOR VEHICLE 4', 'CONTRIBUTING FACTOR VEHICLE 5',\n",
              "       'VEHICLE TYPE CODE 1', 'VEHICLE TYPE CODE 2', 'VEHICLE TYPE CODE 3',\n",
              "       'VEHICLE TYPE CODE 4', 'VEHICLE TYPE CODE 5', 'CLASS TYPE', 'YEAR',\n",
              "       'MONTH', 'DAY', 'HOUR', 'MINUTE'],\n",
              "      dtype='object')"
            ]
          },
          "metadata": {},
          "execution_count": 37
        }
      ]
    },
    {
      "cell_type": "code",
      "source": [
        "important_features = ['LATITUDE', 'LONGITUDE', 'CONTRIBUTING FACTOR VEHICLE 1',\n",
        "       'CONTRIBUTING FACTOR VEHICLE 2', 'VEHICLE TYPE CODE 1', 'VEHICLE TYPE CODE 2', 'YEAR',\n",
        "       'MONTH', 'DAY', 'HOUR', 'MINUTE']\n",
        "X_important = df[important_features]"
      ],
      "metadata": {
        "id": "FhqhaTthyZiS"
      },
      "execution_count": 38,
      "outputs": []
    },
    {
      "cell_type": "code",
      "source": [
        "print(X_important)"
      ],
      "metadata": {
        "colab": {
          "base_uri": "https://localhost:8080/"
        },
        "id": "wxAmNguKyctj",
        "outputId": "c73121af-9edd-418a-98f1-6f14e8193f4c"
      },
      "execution_count": 39,
      "outputs": [
        {
          "output_type": "stream",
          "name": "stdout",
          "text": [
            "          LATITUDE  LONGITUDE   CONTRIBUTING FACTOR VEHICLE 1  \\\n",
            "0        40.667202 -73.866500                     Unspecified   \n",
            "1        40.868160 -73.831480                     Unspecified   \n",
            "2        40.751440 -73.973970             Passing Too Closely   \n",
            "3        40.675884 -73.755770              Turning Improperly   \n",
            "4        40.872620 -73.904686                     Unspecified   \n",
            "...            ...        ...                             ...   \n",
            "1057412  40.692210 -73.922930  Driver Inattention/Distraction   \n",
            "1057413  40.677414 -73.930330              Turning Improperly   \n",
            "1057414  40.771835 -73.907326                Backing Unsafely   \n",
            "1057415  40.629425 -73.997950                     Unspecified   \n",
            "1057416  40.583572 -74.086210  Driver Inattention/Distraction   \n",
            "\n",
            "        CONTRIBUTING FACTOR VEHICLE 2                  VEHICLE TYPE CODE 1  \\\n",
            "0                           No factor                                Sedan   \n",
            "1                         Unspecified                                Sedan   \n",
            "2                         Unspecified                                Sedan   \n",
            "3                         Unspecified                                Sedan   \n",
            "4                         Unspecified  Station Wagon/Sport Utility Vehicle   \n",
            "...                               ...                                  ...   \n",
            "1057412                   Unspecified                                Sedan   \n",
            "1057413                   Unspecified                        Pick-up Truck   \n",
            "1057414                   Unspecified                                Sedan   \n",
            "1057415                   Unspecified                                Sedan   \n",
            "1057416                     No factor  Station Wagon/Sport Utility Vehicle   \n",
            "\n",
            "                         VEHICLE TYPE CODE 2  YEAR  MONTH  DAY  HOUR  MINUTE  \n",
            "0                                 No vehicle  2021      9   11     9      35  \n",
            "1                                      Sedan  2021     12   14     8      17  \n",
            "2        Station Wagon/Sport Utility Vehicle  2021     12   14    14      58  \n",
            "3        Station Wagon/Sport Utility Vehicle  2021     12   14    16      50  \n",
            "4                                      Sedan  2021     12   11    19      43  \n",
            "...                                      ...   ...    ...  ...   ...     ...  \n",
            "1057412                                Sedan  2024      3    1    15      52  \n",
            "1057413                            Box Truck  2024      2   27    16      36  \n",
            "1057414                                Sedan  2024      2   26    11      10  \n",
            "1057415                                Sedan  2024      3    1    20      20  \n",
            "1057416                           No vehicle  2024      2   28    16       5  \n",
            "\n",
            "[1057417 rows x 11 columns]\n"
          ]
        }
      ]
    },
    {
      "cell_type": "code",
      "source": [
        "categorical_features = ['CONTRIBUTING FACTOR VEHICLE 1', 'CONTRIBUTING FACTOR VEHICLE 2', 'VEHICLE TYPE CODE 1', 'VEHICLE TYPE CODE 2']\n",
        "\n",
        "#one-hot encoding\n",
        "X_encoded = pd.get_dummies(df[categorical_features], drop_first=True)\n",
        "numerical_features = ['LATITUDE', 'LONGITUDE', 'YEAR',\n",
        "       'MONTH', 'DAY', 'HOUR', 'MINUTE']\n",
        "X_encoded = pd.concat([X_encoded, df[numerical_features]], axis=1)"
      ],
      "metadata": {
        "id": "tcOfQpbNzKTF"
      },
      "execution_count": 42,
      "outputs": []
    },
    {
      "cell_type": "code",
      "source": [
        "X_train_imp, X_test_imp, y_train, y_test = train_test_split(X_encoded, y, test_size=0.2, random_state=42)\n"
      ],
      "metadata": {
        "id": "Nis5l0Mnzbn9"
      },
      "execution_count": 43,
      "outputs": []
    },
    {
      "cell_type": "code",
      "source": [
        "model_imp = RandomForestClassifier(random_state=42)\n",
        "model_imp.fit(X_train_imp, y_train)"
      ],
      "metadata": {
        "colab": {
          "base_uri": "https://localhost:8080/",
          "height": 75
        },
        "id": "MAoN5QErg4XS",
        "outputId": "6b9af595-c311-4726-e090-a4a84a832dfe"
      },
      "execution_count": 44,
      "outputs": [
        {
          "output_type": "execute_result",
          "data": {
            "text/plain": [
              "RandomForestClassifier(random_state=42)"
            ],
            "text/html": [
              "<style>#sk-container-id-2 {color: black;background-color: white;}#sk-container-id-2 pre{padding: 0;}#sk-container-id-2 div.sk-toggleable {background-color: white;}#sk-container-id-2 label.sk-toggleable__label {cursor: pointer;display: block;width: 100%;margin-bottom: 0;padding: 0.3em;box-sizing: border-box;text-align: center;}#sk-container-id-2 label.sk-toggleable__label-arrow:before {content: \"▸\";float: left;margin-right: 0.25em;color: #696969;}#sk-container-id-2 label.sk-toggleable__label-arrow:hover:before {color: black;}#sk-container-id-2 div.sk-estimator:hover label.sk-toggleable__label-arrow:before {color: black;}#sk-container-id-2 div.sk-toggleable__content {max-height: 0;max-width: 0;overflow: hidden;text-align: left;background-color: #f0f8ff;}#sk-container-id-2 div.sk-toggleable__content pre {margin: 0.2em;color: black;border-radius: 0.25em;background-color: #f0f8ff;}#sk-container-id-2 input.sk-toggleable__control:checked~div.sk-toggleable__content {max-height: 200px;max-width: 100%;overflow: auto;}#sk-container-id-2 input.sk-toggleable__control:checked~label.sk-toggleable__label-arrow:before {content: \"▾\";}#sk-container-id-2 div.sk-estimator input.sk-toggleable__control:checked~label.sk-toggleable__label {background-color: #d4ebff;}#sk-container-id-2 div.sk-label input.sk-toggleable__control:checked~label.sk-toggleable__label {background-color: #d4ebff;}#sk-container-id-2 input.sk-hidden--visually {border: 0;clip: rect(1px 1px 1px 1px);clip: rect(1px, 1px, 1px, 1px);height: 1px;margin: -1px;overflow: hidden;padding: 0;position: absolute;width: 1px;}#sk-container-id-2 div.sk-estimator {font-family: monospace;background-color: #f0f8ff;border: 1px dotted black;border-radius: 0.25em;box-sizing: border-box;margin-bottom: 0.5em;}#sk-container-id-2 div.sk-estimator:hover {background-color: #d4ebff;}#sk-container-id-2 div.sk-parallel-item::after {content: \"\";width: 100%;border-bottom: 1px solid gray;flex-grow: 1;}#sk-container-id-2 div.sk-label:hover label.sk-toggleable__label {background-color: #d4ebff;}#sk-container-id-2 div.sk-serial::before {content: \"\";position: absolute;border-left: 1px solid gray;box-sizing: border-box;top: 0;bottom: 0;left: 50%;z-index: 0;}#sk-container-id-2 div.sk-serial {display: flex;flex-direction: column;align-items: center;background-color: white;padding-right: 0.2em;padding-left: 0.2em;position: relative;}#sk-container-id-2 div.sk-item {position: relative;z-index: 1;}#sk-container-id-2 div.sk-parallel {display: flex;align-items: stretch;justify-content: center;background-color: white;position: relative;}#sk-container-id-2 div.sk-item::before, #sk-container-id-2 div.sk-parallel-item::before {content: \"\";position: absolute;border-left: 1px solid gray;box-sizing: border-box;top: 0;bottom: 0;left: 50%;z-index: -1;}#sk-container-id-2 div.sk-parallel-item {display: flex;flex-direction: column;z-index: 1;position: relative;background-color: white;}#sk-container-id-2 div.sk-parallel-item:first-child::after {align-self: flex-end;width: 50%;}#sk-container-id-2 div.sk-parallel-item:last-child::after {align-self: flex-start;width: 50%;}#sk-container-id-2 div.sk-parallel-item:only-child::after {width: 0;}#sk-container-id-2 div.sk-dashed-wrapped {border: 1px dashed gray;margin: 0 0.4em 0.5em 0.4em;box-sizing: border-box;padding-bottom: 0.4em;background-color: white;}#sk-container-id-2 div.sk-label label {font-family: monospace;font-weight: bold;display: inline-block;line-height: 1.2em;}#sk-container-id-2 div.sk-label-container {text-align: center;}#sk-container-id-2 div.sk-container {/* jupyter's `normalize.less` sets `[hidden] { display: none; }` but bootstrap.min.css set `[hidden] { display: none !important; }` so we also need the `!important` here to be able to override the default hidden behavior on the sphinx rendered scikit-learn.org. See: https://github.com/scikit-learn/scikit-learn/issues/21755 */display: inline-block !important;position: relative;}#sk-container-id-2 div.sk-text-repr-fallback {display: none;}</style><div id=\"sk-container-id-2\" class=\"sk-top-container\"><div class=\"sk-text-repr-fallback\"><pre>RandomForestClassifier(random_state=42)</pre><b>In a Jupyter environment, please rerun this cell to show the HTML representation or trust the notebook. <br />On GitHub, the HTML representation is unable to render, please try loading this page with nbviewer.org.</b></div><div class=\"sk-container\" hidden><div class=\"sk-item\"><div class=\"sk-estimator sk-toggleable\"><input class=\"sk-toggleable__control sk-hidden--visually\" id=\"sk-estimator-id-2\" type=\"checkbox\" checked><label for=\"sk-estimator-id-2\" class=\"sk-toggleable__label sk-toggleable__label-arrow\">RandomForestClassifier</label><div class=\"sk-toggleable__content\"><pre>RandomForestClassifier(random_state=42)</pre></div></div></div></div></div>"
            ]
          },
          "metadata": {},
          "execution_count": 44
        }
      ]
    },
    {
      "cell_type": "code",
      "source": [
        "accuracy = model_imp.score(X_test_imp, y_test)\n",
        "print(f\"Accuracy with important features: {accuracy}\")"
      ],
      "metadata": {
        "colab": {
          "base_uri": "https://localhost:8080/"
        },
        "id": "xmBe142og4Z3",
        "outputId": "c9c16ed1-e017-4c21-8a42-abc4b0c2bdae"
      },
      "execution_count": 45,
      "outputs": [
        {
          "output_type": "stream",
          "name": "stdout",
          "text": [
            "Accuracy with important features: 0.8211874184335458\n"
          ]
        }
      ]
    },
    {
      "cell_type": "code",
      "source": [],
      "metadata": {
        "id": "ZsZwessEg4fd"
      },
      "execution_count": null,
      "outputs": []
    },
    {
      "cell_type": "code",
      "source": [],
      "metadata": {
        "id": "lttxMc5Og4iB"
      },
      "execution_count": null,
      "outputs": []
    },
    {
      "cell_type": "code",
      "source": [],
      "metadata": {
        "id": "VV_FpMxVg4lY"
      },
      "execution_count": null,
      "outputs": []
    }
  ]
}