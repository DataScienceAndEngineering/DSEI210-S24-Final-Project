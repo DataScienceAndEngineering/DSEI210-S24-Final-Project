{
  "cells": [
    {
      "cell_type": "code",
      "execution_count": 1,
      "metadata": {
        "id": "1rgs9z7MVwLP"
      },
      "outputs": [],
      "source": [
        "import pandas as pd\n",
        "from matplotlib import pyplot as plt\n",
        "import seaborn as sns\n",
        "from sklearn.model_selection import train_test_split\n",
        "from sklearn.pipeline import Pipeline\n",
        "from sklearn.preprocessing import StandardScaler\n",
        "from sklearn.linear_model import LogisticRegression\n",
        "from sklearn.tree import DecisionTreeClassifier\n",
        "from sklearn.inspection import DecisionBoundaryDisplay\n",
        "from sklearn.ensemble import RandomForestClassifier\n",
        "from sklearn.svm import SVC\n",
        "from sklearn.neighbors import KNeighborsClassifier\n",
        "from sklearn.datasets import make_classification\n",
        "from sklearn.pipeline import make_pipeline\n",
        "from sklearn.metrics import accuracy_score, confusion_matrix, classification_report\n",
        "from imblearn.over_sampling import SMOTE"
      ]
    },
    {
      "cell_type": "code",
      "execution_count": 2,
      "metadata": {
        "id": "uFVgT1coVwt0"
      },
      "outputs": [],
      "source": [
        "df=pd.read_csv('/content/C__Users_maria_Downloads_Data.csv')"
      ]
    },
    {
      "cell_type": "code",
      "execution_count": null,
      "metadata": {
        "colab": {
          "base_uri": "https://localhost:8080/",
          "height": 342
        },
        "id": "Rr1cyf6UW81R",
        "outputId": "80853965-f657-43bb-b7ee-2fd35df35499"
      },
      "outputs": [
        {
          "data": {
            "application/vnd.google.colaboratory.intrinsic+json": {
              "type": "dataframe",
              "variable_name": "df"
            },
            "text/html": [
              "\n",
              "  <div id=\"df-bb0e98d4-738a-4bed-aa27-63a342817eb0\" class=\"colab-df-container\">\n",
              "    <div>\n",
              "<style scoped>\n",
              "    .dataframe tbody tr th:only-of-type {\n",
              "        vertical-align: middle;\n",
              "    }\n",
              "\n",
              "    .dataframe tbody tr th {\n",
              "        vertical-align: top;\n",
              "    }\n",
              "\n",
              "    .dataframe thead th {\n",
              "        text-align: right;\n",
              "    }\n",
              "</style>\n",
              "<table border=\"1\" class=\"dataframe\">\n",
              "  <thead>\n",
              "    <tr style=\"text-align: right;\">\n",
              "      <th></th>\n",
              "      <th>LATITUDE</th>\n",
              "      <th>LONGITUDE</th>\n",
              "      <th>CLASS TYPE</th>\n",
              "      <th>CONTRIBUTING FACTOR VEHICLE 1_Backing Unsafely</th>\n",
              "      <th>CONTRIBUTING FACTOR VEHICLE 1_Driver Inattention/Distraction</th>\n",
              "      <th>CONTRIBUTING FACTOR VEHICLE 1_Failure to Yield Right-of-Way</th>\n",
              "      <th>CONTRIBUTING FACTOR VEHICLE 1_Fatigued/Drowsy</th>\n",
              "      <th>CONTRIBUTING FACTOR VEHICLE 1_Following Too Closely</th>\n",
              "      <th>CONTRIBUTING FACTOR VEHICLE 1_Other Vehicular</th>\n",
              "      <th>CONTRIBUTING FACTOR VEHICLE 1_Passing Too Closely</th>\n",
              "      <th>...</th>\n",
              "      <th>VEHICLE TYPE CODE 5_Sedan</th>\n",
              "      <th>VEHICLE TYPE CODE 5_Station Wagon/Sport Utility Vehicle</th>\n",
              "      <th>VEHICLE TYPE CODE 5_Taxi</th>\n",
              "      <th>VEHICLE TYPE CODE 5_UNKNOWN</th>\n",
              "      <th>VEHICLE TYPE CODE 5_VAN</th>\n",
              "      <th>YEAR</th>\n",
              "      <th>MONTH</th>\n",
              "      <th>DAY</th>\n",
              "      <th>HOUR</th>\n",
              "      <th>MINUTE</th>\n",
              "    </tr>\n",
              "  </thead>\n",
              "  <tbody>\n",
              "    <tr>\n",
              "      <th>0</th>\n",
              "      <td>40.667202</td>\n",
              "      <td>-73.866500</td>\n",
              "      <td>0</td>\n",
              "      <td>0</td>\n",
              "      <td>0</td>\n",
              "      <td>0</td>\n",
              "      <td>0</td>\n",
              "      <td>0</td>\n",
              "      <td>0</td>\n",
              "      <td>0</td>\n",
              "      <td>...</td>\n",
              "      <td>0</td>\n",
              "      <td>0</td>\n",
              "      <td>0</td>\n",
              "      <td>0</td>\n",
              "      <td>0</td>\n",
              "      <td>2021</td>\n",
              "      <td>9</td>\n",
              "      <td>11</td>\n",
              "      <td>9</td>\n",
              "      <td>35</td>\n",
              "    </tr>\n",
              "    <tr>\n",
              "      <th>1</th>\n",
              "      <td>40.868160</td>\n",
              "      <td>-73.831480</td>\n",
              "      <td>1</td>\n",
              "      <td>0</td>\n",
              "      <td>0</td>\n",
              "      <td>0</td>\n",
              "      <td>0</td>\n",
              "      <td>0</td>\n",
              "      <td>0</td>\n",
              "      <td>0</td>\n",
              "      <td>...</td>\n",
              "      <td>0</td>\n",
              "      <td>0</td>\n",
              "      <td>0</td>\n",
              "      <td>0</td>\n",
              "      <td>0</td>\n",
              "      <td>2021</td>\n",
              "      <td>12</td>\n",
              "      <td>14</td>\n",
              "      <td>8</td>\n",
              "      <td>17</td>\n",
              "    </tr>\n",
              "    <tr>\n",
              "      <th>2</th>\n",
              "      <td>40.751440</td>\n",
              "      <td>-73.973970</td>\n",
              "      <td>0</td>\n",
              "      <td>0</td>\n",
              "      <td>0</td>\n",
              "      <td>0</td>\n",
              "      <td>0</td>\n",
              "      <td>0</td>\n",
              "      <td>0</td>\n",
              "      <td>1</td>\n",
              "      <td>...</td>\n",
              "      <td>0</td>\n",
              "      <td>0</td>\n",
              "      <td>0</td>\n",
              "      <td>0</td>\n",
              "      <td>0</td>\n",
              "      <td>2021</td>\n",
              "      <td>12</td>\n",
              "      <td>14</td>\n",
              "      <td>14</td>\n",
              "      <td>58</td>\n",
              "    </tr>\n",
              "    <tr>\n",
              "      <th>3</th>\n",
              "      <td>40.675884</td>\n",
              "      <td>-73.755770</td>\n",
              "      <td>0</td>\n",
              "      <td>0</td>\n",
              "      <td>0</td>\n",
              "      <td>0</td>\n",
              "      <td>0</td>\n",
              "      <td>0</td>\n",
              "      <td>0</td>\n",
              "      <td>0</td>\n",
              "      <td>...</td>\n",
              "      <td>0</td>\n",
              "      <td>0</td>\n",
              "      <td>0</td>\n",
              "      <td>0</td>\n",
              "      <td>0</td>\n",
              "      <td>2021</td>\n",
              "      <td>12</td>\n",
              "      <td>14</td>\n",
              "      <td>16</td>\n",
              "      <td>50</td>\n",
              "    </tr>\n",
              "    <tr>\n",
              "      <th>4</th>\n",
              "      <td>40.872620</td>\n",
              "      <td>-73.904686</td>\n",
              "      <td>1</td>\n",
              "      <td>0</td>\n",
              "      <td>0</td>\n",
              "      <td>0</td>\n",
              "      <td>0</td>\n",
              "      <td>0</td>\n",
              "      <td>0</td>\n",
              "      <td>0</td>\n",
              "      <td>...</td>\n",
              "      <td>0</td>\n",
              "      <td>0</td>\n",
              "      <td>0</td>\n",
              "      <td>0</td>\n",
              "      <td>0</td>\n",
              "      <td>2021</td>\n",
              "      <td>12</td>\n",
              "      <td>11</td>\n",
              "      <td>19</td>\n",
              "      <td>43</td>\n",
              "    </tr>\n",
              "  </tbody>\n",
              "</table>\n",
              "<p>5 rows × 107 columns</p>\n",
              "</div>\n",
              "    <div class=\"colab-df-buttons\">\n",
              "\n",
              "  <div class=\"colab-df-container\">\n",
              "    <button class=\"colab-df-convert\" onclick=\"convertToInteractive('df-bb0e98d4-738a-4bed-aa27-63a342817eb0')\"\n",
              "            title=\"Convert this dataframe to an interactive table.\"\n",
              "            style=\"display:none;\">\n",
              "\n",
              "  <svg xmlns=\"http://www.w3.org/2000/svg\" height=\"24px\" viewBox=\"0 -960 960 960\">\n",
              "    <path d=\"M120-120v-720h720v720H120Zm60-500h600v-160H180v160Zm220 220h160v-160H400v160Zm0 220h160v-160H400v160ZM180-400h160v-160H180v160Zm440 0h160v-160H620v160ZM180-180h160v-160H180v160Zm440 0h160v-160H620v160Z\"/>\n",
              "  </svg>\n",
              "    </button>\n",
              "\n",
              "  <style>\n",
              "    .colab-df-container {\n",
              "      display:flex;\n",
              "      gap: 12px;\n",
              "    }\n",
              "\n",
              "    .colab-df-convert {\n",
              "      background-color: #E8F0FE;\n",
              "      border: none;\n",
              "      border-radius: 50%;\n",
              "      cursor: pointer;\n",
              "      display: none;\n",
              "      fill: #1967D2;\n",
              "      height: 32px;\n",
              "      padding: 0 0 0 0;\n",
              "      width: 32px;\n",
              "    }\n",
              "\n",
              "    .colab-df-convert:hover {\n",
              "      background-color: #E2EBFA;\n",
              "      box-shadow: 0px 1px 2px rgba(60, 64, 67, 0.3), 0px 1px 3px 1px rgba(60, 64, 67, 0.15);\n",
              "      fill: #174EA6;\n",
              "    }\n",
              "\n",
              "    .colab-df-buttons div {\n",
              "      margin-bottom: 4px;\n",
              "    }\n",
              "\n",
              "    [theme=dark] .colab-df-convert {\n",
              "      background-color: #3B4455;\n",
              "      fill: #D2E3FC;\n",
              "    }\n",
              "\n",
              "    [theme=dark] .colab-df-convert:hover {\n",
              "      background-color: #434B5C;\n",
              "      box-shadow: 0px 1px 3px 1px rgba(0, 0, 0, 0.15);\n",
              "      filter: drop-shadow(0px 1px 2px rgba(0, 0, 0, 0.3));\n",
              "      fill: #FFFFFF;\n",
              "    }\n",
              "  </style>\n",
              "\n",
              "    <script>\n",
              "      const buttonEl =\n",
              "        document.querySelector('#df-bb0e98d4-738a-4bed-aa27-63a342817eb0 button.colab-df-convert');\n",
              "      buttonEl.style.display =\n",
              "        google.colab.kernel.accessAllowed ? 'block' : 'none';\n",
              "\n",
              "      async function convertToInteractive(key) {\n",
              "        const element = document.querySelector('#df-bb0e98d4-738a-4bed-aa27-63a342817eb0');\n",
              "        const dataTable =\n",
              "          await google.colab.kernel.invokeFunction('convertToInteractive',\n",
              "                                                    [key], {});\n",
              "        if (!dataTable) return;\n",
              "\n",
              "        const docLinkHtml = 'Like what you see? Visit the ' +\n",
              "          '<a target=\"_blank\" href=https://colab.research.google.com/notebooks/data_table.ipynb>data table notebook</a>'\n",
              "          + ' to learn more about interactive tables.';\n",
              "        element.innerHTML = '';\n",
              "        dataTable['output_type'] = 'display_data';\n",
              "        await google.colab.output.renderOutput(dataTable, element);\n",
              "        const docLink = document.createElement('div');\n",
              "        docLink.innerHTML = docLinkHtml;\n",
              "        element.appendChild(docLink);\n",
              "      }\n",
              "    </script>\n",
              "  </div>\n",
              "\n",
              "\n",
              "<div id=\"df-aec6ddd1-a3b4-4733-949c-e3556e49617b\">\n",
              "  <button class=\"colab-df-quickchart\" onclick=\"quickchart('df-aec6ddd1-a3b4-4733-949c-e3556e49617b')\"\n",
              "            title=\"Suggest charts\"\n",
              "            style=\"display:none;\">\n",
              "\n",
              "<svg xmlns=\"http://www.w3.org/2000/svg\" height=\"24px\"viewBox=\"0 0 24 24\"\n",
              "     width=\"24px\">\n",
              "    <g>\n",
              "        <path d=\"M19 3H5c-1.1 0-2 .9-2 2v14c0 1.1.9 2 2 2h14c1.1 0 2-.9 2-2V5c0-1.1-.9-2-2-2zM9 17H7v-7h2v7zm4 0h-2V7h2v10zm4 0h-2v-4h2v4z\"/>\n",
              "    </g>\n",
              "</svg>\n",
              "  </button>\n",
              "\n",
              "<style>\n",
              "  .colab-df-quickchart {\n",
              "      --bg-color: #E8F0FE;\n",
              "      --fill-color: #1967D2;\n",
              "      --hover-bg-color: #E2EBFA;\n",
              "      --hover-fill-color: #174EA6;\n",
              "      --disabled-fill-color: #AAA;\n",
              "      --disabled-bg-color: #DDD;\n",
              "  }\n",
              "\n",
              "  [theme=dark] .colab-df-quickchart {\n",
              "      --bg-color: #3B4455;\n",
              "      --fill-color: #D2E3FC;\n",
              "      --hover-bg-color: #434B5C;\n",
              "      --hover-fill-color: #FFFFFF;\n",
              "      --disabled-bg-color: #3B4455;\n",
              "      --disabled-fill-color: #666;\n",
              "  }\n",
              "\n",
              "  .colab-df-quickchart {\n",
              "    background-color: var(--bg-color);\n",
              "    border: none;\n",
              "    border-radius: 50%;\n",
              "    cursor: pointer;\n",
              "    display: none;\n",
              "    fill: var(--fill-color);\n",
              "    height: 32px;\n",
              "    padding: 0;\n",
              "    width: 32px;\n",
              "  }\n",
              "\n",
              "  .colab-df-quickchart:hover {\n",
              "    background-color: var(--hover-bg-color);\n",
              "    box-shadow: 0 1px 2px rgba(60, 64, 67, 0.3), 0 1px 3px 1px rgba(60, 64, 67, 0.15);\n",
              "    fill: var(--button-hover-fill-color);\n",
              "  }\n",
              "\n",
              "  .colab-df-quickchart-complete:disabled,\n",
              "  .colab-df-quickchart-complete:disabled:hover {\n",
              "    background-color: var(--disabled-bg-color);\n",
              "    fill: var(--disabled-fill-color);\n",
              "    box-shadow: none;\n",
              "  }\n",
              "\n",
              "  .colab-df-spinner {\n",
              "    border: 2px solid var(--fill-color);\n",
              "    border-color: transparent;\n",
              "    border-bottom-color: var(--fill-color);\n",
              "    animation:\n",
              "      spin 1s steps(1) infinite;\n",
              "  }\n",
              "\n",
              "  @keyframes spin {\n",
              "    0% {\n",
              "      border-color: transparent;\n",
              "      border-bottom-color: var(--fill-color);\n",
              "      border-left-color: var(--fill-color);\n",
              "    }\n",
              "    20% {\n",
              "      border-color: transparent;\n",
              "      border-left-color: var(--fill-color);\n",
              "      border-top-color: var(--fill-color);\n",
              "    }\n",
              "    30% {\n",
              "      border-color: transparent;\n",
              "      border-left-color: var(--fill-color);\n",
              "      border-top-color: var(--fill-color);\n",
              "      border-right-color: var(--fill-color);\n",
              "    }\n",
              "    40% {\n",
              "      border-color: transparent;\n",
              "      border-right-color: var(--fill-color);\n",
              "      border-top-color: var(--fill-color);\n",
              "    }\n",
              "    60% {\n",
              "      border-color: transparent;\n",
              "      border-right-color: var(--fill-color);\n",
              "    }\n",
              "    80% {\n",
              "      border-color: transparent;\n",
              "      border-right-color: var(--fill-color);\n",
              "      border-bottom-color: var(--fill-color);\n",
              "    }\n",
              "    90% {\n",
              "      border-color: transparent;\n",
              "      border-bottom-color: var(--fill-color);\n",
              "    }\n",
              "  }\n",
              "</style>\n",
              "\n",
              "  <script>\n",
              "    async function quickchart(key) {\n",
              "      const quickchartButtonEl =\n",
              "        document.querySelector('#' + key + ' button');\n",
              "      quickchartButtonEl.disabled = true;  // To prevent multiple clicks.\n",
              "      quickchartButtonEl.classList.add('colab-df-spinner');\n",
              "      try {\n",
              "        const charts = await google.colab.kernel.invokeFunction(\n",
              "            'suggestCharts', [key], {});\n",
              "      } catch (error) {\n",
              "        console.error('Error during call to suggestCharts:', error);\n",
              "      }\n",
              "      quickchartButtonEl.classList.remove('colab-df-spinner');\n",
              "      quickchartButtonEl.classList.add('colab-df-quickchart-complete');\n",
              "    }\n",
              "    (() => {\n",
              "      let quickchartButtonEl =\n",
              "        document.querySelector('#df-aec6ddd1-a3b4-4733-949c-e3556e49617b button');\n",
              "      quickchartButtonEl.style.display =\n",
              "        google.colab.kernel.accessAllowed ? 'block' : 'none';\n",
              "    })();\n",
              "  </script>\n",
              "</div>\n",
              "    </div>\n",
              "  </div>\n"
            ],
            "text/plain": [
              "    LATITUDE  LONGITUDE  CLASS TYPE  \\\n",
              "0  40.667202 -73.866500           0   \n",
              "1  40.868160 -73.831480           1   \n",
              "2  40.751440 -73.973970           0   \n",
              "3  40.675884 -73.755770           0   \n",
              "4  40.872620 -73.904686           1   \n",
              "\n",
              "   CONTRIBUTING FACTOR VEHICLE 1_Backing Unsafely  \\\n",
              "0                                               0   \n",
              "1                                               0   \n",
              "2                                               0   \n",
              "3                                               0   \n",
              "4                                               0   \n",
              "\n",
              "   CONTRIBUTING FACTOR VEHICLE 1_Driver Inattention/Distraction  \\\n",
              "0                                                  0              \n",
              "1                                                  0              \n",
              "2                                                  0              \n",
              "3                                                  0              \n",
              "4                                                  0              \n",
              "\n",
              "   CONTRIBUTING FACTOR VEHICLE 1_Failure to Yield Right-of-Way  \\\n",
              "0                                                  0             \n",
              "1                                                  0             \n",
              "2                                                  0             \n",
              "3                                                  0             \n",
              "4                                                  0             \n",
              "\n",
              "   CONTRIBUTING FACTOR VEHICLE 1_Fatigued/Drowsy  \\\n",
              "0                                              0   \n",
              "1                                              0   \n",
              "2                                              0   \n",
              "3                                              0   \n",
              "4                                              0   \n",
              "\n",
              "   CONTRIBUTING FACTOR VEHICLE 1_Following Too Closely  \\\n",
              "0                                                  0     \n",
              "1                                                  0     \n",
              "2                                                  0     \n",
              "3                                                  0     \n",
              "4                                                  0     \n",
              "\n",
              "   CONTRIBUTING FACTOR VEHICLE 1_Other Vehicular  \\\n",
              "0                                              0   \n",
              "1                                              0   \n",
              "2                                              0   \n",
              "3                                              0   \n",
              "4                                              0   \n",
              "\n",
              "   CONTRIBUTING FACTOR VEHICLE 1_Passing Too Closely  ...  \\\n",
              "0                                                  0  ...   \n",
              "1                                                  0  ...   \n",
              "2                                                  1  ...   \n",
              "3                                                  0  ...   \n",
              "4                                                  0  ...   \n",
              "\n",
              "   VEHICLE TYPE CODE 5_Sedan  \\\n",
              "0                          0   \n",
              "1                          0   \n",
              "2                          0   \n",
              "3                          0   \n",
              "4                          0   \n",
              "\n",
              "   VEHICLE TYPE CODE 5_Station Wagon/Sport Utility Vehicle  \\\n",
              "0                                                  0         \n",
              "1                                                  0         \n",
              "2                                                  0         \n",
              "3                                                  0         \n",
              "4                                                  0         \n",
              "\n",
              "   VEHICLE TYPE CODE 5_Taxi  VEHICLE TYPE CODE 5_UNKNOWN  \\\n",
              "0                         0                            0   \n",
              "1                         0                            0   \n",
              "2                         0                            0   \n",
              "3                         0                            0   \n",
              "4                         0                            0   \n",
              "\n",
              "   VEHICLE TYPE CODE 5_VAN  YEAR  MONTH  DAY  HOUR  MINUTE  \n",
              "0                        0  2021      9   11     9      35  \n",
              "1                        0  2021     12   14     8      17  \n",
              "2                        0  2021     12   14    14      58  \n",
              "3                        0  2021     12   14    16      50  \n",
              "4                        0  2021     12   11    19      43  \n",
              "\n",
              "[5 rows x 107 columns]"
            ]
          },
          "execution_count": 3,
          "metadata": {},
          "output_type": "execute_result"
        }
      ],
      "source": [
        "df.head()"
      ]
    },
    {
      "cell_type": "code",
      "execution_count": null,
      "metadata": {
        "colab": {
          "base_uri": "https://localhost:8080/"
        },
        "id": "tQ9N-2nCVwwY",
        "outputId": "f72593c4-9ef1-4216-f107-44ae08164164"
      },
      "outputs": [
        {
          "name": "stdout",
          "output_type": "stream",
          "text": [
            "<class 'pandas.core.frame.DataFrame'>\n",
            "RangeIndex: 1057417 entries, 0 to 1057416\n",
            "Columns: 107 entries, LATITUDE to MINUTE\n",
            "dtypes: float64(2), int64(105)\n",
            "memory usage: 863.2 MB\n"
          ]
        }
      ],
      "source": [
        "df.info()"
      ]
    },
    {
      "cell_type": "code",
      "execution_count": null,
      "metadata": {
        "colab": {
          "base_uri": "https://localhost:8080/"
        },
        "id": "pwU4J8MKYXhM",
        "outputId": "72a3bd34-8dc5-4f9f-9395-0fb57e88f123"
      },
      "outputs": [
        {
          "data": {
            "text/plain": [
              "LATITUDE                                                        0\n",
              "LONGITUDE                                                       0\n",
              "CLASS TYPE                                                      0\n",
              "CONTRIBUTING FACTOR VEHICLE 1_Backing Unsafely                  0\n",
              "CONTRIBUTING FACTOR VEHICLE 1_Driver Inattention/Distraction    0\n",
              "                                                               ..\n",
              "YEAR                                                            0\n",
              "MONTH                                                           0\n",
              "DAY                                                             0\n",
              "HOUR                                                            0\n",
              "MINUTE                                                          0\n",
              "Length: 107, dtype: int64"
            ]
          },
          "execution_count": 5,
          "metadata": {},
          "output_type": "execute_result"
        }
      ],
      "source": [
        "df.isna().sum()"
      ]
    },
    {
      "cell_type": "code",
      "execution_count": 3,
      "metadata": {
        "colab": {
          "base_uri": "https://localhost:8080/"
        },
        "id": "GN_vshwwZIEE",
        "outputId": "0dd8d21f-f27b-4355-da6e-2084bcffddb2"
      },
      "outputs": [
        {
          "output_type": "execute_result",
          "data": {
            "text/plain": [
              "CLASS TYPE\n",
              "0    824193\n",
              "1    231289\n",
              "2      1030\n",
              "3       905\n",
              "Name: count, dtype: int64"
            ]
          },
          "metadata": {},
          "execution_count": 3
        }
      ],
      "source": [
        "df['CLASS TYPE'].value_counts()"
      ]
    },
    {
      "cell_type": "markdown",
      "metadata": {
        "id": "UK5wba2fcbub"
      },
      "source": [
        "Due to the class imbalance we have to reconstruct the classes."
      ]
    },
    {
      "cell_type": "code",
      "execution_count": 4,
      "metadata": {
        "id": "YjaysXKYbbNN"
      },
      "outputs": [],
      "source": [
        "df['CLASS TYPE'] = df['CLASS TYPE'].replace({2: 1, 3: 1})"
      ]
    },
    {
      "cell_type": "code",
      "execution_count": 5,
      "metadata": {
        "colab": {
          "base_uri": "https://localhost:8080/"
        },
        "id": "lDOhlvBQbpfN",
        "outputId": "9b2fc02e-9727-418c-cfb0-d9f5aa5d11fd"
      },
      "outputs": [
        {
          "output_type": "execute_result",
          "data": {
            "text/plain": [
              "CLASS TYPE\n",
              "0    824193\n",
              "1    233224\n",
              "Name: count, dtype: int64"
            ]
          },
          "metadata": {},
          "execution_count": 5
        }
      ],
      "source": [
        "df['CLASS TYPE'].value_counts()"
      ]
    },
    {
      "cell_type": "code",
      "execution_count": 6,
      "metadata": {
        "id": "BYcvy-4tVwzG"
      },
      "outputs": [],
      "source": [
        "X = df.drop('CLASS TYPE', axis=1)\n",
        "y = df['CLASS TYPE']\n",
        "X_train, X_test, y_train, y_test = train_test_split(X, y, random_state=42)"
      ]
    },
    {
      "cell_type": "code",
      "execution_count": 7,
      "metadata": {
        "id": "Odrb16WLVw2L"
      },
      "outputs": [],
      "source": [
        "scaler = StandardScaler()\n",
        "X_train_std = scaler.fit_transform(X_train)\n",
        "X_test_std = scaler.transform(X_test)"
      ]
    },
    {
      "cell_type": "code",
      "execution_count": null,
      "metadata": {
        "id": "GdHZqtGQVw48"
      },
      "outputs": [],
      "source": [
        "lr= LogisticRegression()"
      ]
    },
    {
      "cell_type": "code",
      "execution_count": null,
      "metadata": {
        "id": "OCZ_rYljVw7q"
      },
      "outputs": [],
      "source": [
        "lr.fit(X_train_std, y_train)\n",
        "y_pred = lr.predict(X_test_std)"
      ]
    },
    {
      "cell_type": "code",
      "execution_count": null,
      "metadata": {
        "colab": {
          "base_uri": "https://localhost:8080/"
        },
        "id": "1_gD3kUeeMMY",
        "outputId": "c9d7b080-c37c-4132-9a8f-9e5ad85f0514"
      },
      "outputs": [
        {
          "name": "stdout",
          "output_type": "stream",
          "text": [
            "Accuracy: 0.8152522176618562\n",
            "Confusion Matrix:\n",
            " [[199735   6449]\n",
            " [ 42390  15781]]\n",
            "Classification Report:\n",
            "               precision    recall  f1-score   support\n",
            "\n",
            "           0       0.82      0.97      0.89    206184\n",
            "           1       0.71      0.27      0.39     58171\n",
            "\n",
            "    accuracy                           0.82    264355\n",
            "   macro avg       0.77      0.62      0.64    264355\n",
            "weighted avg       0.80      0.82      0.78    264355\n",
            "\n"
          ]
        }
      ],
      "source": [
        "accuracy = accuracy_score(y_test, y_pred)\n",
        "conf_matrix = confusion_matrix(y_test, y_pred)\n",
        "report = classification_report(y_test, y_pred)\n",
        "\n",
        "print(\"Accuracy:\", accuracy)\n",
        "print(\"Confusion Matrix:\\n\", conf_matrix)\n",
        "print(\"Classification Report:\\n\", report)"
      ]
    },
    {
      "cell_type": "code",
      "execution_count": null,
      "metadata": {
        "id": "KsrTXab8VxB7"
      },
      "outputs": [],
      "source": [
        "rdf = RandomForestClassifier()\n",
        "\n",
        "rdf.fit(X_train_std,y_train)\n",
        "\n",
        "y_pred_rdf=rdf.predict(X_test_std)"
      ]
    },
    {
      "cell_type": "code",
      "execution_count": null,
      "metadata": {
        "colab": {
          "base_uri": "https://localhost:8080/"
        },
        "id": "DNJaRxJ9fcFn",
        "outputId": "08667c4f-54a6-4ba2-d573-fa78c229128b"
      },
      "outputs": [
        {
          "name": "stdout",
          "output_type": "stream",
          "text": [
            "Accuracy: 0.8234873560174765\n",
            "Confusion Matrix:\n",
            " [[198135   8049]\n",
            " [ 38613  19558]]\n",
            "Classification Report:\n",
            "               precision    recall  f1-score   support\n",
            "\n",
            "           0       0.84      0.96      0.89    206184\n",
            "           1       0.71      0.34      0.46     58171\n",
            "\n",
            "    accuracy                           0.82    264355\n",
            "   macro avg       0.77      0.65      0.68    264355\n",
            "weighted avg       0.81      0.82      0.80    264355\n",
            "\n"
          ]
        }
      ],
      "source": [
        "accuracy = accuracy_score(y_test, y_pred_rdf)\n",
        "conf_matrix = confusion_matrix(y_test, y_pred_rdf)\n",
        "report = classification_report(y_test, y_pred_rdf)\n",
        "\n",
        "print(\"Accuracy:\", accuracy)\n",
        "print(\"Confusion Matrix:\\n\", conf_matrix)\n",
        "print(\"Classification Report:\\n\", report)"
      ]
    },
    {
      "cell_type": "code",
      "execution_count": null,
      "metadata": {
        "id": "GmG4nZ7Ng7UG"
      },
      "outputs": [],
      "source": [
        "knn = KNeighborsClassifier(n_neighbors=2)\n",
        "knn.fit(X_train_std, y_train)\n",
        "y_pred_knn = knn.predict(X_test_std)"
      ]
    },
    {
      "cell_type": "code",
      "execution_count": null,
      "metadata": {
        "id": "oXw_iqEShGX8"
      },
      "outputs": [],
      "source": [
        "accuracy = accuracy_score(y_test, y_pred_knn)\n",
        "conf_matrix = confusion_matrix(y_test, y_pred_knn)\n",
        "report = classification_report(y_test, y_pred_knn)\n",
        "\n",
        "print(\"Accuracy:\", accuracy)\n",
        "print(\"Confusion Matrix:\\n\", conf_matrix)\n",
        "print(\"Classification Report:\\n\", report)"
      ]
    },
    {
      "cell_type": "code",
      "execution_count": 8,
      "metadata": {
        "id": "9Prf7CQHhGbT",
        "colab": {
          "base_uri": "https://localhost:8080/"
        },
        "outputId": "ba31084c-0faf-4899-b7f4-aeec25e19d2c"
      },
      "outputs": [
        {
          "output_type": "stream",
          "name": "stdout",
          "text": [
            "              precision    recall  f1-score   support\n",
            "\n",
            "           0       0.84      0.94      0.89    206184\n",
            "           1       0.64      0.38      0.48     58171\n",
            "\n",
            "    accuracy                           0.82    264355\n",
            "   macro avg       0.74      0.66      0.68    264355\n",
            "weighted avg       0.80      0.82      0.80    264355\n",
            "\n"
          ]
        }
      ],
      "source": [
        "smote = SMOTE(random_state=42)\n",
        "X_rsmpl, y_rsmpl = smote.fit_resample(X_train, y_train)\n",
        "\n",
        "classifier = RandomForestClassifier(random_state=42)\n",
        "classifier.fit(X_rsmpl, y_rsmpl)\n",
        "\n",
        "predictions = classifier.predict(X_test)\n",
        "print(classification_report(y_test, predictions))"
      ]
    },
    {
      "cell_type": "code",
      "execution_count": 9,
      "metadata": {
        "id": "4LCo_5AEhGe4",
        "colab": {
          "base_uri": "https://localhost:8080/"
        },
        "outputId": "22f281ea-7cca-48fc-c64a-787f29219901"
      },
      "outputs": [
        {
          "output_type": "stream",
          "name": "stderr",
          "text": [
            "/usr/local/lib/python3.10/dist-packages/sklearn/linear_model/_logistic.py:458: ConvergenceWarning: lbfgs failed to converge (status=1):\n",
            "STOP: TOTAL NO. of ITERATIONS REACHED LIMIT.\n",
            "\n",
            "Increase the number of iterations (max_iter) or scale the data as shown in:\n",
            "    https://scikit-learn.org/stable/modules/preprocessing.html\n",
            "Please also refer to the documentation for alternative solver options:\n",
            "    https://scikit-learn.org/stable/modules/linear_model.html#logistic-regression\n",
            "  n_iter_i = _check_optimize_result(\n"
          ]
        },
        {
          "output_type": "stream",
          "name": "stdout",
          "text": [
            "              precision    recall  f1-score   support\n",
            "\n",
            "           0       0.85      0.77      0.81    206184\n",
            "           1       0.38      0.50      0.43     58171\n",
            "\n",
            "    accuracy                           0.71    264355\n",
            "   macro avg       0.61      0.64      0.62    264355\n",
            "weighted avg       0.74      0.71      0.72    264355\n",
            "\n"
          ]
        }
      ],
      "source": [
        "classifier2=LogisticRegression(random_state=42)\n",
        "classifier2.fit(X_rsmpl, y_rsmpl)\n",
        "predictions2 = classifier2.predict(X_test)\n",
        "print(classification_report(y_test, predictions2))"
      ]
    },
    {
      "cell_type": "code",
      "execution_count": null,
      "metadata": {
        "id": "MRCemVUmhGic"
      },
      "outputs": [],
      "source": []
    },
    {
      "cell_type": "code",
      "execution_count": null,
      "metadata": {
        "id": "9d6CALd0gt_G"
      },
      "outputs": [],
      "source": []
    }
  ],
  "metadata": {
    "colab": {
      "provenance": []
    },
    "kernelspec": {
      "display_name": "Python 3",
      "name": "python3"
    },
    "language_info": {
      "name": "python"
    }
  },
  "nbformat": 4,
  "nbformat_minor": 0
}