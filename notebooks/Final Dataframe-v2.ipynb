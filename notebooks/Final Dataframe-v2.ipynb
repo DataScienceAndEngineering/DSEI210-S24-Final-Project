{
 "cells": [
  {
   "cell_type": "markdown",
   "id": "928e1157-b4c9-49ba-a678-9d3a375b6356",
   "metadata": {},
   "source": [
    "### Columns to drop:\n",
    "1. BOROUGH, ZIP CODE, LOCATION, ON STREET NAME, CROSS STREET NAME, OFF STREET NAME: these columns are redundant as we have geographical coordinates latitude & longitude\n",
    "2. NUMBER OF PEDESTRIANS INJURED, NUMBER OF PEDESTRIANS KILLED, NUMBER OF CYCLIST INJURED, NUMBER OF CYCLIST KILLED, NUMBER OF MOTORIST INJURED, NUMBER OF MOTORIST KILLED: these columns are redundant as we have total # of persons injured/killed\n",
    "3. CONTRIBUTING FACTOR VEHICLE 2 to 5: Majority of data is unspecified\n",
    "4. COLLISION ID: No useful information\n",
    "\n",
    "### Columns to Alter:\n",
    "1. CONTRIBUTING FACTOR VEHICLE 1*-5*: Reduce class size to top 10 factors? \n",
    "<br>\n",
    "ISSUES:    Unspecified and Driver Distraction is about 42% & 24% respectively, with other values about 7% or less.\n",
    "<br>\n",
    "SOLUTION:  Drop columns.\n",
    "<br>\n",
    "2. VEHICLE TYPE CODE 1-5: Reduce class size to top 10 factors? Reduce columns into car count?\n",
    "<br>\n",
    "ISSUES:    Sedan & Station Wagon are over 60% of values, while others make less than 10% Factor 1, while also making about 70% for Factor 2.\n",
    "<br>\n",
    "SOLUTION:  Columns to be dropped, new column w/ total cars associated with accident created.\n",
    "<br>\n",
    "3. Correct missing values in # of persons injured/killed\n",
    "4. Drop 0 values in Total Cars column\n",
    "5. Finally, drop NaN values\n",
    "6. Verify column dtype\n",
    "\n",
    "### Column to Add:\n",
    "1. Create target column with 5 classes"
   ]
  },
  {
   "cell_type": "code",
   "execution_count": 1,
   "id": "8bd7018f",
   "metadata": {},
   "outputs": [],
   "source": [
    "#!pip install geopy"
   ]
  },
  {
   "cell_type": "code",
   "execution_count": 2,
   "id": "a5d24764-c1e0-43c4-ac80-0b17c8c9b3e4",
   "metadata": {},
   "outputs": [],
   "source": [
    "from pathlib import Path\n",
    "import pandas as pd\n",
    "import numpy as np\n",
    "#from geopy.geocoders import Nominatim\n",
    "import datetime"
   ]
  },
  {
   "cell_type": "code",
   "execution_count": 3,
   "id": "d6dc8a37-bebe-449f-af69-d761ff85d560",
   "metadata": {},
   "outputs": [
    {
     "name": "stderr",
     "output_type": "stream",
     "text": [
      "D:\\Anaconda\\lib\\site-packages\\IPython\\core\\interactiveshell.py:3165: DtypeWarning: Columns (3) have mixed types.Specify dtype option on import or set low_memory=False.\n",
      "  has_raised = await self.run_ast_nodes(code_ast.body, cell_name,\n"
     ]
    }
   ],
   "source": [
    "# Define the path to the folder\n",
    "folder_path = Path(\"C:/Users/crazy/OneDrive - The City College of New York/DSE I2100 - Applied Machine Learning and Data Mining/Project\")\n",
    "csv_file = folder_path.glob(\"*.csv\").__next__()\n",
    "\n",
    "# Load CSV file into DataFrame\n",
    "df = pd.read_csv(csv_file)\n"
   ]
  },
  {
   "cell_type": "code",
   "execution_count": 4,
   "id": "b509c73f-fa59-49a8-8e9b-909cb0850901",
   "metadata": {},
   "outputs": [
    {
     "name": "stdout",
     "output_type": "stream",
     "text": [
      "<class 'pandas.core.frame.DataFrame'>\n",
      "RangeIndex: 2070069 entries, 0 to 2070068\n",
      "Data columns (total 29 columns):\n",
      " #   Column                         Non-Null Count    Dtype  \n",
      "---  ------                         --------------    -----  \n",
      " 0   CRASH DATE                     2070069 non-null  object \n",
      " 1   CRASH TIME                     2070069 non-null  object \n",
      " 2   BOROUGH                        1426009 non-null  object \n",
      " 3   ZIP CODE                       1425759 non-null  object \n",
      " 4   LATITUDE                       1836747 non-null  float64\n",
      " 5   LONGITUDE                      1836747 non-null  float64\n",
      " 6   LOCATION                       1836747 non-null  object \n",
      " 7   ON STREET NAME                 1631008 non-null  object \n",
      " 8   CROSS STREET NAME              1288388 non-null  object \n",
      " 9   OFF STREET NAME                346688 non-null   object \n",
      " 10  NUMBER OF PERSONS INJURED      2070051 non-null  float64\n",
      " 11  NUMBER OF PERSONS KILLED       2070038 non-null  float64\n",
      " 12  NUMBER OF PEDESTRIANS INJURED  2070069 non-null  int64  \n",
      " 13  NUMBER OF PEDESTRIANS KILLED   2070069 non-null  int64  \n",
      " 14  NUMBER OF CYCLIST INJURED      2070069 non-null  int64  \n",
      " 15  NUMBER OF CYCLIST KILLED       2070069 non-null  int64  \n",
      " 16  NUMBER OF MOTORIST INJURED     2070069 non-null  int64  \n",
      " 17  NUMBER OF MOTORIST KILLED      2070069 non-null  int64  \n",
      " 18  CONTRIBUTING FACTOR VEHICLE 1  2063305 non-null  object \n",
      " 19  CONTRIBUTING FACTOR VEHICLE 2  1749628 non-null  object \n",
      " 20  CONTRIBUTING FACTOR VEHICLE 3  147794 non-null   object \n",
      " 21  CONTRIBUTING FACTOR VEHICLE 4  33347 non-null    object \n",
      " 22  CONTRIBUTING FACTOR VEHICLE 5  9024 non-null     object \n",
      " 23  COLLISION_ID                   2070069 non-null  int64  \n",
      " 24  VEHICLE TYPE CODE 1            2056468 non-null  object \n",
      " 25  VEHICLE TYPE CODE 2            1675211 non-null  object \n",
      " 26  VEHICLE TYPE CODE 3            142465 non-null   object \n",
      " 27  VEHICLE TYPE CODE 4            32194 non-null    object \n",
      " 28  VEHICLE TYPE CODE 5            8750 non-null     object \n",
      "dtypes: float64(4), int64(7), object(18)\n",
      "memory usage: 458.0+ MB\n"
     ]
    }
   ],
   "source": [
    "df.info(show_counts=True)"
   ]
  },
  {
   "cell_type": "markdown",
   "id": "49d69afa-3f04-42c2-a77b-7eaa1ca0bf6a",
   "metadata": {},
   "source": [
    "### Correcting values in # of persons injured/killed:"
   ]
  },
  {
   "cell_type": "code",
   "execution_count": 5,
   "id": "16f54ddf-f2d7-46ec-8a5d-0dfb68fb1d3f",
   "metadata": {},
   "outputs": [],
   "source": [
    "# Sum the injury-related columns\n",
    "injury_columns = ['NUMBER OF PEDESTRIANS INJURED', 'NUMBER OF CYCLIST INJURED', 'NUMBER OF MOTORIST INJURED']\n",
    "df['NUMBER OF PERSONS INJURED'] = df[injury_columns].sum(axis=1)\n",
    "\n",
    "# Sum the killed-related columns\n",
    "killed_columns = ['NUMBER OF PEDESTRIANS KILLED', 'NUMBER OF CYCLIST KILLED', 'NUMBER OF MOTORIST KILLED']\n",
    "df['NUMBER OF PERSONS KILLED'] = df[killed_columns].sum(axis=1)"
   ]
  },
  {
   "cell_type": "markdown",
   "id": "6245c75c-4c93-4a91-9860-1f356e8bfd31",
   "metadata": {},
   "source": [
    "### The Following code replaces row value coordinates not in NYC with NaN for 'LATITUDE' & 'LONGITUDE' columns:"
   ]
  },
  {
   "cell_type": "code",
   "execution_count": 6,
   "id": "963c6f08-a312-48ef-bfbf-1e463a928a27",
   "metadata": {},
   "outputs": [],
   "source": [
    "# Approximate coordinates for New York City:\n",
    "# Maximum Latitude: 40.9176 (Northernmost point of the Bronx)\n",
    "# Minimum Latitude: 40.4774 (Southernmost point of Staten Island)\n",
    "# Maximum Longitude: -73.7004 (Easternmost point of Queens)\n",
    "# Minimum Longitude: -74.2591 (Westernmost point of Staten Island)\n",
    "\n",
    "# Define the maximum and minimum values for latitude and longitude\n",
    "max_latitude = 40.9176\n",
    "min_latitude = 40.4774\n",
    "max_longitude = -73.7004\n",
    "min_longitude = -74.2591\n",
    "\n",
    "# Filter the DataFrame based on the conditions for latitude and longitude\n",
    "invalid_latitudes = (df['LATITUDE'] > max_latitude) | (df['LATITUDE'] < min_latitude)\n",
    "invalid_longitudes = (df['LONGITUDE'] > max_longitude) | (df['LONGITUDE'] < min_longitude)\n",
    "\n",
    "# Replace the values with NaN where the conditions are not met\n",
    "df.loc[invalid_latitudes, 'LATITUDE'] = np.nan\n",
    "df.loc[invalid_longitudes, 'LONGITUDE'] = np.nan"
   ]
  },
  {
   "cell_type": "markdown",
   "id": "c03acf9f-5f06-46a0-b56c-30a24ef35ed2",
   "metadata": {},
   "source": [
    "### Creating target column \"CLASS TYPE\":"
   ]
  },
  {
   "cell_type": "code",
   "execution_count": 7,
   "id": "70ea761f-94df-4ad8-8065-0f326ca2b311",
   "metadata": {},
   "outputs": [],
   "source": [
    "def determine_class_type(row):\n",
    "    if row['NUMBER OF PERSONS INJURED'] == 0 and row['NUMBER OF PERSONS KILLED'] == 0:\n",
    "        return 'Class 0'\n",
    "    elif 1 <= row['NUMBER OF PERSONS INJURED'] <= 5 and row['NUMBER OF PERSONS KILLED'] == 0:\n",
    "        return 'Class 1'\n",
    "    elif row['NUMBER OF PERSONS INJURED'] > 5 and row['NUMBER OF PERSONS KILLED'] == 0:\n",
    "        return 'Class 2'\n",
    "    elif 1 <= row['NUMBER OF PERSONS KILLED'] <= 3:\n",
    "        return 'Class 3'\n",
    "    elif row['NUMBER OF PERSONS KILLED'] > 3:\n",
    "        return 'Class 4'\n",
    "\n",
    "df['CLASS TYPE'] = df.apply(determine_class_type, axis=1)\n",
    "df['CLASS TYPE'] = df['CLASS TYPE'].astype('category')"
   ]
  },
  {
   "cell_type": "markdown",
   "id": "8b1d1212-4eb4-4245-8fd6-9621e6fd27a2",
   "metadata": {},
   "source": [
    "### Dropping redundant/unnecessary columns:"
   ]
  },
  {
   "cell_type": "code",
   "execution_count": 8,
   "id": "9f130566-8a70-4011-a608-efdb3b13007a",
   "metadata": {},
   "outputs": [],
   "source": [
    "df.drop(columns = ['BOROUGH', 'ZIP CODE', 'LOCATION', 'ON STREET NAME','CROSS STREET NAME','OFF STREET NAME', \n",
    "                   'NUMBER OF PERSONS INJURED', 'NUMBER OF PERSONS KILLED', 'NUMBER OF PEDESTRIANS INJURED', \n",
    "                   'NUMBER OF PEDESTRIANS KILLED', 'NUMBER OF CYCLIST INJURED', 'NUMBER OF CYCLIST KILLED',\n",
    "                   'NUMBER OF MOTORIST INJURED','NUMBER OF MOTORIST KILLED', 'COLLISION_ID'], axis=1, inplace=True)"
   ]
  },
  {
   "cell_type": "markdown",
   "id": "78795259-03b8-4327-9ff4-e8801183ed2e",
   "metadata": {},
   "source": [
    "### Removing/Replacing NaN values for Contributing Factor & Vehicle Type columns:"
   ]
  },
  {
   "cell_type": "code",
   "execution_count": 9,
   "id": "0d943b01-00b9-4c88-b19a-5e952289fa5f",
   "metadata": {},
   "outputs": [],
   "source": [
    "# Drop NaN values from subset columns\n",
    "df = df.dropna(subset=['CONTRIBUTING FACTOR VEHICLE 1', 'VEHICLE TYPE CODE 1'])\n",
    "\n",
    "# List of column pairs\n",
    "column_pairs = [\n",
    "    ('CONTRIBUTING FACTOR VEHICLE 2', 'VEHICLE TYPE CODE 2'),\n",
    "    ('CONTRIBUTING FACTOR VEHICLE 3', 'VEHICLE TYPE CODE 3'),\n",
    "    ('CONTRIBUTING FACTOR VEHICLE 4', 'VEHICLE TYPE CODE 4'),\n",
    "    ('CONTRIBUTING FACTOR VEHICLE 5', 'VEHICLE TYPE CODE 5')\n",
    "]\n",
    "\n",
    "# Iterate over each column pair\n",
    "for factor_column, type_column in column_pairs:\n",
    "    # Check if factor_column has a value and type_column is NaN\n",
    "    mask = (pd.notna(df[factor_column])) & (pd.isna(df[type_column]))\n",
    "    # Check if type_column has a value and factor_column is NaN\n",
    "    mask |= (pd.notna(df[type_column])) & (pd.isna(df[factor_column]))\n",
    "    # Drop rows where either condition is met\n",
    "    df = df[~mask]\n",
    "\n",
    "# Reset the index after dropping rows\n",
    "df.reset_index(drop=True, inplace=True)\n",
    "\n",
    "# Fill NaN values in contributing factor vehicle columns with 'No vehicle'\n",
    "for factor_column, type_column in column_pairs:\n",
    "    df[factor_column].fillna('No factor', inplace=True)\n",
    "    df[type_column].fillna('No vehicle', inplace=True)"
   ]
  },
  {
   "cell_type": "markdown",
   "id": "cd31b521-a66a-4311-b572-4be9f730cecc",
   "metadata": {},
   "source": [
    "### Dropping rows with NaN values:"
   ]
  },
  {
   "cell_type": "code",
   "execution_count": 10,
   "id": "f87aa1be-21b9-4ec0-979e-5b595f1e1272",
   "metadata": {},
   "outputs": [],
   "source": [
    "df = df.dropna()"
   ]
  },
  {
   "cell_type": "markdown",
   "id": "c9cd24fa-49fe-4112-aab5-4cf35e658af3",
   "metadata": {},
   "source": [
    "### Keeping only top 10 values in Contributing Factor & Vehicle Type columns:"
   ]
  },
  {
   "cell_type": "code",
   "execution_count": 11,
   "id": "428d1fc8-1ae5-4c70-a8f2-5da1f5b88edb",
   "metadata": {},
   "outputs": [],
   "source": [
    "# List of columns to iterate through\n",
    "columns_to_iterate = [\n",
    "    'CONTRIBUTING FACTOR VEHICLE 1', 'CONTRIBUTING FACTOR VEHICLE 2', 'CONTRIBUTING FACTOR VEHICLE 3', 'CONTRIBUTING FACTOR VEHICLE 4', 'CONTRIBUTING FACTOR VEHICLE 5',\n",
    "    'VEHICLE TYPE CODE 1', 'VEHICLE TYPE CODE 2', 'VEHICLE TYPE CODE 3','VEHICLE TYPE CODE 4', 'VEHICLE TYPE CODE 5'\n",
    "]\n",
    "\n",
    "# Iterate over each column\n",
    "for column in columns_to_iterate:\n",
    "    # Get the top 10 most frequent values in the column\n",
    "    top_10_values = df[column].value_counts().head(10).index.tolist()\n",
    "    # Replace values not in top 10 with a placeholder value\n",
    "    df[column] = df[column].apply(lambda x: x if x in top_10_values else 'Other')\n",
    "\n",
    "    # Drop rows where any of the specified columns have 'Other' value\n",
    "    df = df[df[column] != 'Other']\n",
    "    \n",
    "    # Reset the index after dropping rows\n",
    "    df.reset_index(drop=True, inplace=True)\n",
    "    "
   ]
  },
  {
   "cell_type": "markdown",
   "id": "fb469b69-a354-4376-b361-56487f7b06b3",
   "metadata": {},
   "source": [
    "### Verifying column dtype:"
   ]
  },
  {
   "cell_type": "code",
   "execution_count": 12,
   "id": "3a987136-a1d3-4aa7-9a3c-f43743fd34ce",
   "metadata": {},
   "outputs": [],
   "source": [
    "df['CRASH DATE'] = pd.to_datetime(df['CRASH DATE'])\n",
    "df['CRASH TIME'] = pd.to_datetime(df['CRASH TIME'], format='%H:%M').dt.time\n",
    "df['LATITUDE'] = df['LATITUDE'].astype('float64')\n",
    "df['LONGITUDE'] = df['LONGITUDE'].astype('float64')\n",
    "df['CONTRIBUTING FACTOR VEHICLE 1'] = df['CONTRIBUTING FACTOR VEHICLE 1'].astype('object')\n",
    "df['CONTRIBUTING FACTOR VEHICLE 2'] = df['CONTRIBUTING FACTOR VEHICLE 2'].astype('object')\n",
    "df['CONTRIBUTING FACTOR VEHICLE 3'] = df['CONTRIBUTING FACTOR VEHICLE 3'].astype('object')\n",
    "df['CONTRIBUTING FACTOR VEHICLE 4'] = df['CONTRIBUTING FACTOR VEHICLE 4'].astype('object')\n",
    "df['CONTRIBUTING FACTOR VEHICLE 5'] = df['CONTRIBUTING FACTOR VEHICLE 5'].astype('object')\n",
    "df['VEHICLE TYPE CODE 1'] = df['VEHICLE TYPE CODE 1'].astype('object')\n",
    "df['VEHICLE TYPE CODE 2'] = df['VEHICLE TYPE CODE 2'].astype('object')\n",
    "df['VEHICLE TYPE CODE 3'] = df['VEHICLE TYPE CODE 3'].astype('object')\n",
    "df['VEHICLE TYPE CODE 4'] = df['VEHICLE TYPE CODE 4'].astype('object')\n",
    "df['VEHICLE TYPE CODE 5'] = df['VEHICLE TYPE CODE 5'].astype('object')"
   ]
  },
  {
   "cell_type": "code",
   "execution_count": 13,
   "id": "843db777-a33b-44f3-9386-b20ad6ac6bd6",
   "metadata": {},
   "outputs": [
    {
     "name": "stdout",
     "output_type": "stream",
     "text": [
      "<class 'pandas.core.frame.DataFrame'>\n",
      "RangeIndex: 1057417 entries, 0 to 1057416\n",
      "Data columns (total 15 columns):\n",
      " #   Column                         Non-Null Count    Dtype         \n",
      "---  ------                         --------------    -----         \n",
      " 0   CRASH DATE                     1057417 non-null  datetime64[ns]\n",
      " 1   CRASH TIME                     1057417 non-null  object        \n",
      " 2   LATITUDE                       1057417 non-null  float64       \n",
      " 3   LONGITUDE                      1057417 non-null  float64       \n",
      " 4   CONTRIBUTING FACTOR VEHICLE 1  1057417 non-null  object        \n",
      " 5   CONTRIBUTING FACTOR VEHICLE 2  1057417 non-null  object        \n",
      " 6   CONTRIBUTING FACTOR VEHICLE 3  1057417 non-null  object        \n",
      " 7   CONTRIBUTING FACTOR VEHICLE 4  1057417 non-null  object        \n",
      " 8   CONTRIBUTING FACTOR VEHICLE 5  1057417 non-null  object        \n",
      " 9   VEHICLE TYPE CODE 1            1057417 non-null  object        \n",
      " 10  VEHICLE TYPE CODE 2            1057417 non-null  object        \n",
      " 11  VEHICLE TYPE CODE 3            1057417 non-null  object        \n",
      " 12  VEHICLE TYPE CODE 4            1057417 non-null  object        \n",
      " 13  VEHICLE TYPE CODE 5            1057417 non-null  object        \n",
      " 14  CLASS TYPE                     1057417 non-null  category      \n",
      "dtypes: category(1), datetime64[ns](1), float64(2), object(11)\n",
      "memory usage: 114.0+ MB\n"
     ]
    }
   ],
   "source": [
    "df.info(show_counts=True)"
   ]
  },
  {
   "cell_type": "code",
   "execution_count": 14,
   "id": "51be97ee-3c51-439d-a3ad-a56612fdf99c",
   "metadata": {},
   "outputs": [
    {
     "data": {
      "text/html": [
       "<div>\n",
       "<style scoped>\n",
       "    .dataframe tbody tr th:only-of-type {\n",
       "        vertical-align: middle;\n",
       "    }\n",
       "\n",
       "    .dataframe tbody tr th {\n",
       "        vertical-align: top;\n",
       "    }\n",
       "\n",
       "    .dataframe thead th {\n",
       "        text-align: right;\n",
       "    }\n",
       "</style>\n",
       "<table border=\"1\" class=\"dataframe\">\n",
       "  <thead>\n",
       "    <tr style=\"text-align: right;\">\n",
       "      <th></th>\n",
       "      <th>CRASH DATE</th>\n",
       "      <th>CRASH TIME</th>\n",
       "      <th>LATITUDE</th>\n",
       "      <th>LONGITUDE</th>\n",
       "      <th>CONTRIBUTING FACTOR VEHICLE 1</th>\n",
       "      <th>CONTRIBUTING FACTOR VEHICLE 2</th>\n",
       "      <th>CONTRIBUTING FACTOR VEHICLE 3</th>\n",
       "      <th>CONTRIBUTING FACTOR VEHICLE 4</th>\n",
       "      <th>CONTRIBUTING FACTOR VEHICLE 5</th>\n",
       "      <th>VEHICLE TYPE CODE 1</th>\n",
       "      <th>VEHICLE TYPE CODE 2</th>\n",
       "      <th>VEHICLE TYPE CODE 3</th>\n",
       "      <th>VEHICLE TYPE CODE 4</th>\n",
       "      <th>VEHICLE TYPE CODE 5</th>\n",
       "      <th>CLASS TYPE</th>\n",
       "    </tr>\n",
       "  </thead>\n",
       "  <tbody>\n",
       "    <tr>\n",
       "      <th>0</th>\n",
       "      <td>2021-09-11</td>\n",
       "      <td>09:35:00</td>\n",
       "      <td>40.667202</td>\n",
       "      <td>-73.866500</td>\n",
       "      <td>Unspecified</td>\n",
       "      <td>No factor</td>\n",
       "      <td>No factor</td>\n",
       "      <td>No factor</td>\n",
       "      <td>No factor</td>\n",
       "      <td>Sedan</td>\n",
       "      <td>No vehicle</td>\n",
       "      <td>No vehicle</td>\n",
       "      <td>No vehicle</td>\n",
       "      <td>No vehicle</td>\n",
       "      <td>Class 0</td>\n",
       "    </tr>\n",
       "    <tr>\n",
       "      <th>1</th>\n",
       "      <td>2021-12-14</td>\n",
       "      <td>08:17:00</td>\n",
       "      <td>40.868160</td>\n",
       "      <td>-73.831480</td>\n",
       "      <td>Unspecified</td>\n",
       "      <td>Unspecified</td>\n",
       "      <td>No factor</td>\n",
       "      <td>No factor</td>\n",
       "      <td>No factor</td>\n",
       "      <td>Sedan</td>\n",
       "      <td>Sedan</td>\n",
       "      <td>No vehicle</td>\n",
       "      <td>No vehicle</td>\n",
       "      <td>No vehicle</td>\n",
       "      <td>Class 1</td>\n",
       "    </tr>\n",
       "    <tr>\n",
       "      <th>2</th>\n",
       "      <td>2021-12-14</td>\n",
       "      <td>14:58:00</td>\n",
       "      <td>40.751440</td>\n",
       "      <td>-73.973970</td>\n",
       "      <td>Passing Too Closely</td>\n",
       "      <td>Unspecified</td>\n",
       "      <td>No factor</td>\n",
       "      <td>No factor</td>\n",
       "      <td>No factor</td>\n",
       "      <td>Sedan</td>\n",
       "      <td>Station Wagon/Sport Utility Vehicle</td>\n",
       "      <td>No vehicle</td>\n",
       "      <td>No vehicle</td>\n",
       "      <td>No vehicle</td>\n",
       "      <td>Class 0</td>\n",
       "    </tr>\n",
       "    <tr>\n",
       "      <th>3</th>\n",
       "      <td>2021-12-14</td>\n",
       "      <td>16:50:00</td>\n",
       "      <td>40.675884</td>\n",
       "      <td>-73.755770</td>\n",
       "      <td>Turning Improperly</td>\n",
       "      <td>Unspecified</td>\n",
       "      <td>No factor</td>\n",
       "      <td>No factor</td>\n",
       "      <td>No factor</td>\n",
       "      <td>Sedan</td>\n",
       "      <td>Station Wagon/Sport Utility Vehicle</td>\n",
       "      <td>No vehicle</td>\n",
       "      <td>No vehicle</td>\n",
       "      <td>No vehicle</td>\n",
       "      <td>Class 0</td>\n",
       "    </tr>\n",
       "    <tr>\n",
       "      <th>4</th>\n",
       "      <td>2021-12-11</td>\n",
       "      <td>19:43:00</td>\n",
       "      <td>40.872620</td>\n",
       "      <td>-73.904686</td>\n",
       "      <td>Unspecified</td>\n",
       "      <td>Unspecified</td>\n",
       "      <td>No factor</td>\n",
       "      <td>No factor</td>\n",
       "      <td>No factor</td>\n",
       "      <td>Station Wagon/Sport Utility Vehicle</td>\n",
       "      <td>Sedan</td>\n",
       "      <td>No vehicle</td>\n",
       "      <td>No vehicle</td>\n",
       "      <td>No vehicle</td>\n",
       "      <td>Class 1</td>\n",
       "    </tr>\n",
       "  </tbody>\n",
       "</table>\n",
       "</div>"
      ],
      "text/plain": [
       "  CRASH DATE CRASH TIME   LATITUDE  LONGITUDE CONTRIBUTING FACTOR VEHICLE 1  \\\n",
       "0 2021-09-11   09:35:00  40.667202 -73.866500                   Unspecified   \n",
       "1 2021-12-14   08:17:00  40.868160 -73.831480                   Unspecified   \n",
       "2 2021-12-14   14:58:00  40.751440 -73.973970           Passing Too Closely   \n",
       "3 2021-12-14   16:50:00  40.675884 -73.755770            Turning Improperly   \n",
       "4 2021-12-11   19:43:00  40.872620 -73.904686                   Unspecified   \n",
       "\n",
       "  CONTRIBUTING FACTOR VEHICLE 2 CONTRIBUTING FACTOR VEHICLE 3  \\\n",
       "0                     No factor                     No factor   \n",
       "1                   Unspecified                     No factor   \n",
       "2                   Unspecified                     No factor   \n",
       "3                   Unspecified                     No factor   \n",
       "4                   Unspecified                     No factor   \n",
       "\n",
       "  CONTRIBUTING FACTOR VEHICLE 4 CONTRIBUTING FACTOR VEHICLE 5  \\\n",
       "0                     No factor                     No factor   \n",
       "1                     No factor                     No factor   \n",
       "2                     No factor                     No factor   \n",
       "3                     No factor                     No factor   \n",
       "4                     No factor                     No factor   \n",
       "\n",
       "                   VEHICLE TYPE CODE 1                  VEHICLE TYPE CODE 2  \\\n",
       "0                                Sedan                           No vehicle   \n",
       "1                                Sedan                                Sedan   \n",
       "2                                Sedan  Station Wagon/Sport Utility Vehicle   \n",
       "3                                Sedan  Station Wagon/Sport Utility Vehicle   \n",
       "4  Station Wagon/Sport Utility Vehicle                                Sedan   \n",
       "\n",
       "  VEHICLE TYPE CODE 3 VEHICLE TYPE CODE 4 VEHICLE TYPE CODE 5 CLASS TYPE  \n",
       "0          No vehicle          No vehicle          No vehicle    Class 0  \n",
       "1          No vehicle          No vehicle          No vehicle    Class 1  \n",
       "2          No vehicle          No vehicle          No vehicle    Class 0  \n",
       "3          No vehicle          No vehicle          No vehicle    Class 0  \n",
       "4          No vehicle          No vehicle          No vehicle    Class 1  "
      ]
     },
     "execution_count": 14,
     "metadata": {},
     "output_type": "execute_result"
    }
   ],
   "source": [
    "df.head()"
   ]
  },
  {
   "cell_type": "markdown",
   "id": "5bf148f2-1706-4363-85aa-39c0a7b63b4a",
   "metadata": {},
   "source": [
    "### Converting new dataframe to csv file:"
   ]
  },
  {
   "cell_type": "code",
   "execution_count": 15,
   "id": "6c2610c8-4a00-4a01-8846-e48efaf7b468",
   "metadata": {},
   "outputs": [],
   "source": [
    "# Save the DataFrame to a CSV file\n",
    "df.to_csv('Processed_Data_v2.csv', index=False)"
   ]
  }
 ],
 "metadata": {
  "kernelspec": {
   "display_name": "Python 3",
   "language": "python",
   "name": "python3"
  },
  "language_info": {
   "codemirror_mode": {
    "name": "ipython",
    "version": 3
   },
   "file_extension": ".py",
   "mimetype": "text/x-python",
   "name": "python",
   "nbconvert_exporter": "python",
   "pygments_lexer": "ipython3",
   "version": "3.8.8"
  }
 },
 "nbformat": 4,
 "nbformat_minor": 5
}
