{
 "cells": [
  {
   "cell_type": "markdown",
   "id": "928e1157-b4c9-49ba-a678-9d3a375b6356",
   "metadata": {},
   "source": [
    "### Columns to drop:\n",
    "1. BOROUGH, ZIP CODE, LOCATION, ON STREET NAME, CROSS STREET NAME, OFF STREET NAME: these columns are redundant as we have geographical coordinates latitude & longitude\n",
    "2. NUMBER OF PEDESTRIANS INJURED, NUMBER OF PEDESTRIANS KILLED, NUMBER OF CYCLIST INJURED, NUMBER OF CYCLIST KILLED, NUMBER OF MOTORIST INJURED, NUMBER OF MOTORIST KILLED: these columns are redundant as we have total # of persons injured/killed\n",
    "3. CONTRIBUTING FACTOR VEHICLE 2 to 5: Majority of data is unspecified\n",
    "4. COLLISION ID: No useful information\n",
    "\n",
    "### Columns to Alter:\n",
    "1. CONTRIBUTING FACTOR VEHICLE 1*-5*: Reduce class size to top 10 factors? \n",
    "<br>\n",
    "ISSUES:    Unspecified and Driver Distraction is about 42% & 24% respectively, with other values about 7% or less.\n",
    "<br>\n",
    "SOLUTION:  Drop columns.\n",
    "<br>\n",
    "2. VEHICLE TYPE CODE 1-5: Reduce class size to top 10 factors? Reduce columns into car count?\n",
    "<br>\n",
    "ISSUES:    Sedan & Station Wagon are over 60% of values, while others make less than 10% Factor 1, while also making about 70% for Factor 2.\n",
    "<br>\n",
    "SOLUTION:  Columns to be dropped, new column w/ total cars associated with accident created.\n",
    "<br>\n",
    "3. Correct missing values in # of persons injured/killed\n",
    "4. Drop 0 values in Total Cars column\n",
    "5. Finally, drop NaN values\n",
    "6. Verify column dtype\n",
    "\n",
    "### Column to Add:\n",
    "1. Create target column with 5 classes"
   ]
  },
  {
   "cell_type": "code",
   "execution_count": 2,
   "id": "8bd7018f",
   "metadata": {},
   "outputs": [],
   "source": [
    "#!pip install geopy"
   ]
  },
  {
   "cell_type": "code",
   "execution_count": 3,
   "id": "a5d24764-c1e0-43c4-ac80-0b17c8c9b3e4",
   "metadata": {},
   "outputs": [],
   "source": [
    "from pathlib import Path\n",
    "import pandas as pd\n",
    "import numpy as np\n",
    "#from geopy.geocoders import Nominatim\n",
    "import datetime"
   ]
  },
  {
   "cell_type": "code",
   "execution_count": 4,
   "id": "d6dc8a37-bebe-449f-af69-d761ff85d560",
   "metadata": {},
   "outputs": [
    {
     "name": "stderr",
     "output_type": "stream",
     "text": [
      "C:\\Users\\crazy\\AppData\\Local\\Temp\\ipykernel_5000\\545171645.py:6: DtypeWarning: Columns (3) have mixed types. Specify dtype option on import or set low_memory=False.\n",
      "  df = pd.read_csv(csv_file)\n"
     ]
    }
   ],
   "source": [
    "# Define the path to the folder\n",
    "folder_path = Path(\"C:/Users/crazy/OneDrive - The City College of New York/DSE I2100 - Applied Machine Learning and Data Mining/Project\")\n",
    "csv_file = folder_path.glob(\"*.csv\").__next__()\n",
    "\n",
    "# Load CSV file into DataFrame\n",
    "df = pd.read_csv(csv_file)\n"
   ]
  },
  {
   "cell_type": "code",
   "execution_count": 5,
   "id": "b509c73f-fa59-49a8-8e9b-909cb0850901",
   "metadata": {},
   "outputs": [
    {
     "name": "stdout",
     "output_type": "stream",
     "text": [
      "<class 'pandas.core.frame.DataFrame'>\n",
      "RangeIndex: 2070069 entries, 0 to 2070068\n",
      "Data columns (total 29 columns):\n",
      " #   Column                         Non-Null Count    Dtype  \n",
      "---  ------                         --------------    -----  \n",
      " 0   CRASH DATE                     2070069 non-null  object \n",
      " 1   CRASH TIME                     2070069 non-null  object \n",
      " 2   BOROUGH                        1426009 non-null  object \n",
      " 3   ZIP CODE                       1425759 non-null  object \n",
      " 4   LATITUDE                       1836747 non-null  float64\n",
      " 5   LONGITUDE                      1836747 non-null  float64\n",
      " 6   LOCATION                       1836747 non-null  object \n",
      " 7   ON STREET NAME                 1631008 non-null  object \n",
      " 8   CROSS STREET NAME              1288388 non-null  object \n",
      " 9   OFF STREET NAME                346688 non-null   object \n",
      " 10  NUMBER OF PERSONS INJURED      2070051 non-null  float64\n",
      " 11  NUMBER OF PERSONS KILLED       2070038 non-null  float64\n",
      " 12  NUMBER OF PEDESTRIANS INJURED  2070069 non-null  int64  \n",
      " 13  NUMBER OF PEDESTRIANS KILLED   2070069 non-null  int64  \n",
      " 14  NUMBER OF CYCLIST INJURED      2070069 non-null  int64  \n",
      " 15  NUMBER OF CYCLIST KILLED       2070069 non-null  int64  \n",
      " 16  NUMBER OF MOTORIST INJURED     2070069 non-null  int64  \n",
      " 17  NUMBER OF MOTORIST KILLED      2070069 non-null  int64  \n",
      " 18  CONTRIBUTING FACTOR VEHICLE 1  2063305 non-null  object \n",
      " 19  CONTRIBUTING FACTOR VEHICLE 2  1749628 non-null  object \n",
      " 20  CONTRIBUTING FACTOR VEHICLE 3  147794 non-null   object \n",
      " 21  CONTRIBUTING FACTOR VEHICLE 4  33347 non-null    object \n",
      " 22  CONTRIBUTING FACTOR VEHICLE 5  9024 non-null     object \n",
      " 23  COLLISION_ID                   2070069 non-null  int64  \n",
      " 24  VEHICLE TYPE CODE 1            2056468 non-null  object \n",
      " 25  VEHICLE TYPE CODE 2            1675211 non-null  object \n",
      " 26  VEHICLE TYPE CODE 3            142465 non-null   object \n",
      " 27  VEHICLE TYPE CODE 4            32194 non-null    object \n",
      " 28  VEHICLE TYPE CODE 5            8750 non-null     object \n",
      "dtypes: float64(4), int64(7), object(18)\n",
      "memory usage: 458.0+ MB\n"
     ]
    }
   ],
   "source": [
    "df.info(show_counts=True)"
   ]
  },
  {
   "cell_type": "markdown",
   "id": "49d69afa-3f04-42c2-a77b-7eaa1ca0bf6a",
   "metadata": {},
   "source": [
    "### Correcting values in # of persons injured/killed:"
   ]
  },
  {
   "cell_type": "code",
   "execution_count": 7,
   "id": "16f54ddf-f2d7-46ec-8a5d-0dfb68fb1d3f",
   "metadata": {},
   "outputs": [],
   "source": [
    "# Sum the injury-related columns\n",
    "injury_columns = ['NUMBER OF PEDESTRIANS INJURED', 'NUMBER OF CYCLIST INJURED', 'NUMBER OF MOTORIST INJURED']\n",
    "df['NUMBER OF PERSONS INJURED'] = df[injury_columns].sum(axis=1)\n",
    "\n",
    "# Sum the killed-related columns\n",
    "killed_columns = ['NUMBER OF PEDESTRIANS KILLED', 'NUMBER OF CYCLIST KILLED', 'NUMBER OF MOTORIST KILLED']\n",
    "df['NUMBER OF PERSONS KILLED'] = df[killed_columns].sum(axis=1)"
   ]
  },
  {
   "cell_type": "markdown",
   "id": "6245c75c-4c93-4a91-9860-1f356e8bfd31",
   "metadata": {},
   "source": [
    "### The Following code replaces row value coordinates not in NYC with NaN for 'LATITUDE' & 'LONGITUDE' columns:"
   ]
  },
  {
   "cell_type": "code",
   "execution_count": 9,
   "id": "963c6f08-a312-48ef-bfbf-1e463a928a27",
   "metadata": {},
   "outputs": [],
   "source": [
    "# Approximate coordinates for New York City:\n",
    "# Maximum Latitude: 40.9176 (Northernmost point of the Bronx)\n",
    "# Minimum Latitude: 40.4774 (Southernmost point of Staten Island)\n",
    "# Maximum Longitude: -73.7004 (Easternmost point of Queens)\n",
    "# Minimum Longitude: -74.2591 (Westernmost point of Staten Island)\n",
    "\n",
    "# Define the maximum and minimum values for latitude and longitude\n",
    "max_latitude = 40.9176\n",
    "min_latitude = 40.4774\n",
    "max_longitude = -73.7004\n",
    "min_longitude = -74.2591\n",
    "\n",
    "# Filter the DataFrame based on the conditions for latitude and longitude\n",
    "invalid_latitudes = (df['LATITUDE'] > max_latitude) | (df['LATITUDE'] < min_latitude)\n",
    "invalid_longitudes = (df['LONGITUDE'] > max_longitude) | (df['LONGITUDE'] < min_longitude)\n",
    "\n",
    "# Replace the values with NaN where the conditions are not met\n",
    "df.loc[invalid_latitudes, 'LATITUDE'] = np.nan\n",
    "df.loc[invalid_longitudes, 'LONGITUDE'] = np.nan"
   ]
  },
  {
   "cell_type": "markdown",
   "id": "6076cd18-da9f-46e0-8f61-126416d11db2",
   "metadata": {},
   "source": [
    "### Replacing Vehicle Type columns with Total Vehicles associated with accident:"
   ]
  },
  {
   "cell_type": "code",
   "execution_count": 11,
   "id": "c51880e7-bdc4-4e02-9ef6-b8e3e235911e",
   "metadata": {},
   "outputs": [],
   "source": [
    "vehicle_columns = ['VEHICLE TYPE CODE 1', 'VEHICLE TYPE CODE 2', 'VEHICLE TYPE CODE 3', 'VEHICLE TYPE CODE 4', 'VEHICLE TYPE CODE 5']\n",
    "\n",
    "# Count non-NaN values for each row and sum them up\n",
    "df['TOTAL VEHICLES'] = df[vehicle_columns].apply(lambda row: np.sum(~pd.isna(row)), axis=1)\n",
    "\n",
    "# Drop rows where 'TOTAL VEHICLES' column is 0\n",
    "df = df[df['TOTAL VEHICLES'] != 0]"
   ]
  },
  {
   "cell_type": "markdown",
   "id": "8b1d1212-4eb4-4245-8fd6-9621e6fd27a2",
   "metadata": {},
   "source": [
    "### Dropping redundant/unnecessary columns:"
   ]
  },
  {
   "cell_type": "code",
   "execution_count": 13,
   "id": "9f130566-8a70-4011-a608-efdb3b13007a",
   "metadata": {},
   "outputs": [],
   "source": [
    "df.drop(columns = ['BOROUGH', 'ZIP CODE', 'LOCATION', 'ON STREET NAME','CROSS STREET NAME','OFF STREET NAME', \n",
    "                   'NUMBER OF PEDESTRIANS INJURED', 'NUMBER OF PEDESTRIANS KILLED', 'NUMBER OF CYCLIST INJURED',\n",
    "                  'NUMBER OF CYCLIST KILLED', 'NUMBER OF MOTORIST INJURED','NUMBER OF MOTORIST KILLED',\n",
    "                   'CONTRIBUTING FACTOR VEHICLE 1','CONTRIBUTING FACTOR VEHICLE 2', 'CONTRIBUTING FACTOR VEHICLE 3',\n",
    "                   'CONTRIBUTING FACTOR VEHICLE 4','CONTRIBUTING FACTOR VEHICLE 5', 'COLLISION_ID','VEHICLE TYPE CODE 1',\n",
    "                   'VEHICLE TYPE CODE 2', 'VEHICLE TYPE CODE 3', 'VEHICLE TYPE CODE 4', 'VEHICLE TYPE CODE 5'], axis=1, inplace=True)"
   ]
  },
  {
   "cell_type": "markdown",
   "id": "cd31b521-a66a-4311-b572-4be9f730cecc",
   "metadata": {},
   "source": [
    "### Dropping rows with NaN values:"
   ]
  },
  {
   "cell_type": "code",
   "execution_count": 15,
   "id": "f87aa1be-21b9-4ec0-979e-5b595f1e1272",
   "metadata": {},
   "outputs": [],
   "source": [
    "df = df.dropna()"
   ]
  },
  {
   "cell_type": "markdown",
   "id": "fb469b69-a354-4376-b361-56487f7b06b3",
   "metadata": {},
   "source": [
    "### Verifying column dtype:"
   ]
  },
  {
   "cell_type": "code",
   "execution_count": 17,
   "id": "3a987136-a1d3-4aa7-9a3c-f43743fd34ce",
   "metadata": {},
   "outputs": [],
   "source": [
    "df['CRASH DATE'] = pd.to_datetime(df['CRASH DATE'])\n",
    "df['CRASH TIME'] = pd.to_datetime(df['CRASH TIME'], format='%H:%M').dt.time\n",
    "df['LATITUDE'] = df['LATITUDE'].astype('float64')\n",
    "df['LONGITUDE'] = df['LONGITUDE'].astype('float64')\n",
    "df['NUMBER OF PERSONS INJURED'] = df['NUMBER OF PERSONS INJURED'].astype('int64')\n",
    "df['NUMBER OF PERSONS KILLED'] = df['NUMBER OF PERSONS KILLED'].astype('int64')\n",
    "df['TOTAL VEHICLES'] = df['TOTAL VEHICLES'].astype('int64')"
   ]
  },
  {
   "cell_type": "markdown",
   "id": "4e1682eb-d56b-4510-b973-ad7ad612fcb7",
   "metadata": {},
   "source": [
    "### Creating target column \"CLASS TYPE\":"
   ]
  },
  {
   "cell_type": "code",
   "execution_count": 19,
   "id": "25390a3f-75a5-4d57-9898-66ecf0cf54c7",
   "metadata": {},
   "outputs": [],
   "source": [
    "def determine_class_type(row):\n",
    "    if row['NUMBER OF PERSONS INJURED'] == 0 and row['NUMBER OF PERSONS KILLED'] == 0 or row['TOTAL VEHICLES'] == 1:\n",
    "        return 'Class 0'\n",
    "    elif 1 <= row['NUMBER OF PERSONS INJURED'] <= 5 and row['NUMBER OF PERSONS KILLED'] == 0 or row['TOTAL VEHICLES'] == 2:\n",
    "        return 'Class 1'\n",
    "    elif row['NUMBER OF PERSONS INJURED'] > 5 and row['NUMBER OF PERSONS KILLED'] == 0 or row['TOTAL VEHICLES'] == 3:\n",
    "        return 'Class 2'\n",
    "    elif 1 <= row['NUMBER OF PERSONS KILLED'] <= 3 or row['TOTAL VEHICLES'] == 4:\n",
    "        return 'Class 3'\n",
    "    elif row['NUMBER OF PERSONS KILLED'] > 3 or row['TOTAL VEHICLES'] == 5:\n",
    "        return 'Class 4'\n",
    "\n",
    "df['CLASS TYPE'] = df.apply(determine_class_type, axis=1)\n",
    "df['CLASS TYPE'] = df['CLASS TYPE'].astype('category')"
   ]
  },
  {
   "cell_type": "code",
   "execution_count": 20,
   "id": "843db777-a33b-44f3-9386-b20ad6ac6bd6",
   "metadata": {},
   "outputs": [
    {
     "name": "stdout",
     "output_type": "stream",
     "text": [
      "<class 'pandas.core.frame.DataFrame'>\n",
      "Int64Index: 1819890 entries, 3 to 2070068\n",
      "Data columns (total 8 columns):\n",
      " #   Column                     Non-Null Count    Dtype         \n",
      "---  ------                     --------------    -----         \n",
      " 0   CRASH DATE                 1819890 non-null  datetime64[ns]\n",
      " 1   CRASH TIME                 1819890 non-null  object        \n",
      " 2   LATITUDE                   1819890 non-null  float64       \n",
      " 3   LONGITUDE                  1819890 non-null  float64       \n",
      " 4   NUMBER OF PERSONS INJURED  1819890 non-null  int64         \n",
      " 5   NUMBER OF PERSONS KILLED   1819890 non-null  int64         \n",
      " 6   TOTAL VEHICLES             1819890 non-null  int64         \n",
      " 7   CLASS TYPE                 1819890 non-null  category      \n",
      "dtypes: category(1), datetime64[ns](1), float64(2), int64(3), object(1)\n",
      "memory usage: 112.8+ MB\n"
     ]
    }
   ],
   "source": [
    "df.info(show_counts=True)"
   ]
  },
  {
   "cell_type": "code",
   "execution_count": 21,
   "id": "51be97ee-3c51-439d-a3ad-a56612fdf99c",
   "metadata": {},
   "outputs": [
    {
     "data": {
      "text/html": [
       "<div>\n",
       "<style scoped>\n",
       "    .dataframe tbody tr th:only-of-type {\n",
       "        vertical-align: middle;\n",
       "    }\n",
       "\n",
       "    .dataframe tbody tr th {\n",
       "        vertical-align: top;\n",
       "    }\n",
       "\n",
       "    .dataframe thead th {\n",
       "        text-align: right;\n",
       "    }\n",
       "</style>\n",
       "<table border=\"1\" class=\"dataframe\">\n",
       "  <thead>\n",
       "    <tr style=\"text-align: right;\">\n",
       "      <th></th>\n",
       "      <th>CRASH DATE</th>\n",
       "      <th>CRASH TIME</th>\n",
       "      <th>LATITUDE</th>\n",
       "      <th>LONGITUDE</th>\n",
       "      <th>NUMBER OF PERSONS INJURED</th>\n",
       "      <th>NUMBER OF PERSONS KILLED</th>\n",
       "      <th>TOTAL VEHICLES</th>\n",
       "      <th>CLASS TYPE</th>\n",
       "    </tr>\n",
       "  </thead>\n",
       "  <tbody>\n",
       "    <tr>\n",
       "      <th>3</th>\n",
       "      <td>2021-09-11</td>\n",
       "      <td>09:35:00</td>\n",
       "      <td>40.667202</td>\n",
       "      <td>-73.866500</td>\n",
       "      <td>0</td>\n",
       "      <td>0</td>\n",
       "      <td>1</td>\n",
       "      <td>Class 0</td>\n",
       "    </tr>\n",
       "    <tr>\n",
       "      <th>6</th>\n",
       "      <td>2021-12-14</td>\n",
       "      <td>17:05:00</td>\n",
       "      <td>40.709183</td>\n",
       "      <td>-73.956825</td>\n",
       "      <td>0</td>\n",
       "      <td>0</td>\n",
       "      <td>2</td>\n",
       "      <td>Class 0</td>\n",
       "    </tr>\n",
       "    <tr>\n",
       "      <th>7</th>\n",
       "      <td>2021-12-14</td>\n",
       "      <td>08:17:00</td>\n",
       "      <td>40.868160</td>\n",
       "      <td>-73.831480</td>\n",
       "      <td>2</td>\n",
       "      <td>0</td>\n",
       "      <td>2</td>\n",
       "      <td>Class 1</td>\n",
       "    </tr>\n",
       "    <tr>\n",
       "      <th>8</th>\n",
       "      <td>2021-12-14</td>\n",
       "      <td>21:10:00</td>\n",
       "      <td>40.671720</td>\n",
       "      <td>-73.897100</td>\n",
       "      <td>0</td>\n",
       "      <td>0</td>\n",
       "      <td>1</td>\n",
       "      <td>Class 0</td>\n",
       "    </tr>\n",
       "    <tr>\n",
       "      <th>9</th>\n",
       "      <td>2021-12-14</td>\n",
       "      <td>14:58:00</td>\n",
       "      <td>40.751440</td>\n",
       "      <td>-73.973970</td>\n",
       "      <td>0</td>\n",
       "      <td>0</td>\n",
       "      <td>2</td>\n",
       "      <td>Class 0</td>\n",
       "    </tr>\n",
       "  </tbody>\n",
       "</table>\n",
       "</div>"
      ],
      "text/plain": [
       "  CRASH DATE CRASH TIME   LATITUDE  LONGITUDE  NUMBER OF PERSONS INJURED  \\\n",
       "3 2021-09-11   09:35:00  40.667202 -73.866500                          0   \n",
       "6 2021-12-14   17:05:00  40.709183 -73.956825                          0   \n",
       "7 2021-12-14   08:17:00  40.868160 -73.831480                          2   \n",
       "8 2021-12-14   21:10:00  40.671720 -73.897100                          0   \n",
       "9 2021-12-14   14:58:00  40.751440 -73.973970                          0   \n",
       "\n",
       "   NUMBER OF PERSONS KILLED  TOTAL VEHICLES CLASS TYPE  \n",
       "3                         0               1    Class 0  \n",
       "6                         0               2    Class 0  \n",
       "7                         0               2    Class 1  \n",
       "8                         0               1    Class 0  \n",
       "9                         0               2    Class 0  "
      ]
     },
     "execution_count": 21,
     "metadata": {},
     "output_type": "execute_result"
    }
   ],
   "source": [
    "df.head()"
   ]
  },
  {
   "cell_type": "code",
   "execution_count": 22,
   "id": "c21e7b40-0231-414b-af8a-5ce03c8bc445",
   "metadata": {},
   "outputs": [
    {
     "name": "stdout",
     "output_type": "stream",
     "text": [
      "Unique values and their counts in the 'CLASS TYPE' column:\n",
      "Class 0    1535869\n",
      "Class 1     282817\n",
      "Class 2       1064\n",
      "Class 3        139\n",
      "Class 4          1\n",
      "Name: CLASS TYPE, dtype: int64\n",
      "Total sum of counts: 1819890\n"
     ]
    }
   ],
   "source": [
    "# Get the counts of unique values in the \"CLASS TYPE\" column\n",
    "CLASS_TYPE_counts = df['CLASS TYPE'].value_counts()\n",
    "\n",
    "# Print unique values and their counts\n",
    "print(\"Unique values and their counts in the 'CLASS TYPE' column:\")\n",
    "print(CLASS_TYPE_counts)\n",
    "\n",
    "# Calculate the total sum of the counts\n",
    "total_sum = CLASS_TYPE_counts.sum()\n",
    "print(\"Total sum of counts:\", total_sum)"
   ]
  },
  {
   "cell_type": "markdown",
   "id": "5bf148f2-1706-4363-85aa-39c0a7b63b4a",
   "metadata": {},
   "source": [
    "### Converting new dataframe to csv file:"
   ]
  },
  {
   "cell_type": "code",
   "execution_count": 40,
   "id": "6c2610c8-4a00-4a01-8846-e48efaf7b468",
   "metadata": {},
   "outputs": [],
   "source": [
    "# Save the DataFrame to a CSV file\n",
    "df.to_csv('Processed_Data.csv', index=False)"
   ]
  }
 ],
 "metadata": {
  "kernelspec": {
   "display_name": "Python 3 (ipykernel)",
   "language": "python",
   "name": "python3"
  },
  "language_info": {
   "codemirror_mode": {
    "name": "ipython",
    "version": 3
   },
   "file_extension": ".py",
   "mimetype": "text/x-python",
   "name": "python",
   "nbconvert_exporter": "python",
   "pygments_lexer": "ipython3",
   "version": "3.10.9"
  }
 },
 "nbformat": 4,
 "nbformat_minor": 5
}
